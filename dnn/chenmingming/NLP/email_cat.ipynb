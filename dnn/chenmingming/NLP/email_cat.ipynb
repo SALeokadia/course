{
 "cells": [
  {
   "cell_type": "code",
   "execution_count": 31,
   "metadata": {},
   "outputs": [],
   "source": [
    "import pandas as pd\n",
    "import spacy\n",
    "train = pd.read_csv(\"train.csv\")\n",
    "test = pd.read_csv(\"test.csv\")"
   ]
  },
  {
   "cell_type": "code",
   "execution_count": 32,
   "metadata": {
    "pycharm": {
     "name": "#%%\n"
    }
   },
   "outputs": [
    {
     "name": "stdout",
     "output_type": "stream",
     "text": [
      "(8348, 4)\n",
      "(8348, 4)\n"
     ]
    },
    {
     "data": {
      "text/html": [
       "<div>\n",
       "<style scoped>\n",
       "    .dataframe tbody tr th:only-of-type {\n",
       "        vertical-align: middle;\n",
       "    }\n",
       "\n",
       "    .dataframe tbody tr th {\n",
       "        vertical-align: top;\n",
       "    }\n",
       "\n",
       "    .dataframe thead th {\n",
       "        text-align: right;\n",
       "    }\n",
       "</style>\n",
       "<table border=\"1\" class=\"dataframe\">\n",
       "  <thead>\n",
       "    <tr style=\"text-align: right;\">\n",
       "      <th></th>\n",
       "      <th>id</th>\n",
       "      <th>subject</th>\n",
       "      <th>email</th>\n",
       "      <th>spam</th>\n",
       "    </tr>\n",
       "  </thead>\n",
       "  <tbody>\n",
       "    <tr>\n",
       "      <th>0</th>\n",
       "      <td>0</td>\n",
       "      <td>Subject: A&amp;L Daily to be auctioned in bankrupt...</td>\n",
       "      <td>URL: http://boingboing.net/#85534171\\n Date: N...</td>\n",
       "      <td>0</td>\n",
       "    </tr>\n",
       "    <tr>\n",
       "      <th>1</th>\n",
       "      <td>1</td>\n",
       "      <td>Subject: Wired: \"Stronger ties between ISPs an...</td>\n",
       "      <td>URL: http://scriptingnews.userland.com/backiss...</td>\n",
       "      <td>0</td>\n",
       "    </tr>\n",
       "    <tr>\n",
       "      <th>2</th>\n",
       "      <td>2</td>\n",
       "      <td>Subject: It's just too small                  ...</td>\n",
       "      <td>&lt;HTML&gt;\\n &lt;HEAD&gt;\\n &lt;/HEAD&gt;\\n &lt;BODY&gt;\\n &lt;FONT SIZ...</td>\n",
       "      <td>1</td>\n",
       "    </tr>\n",
       "    <tr>\n",
       "      <th>3</th>\n",
       "      <td>3</td>\n",
       "      <td>Subject: liberal defnitions\\n</td>\n",
       "      <td>Depends on how much over spending vs. how much...</td>\n",
       "      <td>0</td>\n",
       "    </tr>\n",
       "    <tr>\n",
       "      <th>4</th>\n",
       "      <td>4</td>\n",
       "      <td>Subject: RE: [ILUG] Newbie seeks advice - Suse...</td>\n",
       "      <td>hehe sorry but if you hit caps lock twice the ...</td>\n",
       "      <td>0</td>\n",
       "    </tr>\n",
       "    <tr>\n",
       "      <th>5</th>\n",
       "      <td>5</td>\n",
       "      <td>Subject: Five\\n</td>\n",
       "      <td>URL: http://diveintomark.org/archives/2002/10/...</td>\n",
       "      <td>0</td>\n",
       "    </tr>\n",
       "    <tr>\n",
       "      <th>6</th>\n",
       "      <td>6</td>\n",
       "      <td>Subject: [SAdev] [Bug 1006] Spamassassin's bui...</td>\n",
       "      <td>http://www.hughes-family.org/bugzilla/show_bug...</td>\n",
       "      <td>0</td>\n",
       "    </tr>\n",
       "    <tr>\n",
       "      <th>7</th>\n",
       "      <td>7</td>\n",
       "      <td>Subject: One of a kind Money maker! Try it for...</td>\n",
       "      <td>------000000000000000000000\\n Content-Type: te...</td>\n",
       "      <td>1</td>\n",
       "    </tr>\n",
       "    <tr>\n",
       "      <th>8</th>\n",
       "      <td>8</td>\n",
       "      <td>Subject: freshrpms.net resources (was Re: use ...</td>\n",
       "      <td>Once upon a time, Brian wrote :\\n \\n &gt;    Yeah...</td>\n",
       "      <td>0</td>\n",
       "    </tr>\n",
       "    <tr>\n",
       "      <th>9</th>\n",
       "      <td>9</td>\n",
       "      <td>Subject: use of base image / delta image for a...</td>\n",
       "      <td>Hi,\\n \\n I was inspired by a mode of operation...</td>\n",
       "      <td>0</td>\n",
       "    </tr>\n",
       "  </tbody>\n",
       "</table>\n",
       "</div>"
      ],
      "text/plain": [
       "   id                                            subject  \\\n",
       "0   0  Subject: A&L Daily to be auctioned in bankrupt...   \n",
       "1   1  Subject: Wired: \"Stronger ties between ISPs an...   \n",
       "2   2  Subject: It's just too small                  ...   \n",
       "3   3                      Subject: liberal defnitions\\n   \n",
       "4   4  Subject: RE: [ILUG] Newbie seeks advice - Suse...   \n",
       "5   5                                    Subject: Five\\n   \n",
       "6   6  Subject: [SAdev] [Bug 1006] Spamassassin's bui...   \n",
       "7   7  Subject: One of a kind Money maker! Try it for...   \n",
       "8   8  Subject: freshrpms.net resources (was Re: use ...   \n",
       "9   9  Subject: use of base image / delta image for a...   \n",
       "\n",
       "                                               email  spam  \n",
       "0  URL: http://boingboing.net/#85534171\\n Date: N...     0  \n",
       "1  URL: http://scriptingnews.userland.com/backiss...     0  \n",
       "2  <HTML>\\n <HEAD>\\n </HEAD>\\n <BODY>\\n <FONT SIZ...     1  \n",
       "3  Depends on how much over spending vs. how much...     0  \n",
       "4  hehe sorry but if you hit caps lock twice the ...     0  \n",
       "5  URL: http://diveintomark.org/archives/2002/10/...     0  \n",
       "6  http://www.hughes-family.org/bugzilla/show_bug...     0  \n",
       "7  ------000000000000000000000\\n Content-Type: te...     1  \n",
       "8  Once upon a time, Brian wrote :\\n \\n >    Yeah...     0  \n",
       "9  Hi,\\n \\n I was inspired by a mode of operation...     0  "
      ]
     },
     "execution_count": 32,
     "metadata": {},
     "output_type": "execute_result"
    }
   ],
   "source": [
    "train.head(10)\n",
    "print(train.shape)\n",
    "# test.head(10)\n",
    "train = train.fillna(\" \")\n",
    "test = test.fillna(\" \")\n",
    "print(train.shape)\n",
    "train.head(10)"
   ]
  },
  {
   "cell_type": "code",
   "execution_count": 33,
   "metadata": {
    "pycharm": {
     "name": "#%%\n"
    }
   },
   "outputs": [
    {
     "data": {
      "text/html": [
       "<div>\n",
       "<style scoped>\n",
       "    .dataframe tbody tr th:only-of-type {\n",
       "        vertical-align: middle;\n",
       "    }\n",
       "\n",
       "    .dataframe tbody tr th {\n",
       "        vertical-align: top;\n",
       "    }\n",
       "\n",
       "    .dataframe thead th {\n",
       "        text-align: right;\n",
       "    }\n",
       "</style>\n",
       "<table border=\"1\" class=\"dataframe\">\n",
       "  <thead>\n",
       "    <tr style=\"text-align: right;\">\n",
       "      <th></th>\n",
       "      <th>id</th>\n",
       "      <th>subject</th>\n",
       "      <th>email</th>\n",
       "      <th>spam</th>\n",
       "      <th>all</th>\n",
       "      <th>label</th>\n",
       "    </tr>\n",
       "  </thead>\n",
       "  <tbody>\n",
       "    <tr>\n",
       "      <th>0</th>\n",
       "      <td>0</td>\n",
       "      <td>Subject: A&amp;L Daily to be auctioned in bankrupt...</td>\n",
       "      <td>URL: http://boingboing.net/#85534171\\n Date: N...</td>\n",
       "      <td>0</td>\n",
       "      <td>Subject: A&amp;L Daily to be auctioned in bankrupt...</td>\n",
       "      <td>{'spam': False, 'ham': True}</td>\n",
       "    </tr>\n",
       "    <tr>\n",
       "      <th>1</th>\n",
       "      <td>1</td>\n",
       "      <td>Subject: Wired: \"Stronger ties between ISPs an...</td>\n",
       "      <td>URL: http://scriptingnews.userland.com/backiss...</td>\n",
       "      <td>0</td>\n",
       "      <td>Subject: Wired: \"Stronger ties between ISPs an...</td>\n",
       "      <td>{'spam': False, 'ham': True}</td>\n",
       "    </tr>\n",
       "    <tr>\n",
       "      <th>2</th>\n",
       "      <td>2</td>\n",
       "      <td>Subject: It's just too small                  ...</td>\n",
       "      <td>&lt;HTML&gt;\\n &lt;HEAD&gt;\\n &lt;/HEAD&gt;\\n &lt;BODY&gt;\\n &lt;FONT SIZ...</td>\n",
       "      <td>1</td>\n",
       "      <td>Subject: It's just too small                  ...</td>\n",
       "      <td>{'spam': True, 'ham': False}</td>\n",
       "    </tr>\n",
       "    <tr>\n",
       "      <th>3</th>\n",
       "      <td>3</td>\n",
       "      <td>Subject: liberal defnitions\\n</td>\n",
       "      <td>Depends on how much over spending vs. how much...</td>\n",
       "      <td>0</td>\n",
       "      <td>Subject: liberal defnitions\\nDepends on how mu...</td>\n",
       "      <td>{'spam': False, 'ham': True}</td>\n",
       "    </tr>\n",
       "    <tr>\n",
       "      <th>4</th>\n",
       "      <td>4</td>\n",
       "      <td>Subject: RE: [ILUG] Newbie seeks advice - Suse...</td>\n",
       "      <td>hehe sorry but if you hit caps lock twice the ...</td>\n",
       "      <td>0</td>\n",
       "      <td>Subject: RE: [ILUG] Newbie seeks advice - Suse...</td>\n",
       "      <td>{'spam': False, 'ham': True}</td>\n",
       "    </tr>\n",
       "    <tr>\n",
       "      <th>5</th>\n",
       "      <td>5</td>\n",
       "      <td>Subject: Five\\n</td>\n",
       "      <td>URL: http://diveintomark.org/archives/2002/10/...</td>\n",
       "      <td>0</td>\n",
       "      <td>Subject: Five\\nURL: http://diveintomark.org/ar...</td>\n",
       "      <td>{'spam': False, 'ham': True}</td>\n",
       "    </tr>\n",
       "    <tr>\n",
       "      <th>6</th>\n",
       "      <td>6</td>\n",
       "      <td>Subject: [SAdev] [Bug 1006] Spamassassin's bui...</td>\n",
       "      <td>http://www.hughes-family.org/bugzilla/show_bug...</td>\n",
       "      <td>0</td>\n",
       "      <td>Subject: [SAdev] [Bug 1006] Spamassassin's bui...</td>\n",
       "      <td>{'spam': False, 'ham': True}</td>\n",
       "    </tr>\n",
       "    <tr>\n",
       "      <th>7</th>\n",
       "      <td>7</td>\n",
       "      <td>Subject: One of a kind Money maker! Try it for...</td>\n",
       "      <td>------000000000000000000000\\n Content-Type: te...</td>\n",
       "      <td>1</td>\n",
       "      <td>Subject: One of a kind Money maker! Try it for...</td>\n",
       "      <td>{'spam': True, 'ham': False}</td>\n",
       "    </tr>\n",
       "    <tr>\n",
       "      <th>8</th>\n",
       "      <td>8</td>\n",
       "      <td>Subject: freshrpms.net resources (was Re: use ...</td>\n",
       "      <td>Once upon a time, Brian wrote :\\n \\n &gt;    Yeah...</td>\n",
       "      <td>0</td>\n",
       "      <td>Subject: freshrpms.net resources (was Re: use ...</td>\n",
       "      <td>{'spam': False, 'ham': True}</td>\n",
       "    </tr>\n",
       "    <tr>\n",
       "      <th>9</th>\n",
       "      <td>9</td>\n",
       "      <td>Subject: use of base image / delta image for a...</td>\n",
       "      <td>Hi,\\n \\n I was inspired by a mode of operation...</td>\n",
       "      <td>0</td>\n",
       "      <td>Subject: use of base image / delta image for a...</td>\n",
       "      <td>{'spam': False, 'ham': True}</td>\n",
       "    </tr>\n",
       "  </tbody>\n",
       "</table>\n",
       "</div>"
      ],
      "text/plain": [
       "   id                                            subject  \\\n",
       "0   0  Subject: A&L Daily to be auctioned in bankrupt...   \n",
       "1   1  Subject: Wired: \"Stronger ties between ISPs an...   \n",
       "2   2  Subject: It's just too small                  ...   \n",
       "3   3                      Subject: liberal defnitions\\n   \n",
       "4   4  Subject: RE: [ILUG] Newbie seeks advice - Suse...   \n",
       "5   5                                    Subject: Five\\n   \n",
       "6   6  Subject: [SAdev] [Bug 1006] Spamassassin's bui...   \n",
       "7   7  Subject: One of a kind Money maker! Try it for...   \n",
       "8   8  Subject: freshrpms.net resources (was Re: use ...   \n",
       "9   9  Subject: use of base image / delta image for a...   \n",
       "\n",
       "                                               email  spam  \\\n",
       "0  URL: http://boingboing.net/#85534171\\n Date: N...     0   \n",
       "1  URL: http://scriptingnews.userland.com/backiss...     0   \n",
       "2  <HTML>\\n <HEAD>\\n </HEAD>\\n <BODY>\\n <FONT SIZ...     1   \n",
       "3  Depends on how much over spending vs. how much...     0   \n",
       "4  hehe sorry but if you hit caps lock twice the ...     0   \n",
       "5  URL: http://diveintomark.org/archives/2002/10/...     0   \n",
       "6  http://www.hughes-family.org/bugzilla/show_bug...     0   \n",
       "7  ------000000000000000000000\\n Content-Type: te...     1   \n",
       "8  Once upon a time, Brian wrote :\\n \\n >    Yeah...     0   \n",
       "9  Hi,\\n \\n I was inspired by a mode of operation...     0   \n",
       "\n",
       "                                                 all  \\\n",
       "0  Subject: A&L Daily to be auctioned in bankrupt...   \n",
       "1  Subject: Wired: \"Stronger ties between ISPs an...   \n",
       "2  Subject: It's just too small                  ...   \n",
       "3  Subject: liberal defnitions\\nDepends on how mu...   \n",
       "4  Subject: RE: [ILUG] Newbie seeks advice - Suse...   \n",
       "5  Subject: Five\\nURL: http://diveintomark.org/ar...   \n",
       "6  Subject: [SAdev] [Bug 1006] Spamassassin's bui...   \n",
       "7  Subject: One of a kind Money maker! Try it for...   \n",
       "8  Subject: freshrpms.net resources (was Re: use ...   \n",
       "9  Subject: use of base image / delta image for a...   \n",
       "\n",
       "                          label  \n",
       "0  {'spam': False, 'ham': True}  \n",
       "1  {'spam': False, 'ham': True}  \n",
       "2  {'spam': True, 'ham': False}  \n",
       "3  {'spam': False, 'ham': True}  \n",
       "4  {'spam': False, 'ham': True}  \n",
       "5  {'spam': False, 'ham': True}  \n",
       "6  {'spam': False, 'ham': True}  \n",
       "7  {'spam': True, 'ham': False}  \n",
       "8  {'spam': False, 'ham': True}  \n",
       "9  {'spam': False, 'ham': True}  "
      ]
     },
     "execution_count": 33,
     "metadata": {},
     "output_type": "execute_result"
    }
   ],
   "source": [
    "train['all'] = train['subject']+train['email']\n",
    "train['label'] = [{\"spam\": bool(y), \"ham\": not bool(y)}\n",
    "                  for y in train.spam.values]\n",
    "train.head(10)\n",
    "# print(train.loc[0]['all'])"
   ]
  },
  {
   "cell_type": "code",
   "execution_count": 34,
   "metadata": {},
   "outputs": [
    {
     "name": "stdout",
     "output_type": "stream",
     "text": [
      "0    0.743636\n",
      "1    0.256364\n",
      "Name: spam, dtype: float64\n",
      "0    0.743713\n",
      "1    0.256287\n",
      "Name: spam, dtype: float64\n"
     ]
    }
   ],
   "source": [
    "from sklearn.model_selection import StratifiedShuffleSplit\n",
    "# help(StratifiedShuffleSplit)\n",
    "splt = StratifiedShuffleSplit(n_splits=1, test_size=0.2, random_state=1)\n",
    "for train_idx, valid_idx in splt.split(train, train['spam']): \n",
    "\t\t\t\t\t\t\t\t\t\t\t# 按照后者分层抽样\n",
    "    train_set = train.iloc[train_idx]\n",
    "    valid_set = train.iloc[valid_idx]\n",
    "\n",
    "# 查看分布\n",
    "print(train_set['spam'].value_counts()/len(train_set))\n",
    "print(valid_set['spam'].value_counts()/len(valid_set))\n"
   ]
  },
  {
   "cell_type": "code",
   "execution_count": 35,
   "metadata": {},
   "outputs": [
    {
     "name": "stdout",
     "output_type": "stream",
     "text": [
      "Help on method create_pipe in module spacy.language:\n",
      "\n",
      "create_pipe(name, config={}) method of spacy.lang.en.English instance\n",
      "    Create a pipeline component from a factory.\n",
      "    \n",
      "    name (unicode): Factory name to look up in `Language.factories`.\n",
      "    config (dict): Configuration parameters to initialise component.\n",
      "    RETURNS (callable): Pipeline component.\n",
      "    \n",
      "    DOCS: https://spacy.io/api/language#create_pipe\n",
      "\n"
     ]
    }
   ],
   "source": [
    "nlp = spacy.blank('en')\n",
    "email_cat = nlp.create_pipe('textcat', \n",
    "#                             config=\n",
    "#                             {\n",
    "#     \"exclusive_classes\": True, # 排他的，二分类\n",
    "#     \"architecture\": \"bow\"\n",
    "#                             }\n",
    "                           )\n",
    "help(nlp.create_pipe)"
   ]
  },
  {
   "cell_type": "code",
   "execution_count": 36,
   "metadata": {},
   "outputs": [],
   "source": [
    "nlp.add_pipe(email_cat)\n"
   ]
  },
  {
   "cell_type": "code",
   "execution_count": 37,
   "metadata": {},
   "outputs": [
    {
     "data": {
      "text/plain": [
       "1"
      ]
     },
     "execution_count": 37,
     "metadata": {},
     "output_type": "execute_result"
    }
   ],
   "source": [
    "email_cat.add_label('ham')\n",
    "email_cat.add_label('spam')"
   ]
  },
  {
   "cell_type": "code",
   "execution_count": 38,
   "metadata": {},
   "outputs": [],
   "source": [
    "from spacy.util import minibatch\n",
    "import random\n",
    "def train(model, train, optimizer, batch_size=8):\n",
    "    loss = {}\n",
    "    random.seed(1)\n",
    "    random.shuffle(train)\n",
    "    batches = minibatch(train, size=batch_size)\n",
    "    for batch in batches:\n",
    "        text, label = zip(*batch)\n",
    "        model.update(text, label, sgd=optimizer, losses=loss)\n",
    "    return loss"
   ]
  },
  {
   "cell_type": "code",
   "execution_count": 39,
   "metadata": {},
   "outputs": [],
   "source": [
    "def predict(model, text):\n",
    "    docs = [model.tokenizer(txt) for txt in text]\n",
    "    emailpred = model.get_pipe('textcat')\n",
    "    score, _ = emailpred.predict(docs)\n",
    "    pred_label = score.argmax(axis=1)\n",
    "    return pred_label"
   ]
  },
  {
   "cell_type": "code",
   "execution_count": 40,
   "metadata": {},
   "outputs": [],
   "source": [
    "def evaluate(model, text, label):\n",
    "    pred = predict(model, text)\n",
    "    true_class = [int(lab['cats']['spam']) for lab in label]\n",
    "    correct = (pred == true_class)\n",
    "    acc = sum(correct)/len(correct)\n",
    "    return acc"
   ]
  },
  {
   "cell_type": "code",
   "execution_count": 41,
   "metadata": {},
   "outputs": [],
   "source": [
    "train_text = train_set['all'].values\n",
    "train_label = train_set['label']\n",
    "valid_text = valid_set['all'].values\n",
    "valid_label = valid_set['label']\n",
    "\n",
    "train_label = [{\"cats\": label} for label in train_label]\n",
    "valid_label = [{\"cats\": label} for label in valid_label]\n",
    "\n",
    "train_data = list(zip(train_text, train_label))\n",
    "# valid_data = zip(valid_text, valid_label)\n",
    "\n",
    "test_text = (test['subject']+test['email']).values"
   ]
  },
  {
   "cell_type": "code",
   "execution_count": 42,
   "metadata": {},
   "outputs": [
    {
     "name": "stdout",
     "output_type": "stream",
     "text": [
      "Loss: 1.132 \t Accuracy: 0.941\n",
      "Loss: 0.283 \t Accuracy: 0.988\n",
      "Loss: 0.121 \t Accuracy: 0.993\n",
      "Loss: 0.137 \t Accuracy: 0.993\n",
      "Loss: 0.094 \t Accuracy: 0.982\n",
      "Loss: 0.069 \t Accuracy: 0.995\n",
      "Loss: 0.060 \t Accuracy: 0.990\n",
      "Loss: 0.010 \t Accuracy: 0.992\n",
      "Loss: 0.004 \t Accuracy: 0.992\n",
      "Loss: 0.004 \t Accuracy: 0.992\n",
      "Loss: 0.004 \t Accuracy: 0.992\n",
      "Loss: 0.004 \t Accuracy: 0.992\n",
      "Loss: 0.004 \t Accuracy: 0.992\n",
      "Loss: 0.004 \t Accuracy: 0.991\n",
      "Loss: 0.004 \t Accuracy: 0.991\n",
      "Loss: 0.308 \t Accuracy: 0.981\n",
      "Loss: 0.158 \t Accuracy: 0.987\n",
      "Loss: 0.014 \t Accuracy: 0.990\n",
      "Loss: 0.007 \t Accuracy: 0.990\n",
      "Loss: 0.043 \t Accuracy: 0.990\n"
     ]
    }
   ],
   "source": [
    "n = 20\n",
    "opt = nlp.begin_training()\n",
    "for i in range(n):\n",
    "    loss = train(nlp, train_data, opt)\n",
    "    acc = evaluate(nlp, valid_text, valid_label)\n",
    "    print(f\"Loss: {loss['textcat']:.3f} \\t Accuracy: {acc:.3f}\")"
   ]
  },
  {
   "cell_type": "code",
   "execution_count": 43,
   "metadata": {},
   "outputs": [],
   "source": [
    "pred = predict(nlp, test_text)"
   ]
  },
  {
   "cell_type": "code",
   "execution_count": 44,
   "metadata": {},
   "outputs": [
    {
     "name": "stdout",
     "output_type": "stream",
     "text": [
      "[0 1 1 0 0 0 1 0 0 0 1 0 0 0 0 0 1 0 0 0 0 1 0 0 0 0 0 1 1 0 0 0 0 1 0 0 0\n",
      " 0 0 0 0 0 0 0 0 1 0 0 1 0 0 0 0 0 0 0 0 0 0 1 1 0 0 1 0 0 0 1 1 0 0 0 0 0\n",
      " 0 1 0 0 0 0 0 1 0 0 0 1 1 0 0 1 0 0 0 0 1 0 0 1 0 1 0 0 0 0 0 0 0 0 0 0 0\n",
      " 0 0 0 1 0 1 0 1 1 0 0 0 0 0 0 0 0 0 0 0 0 0 0 0 1 0 1 0 0 1 0 0 0 0 0 0 0\n",
      " 0 0 0 0 0 0 1 0 0 0 0 0 1 0 1 0 0 1 0 1 0 0 0 0 0 1 0 0 0 0 0 0 1 0 0 0 1\n",
      " 0 1 0 0 0 1 0 0 0 1 0 0 1 0 0 0 0 1 0 0 0 0 1 0 0 0 0 0 0 1 1 0 0 0 0 0 1\n",
      " 0 0 1 0 0 0 0 1 0 1 0 0 0 0 0 0 1 0 0 0 1 1 0 0 0 0 0 1 0 0 0 1 0 1 0 1 0\n",
      " 1 1 0 1 1 0 0 0 0 0 0 0 0 0 0 0 1 0 0 0 0 0 0 0 0 0 0 0 1 0 1 0 0 0 0 1 0\n",
      " 0 1 0 1 1 1 0 0 0 0 0 0 1 1 0 0 0 1 1 0 0 0 0 0 0 0 1 0 0 0 0 0 1 0 0 1 0\n",
      " 0 1 0 0 0 0 1 0 0 1 0 1 0 1 0 0 0 1 0 0 0 0 0 0 1 1 1 0 0 0 0 1 0 0 0 0 1\n",
      " 0 1 0 0 0 1 0 0 1 1 1 0 0 0 1 0 0 1 1 0 1 0 0 1 0 0 1 1 0 0 0 1 1 0 0 0 0\n",
      " 0 1 0 0 1 0 0 0 1 0 0 1 1 0 0 0 0 0 1 0 0 0 0 0 1 1 0 0 1 1 1 0 0 1 0 1 0\n",
      " 0 0 0 0 0 0 0 0 1 0 0 0 0 0 1 0 0 0 0 0 1 0 0 0 0 0 1 0 0 0 0 0 0 1 0 0 0\n",
      " 1 1 1 1 0 0 0 0 1 0 0 0 0 1 0 0 1 0 0 0 1 0 0 1 0 0 0 0 1 0 0 0 0 1 0 1 0\n",
      " 1 0 1 1 0 0 0 0 0 0 1 1 0 1 1 0 0 1 1 0 0 0 0 0 0 1 0 0 0 0 0 0 0 0 0 0 0\n",
      " 1 1 0 1 1 0 0 1 0 0 0 1 1 0 0 0 0 0 0 0 1 0 0 0 1 0 0 0 0 0 0 0 0 0 0 0 1\n",
      " 0 0 0 0 1 0 0 0 0 1 0 0 0 0 0 0 1 0 0 0 0 1 1 0 0 0 1 0 0 0 1 0 0 0 0 1 0\n",
      " 0 0 1 1 0 0 1 0 1 0 0 0 1 1 1 0 1 0 0 0 0 0 0 0 0 0 0 0 1 0 0 0 0 0 0 0 0\n",
      " 0 0 0 1 0 0 0 1 0 0 1 1 0 0 0 0 0 0 1 1 1 1 0 0 0 0 0 0 0 1 0 0 0 0 0 0 0\n",
      " 0 1 0 0 1 0 0 0 0 0 0 1 0 0 0 1 0 0 0 0 1 1 1 0 1 1 1 0 1 0 0 0 0 1 0 0 0\n",
      " 0 0 1 1 0 0 0 0 0 0 0 0 0 1 0 0 0 0 0 0 0 1 0 1 0 0 0 0 0 0 0 0 0 1 1 0 0\n",
      " 0 0 1 1 0 0 0 0 1 1 0 0 0 0 0 0 0 1 0 0 0 1 0 0 1 0 1 0 0 1 0 0 1 0 1 0 1\n",
      " 0 0 1 0 0 0 0 0 0 0 0 0 0 1 0 1 0 0 0 0 0 1 1 0 0 0 0 0 0 0 0 1 0 0 0 0 0\n",
      " 0 1 1 0 0 0 1 0 0 0 0 0 0 0 0 0 0 0 0 0 0 1 0 0 0 1 1 0 0 1 0 1 1 0 0 0 0\n",
      " 0 1 0 0 1 0 0 1 0 1 0 1 0 1 0 1 0 0 0 0 0 0 0 0 0 0 0 0 0 1 0 0 0 1 1 0 0\n",
      " 0 0 1 0 1 1 0 1 0 1 0 1 0 0 0 0 0 1 0 0 0 1 0 0 0 1 0 1 0 0 1 0 1 1 0 0 1\n",
      " 0 0 0 0 1 0 0 0 0 0 1 0 0 1 0 1 1 0 0 0 0 0 0 0 0 0 0 0 1 0 0 0 0 0 0 0 0\n",
      " 1]\n"
     ]
    }
   ],
   "source": [
    "print(pred)"
   ]
  },
  {
   "cell_type": "code",
   "execution_count": 45,
   "metadata": {},
   "outputs": [],
   "source": [
    "# pred = (pred == 0)\n",
    "# predi = [int(p) for p in pred]\n",
    "# print(predi)"
   ]
  },
  {
   "cell_type": "code",
   "execution_count": 46,
   "metadata": {},
   "outputs": [],
   "source": [
    "id = test['id']\n",
    "output = pd.DataFrame({'id':id, 'Class':pred})\n",
    "output.to_csv(\"submission.csv\",  index=False)"
   ]
  }
 ],
 "metadata": {
  "kernelspec": {
   "display_name": "Python 3",
   "language": "python",
   "name": "python3"
  }
 },
 "nbformat": 4,
 "nbformat_minor": 1
}
