{
 "cells": [
  {
   "cell_type": "code",
   "execution_count": 62,
   "metadata": {
    "collapsed": true
   },
   "outputs": [],
   "source": [
    "from numpy import array, asarray, zeros\n",
    "from keras.preprocessing.text import Tokenizer\n",
    "from keras.preprocessing.sequence import pad_sequences\n",
    "from keras.models import Sequential\n",
    "from keras.layers import Dense\n",
    "from keras.layers import Flatten\n",
    "from keras.layers.embeddings import Embedding\n",
    "import pandas as pd\n",
    "import re\n",
    "import keras\n",
    "from sklearn.model_selection import train_test_split"
   ]
  },
  {
   "cell_type": "code",
   "execution_count": 63,
   "outputs": [
    {
     "data": {
      "text/plain": "   id               candidate  candidate_confidence relevant_yn  \\\n0   1  No candidate mentioned                1.0000         yes   \n1   2            Scott Walker                1.0000         yes   \n2   3  No candidate mentioned                1.0000         yes   \n3   4  No candidate mentioned                1.0000         yes   \n4   5            Donald Trump                1.0000         yes   \n5   6                Ted Cruz                0.6332         yes   \n6   7  No candidate mentioned                1.0000         yes   \n7   8  No candidate mentioned                1.0000         yes   \n8   9              Ben Carson                1.0000         yes   \n9  10  No candidate mentioned                0.4594         yes   \n\n   relevant_yn_confidence sentiment  sentiment_confidence  \\\n0                  1.0000   Neutral                0.6578   \n1                  1.0000  Positive                0.6333   \n2                  1.0000   Neutral                0.6629   \n3                  1.0000  Positive                1.0000   \n4                  1.0000  Positive                0.7045   \n5                  1.0000  Positive                0.6332   \n6                  1.0000  Negative                0.6761   \n7                  1.0000   Neutral                1.0000   \n8                  1.0000  Negative                0.6889   \n9                  0.6778  Negative                0.6778   \n\n           subject_matter  subject_matter_confidence candidate_gold  ...  \\\n0       None of the above                     1.0000            NaN  ...   \n1       None of the above                     1.0000            NaN  ...   \n2       None of the above                     0.6629            NaN  ...   \n3       None of the above                     0.7039            NaN  ...   \n4       None of the above                     1.0000            NaN  ...   \n5       None of the above                     1.0000            NaN  ...   \n6  FOX News or Moderators                     1.0000            NaN  ...   \n7       None of the above                     1.0000            NaN  ...   \n8       None of the above                     0.6444            NaN  ...   \n9       None of the above                     0.4594            NaN  ...   \n\n  relevant_yn_gold retweet_count  sentiment_gold subject_matter_gold  \\\n0              NaN             5             NaN                 NaN   \n1              NaN            26             NaN                 NaN   \n2              NaN            27             NaN                 NaN   \n3              NaN           138             NaN                 NaN   \n4              NaN           156             NaN                 NaN   \n5              NaN           228             NaN                 NaN   \n6              NaN            17             NaN                 NaN   \n7              NaN             0             NaN                 NaN   \n8              NaN             0             NaN                 NaN   \n9              NaN             1             NaN                 NaN   \n\n                                                text tweet_coord  \\\n0  RT @NancyLeeGrahn: How did everyone feel about...         NaN   \n1  RT @ScottWalker: Didn't catch the full #GOPdeb...         NaN   \n2  RT @TJMShow: No mention of Tamir Rice and the ...         NaN   \n3  RT @RobGeorge: That Carly Fiorina is trending ...         NaN   \n4  RT @DanScavino: #GOPDebate w/ @realDonaldTrump...         NaN   \n5  RT @GregAbbott_TX: @TedCruz: \"On my first day ...         NaN   \n6  RT @warriorwoman91: I liked her and was happy ...         NaN   \n7  Going on #MSNBC Live with @ThomasARoberts arou...         NaN   \n8  Deer in the headlights RT @lizzwinstead: Ben C...         NaN   \n9  RT @NancyOsborne180: Last night's debate prove...         NaN   \n\n               tweet_created            tweet_id  tweet_location  \\\n0  2015-08-07 09:54:46 -0700  629697200650592256             NaN   \n1  2015-08-07 09:54:46 -0700  629697199560069120             NaN   \n2  2015-08-07 09:54:46 -0700  629697199312482304             NaN   \n3  2015-08-07 09:54:45 -0700  629697197118861312           Texas   \n4  2015-08-07 09:54:45 -0700  629697196967903232             NaN   \n5  2015-08-07 09:54:44 -0700  629697194283499520             NaN   \n6  2015-08-07 09:54:44 -0700  629697192383672320   North Georgia   \n7  2015-08-07 09:54:44 -0700  629697192169750528     New York NY   \n8  2015-08-07 09:54:44 -0700  629697190219243524             NaN   \n9  2015-08-07 09:54:42 -0700  629697185093824512             NaN   \n\n                user_timezone  \n0                       Quito  \n1                         NaN  \n2                         NaN  \n3  Central Time (US & Canada)  \n4                     Arizona  \n5  Central Time (US & Canada)  \n6  Eastern Time (US & Canada)  \n7  Eastern Time (US & Canada)  \n8  Pacific Time (US & Canada)  \n9                         NaN  \n\n[10 rows x 21 columns]",
      "text/html": "<div>\n<style scoped>\n    .dataframe tbody tr th:only-of-type {\n        vertical-align: middle;\n    }\n\n    .dataframe tbody tr th {\n        vertical-align: top;\n    }\n\n    .dataframe thead th {\n        text-align: right;\n    }\n</style>\n<table border=\"1\" class=\"dataframe\">\n  <thead>\n    <tr style=\"text-align: right;\">\n      <th></th>\n      <th>id</th>\n      <th>candidate</th>\n      <th>candidate_confidence</th>\n      <th>relevant_yn</th>\n      <th>relevant_yn_confidence</th>\n      <th>sentiment</th>\n      <th>sentiment_confidence</th>\n      <th>subject_matter</th>\n      <th>subject_matter_confidence</th>\n      <th>candidate_gold</th>\n      <th>...</th>\n      <th>relevant_yn_gold</th>\n      <th>retweet_count</th>\n      <th>sentiment_gold</th>\n      <th>subject_matter_gold</th>\n      <th>text</th>\n      <th>tweet_coord</th>\n      <th>tweet_created</th>\n      <th>tweet_id</th>\n      <th>tweet_location</th>\n      <th>user_timezone</th>\n    </tr>\n  </thead>\n  <tbody>\n    <tr>\n      <th>0</th>\n      <td>1</td>\n      <td>No candidate mentioned</td>\n      <td>1.0000</td>\n      <td>yes</td>\n      <td>1.0000</td>\n      <td>Neutral</td>\n      <td>0.6578</td>\n      <td>None of the above</td>\n      <td>1.0000</td>\n      <td>NaN</td>\n      <td>...</td>\n      <td>NaN</td>\n      <td>5</td>\n      <td>NaN</td>\n      <td>NaN</td>\n      <td>RT @NancyLeeGrahn: How did everyone feel about...</td>\n      <td>NaN</td>\n      <td>2015-08-07 09:54:46 -0700</td>\n      <td>629697200650592256</td>\n      <td>NaN</td>\n      <td>Quito</td>\n    </tr>\n    <tr>\n      <th>1</th>\n      <td>2</td>\n      <td>Scott Walker</td>\n      <td>1.0000</td>\n      <td>yes</td>\n      <td>1.0000</td>\n      <td>Positive</td>\n      <td>0.6333</td>\n      <td>None of the above</td>\n      <td>1.0000</td>\n      <td>NaN</td>\n      <td>...</td>\n      <td>NaN</td>\n      <td>26</td>\n      <td>NaN</td>\n      <td>NaN</td>\n      <td>RT @ScottWalker: Didn't catch the full #GOPdeb...</td>\n      <td>NaN</td>\n      <td>2015-08-07 09:54:46 -0700</td>\n      <td>629697199560069120</td>\n      <td>NaN</td>\n      <td>NaN</td>\n    </tr>\n    <tr>\n      <th>2</th>\n      <td>3</td>\n      <td>No candidate mentioned</td>\n      <td>1.0000</td>\n      <td>yes</td>\n      <td>1.0000</td>\n      <td>Neutral</td>\n      <td>0.6629</td>\n      <td>None of the above</td>\n      <td>0.6629</td>\n      <td>NaN</td>\n      <td>...</td>\n      <td>NaN</td>\n      <td>27</td>\n      <td>NaN</td>\n      <td>NaN</td>\n      <td>RT @TJMShow: No mention of Tamir Rice and the ...</td>\n      <td>NaN</td>\n      <td>2015-08-07 09:54:46 -0700</td>\n      <td>629697199312482304</td>\n      <td>NaN</td>\n      <td>NaN</td>\n    </tr>\n    <tr>\n      <th>3</th>\n      <td>4</td>\n      <td>No candidate mentioned</td>\n      <td>1.0000</td>\n      <td>yes</td>\n      <td>1.0000</td>\n      <td>Positive</td>\n      <td>1.0000</td>\n      <td>None of the above</td>\n      <td>0.7039</td>\n      <td>NaN</td>\n      <td>...</td>\n      <td>NaN</td>\n      <td>138</td>\n      <td>NaN</td>\n      <td>NaN</td>\n      <td>RT @RobGeorge: That Carly Fiorina is trending ...</td>\n      <td>NaN</td>\n      <td>2015-08-07 09:54:45 -0700</td>\n      <td>629697197118861312</td>\n      <td>Texas</td>\n      <td>Central Time (US &amp; Canada)</td>\n    </tr>\n    <tr>\n      <th>4</th>\n      <td>5</td>\n      <td>Donald Trump</td>\n      <td>1.0000</td>\n      <td>yes</td>\n      <td>1.0000</td>\n      <td>Positive</td>\n      <td>0.7045</td>\n      <td>None of the above</td>\n      <td>1.0000</td>\n      <td>NaN</td>\n      <td>...</td>\n      <td>NaN</td>\n      <td>156</td>\n      <td>NaN</td>\n      <td>NaN</td>\n      <td>RT @DanScavino: #GOPDebate w/ @realDonaldTrump...</td>\n      <td>NaN</td>\n      <td>2015-08-07 09:54:45 -0700</td>\n      <td>629697196967903232</td>\n      <td>NaN</td>\n      <td>Arizona</td>\n    </tr>\n    <tr>\n      <th>5</th>\n      <td>6</td>\n      <td>Ted Cruz</td>\n      <td>0.6332</td>\n      <td>yes</td>\n      <td>1.0000</td>\n      <td>Positive</td>\n      <td>0.6332</td>\n      <td>None of the above</td>\n      <td>1.0000</td>\n      <td>NaN</td>\n      <td>...</td>\n      <td>NaN</td>\n      <td>228</td>\n      <td>NaN</td>\n      <td>NaN</td>\n      <td>RT @GregAbbott_TX: @TedCruz: \"On my first day ...</td>\n      <td>NaN</td>\n      <td>2015-08-07 09:54:44 -0700</td>\n      <td>629697194283499520</td>\n      <td>NaN</td>\n      <td>Central Time (US &amp; Canada)</td>\n    </tr>\n    <tr>\n      <th>6</th>\n      <td>7</td>\n      <td>No candidate mentioned</td>\n      <td>1.0000</td>\n      <td>yes</td>\n      <td>1.0000</td>\n      <td>Negative</td>\n      <td>0.6761</td>\n      <td>FOX News or Moderators</td>\n      <td>1.0000</td>\n      <td>NaN</td>\n      <td>...</td>\n      <td>NaN</td>\n      <td>17</td>\n      <td>NaN</td>\n      <td>NaN</td>\n      <td>RT @warriorwoman91: I liked her and was happy ...</td>\n      <td>NaN</td>\n      <td>2015-08-07 09:54:44 -0700</td>\n      <td>629697192383672320</td>\n      <td>North Georgia</td>\n      <td>Eastern Time (US &amp; Canada)</td>\n    </tr>\n    <tr>\n      <th>7</th>\n      <td>8</td>\n      <td>No candidate mentioned</td>\n      <td>1.0000</td>\n      <td>yes</td>\n      <td>1.0000</td>\n      <td>Neutral</td>\n      <td>1.0000</td>\n      <td>None of the above</td>\n      <td>1.0000</td>\n      <td>NaN</td>\n      <td>...</td>\n      <td>NaN</td>\n      <td>0</td>\n      <td>NaN</td>\n      <td>NaN</td>\n      <td>Going on #MSNBC Live with @ThomasARoberts arou...</td>\n      <td>NaN</td>\n      <td>2015-08-07 09:54:44 -0700</td>\n      <td>629697192169750528</td>\n      <td>New York NY</td>\n      <td>Eastern Time (US &amp; Canada)</td>\n    </tr>\n    <tr>\n      <th>8</th>\n      <td>9</td>\n      <td>Ben Carson</td>\n      <td>1.0000</td>\n      <td>yes</td>\n      <td>1.0000</td>\n      <td>Negative</td>\n      <td>0.6889</td>\n      <td>None of the above</td>\n      <td>0.6444</td>\n      <td>NaN</td>\n      <td>...</td>\n      <td>NaN</td>\n      <td>0</td>\n      <td>NaN</td>\n      <td>NaN</td>\n      <td>Deer in the headlights RT @lizzwinstead: Ben C...</td>\n      <td>NaN</td>\n      <td>2015-08-07 09:54:44 -0700</td>\n      <td>629697190219243524</td>\n      <td>NaN</td>\n      <td>Pacific Time (US &amp; Canada)</td>\n    </tr>\n    <tr>\n      <th>9</th>\n      <td>10</td>\n      <td>No candidate mentioned</td>\n      <td>0.4594</td>\n      <td>yes</td>\n      <td>0.6778</td>\n      <td>Negative</td>\n      <td>0.6778</td>\n      <td>None of the above</td>\n      <td>0.4594</td>\n      <td>NaN</td>\n      <td>...</td>\n      <td>NaN</td>\n      <td>1</td>\n      <td>NaN</td>\n      <td>NaN</td>\n      <td>RT @NancyOsborne180: Last night's debate prove...</td>\n      <td>NaN</td>\n      <td>2015-08-07 09:54:42 -0700</td>\n      <td>629697185093824512</td>\n      <td>NaN</td>\n      <td>NaN</td>\n    </tr>\n  </tbody>\n</table>\n<p>10 rows × 21 columns</p>\n</div>"
     },
     "execution_count": 63,
     "metadata": {},
     "output_type": "execute_result"
    }
   ],
   "source": [
    "# read input document\n",
    "X = pd.read_csv('Sentiment.csv')\n",
    "X.head(10)"
   ],
   "metadata": {
    "collapsed": false,
    "pycharm": {
     "name": "#%%\n"
    }
   }
  },
  {
   "cell_type": "code",
   "execution_count": 64,
   "outputs": [
    {
     "name": "stdout",
     "output_type": "stream",
     "text": [
      "                                                    text sentiment\n",
      "1      rt scottwalker didnt catch the full gopdebate ...  Positive\n",
      "3      rt robgeorge that carly fiorina is trending  h...  Positive\n",
      "4      rt danscavino gopdebate w realdonaldtrump deli...  Positive\n",
      "5      rt gregabbott_tx tedcruz on my first day i wil...  Positive\n",
      "6      rt warriorwoman91 i liked her and was happy wh...  Negative\n",
      "...                                                  ...       ...\n",
      "13866  rt cappy_yarbrough love to see men who will ne...  Negative\n",
      "13867  rt georgehenryw who thought huckabee exceeded ...  Positive\n",
      "13868  rt lrihendry tedcruz as president i will alway...  Positive\n",
      "13869  rt jrehling gopdebate donald trump says that h...  Negative\n",
      "13870  rt lrihendry tedcruz headed into the president...  Positive\n",
      "\n",
      "[10729 rows x 2 columns]\n",
      "1        Positive\n",
      "3        Positive\n",
      "4        Positive\n",
      "5        Positive\n",
      "6        Negative\n",
      "           ...   \n",
      "13866    Negative\n",
      "13867    Positive\n",
      "13868    Positive\n",
      "13869    Negative\n",
      "13870    Positive\n",
      "Name: sentiment, Length: 10729, dtype: object\n"
     ]
    }
   ],
   "source": [
    "X = X[['text', 'sentiment']]\n",
    "X = X[X.sentiment != 'Neutral']\n",
    "X['text'] = X['text'].apply(lambda x: x.lower())\n",
    "X['text'] = X['text'].apply((lambda x: re.sub('[^a-zA-z0-9\\s]', '', x)))\n",
    "print(X)\n",
    "\n",
    "for idx, row in X.iterrows():\n",
    "    row[0] = row[0].replace('rt', ' ')\n",
    "\n",
    "print(X['sentiment'])"
   ],
   "metadata": {
    "collapsed": false,
    "pycharm": {
     "name": "#%%\n"
    }
   }
  },
  {
   "cell_type": "code",
   "execution_count": 65,
   "outputs": [
    {
     "name": "stdout",
     "output_type": "stream",
     "text": [
      "  scottwalker didnt catch the full gopdebate last night here are some of scotts best lines in 90 seconds walker16 httptcozsff\n",
      "[363, 122, 1, 703, 2, 39, 58, 237, 37, 210, 6, 174, 1761, 12, 1324, 1409, 743]\n",
      "saying\n"
     ]
    }
   ],
   "source": [
    "# use tokenizer and pad\n",
    "maxFeatures = 2000\n",
    "tokenizer = Tokenizer(num_words=maxFeatures, split=' ')\n",
    "tokenizer.fit_on_texts(X['text'].values)\n",
    "encodeDocuments = tokenizer.texts_to_sequences(X['text'].values)\n",
    "\n",
    "print(X['text'].values[0])\n",
    "print(encodeDocuments[0])\n",
    "print(tokenizer.index_word[341])"
   ],
   "metadata": {
    "collapsed": false,
    "pycharm": {
     "name": "#%%\n"
    }
   }
  },
  {
   "cell_type": "code",
   "execution_count": 66,
   "outputs": [
    {
     "name": "stdout",
     "output_type": "stream",
     "text": [
      "400000\n"
     ]
    }
   ],
   "source": [
    "max_length = 29\n",
    "paddedDocuments = pad_sequences(encodeDocuments, maxlen=max_length, padding='post')\n",
    "\n",
    "# load glove model\n",
    "inMemoryGlove = dict()\n",
    "f = open('D:/AIdata/glove.6B.100d.txt',encoding='utf-8')\n",
    "for line in f:\n",
    "    values = line.split()\n",
    "    word = values[0]\n",
    "    coefficients = asarray(values[1:], dtype='float32')\n",
    "    inMemoryGlove[word] = coefficients\n",
    "f.close()\n",
    "print(len(inMemoryGlove))"
   ],
   "metadata": {
    "collapsed": false,
    "pycharm": {
     "name": "#%%\n"
    }
   }
  },
  {
   "cell_type": "code",
   "execution_count": 68,
   "outputs": [
    {
     "name": "stdout",
     "output_type": "stream",
     "text": [
      "(7188, 29) (7188,)\n",
      "(3541, 29) (3541,)\n"
     ]
    }
   ],
   "source": [
    "# split data\n",
    "labels = []\n",
    "for i in X['sentiment']:\n",
    "    if i == 'Positive':\n",
    "        labels.append(1)\n",
    "    # elif i == 'Negative':\n",
    "    #     labels.append(-1)\n",
    "    else:\n",
    "        labels.append(0)\n",
    "\n",
    "labels = array(labels)\n",
    "# labels = keras.utils.to_categorical(labels,2)\n",
    "\n",
    "\n",
    "X_train, X_test, Y_train, Y_test = train_test_split(paddedDocuments,labels, test_size = 0.33, random_state = 42)\n",
    "print(X_train.shape,Y_train.shape)\n",
    "print(X_test.shape,Y_test.shape)"
   ],
   "metadata": {
    "collapsed": false,
    "pycharm": {
     "name": "#%%\n"
    }
   }
  },
  {
   "cell_type": "code",
   "execution_count": 69,
   "outputs": [],
   "source": [
    "# create coefficient matrix for training data\n",
    "trainingToEmbeddings = zeros((maxFeatures, 100))\n",
    "for word, i in tokenizer.word_index.items():\n",
    "    if i < 2000:\n",
    "        gloveVector = inMemoryGlove.get(word)\n",
    "        if gloveVector is not None:\n",
    "            trainingToEmbeddings[i] = gloveVector"
   ],
   "metadata": {
    "collapsed": false,
    "pycharm": {
     "name": "#%%\n"
    }
   }
  },
  {
   "cell_type": "code",
   "execution_count": 70,
   "outputs": [
    {
     "name": "stdout",
     "output_type": "stream",
     "text": [
      "Model: \"sequential_7\"\n",
      "_________________________________________________________________\n",
      "Layer (type)                 Output Shape              Param #   \n",
      "=================================================================\n",
      "embedding_7 (Embedding)      (None, 29, 100)           200000    \n",
      "_________________________________________________________________\n",
      "flatten_7 (Flatten)          (None, 2900)              0         \n",
      "_________________________________________________________________\n",
      "dense_7 (Dense)              (None, 1)                 2901      \n",
      "=================================================================\n",
      "Total params: 202,901\n",
      "Trainable params: 2,901\n",
      "Non-trainable params: 200,000\n",
      "_________________________________________________________________\n",
      "None\n"
     ]
    }
   ],
   "source": [
    "model = Sequential()\n",
    "model.add(Embedding(maxFeatures, 100, weights=[trainingToEmbeddings], input_length=max_length, trainable=False))\n",
    "model.add(Flatten())\n",
    "model.add(Dense(1, activation='sigmoid'))\n",
    "model.compile(optimizer='adam', loss='binary_crossentropy', metrics=['acc'])\n",
    "print(model.summary())"
   ],
   "metadata": {
    "collapsed": false,
    "pycharm": {
     "name": "#%%\n"
    }
   }
  },
  {
   "cell_type": "code",
   "execution_count": 71,
   "outputs": [
    {
     "name": "stdout",
     "output_type": "stream",
     "text": [
      "Accuracy: 80.965829\n"
     ]
    }
   ],
   "source": [
    "batch_size = 32\n",
    "model.fit(X_train, Y_train, epochs=50, batch_size=batch_size, verbose=0)\n",
    "\n",
    "loss, accuracy = model.evaluate(X_test, Y_test, verbose=0)\n",
    "print('Accuracy: %f' % (accuracy * 100))"
   ],
   "metadata": {
    "collapsed": false,
    "pycharm": {
     "name": "#%%\n"
    }
   }
  },
  {
   "cell_type": "code",
   "execution_count": null,
   "outputs": [],
   "source": [],
   "metadata": {
    "collapsed": false,
    "pycharm": {
     "name": "#%%\n"
    }
   }
  }
 ],
 "metadata": {
  "kernelspec": {
   "display_name": "Python 3",
   "language": "python",
   "name": "python3"
  },
  "language_info": {
   "codemirror_mode": {
    "name": "ipython",
    "version": 2
   },
   "file_extension": ".py",
   "mimetype": "text/x-python",
   "name": "python",
   "nbconvert_exporter": "python",
   "pygments_lexer": "ipython2",
   "version": "2.7.6"
  }
 },
 "nbformat": 4,
 "nbformat_minor": 0
}