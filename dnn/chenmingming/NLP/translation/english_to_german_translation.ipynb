{
 "cells": [
  {
   "cell_type": "code",
   "execution_count": 15,
   "outputs": [
    {
     "name": "stderr",
     "output_type": "stream",
     "text": [
      "IOPub data rate exceeded.\n",
      "The notebook server will temporarily stop sending output\n",
      "to the client in order to avoid crashing it.\n",
      "To change this limit, set the config variable\n",
      "`--NotebookApp.iopub_data_rate_limit`.\n",
      "\n",
      "Current values:\n",
      "NotebookApp.iopub_data_rate_limit=1000000.0 (bytes/sec)\n",
      "NotebookApp.rate_limit_window=3.0 (secs)\n",
      "\n"
     ]
    }
   ],
   "source": [
    "with open('deu.txt', 'r', encoding='utf-8') as f:\n",
    "    lines = f.read().split('\\n')\n",
    "print(\"文档总共有 {} 行。\".format(len(lines)))\n",
    "num_samples = 180000  # 使用的语料行数\n",
    "lines_to_use = lines[: min(num_samples, len(lines) - 1)]\n",
    "# print(lines_to_use)"
   ],
   "metadata": {
    "collapsed": false,
    "pycharm": {
     "name": "#%%\n"
    }
   }
  },
  {
   "cell_type": "code",
   "execution_count": 2,
   "outputs": [],
   "source": [
    "import re\n",
    "\n",
    "# print(lines_to_use[19516])\n",
    "for i in range(len(lines_to_use)):\n",
    "    lines_to_use[i] = re.sub('\\d', ' _NUMBER_ ', lines_to_use[i])\n",
    "    # 用 ' _NUMBER_ ' 替换 数字（\\d）\n",
    "# print(lines_to_use[19516])\n",
    "input_texts = []\n",
    "target_texts = []\n",
    "input_words = set()\n",
    "target_words = set()\n",
    "for line in lines_to_use:\n",
    "    x, y = line.split('\\t')\n",
    "    y = 'BEGIN_ ' + y + ' _END'\n",
    "    input_texts.append(x)\n",
    "    target_texts.append(y)\n",
    "    for word in x.split():\n",
    "        if word not in input_words:\n",
    "            input_words.add(word)\n",
    "    for word in y.split():\n",
    "        if word not in target_words:\n",
    "            target_words.add(word)"
   ],
   "metadata": {
    "collapsed": false,
    "pycharm": {
     "name": "#%%\n"
    }
   }
  },
  {
   "cell_type": "code",
   "execution_count": 3,
   "outputs": [],
   "source": [
    "max_input_seq_len = max([len(seq.split()) for seq in input_texts])\n",
    "# 11\n",
    "max_target_seq_len = max([len(seq.split()) for seq in target_texts])\n",
    "# 15\n",
    "\n",
    "input_words = sorted(list(input_words))\n",
    "target_words = sorted(list(target_words))\n",
    "num_encoder_tokens = len(input_words)  # 5724\n",
    "num_decoder_tokens = len(target_words)  # 9126"
   ],
   "metadata": {
    "collapsed": false,
    "pycharm": {
     "name": "#%%\n"
    }
   }
  },
  {
   "cell_type": "code",
   "execution_count": 4,
   "outputs": [],
   "source": [
    "inputToken_idx = {token: i for (i, token) in enumerate(input_words)}\n",
    "outputToken_idx = {token: i for (i, token) in enumerate(target_words)}\n",
    "idx_inputToken = {i: token for (i, token) in enumerate(input_words)}\n",
    "idx_outputToken = {i: token for (i, token) in enumerate(target_words)}"
   ],
   "metadata": {
    "collapsed": false,
    "pycharm": {
     "name": "#%%\n"
    }
   }
  },
  {
   "cell_type": "code",
   "execution_count": 5,
   "outputs": [
    {
     "name": "stderr",
     "output_type": "stream",
     "text": [
      "c:\\program files\\python37\\lib\\site-packages\\numpy\\_distributor_init.py:32: UserWarning: loaded more than 1 DLL from .libs:\n",
      "c:\\program files\\python37\\lib\\site-packages\\numpy\\.libs\\libopenblas.PYQHXLVVQ7VESDPUVUADXEVJOBGHJPAY.gfortran-win_amd64.dll\n",
      "c:\\program files\\python37\\lib\\site-packages\\numpy\\.libs\\libopenblas.TXA6YQSD3GCQQC22GEQ54J2UDCXDXHWN.gfortran-win_amd64.dll\n",
      "  stacklevel=1)\n"
     ]
    }
   ],
   "source": [
    "import numpy as np\n",
    "\n",
    "encoder_input_data = np.zeros(\n",
    "    (len(input_texts), max_input_seq_len),\n",
    "    # 句子数量，         最大输入句子长度\n",
    "    dtype=np.float32\n",
    ")\n",
    "\n",
    "decoder_input_data = np.zeros(\n",
    "    (len(target_texts), max_target_seq_len),\n",
    "    # 句子数量，          最大输出句子长度\n",
    "    dtype=np.float32\n",
    ")\n",
    "\n",
    "decoder_output_data = np.zeros(\n",
    "    (len(target_texts), max_target_seq_len, num_decoder_tokens),\n",
    "    # 句子数量，          最大输出句子长度,      输出 tokens ids 个数\n",
    "    dtype=np.float32\n",
    ")"
   ],
   "metadata": {
    "collapsed": false,
    "pycharm": {
     "name": "#%%\n"
    }
   }
  },
  {
   "cell_type": "code",
   "execution_count": 6,
   "outputs": [],
   "source": [
    "for i, (input_text, target_text) in enumerate(zip(input_texts, target_texts)):\n",
    "    for t, word in enumerate(input_text.split()):\n",
    "        encoder_input_data[i, t] = inputToken_idx[word]\n",
    "    for t, word in enumerate(target_text.split()):\n",
    "        decoder_input_data[i, t] = outputToken_idx[word]\n",
    "        if t > 0:\n",
    "            # 解码器的输出比输入提前一个时间步\n",
    "            decoder_output_data[i, t - 1, outputToken_idx[word]] = 1."
   ],
   "metadata": {
    "collapsed": false,
    "pycharm": {
     "name": "#%%\n"
    }
   }
  },
  {
   "cell_type": "code",
   "execution_count": 7,
   "outputs": [],
   "source": [
    "from keras.layers import Input, LSTM, Embedding, Dense\n",
    "from keras.models import Model\n",
    "\n",
    "embedding_size = 512  # 嵌入维度\n",
    "rnn_size = 128\n",
    "# 编码器\n",
    "encoder_inputs = Input(shape=(None,))\n",
    "encoder_after_embedding = Embedding(input_dim=num_encoder_tokens,  # 单词个数\n",
    "                                    output_dim=embedding_size)(encoder_inputs)\n",
    "encoder_lstm = LSTM(units=rnn_size, return_state=True)\n",
    "# return_state: Boolean. Whether to return\n",
    "#   the last state in addition to the output.\n",
    "_, state_h, state_c = encoder_lstm(encoder_after_embedding)\n",
    "encoder_states = [state_h, state_c] #\n",
    "\n",
    "# 解码器\n",
    "decoder_inputs = Input(shape=(None,))\n",
    "decoder_after_embedding = Embedding(input_dim=num_decoder_tokens,  # 单词个数\n",
    "                                    output_dim=embedding_size)(decoder_inputs)\n",
    "decoder_lstm = LSTM(units=rnn_size, return_sequences=True, return_state=True)\n",
    "decoder_outputs, _, _ = decoder_lstm(decoder_after_embedding,\n",
    "                                     initial_state=encoder_states)\n",
    "decoder_dense = Dense(num_decoder_tokens, activation='softmax')\n",
    "decoder_outputs = decoder_dense(decoder_outputs)"
   ],
   "metadata": {
    "collapsed": false,
    "pycharm": {
     "name": "#%%\n"
    }
   }
  },
  {
   "cell_type": "code",
   "execution_count": 8,
   "outputs": [
    {
     "name": "stdout",
     "output_type": "stream",
     "text": [
      "Model: \"functional_1\"\n",
      "__________________________________________________________________________________________________\n",
      "Layer (type)                    Output Shape         Param #     Connected to                     \n",
      "==================================================================================================\n",
      "input_1 (InputLayer)            [(None, None)]       0                                            \n",
      "__________________________________________________________________________________________________\n",
      "input_2 (InputLayer)            [(None, None)]       0                                            \n",
      "__________________________________________________________________________________________________\n",
      "embedding (Embedding)           (None, None, 256)    1465344     input_1[0][0]                    \n",
      "__________________________________________________________________________________________________\n",
      "embedding_1 (Embedding)         (None, None, 256)    2336256     input_2[0][0]                    \n",
      "__________________________________________________________________________________________________\n",
      "lstm (LSTM)                     [(None, 64), (None,  82176       embedding[0][0]                  \n",
      "__________________________________________________________________________________________________\n",
      "lstm_1 (LSTM)                   [(None, None, 64), ( 82176       embedding_1[0][0]                \n",
      "                                                                 lstm[0][1]                       \n",
      "                                                                 lstm[0][2]                       \n",
      "__________________________________________________________________________________________________\n",
      "dense (Dense)                   (None, None, 9126)   593190      lstm_1[0][0]                     \n",
      "==================================================================================================\n",
      "Total params: 4,559,142\n",
      "Trainable params: 4,559,142\n",
      "Non-trainable params: 0\n",
      "__________________________________________________________________________________________________\n"
     ]
    },
    {
     "data": {
      "image/png": "[encoded data removed]",
      "text/plain": "<IPython.core.display.Image object>"
     },
     "execution_count": 8,
     "metadata": {},
     "output_type": "execute_result"
    }
   ],
   "source": [
    "model = Model([encoder_inputs, decoder_inputs], decoder_outputs)\n",
    "model.compile(optimizer='adam',\n",
    "              loss='categorical_crossentropy',\n",
    "              metrics=['accuracy'])\n",
    "model.summary()\n",
    "\n",
    "from keras.utils import plot_model\n",
    "plot_model(model,to_file='model.png')"
   ],
   "metadata": {
    "collapsed": false,
    "pycharm": {
     "name": "#%%\n"
    }
   }
  },
  {
   "cell_type": "code",
   "execution_count": 9,
   "outputs": [
    {
     "name": "stdout",
     "output_type": "stream",
     "text": [
      "\n",
      "Epoch 00001: accuracy improved from -inf to 0.00000, saving model to model.best.h5\n",
      "  1/141 [..............................] - ETA: 0s - loss: 2.8163 - accuracy: 0.0000e+00\n",
      "Epoch 00001: accuracy improved from 0.00000 to 0.00807, saving model to model.best.h5\n",
      "  2/141 [..............................] - ETA: 2:31 - loss: 2.8444 - accuracy: 0.0081  \n",
      "Epoch 00001: accuracy improved from 0.00807 to 0.02517, saving model to model.best.h5\n",
      "  3/141 [..............................] - ETA: 2:46 - loss: 2.8662 - accuracy: 0.0252\n",
      "Epoch 00001: accuracy improved from 0.02517 to 0.03555, saving model to model.best.h5\n",
      "  4/141 [..............................] - ETA: 2:48 - loss: 2.8566 - accuracy: 0.0355\n",
      "Epoch 00001: accuracy improved from 0.03555 to 0.04177, saving model to model.best.h5\n",
      "  5/141 [>.............................] - ETA: 2:53 - loss: 2.8497 - accuracy: 0.0418\n",
      "Epoch 00001: accuracy improved from 0.04177 to 0.04592, saving model to model.best.h5\n",
      "  6/141 [>.............................] - ETA: 2:52 - loss: 2.8440 - accuracy: 0.0459\n",
      "Epoch 00001: accuracy improved from 0.04592 to 0.04888, saving model to model.best.h5\n",
      "  7/141 [>.............................] - ETA: 2:50 - loss: 2.8458 - accuracy: 0.0489\n",
      "Epoch 00001: accuracy improved from 0.04888 to 0.05111, saving model to model.best.h5\n",
      "  8/141 [>.............................] - ETA: 2:48 - loss: 2.8379 - accuracy: 0.0511\n",
      "Epoch 00001: accuracy improved from 0.05111 to 0.05284, saving model to model.best.h5\n",
      "  9/141 [>.............................] - ETA: 2:47 - loss: 2.8336 - accuracy: 0.0528\n",
      "Epoch 00001: accuracy improved from 0.05284 to 0.05422, saving model to model.best.h5\n",
      " 10/141 [=>............................] - ETA: 2:46 - loss: 2.8401 - accuracy: 0.0542\n",
      "Epoch 00001: accuracy improved from 0.05422 to 0.05535, saving model to model.best.h5\n",
      " 11/141 [=>............................] - ETA: 2:46 - loss: 2.8312 - accuracy: 0.0554\n",
      "Epoch 00001: accuracy improved from 0.05535 to 0.05629, saving model to model.best.h5\n",
      " 12/141 [=>............................] - ETA: 2:44 - loss: 2.8246 - accuracy: 0.0563\n",
      "Epoch 00001: accuracy improved from 0.05629 to 0.05709, saving model to model.best.h5\n",
      " 13/141 [=>............................] - ETA: 2:42 - loss: 2.8307 - accuracy: 0.0571\n",
      "Epoch 00001: accuracy improved from 0.05709 to 0.05778, saving model to model.best.h5\n",
      " 14/141 [=>............................] - ETA: 2:43 - loss: 2.8259 - accuracy: 0.0578\n",
      "Epoch 00001: accuracy improved from 0.05778 to 0.05837, saving model to model.best.h5\n",
      " 15/141 [==>...........................] - ETA: 2:41 - loss: 2.8230 - accuracy: 0.0584\n",
      "Epoch 00001: accuracy improved from 0.05837 to 0.05889, saving model to model.best.h5\n",
      " 16/141 [==>...........................] - ETA: 2:40 - loss: 2.8197 - accuracy: 0.0589\n",
      "Epoch 00001: accuracy improved from 0.05889 to 0.05934, saving model to model.best.h5\n",
      " 17/141 [==>...........................] - ETA: 2:40 - loss: 2.8167 - accuracy: 0.0593\n",
      "Epoch 00001: accuracy improved from 0.05934 to 0.05975, saving model to model.best.h5\n",
      " 18/141 [==>...........................] - ETA: 2:38 - loss: 2.8154 - accuracy: 0.0598\n",
      "Epoch 00001: accuracy improved from 0.05975 to 0.06055, saving model to model.best.h5\n",
      " 19/141 [===>..........................] - ETA: 2:38 - loss: 2.8102 - accuracy: 0.0606\n",
      "Epoch 00001: accuracy improved from 0.06055 to 0.06135, saving model to model.best.h5\n",
      " 20/141 [===>..........................] - ETA: 2:36 - loss: 2.8072 - accuracy: 0.0614\n",
      "Epoch 00001: accuracy improved from 0.06135 to 0.06243, saving model to model.best.h5\n",
      " 21/141 [===>..........................] - ETA: 2:36 - loss: 2.8002 - accuracy: 0.0624\n",
      "Epoch 00001: accuracy improved from 0.06243 to 0.06316, saving model to model.best.h5\n",
      " 22/141 [===>..........................] - ETA: 2:34 - loss: 2.7917 - accuracy: 0.0632\n",
      "Epoch 00001: accuracy improved from 0.06316 to 0.06379, saving model to model.best.h5\n",
      " 23/141 [===>..........................] - ETA: 2:32 - loss: 2.7854 - accuracy: 0.0638\n",
      "Epoch 00001: accuracy improved from 0.06379 to 0.06441, saving model to model.best.h5\n",
      " 24/141 [====>.........................] - ETA: 2:31 - loss: 2.7760 - accuracy: 0.0644\n",
      "Epoch 00001: accuracy improved from 0.06441 to 0.06454, saving model to model.best.h5\n",
      " 25/141 [====>.........................] - ETA: 2:29 - loss: 2.7629 - accuracy: 0.0645\n",
      "Epoch 00001: accuracy improved from 0.06454 to 0.06508, saving model to model.best.h5\n",
      " 26/141 [====>.........................] - ETA: 2:27 - loss: 2.7570 - accuracy: 0.0651\n",
      "Epoch 00001: accuracy improved from 0.06508 to 0.06561, saving model to model.best.h5\n",
      " 27/141 [====>.........................] - ETA: 2:25 - loss: 2.7458 - accuracy: 0.0656\n",
      "Epoch 00001: accuracy improved from 0.06561 to 0.06603, saving model to model.best.h5\n",
      " 28/141 [====>.........................] - ETA: 2:24 - loss: 2.7380 - accuracy: 0.0660\n",
      "Epoch 00001: accuracy improved from 0.06603 to 0.06633, saving model to model.best.h5\n",
      " 29/141 [=====>........................] - ETA: 2:22 - loss: 2.7238 - accuracy: 0.0663\n",
      "Epoch 00001: accuracy improved from 0.06633 to 0.06656, saving model to model.best.h5\n",
      " 30/141 [=====>........................] - ETA: 2:21 - loss: 2.7149 - accuracy: 0.0666\n",
      "Epoch 00001: accuracy improved from 0.06656 to 0.06695, saving model to model.best.h5\n",
      " 31/141 [=====>........................] - ETA: 2:19 - loss: 2.7052 - accuracy: 0.0670\n",
      "Epoch 00001: accuracy improved from 0.06695 to 0.06717, saving model to model.best.h5\n",
      " 32/141 [=====>........................] - ETA: 2:18 - loss: 2.6931 - accuracy: 0.0672\n",
      "Epoch 00001: accuracy improved from 0.06717 to 0.06744, saving model to model.best.h5\n",
      " 33/141 [======>.......................] - ETA: 2:17 - loss: 2.6822 - accuracy: 0.0674\n",
      "Epoch 00001: accuracy improved from 0.06744 to 0.06772, saving model to model.best.h5\n",
      " 34/141 [======>.......................] - ETA: 2:15 - loss: 2.6703 - accuracy: 0.0677\n",
      "Epoch 00001: accuracy improved from 0.06772 to 0.06792, saving model to model.best.h5\n",
      " 35/141 [======>.......................] - ETA: 2:14 - loss: 2.6579 - accuracy: 0.0679\n",
      "Epoch 00001: accuracy improved from 0.06792 to 0.06810, saving model to model.best.h5\n",
      " 36/141 [======>.......................] - ETA: 2:13 - loss: 2.6460 - accuracy: 0.0681\n",
      "Epoch 00001: accuracy improved from 0.06810 to 0.06826, saving model to model.best.h5\n",
      " 37/141 [======>.......................] - ETA: 2:12 - loss: 2.6344 - accuracy: 0.0683\n",
      "Epoch 00001: accuracy improved from 0.06826 to 0.06842, saving model to model.best.h5\n",
      " 38/141 [=======>......................] - ETA: 2:11 - loss: 2.6227 - accuracy: 0.0684\n",
      "Epoch 00001: accuracy improved from 0.06842 to 0.06867, saving model to model.best.h5\n",
      " 39/141 [=======>......................] - ETA: 2:10 - loss: 2.6098 - accuracy: 0.0687\n",
      "Epoch 00001: accuracy improved from 0.06867 to 0.06896, saving model to model.best.h5\n",
      " 40/141 [=======>......................] - ETA: 2:09 - loss: 2.5963 - accuracy: 0.0690\n",
      "Epoch 00001: accuracy improved from 0.06896 to 0.06922, saving model to model.best.h5\n",
      " 41/141 [=======>......................] - ETA: 2:08 - loss: 2.5846 - accuracy: 0.0692\n",
      "Epoch 00001: accuracy improved from 0.06922 to 0.06949, saving model to model.best.h5\n",
      " 42/141 [=======>......................] - ETA: 2:07 - loss: 2.5732 - accuracy: 0.0695\n",
      "Epoch 00001: accuracy improved from 0.06949 to 0.06977, saving model to model.best.h5\n",
      " 43/141 [========>.....................] - ETA: 2:06 - loss: 2.5633 - accuracy: 0.0698\n",
      "Epoch 00001: accuracy improved from 0.06977 to 0.06983, saving model to model.best.h5\n",
      " 44/141 [========>.....................] - ETA: 2:05 - loss: 2.5535 - accuracy: 0.0698\n",
      "Epoch 00001: accuracy improved from 0.06983 to 0.06999, saving model to model.best.h5\n",
      " 45/141 [========>.....................] - ETA: 2:04 - loss: 2.5439 - accuracy: 0.0700\n",
      "Epoch 00001: accuracy improved from 0.06999 to 0.07022, saving model to model.best.h5\n",
      " 46/141 [========>.....................] - ETA: 2:02 - loss: 2.5340 - accuracy: 0.0702\n",
      "Epoch 00001: accuracy improved from 0.07022 to 0.07040, saving model to model.best.h5\n",
      " 47/141 [=========>....................] - ETA: 2:01 - loss: 2.5220 - accuracy: 0.0704\n",
      "Epoch 00001: accuracy improved from 0.07040 to 0.07058, saving model to model.best.h5\n",
      " 48/141 [=========>....................] - ETA: 2:00 - loss: 2.5112 - accuracy: 0.0706\n",
      "Epoch 00001: accuracy improved from 0.07058 to 0.07067, saving model to model.best.h5\n",
      " 49/141 [=========>....................] - ETA: 1:59 - loss: 2.5007 - accuracy: 0.0707\n",
      "Epoch 00001: accuracy improved from 0.07067 to 0.07081, saving model to model.best.h5\n",
      " 50/141 [=========>....................] - ETA: 1:58 - loss: 2.4909 - accuracy: 0.0708\n",
      "Epoch 00001: accuracy improved from 0.07081 to 0.07097, saving model to model.best.h5\n",
      " 51/141 [=========>....................] - ETA: 1:57 - loss: 2.4831 - accuracy: 0.0710\n",
      "Epoch 00001: accuracy improved from 0.07097 to 0.07108, saving model to model.best.h5\n",
      " 52/141 [==========>...................] - ETA: 1:56 - loss: 2.4735 - accuracy: 0.0711\n",
      "Epoch 00001: accuracy improved from 0.07108 to 0.07123, saving model to model.best.h5\n",
      " 53/141 [==========>...................] - ETA: 1:54 - loss: 2.4645 - accuracy: 0.0712\n",
      "Epoch 00001: accuracy improved from 0.07123 to 0.07140, saving model to model.best.h5\n",
      " 54/141 [==========>...................] - ETA: 1:53 - loss: 2.4551 - accuracy: 0.0714\n",
      "Epoch 00001: accuracy improved from 0.07140 to 0.07152, saving model to model.best.h5\n",
      " 55/141 [==========>...................] - ETA: 1:52 - loss: 2.4460 - accuracy: 0.0715\n",
      "Epoch 00001: accuracy improved from 0.07152 to 0.07163, saving model to model.best.h5\n",
      " 56/141 [==========>...................] - ETA: 1:51 - loss: 2.4369 - accuracy: 0.0716\n",
      "Epoch 00001: accuracy improved from 0.07163 to 0.07177, saving model to model.best.h5\n",
      " 57/141 [===========>..................] - ETA: 1:49 - loss: 2.4284 - accuracy: 0.0718\n",
      "Epoch 00001: accuracy improved from 0.07177 to 0.07190, saving model to model.best.h5\n",
      " 58/141 [===========>..................] - ETA: 1:48 - loss: 2.4193 - accuracy: 0.0719\n",
      "Epoch 00001: accuracy improved from 0.07190 to 0.07207, saving model to model.best.h5\n",
      " 59/141 [===========>..................] - ETA: 1:47 - loss: 2.4102 - accuracy: 0.0721\n",
      "Epoch 00001: accuracy improved from 0.07207 to 0.07221, saving model to model.best.h5\n",
      " 60/141 [===========>..................] - ETA: 1:46 - loss: 2.4010 - accuracy: 0.0722\n",
      "Epoch 00001: accuracy improved from 0.07221 to 0.07231, saving model to model.best.h5\n",
      " 61/141 [===========>..................] - ETA: 1:45 - loss: 2.3926 - accuracy: 0.0723\n",
      "Epoch 00001: accuracy improved from 0.07231 to 0.07245, saving model to model.best.h5\n",
      " 62/141 [============>.................] - ETA: 1:43 - loss: 2.3838 - accuracy: 0.0725\n",
      "Epoch 00001: accuracy improved from 0.07245 to 0.07255, saving model to model.best.h5\n",
      " 63/141 [============>.................] - ETA: 1:42 - loss: 2.3762 - accuracy: 0.0726\n",
      "Epoch 00001: accuracy improved from 0.07255 to 0.07259, saving model to model.best.h5\n",
      " 64/141 [============>.................] - ETA: 1:40 - loss: 2.3676 - accuracy: 0.0726\n",
      "Epoch 00001: accuracy improved from 0.07259 to 0.07270, saving model to model.best.h5\n",
      " 65/141 [============>.................] - ETA: 1:39 - loss: 2.3607 - accuracy: 0.0727\n",
      "Epoch 00001: accuracy improved from 0.07270 to 0.07279, saving model to model.best.h5\n",
      " 66/141 [=============>................] - ETA: 1:38 - loss: 2.3549 - accuracy: 0.0728\n",
      "Epoch 00001: accuracy improved from 0.07279 to 0.07285, saving model to model.best.h5\n",
      " 67/141 [=============>................] - ETA: 1:36 - loss: 2.3482 - accuracy: 0.0729\n",
      "Epoch 00001: accuracy improved from 0.07285 to 0.07292, saving model to model.best.h5\n",
      " 68/141 [=============>................] - ETA: 1:35 - loss: 2.3400 - accuracy: 0.0729\n",
      "Epoch 00001: accuracy improved from 0.07292 to 0.07297, saving model to model.best.h5\n",
      " 69/141 [=============>................] - ETA: 1:33 - loss: 2.3328 - accuracy: 0.0730\n",
      "Epoch 00001: accuracy improved from 0.07297 to 0.07307, saving model to model.best.h5\n",
      " 70/141 [=============>................] - ETA: 1:32 - loss: 2.3267 - accuracy: 0.0731\n",
      "Epoch 00001: accuracy improved from 0.07307 to 0.07317, saving model to model.best.h5\n",
      " 71/141 [==============>...............] - ETA: 1:30 - loss: 2.3201 - accuracy: 0.0732\n",
      "Epoch 00001: accuracy improved from 0.07317 to 0.07326, saving model to model.best.h5\n",
      " 72/141 [==============>...............] - ETA: 1:29 - loss: 2.3126 - accuracy: 0.0733\n",
      "Epoch 00001: accuracy improved from 0.07326 to 0.07332, saving model to model.best.h5\n",
      " 73/141 [==============>...............] - ETA: 1:28 - loss: 2.3061 - accuracy: 0.0733\n",
      "Epoch 00001: accuracy improved from 0.07332 to 0.07343, saving model to model.best.h5\n",
      " 74/141 [==============>...............] - ETA: 1:26 - loss: 2.2989 - accuracy: 0.0734\n",
      "Epoch 00001: accuracy did not improve from 0.07343\n",
      " 75/141 [==============>...............] - ETA: 1:25 - loss: 2.2922 - accuracy: 0.0733\n",
      "Epoch 00001: accuracy did not improve from 0.07343\n",
      " 76/141 [===============>..............] - ETA: 1:23 - loss: 2.2858 - accuracy: 0.0733\n",
      "Epoch 00001: accuracy did not improve from 0.07343\n",
      " 77/141 [===============>..............] - ETA: 1:22 - loss: 2.2795 - accuracy: 0.0732\n",
      "Epoch 00001: accuracy did not improve from 0.07343\n",
      " 78/141 [===============>..............] - ETA: 1:21 - loss: 2.2731 - accuracy: 0.0731\n",
      "Epoch 00001: accuracy did not improve from 0.07343\n",
      " 79/141 [===============>..............] - ETA: 1:19 - loss: 2.2679 - accuracy: 0.0730\n",
      "Epoch 00001: accuracy did not improve from 0.07343\n",
      " 80/141 [================>.............] - ETA: 1:18 - loss: 2.2615 - accuracy: 0.0729\n",
      "Epoch 00001: accuracy did not improve from 0.07343\n",
      " 81/141 [================>.............] - ETA: 1:16 - loss: 2.2558 - accuracy: 0.0728\n",
      "Epoch 00001: accuracy did not improve from 0.07343\n",
      " 82/141 [================>.............] - ETA: 1:15 - loss: 2.2497 - accuracy: 0.0728\n",
      "Epoch 00001: accuracy did not improve from 0.07343\n",
      " 83/141 [================>.............] - ETA: 1:13 - loss: 2.2445 - accuracy: 0.0727\n",
      "Epoch 00001: accuracy did not improve from 0.07343\n",
      " 84/141 [================>.............] - ETA: 1:12 - loss: 2.2393 - accuracy: 0.0726\n",
      "Epoch 00001: accuracy did not improve from 0.07343\n",
      " 85/141 [=================>............] - ETA: 1:11 - loss: 2.2343 - accuracy: 0.0726\n",
      "Epoch 00001: accuracy did not improve from 0.07343\n",
      " 86/141 [=================>............] - ETA: 1:10 - loss: 2.2288 - accuracy: 0.0725\n",
      "Epoch 00001: accuracy did not improve from 0.07343\n",
      " 87/141 [=================>............] - ETA: 1:08 - loss: 2.2235 - accuracy: 0.0724\n",
      "Epoch 00001: accuracy did not improve from 0.07343\n",
      " 88/141 [=================>............] - ETA: 1:07 - loss: 2.2194 - accuracy: 0.0724\n",
      "Epoch 00001: accuracy did not improve from 0.07343\n",
      " 89/141 [=================>............] - ETA: 1:06 - loss: 2.2147 - accuracy: 0.0723\n",
      "Epoch 00001: accuracy did not improve from 0.07343\n",
      " 90/141 [==================>...........] - ETA: 1:04 - loss: 2.2099 - accuracy: 0.0722\n",
      "Epoch 00001: accuracy did not improve from 0.07343\n",
      " 91/141 [==================>...........] - ETA: 1:03 - loss: 2.2053 - accuracy: 0.0722\n",
      "Epoch 00001: accuracy did not improve from 0.07343\n",
      " 92/141 [==================>...........] - ETA: 1:02 - loss: 2.2015 - accuracy: 0.0721\n",
      "Epoch 00001: accuracy did not improve from 0.07343\n",
      " 93/141 [==================>...........] - ETA: 1:00 - loss: 2.1967 - accuracy: 0.0720\n",
      "Epoch 00001: accuracy did not improve from 0.07343\n",
      " 94/141 [===================>..........] - ETA: 59s - loss: 2.1927 - accuracy: 0.0720 \n",
      "Epoch 00001: accuracy did not improve from 0.07343\n",
      " 95/141 [===================>..........] - ETA: 58s - loss: 2.1892 - accuracy: 0.0719\n",
      "Epoch 00001: accuracy did not improve from 0.07343\n",
      " 96/141 [===================>..........] - ETA: 56s - loss: 2.1854 - accuracy: 0.0719\n",
      "Epoch 00001: accuracy did not improve from 0.07343\n",
      " 97/141 [===================>..........] - ETA: 55s - loss: 2.1817 - accuracy: 0.0718\n",
      "Epoch 00001: accuracy did not improve from 0.07343\n",
      " 98/141 [===================>..........] - ETA: 54s - loss: 2.1773 - accuracy: 0.0718\n",
      "Epoch 00001: accuracy did not improve from 0.07343\n",
      " 99/141 [====================>.........] - ETA: 52s - loss: 2.1740 - accuracy: 0.0717\n",
      "Epoch 00001: accuracy did not improve from 0.07343\n",
      "100/141 [====================>.........] - ETA: 51s - loss: 2.1702 - accuracy: 0.0717\n",
      "Epoch 00001: accuracy did not improve from 0.07343\n",
      "101/141 [====================>.........] - ETA: 50s - loss: 2.1662 - accuracy: 0.0716\n",
      "Epoch 00001: accuracy did not improve from 0.07343\n",
      "102/141 [====================>.........] - ETA: 48s - loss: 2.1624 - accuracy: 0.0716\n",
      "Epoch 00001: accuracy did not improve from 0.07343\n",
      "103/141 [====================>.........] - ETA: 47s - loss: 2.1591 - accuracy: 0.0715\n",
      "Epoch 00001: accuracy did not improve from 0.07343\n",
      "104/141 [=====================>........] - ETA: 46s - loss: 2.1559 - accuracy: 0.0715\n",
      "Epoch 00001: accuracy did not improve from 0.07343\n",
      "105/141 [=====================>........] - ETA: 44s - loss: 2.1528 - accuracy: 0.0714\n",
      "Epoch 00001: accuracy did not improve from 0.07343\n",
      "106/141 [=====================>........] - ETA: 43s - loss: 2.1494 - accuracy: 0.0714\n",
      "Epoch 00001: accuracy did not improve from 0.07343\n",
      "107/141 [=====================>........] - ETA: 42s - loss: 2.1459 - accuracy: 0.0713\n",
      "Epoch 00001: accuracy did not improve from 0.07343\n",
      "108/141 [=====================>........] - ETA: 41s - loss: 2.1426 - accuracy: 0.0713\n",
      "Epoch 00001: accuracy did not improve from 0.07343\n",
      "109/141 [======================>.......] - ETA: 39s - loss: 2.1396 - accuracy: 0.0713\n",
      "Epoch 00001: accuracy did not improve from 0.07343\n",
      "110/141 [======================>.......] - ETA: 38s - loss: 2.1360 - accuracy: 0.0712\n",
      "Epoch 00001: accuracy did not improve from 0.07343\n",
      "111/141 [======================>.......] - ETA: 37s - loss: 2.1325 - accuracy: 0.0712\n",
      "Epoch 00001: accuracy did not improve from 0.07343\n",
      "112/141 [======================>.......] - ETA: 35s - loss: 2.1294 - accuracy: 0.0711\n",
      "Epoch 00001: accuracy did not improve from 0.07343\n",
      "113/141 [=======================>......] - ETA: 34s - loss: 2.1259 - accuracy: 0.0711\n",
      "Epoch 00001: accuracy did not improve from 0.07343\n",
      "114/141 [=======================>......] - ETA: 33s - loss: 2.1232 - accuracy: 0.0711\n",
      "Epoch 00001: accuracy did not improve from 0.07343\n",
      "115/141 [=======================>......] - ETA: 32s - loss: 2.1206 - accuracy: 0.0710\n",
      "Epoch 00001: accuracy did not improve from 0.07343\n",
      "116/141 [=======================>......] - ETA: 30s - loss: 2.1179 - accuracy: 0.0710\n",
      "Epoch 00001: accuracy did not improve from 0.07343\n",
      "117/141 [=======================>......] - ETA: 29s - loss: 2.1152 - accuracy: 0.0709\n",
      "Epoch 00001: accuracy did not improve from 0.07343\n",
      "118/141 [========================>.....] - ETA: 28s - loss: 2.1122 - accuracy: 0.0709\n",
      "Epoch 00001: accuracy did not improve from 0.07343\n",
      "119/141 [========================>.....] - ETA: 27s - loss: 2.1089 - accuracy: 0.0709\n",
      "Epoch 00001: accuracy did not improve from 0.07343\n",
      "120/141 [========================>.....] - ETA: 25s - loss: 2.1055 - accuracy: 0.0708\n",
      "Epoch 00001: accuracy did not improve from 0.07343\n",
      "121/141 [========================>.....] - ETA: 24s - loss: 2.1028 - accuracy: 0.0708\n",
      "Epoch 00001: accuracy did not improve from 0.07343\n",
      "122/141 [========================>.....] - ETA: 23s - loss: 2.1008 - accuracy: 0.0708\n",
      "Epoch 00001: accuracy did not improve from 0.07343\n",
      "123/141 [=========================>....] - ETA: 22s - loss: 2.0972 - accuracy: 0.0707\n",
      "Epoch 00001: accuracy did not improve from 0.07343\n",
      "124/141 [=========================>....] - ETA: 20s - loss: 2.0946 - accuracy: 0.0707\n",
      "Epoch 00001: accuracy did not improve from 0.07343\n",
      "125/141 [=========================>....] - ETA: 19s - loss: 2.0919 - accuracy: 0.0707\n",
      "Epoch 00001: accuracy did not improve from 0.07343\n",
      "126/141 [=========================>....] - ETA: 18s - loss: 2.0897 - accuracy: 0.0706\n",
      "Epoch 00001: accuracy did not improve from 0.07343\n",
      "127/141 [==========================>...] - ETA: 17s - loss: 2.0873 - accuracy: 0.0706\n",
      "Epoch 00001: accuracy did not improve from 0.07343\n",
      "128/141 [==========================>...] - ETA: 15s - loss: 2.0851 - accuracy: 0.0706\n",
      "Epoch 00001: accuracy did not improve from 0.07343\n",
      "129/141 [==========================>...] - ETA: 14s - loss: 2.0832 - accuracy: 0.0705\n",
      "Epoch 00001: accuracy did not improve from 0.07343\n",
      "130/141 [==========================>...] - ETA: 13s - loss: 2.0803 - accuracy: 0.0705\n",
      "Epoch 00001: accuracy did not improve from 0.07343\n",
      "131/141 [==========================>...] - ETA: 12s - loss: 2.0779 - accuracy: 0.0705\n",
      "Epoch 00001: accuracy did not improve from 0.07343\n",
      "132/141 [===========================>..] - ETA: 10s - loss: 2.0754 - accuracy: 0.0705\n",
      "Epoch 00001: accuracy did not improve from 0.07343\n",
      "133/141 [===========================>..] - ETA: 9s - loss: 2.0726 - accuracy: 0.0704 \n",
      "Epoch 00001: accuracy did not improve from 0.07343\n",
      "134/141 [===========================>..] - ETA: 8s - loss: 2.0708 - accuracy: 0.0704\n",
      "Epoch 00001: accuracy did not improve from 0.07343\n",
      "135/141 [===========================>..] - ETA: 7s - loss: 2.0683 - accuracy: 0.0704\n",
      "Epoch 00001: accuracy did not improve from 0.07343\n",
      "136/141 [===========================>..] - ETA: 6s - loss: 2.0658 - accuracy: 0.0703\n",
      "Epoch 00001: accuracy did not improve from 0.07343\n",
      "137/141 [============================>.] - ETA: 4s - loss: 2.0637 - accuracy: 0.0703\n",
      "Epoch 00001: accuracy did not improve from 0.07343\n",
      "138/141 [============================>.] - ETA: 3s - loss: 2.0613 - accuracy: 0.0703\n",
      "Epoch 00001: accuracy did not improve from 0.07343\n",
      "139/141 [============================>.] - ETA: 2s - loss: 2.0591 - accuracy: 0.0703\n",
      "Epoch 00001: accuracy did not improve from 0.07343\n",
      "140/141 [============================>.] - ETA: 1s - loss: 2.0572 - accuracy: 0.0702\n",
      "Epoch 00001: accuracy did not improve from 0.07343\n",
      "141/141 [==============================] - 175s 1s/step - loss: 2.0561 - accuracy: 0.0702 - val_loss: 1.8656 - val_accuracy: 0.0667\b\b\b\b\b\b\b\b\b\b\b\b\b\b\b\b\b\b\b\b\b\b\b\b\b\b\b\b\b\b\b\b\b\b\b\b\b\n"
     ]
    }
   ],
   "source": [
    "from keras.callbacks import ModelCheckpoint\n",
    "\n",
    "filepath = 'model.best.h5'\n",
    "# 有一次提升, 则覆盖一次.\n",
    "checkpoint = ModelCheckpoint(filepath, monitor='accuracy', verbose=1, save_best_only=True, mode='max', save_freq=1)\n",
    "callbacks_list = [checkpoint]\n",
    "# https://keras.io/api/callbacks/model_checkpoint/\n",
    "\n",
    "\n",
    "history = model.fit(x=[encoder_input_data, decoder_input_data], y=decoder_output_data,\n",
    "                    batch_size=128, epochs=50, validation_split=0.1,\n",
    "                    callbacks=callbacks_list)\n",
    "model.save('model.h5')"
   ],
   "metadata": {
    "collapsed": false,
    "pycharm": {
     "name": "#%%\n"
    }
   }
  },
  {
   "cell_type": "code",
   "execution_count": 10,
   "outputs": [
    {
     "data": {
      "text/plain": "<Figure size 432x288 with 1 Axes>",
      "image/png": "[encoded data removed]"
     },
     "metadata": {
      "needs_background": "light"
     },
     "output_type": "display_data"
    },
    {
     "data": {
      "text/plain": "<Figure size 432x288 with 1 Axes>",
      "image/png": "[encoded data removed]"
     },
     "metadata": {
      "needs_background": "light"
     },
     "output_type": "display_data"
    }
   ],
   "source": [
    "import pandas as pd\n",
    "from matplotlib import pyplot as plt\n",
    "\n",
    "loss = history.history['loss']\n",
    "val_loss = history.history['val_loss']\n",
    "acc = history.history['accuracy']\n",
    "val_acc = history.history['val_accuracy']\n",
    "\n",
    "plt.plot(loss, label='train Loss')\n",
    "plt.plot(val_loss, label='valid Loss')\n",
    "plt.title('Training and Validation Loss')\n",
    "plt.legend()\n",
    "plt.grid()\n",
    "plt.show()\n",
    "\n",
    "plt.plot(acc, label='train Acc')\n",
    "plt.plot(val_acc, label='valid Acc')\n",
    "plt.title('Training and Validation Accuracy')\n",
    "plt.legend()\n",
    "plt.grid()\n",
    "plt.show()"
   ],
   "metadata": {
    "collapsed": false,
    "pycharm": {
     "name": "#%%\n"
    }
   }
  },
  {
   "cell_type": "code",
   "execution_count": 11,
   "outputs": [],
   "source": [
    "from keras.models import load_model\n",
    "model = load_model('model.best.h5')\n",
    "\n",
    "encoder_model = Model(encoder_inputs, encoder_states) # 输入（带embedding），输出思想向量\n",
    "\n",
    "decoder_state_input_h = Input(shape=(rnn_size,))\n",
    "decoder_state_input_c = Input(shape=(rnn_size,))\n",
    "decoder_states_inputs = [decoder_state_input_h, decoder_state_input_c]\n",
    "decoder_outputs_inf, state_h_inf, state_c_inf = decoder_lstm(decoder_after_embedding,\n",
    "                                                             initial_state=decoder_states_inputs)\n",
    "decoder_states_inf = [state_h_inf, state_c_inf]\n",
    "decoder_outputs_inf = decoder_dense(decoder_outputs_inf)"
   ],
   "metadata": {
    "collapsed": false,
    "pycharm": {
     "name": "#%%\n"
    }
   }
  },
  {
   "cell_type": "code",
   "execution_count": 12,
   "outputs": [],
   "source": [
    "decoder_model = Model(\n",
    "    [decoder_inputs] + decoder_states_inputs,\n",
    "    [decoder_outputs_inf] + decoder_states_inf\n",
    ")\n"
   ],
   "metadata": {
    "collapsed": false,
    "pycharm": {
     "name": "#%%\n"
    }
   }
  },
  {
   "cell_type": "code",
   "execution_count": 14,
   "outputs": [
    {
     "name": "stdout",
     "output_type": "stream",
     "text": [
      " _END\n"
     ]
    }
   ],
   "source": [
    "# 采样\n",
    "def decode_sequence(input_seq):\n",
    "    states_value = encoder_model.predict(input_seq)\n",
    "    target_seq = np.zeros((1, 1))\n",
    "    target_seq[0, 0] = outputToken_idx['BEGIN_']\n",
    "    stop = False\n",
    "    decoded_sentence = ''\n",
    "    while not stop:\n",
    "        output_tokens, h, c = decoder_model.predict(\n",
    "            [target_seq] + states_value)\n",
    "        sampled_token_idx = np.argmax(output_tokens)\n",
    "        sampled_word = idx_outputToken[sampled_token_idx]\n",
    "        decoded_sentence += ' ' + sampled_word\n",
    "\n",
    "        if sampled_word == '_END' or len(decoded_sentence) > 60:\n",
    "            stop = True\n",
    "        target_seq = np.zeros((1, 1))\n",
    "        target_seq[0, 0] = sampled_token_idx\n",
    "        # Update states\n",
    "        states_value = [h, c]\n",
    "\n",
    "    return decoded_sentence\n",
    "\n",
    "\n",
    "# 简单测试 采样\n",
    "text_to_translate = 'Are you happy ?'\n",
    "encoder_input_to_translate = np.zeros(\n",
    "    (1, max_input_seq_len),\n",
    "    dtype=np.float32)\n",
    "for t, word in enumerate(text_to_translate.split()):\n",
    "    encoder_input_to_translate[0, t] = inputToken_idx[word]\n",
    "\n",
    "print(decode_sequence(encoder_input_to_translate))"
   ],
   "metadata": {
    "collapsed": false,
    "pycharm": {
     "name": "#%%\n"
    }
   }
  },
  {
   "cell_type": "code",
   "execution_count": null,
   "outputs": [],
   "source": [],
   "metadata": {
    "collapsed": false,
    "pycharm": {
     "name": "#%%\n"
    }
   }
  }
 ],
 "metadata": {
  "kernelspec": {
   "display_name": "Python 3",
   "language": "python",
   "name": "python3"
  },
  "language_info": {
   "codemirror_mode": {
    "name": "ipython",
    "version": 3
   },
   "file_extension": ".py",
   "mimetype": "text/x-python",
   "name": "python",
   "nbconvert_exporter": "python",
   "pygments_lexer": "ipython3",
   "version": "3.7.2"
  }
 },
 "nbformat": 4,
 "nbformat_minor": 1
}