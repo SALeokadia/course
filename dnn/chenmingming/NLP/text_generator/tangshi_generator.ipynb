{
 "cells": [
  {
   "cell_type": "code",
   "execution_count": 7,
   "metadata": {},
   "outputs": [
    {
     "name": "stdout",
     "output_type": "stream",
     "text": [
      "29405\n",
      "唐诗300首 1-50\n",
      "\n",
      "010杜甫：佳人\n",
      "\n",
      "绝代有佳人，幽居在空谷。\n",
      "自云良家子，零落依草木。\n",
      "关中昔丧乱，兄弟遭杀戮。\n",
      "官高何足论，不得收骨肉。\n",
      "世情恶衰歇，万事随转烛。\n",
      "夫婿轻薄儿，新人美如玉。\n",
      "合昏尚知时，鸳鸯不独宿。\n",
      "但见新人笑，那闻旧人哭！\n",
      "在山泉水清，出山泉水浊。\n",
      "侍婢卖珠回，牵萝补茅屋。\n",
      "摘花不插发，采柏动盈掬。\n",
      "天寒翠袖薄，日暮倚修竹。\n",
      "\n",
      "\n"
     ]
    }
   ],
   "source": [
    "# 读取文本\n",
    "file = \"tangshi300.txt\"\n",
    "with open(file,'r',encoding='utf-8') as f:\n",
    "    text = f.read()\n",
    "print(len(text))\n",
    "print(text[:180])"
   ]
  },
  {
   "cell_type": "code",
   "execution_count": 8,
   "metadata": {
    "pycharm": {
     "name": "#%%\n"
    }
   },
   "outputs": [
    {
     "name": "stdout",
     "output_type": "stream",
     "text": [
      "字和符号数量：2590\n"
     ]
    }
   ],
   "source": [
    "# 创建字符序号索引\n",
    "words = sorted(list(set(text)))\n",
    "print(\"字和符号数量：{}\".format(len(words)))\n",
    "\n",
    "word_idx = {w : i for (i, w) in enumerate(words)}\n",
    "idx_word = {i : w for (i, w) in enumerate(words)}"
   ]
  },
  {
   "cell_type": "code",
   "execution_count": 9,
   "metadata": {
    "pycharm": {
     "name": "#%%\n"
    }
   },
   "outputs": [
    {
     "name": "stdout",
     "output_type": "stream",
     "text": [
      "样本数量：29365\n"
     ]
    }
   ],
   "source": [
    "# 根据文本，创建序列\n",
    "sample_maxlen = 40\n",
    "sentences = []\n",
    "next_word = []\n",
    "for i in range(len(text)-sample_maxlen):\n",
    "    sentences.append(text[i : i+sample_maxlen])\n",
    "    next_word.append(text[i+sample_maxlen])\n",
    "print(\"样本数量：{}\".format(len(sentences)))"
   ]
  },
  {
   "cell_type": "code",
   "execution_count": 10,
   "metadata": {
    "pycharm": {
     "name": "#%%\n"
    }
   },
   "outputs": [],
   "source": [
    "# 将文本序列转化成数字序列（矩阵）,实际上就是一个one_hot 编码\n",
    "import numpy as np\n",
    "X = np.zeros((len(sentences), sample_maxlen, len(words)),dtype=np.bool)\n",
    "y = np.zeros((len(sentences), len(words)), dtype=np.bool)\n",
    "\n",
    "for i in range(len(sentences)):\n",
    "    for t, w in enumerate(sentences[i]):\n",
    "        X[i, t, word_idx[w]] = 1\n",
    "    y[i, word_idx[next_word[i]]] = 1"
   ]
  },
  {
   "cell_type": "code",
   "execution_count": 11,
   "metadata": {
    "pycharm": {
     "name": "#%%\n"
    }
   },
   "outputs": [],
   "source": [
    "# 建模\n",
    "from keras.models import Sequential\n",
    "from keras.layers import GRU, Dense\n",
    "from keras.optimizers import Adam\n",
    "model = Sequential()\n",
    "model.add(GRU(units=128,input_shape=(sample_maxlen, len(words))))\n",
    "model.add(Dense(units=len(words), activation='softmax'))\n",
    "\n",
    "optimizer = Adam(learning_rate=0.001)\n",
    "model.compile(optimizer=optimizer,\n",
    "              loss='categorical_crossentropy',\n",
    "              metrics=['accuracy'])\n",
    "# history = model.fit(X, y, batch_size=128,epochs=500)\n",
    "# model.save(\"tangshi_generator_model.h5\")\n",
    "\n",
    "# import pandas as pd\n",
    "# import matplotlib.pyplot as plt\n",
    "# pd.DataFrame(history.history).plot(figsize=(8, 5))\n",
    "# plt.grid(True)\n",
    "# plt.gca().set_ylim(0, 1) # set the vertical range to [0-1]\n",
    "# plt.show()"
   ]
  },
  {
   "cell_type": "code",
   "execution_count": 12,
   "metadata": {
    "pycharm": {
     "name": "#%%\n"
    }
   },
   "outputs": [
    {
     "name": "stdout",
     "output_type": "stream",
     "text": [
      "随机选取的开始句子为：送客，枫叶荻花秋瑟瑟。\n",
      "主人下马客在船，举酒欲饮无管弦。\n",
      "醉不成欢惨将别，别时茫\n"
     ]
    },
    {
     "data": {
      "text/plain": [
       "'送客，枫叶荻花秋瑟瑟。\\n主人下马客在船，举酒欲饮无管弦。\\n醉不成欢惨将别，别时茫茫江浸月。\\n忽闻水上琵琶声，主人忘归客不发。\\n寻声暗问弹者谁，琵琶声停欲语迟。\\n移船相近邀相见，添酒回灯重开宴。\\n千呼万唤始出来，犹抱琵琶半遮面。\\n转轴拨弦三两声，未成曲调先有情。\\n弦弦掩抑声声思，似'"
      ]
     },
     "execution_count": 12,
     "metadata": {},
     "output_type": "execute_result"
    }
   ],
   "source": [
    "def sampling(preds, temperature=1.0):\n",
    "    preds = np.asarray(preds).astype('float64')\n",
    "    preds = np.log(preds)/temperature\n",
    "    exp_preds = np.exp(preds)\n",
    "    preds = exp_preds/np.sum(exp_preds)\n",
    "    probs = np.random.multinomial(1, preds, 1)\n",
    "    return np.argmax(probs)\n",
    "\n",
    "from keras.models import load_model\n",
    "import random\n",
    "model = load_model(\"tangshi_generator_model.h5\")\n",
    "\n",
    "def generate_tangshi(model, generate_len=200):\n",
    "    start_idx = random.randint(0, len(text)-sample_maxlen-1)\n",
    "    generated = \"\"\n",
    "    sentence = text[start_idx : start_idx + sample_maxlen]\n",
    "    generated += sentence\n",
    "    print(\"随机选取的开始句子为：{}\".format(generated))\n",
    "    for i in range(generate_len):\n",
    "        x_pred = np.zeros((1, sample_maxlen, len(words)))\n",
    "        for t, w in enumerate(sentence):\n",
    "            x_pred[0, t, word_idx[w]] = 1\n",
    "        preds = model.predict(x_pred)[0]\n",
    "        next_idx = sampling(preds, 1)\n",
    "        next_w = idx_word[next_idx]\n",
    "        generated += next_w\n",
    "        sentence = sentence[1:] + next_w\n",
    "    return generated\n",
    "\n",
    "generate_tangshi(model, 100)"
   ]
  },
  {
   "cell_type": "code",
   "execution_count": 13,
   "metadata": {},
   "outputs": [
    {
     "name": "stdout",
     "output_type": "stream",
     "text": [
      "随机选取的开始句子为：住彼此无消息。\n",
      "人生有情泪沾臆，江水江花岂终极？\n",
      "黄昏胡骑尘满城，欲往城南望城北\n"
     ]
    },
    {
     "data": {
      "text/plain": [
       "'住彼此无消息。\\n人生有情泪沾臆，江水江花岂终极？\\n黄昏胡骑尘满城，欲往城南望城北。\\n\\n089杜甫：哀王孙\\n\\n长安城头头白乌，夜飞延秋门上呼。\\n又向人家啄大屋，屋底达官走避胡。\\n金鞭断折九马死，骨肉不待同驰驱。\\n腰下宝［“决”换王旁］青珊瑚，可怜王孙泣路隅！\\n问之不肯道姓名，但道困'"
      ]
     },
     "execution_count": 13,
     "metadata": {},
     "output_type": "execute_result"
    }
   ],
   "source": [
    "with open('test.txt','r',encoding='utf-8') as f:\n",
    "    test_text = f.read()\n",
    "    \n",
    "def generate_tangshi_test(model, generate_len=60):\n",
    "    generated = \"\"\n",
    "    sentence = test_text[0 : sample_maxlen]\n",
    "    generated += sentence\n",
    "    print(\"测试文本开始句子为：{}\".format(generated))\n",
    "    for i in range(generate_len):\n",
    "        x_pred = np.zeros((1, sample_maxlen, len(words)))\n",
    "        for t, w in enumerate(sentence):\n",
    "            x_pred[0, t, word_idx[w]] = 1\n",
    "        preds = model.predict(x_pred)[0]\n",
    "        next_idx = sampling(preds, 1)\n",
    "        next_w = idx_word[next_idx]\n",
    "        generated += next_w\n",
    "        sentence = sentence[1:] + next_w\n",
    "    return generated\n",
    "\n",
    "generate_tangshi_test(model, 100)"
   ]
  }
 ],
 "metadata": {
  "kernelspec": {
   "display_name": "Python 3",
   "language": "python",
   "name": "python3"
  },
  "language_info": {
   "codemirror_mode": {
    "name": "ipython",
    "version": 3
   },
   "file_extension": ".py",
   "mimetype": "text/x-python",
   "name": "python",
   "nbconvert_exporter": "python",
   "pygments_lexer": "ipython3",
   "version": "3.7.9"
  }
 },
 "nbformat": 4,
 "nbformat_minor": 1
}
