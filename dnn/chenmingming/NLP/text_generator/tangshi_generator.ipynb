{
 "cells": [
  {
   "cell_type": "code",
   "execution_count": 7,
   "metadata": {},
   "outputs": [
    {
     "name": "stdout",
     "output_type": "stream",
     "text": [
      "29405\n",
      "唐诗300首 1-50\n",
      "\n",
      "010杜甫：佳人\n",
      "\n",
      "绝代有佳人，幽居在空谷。\n",
      "自云良家子，零落依草木。\n",
      "关中昔丧乱，兄弟遭杀戮。\n",
      "官高何足论，不得收骨肉。\n",
      "世情恶衰歇，万事随转烛。\n",
      "夫婿轻薄儿，新人美如玉。\n",
      "合昏尚知时，鸳鸯不独宿。\n",
      "但见新人笑，那闻旧人哭！\n",
      "在山泉水清，出山泉水浊。\n",
      "侍婢卖珠回，牵萝补茅屋。\n",
      "摘花不插发，采柏动盈掬。\n",
      "天寒翠袖薄，日暮倚修竹。\n",
      "\n",
      "\n"
     ]
    }
   ],
   "source": [
    "# 读取文本\n",
    "file = \"tangshi300.txt\"\n",
    "with open(file,'r',encoding='utf-8') as f:\n",
    "    text = f.read()\n",
    "print(len(text))\n",
    "print(text[:180])"
   ]
  },
  {
   "cell_type": "code",
   "execution_count": 8,
   "metadata": {
    "pycharm": {
     "name": "#%%\n"
    }
   },
   "outputs": [
    {
     "name": "stdout",
     "output_type": "stream",
     "text": [
      "字和符号数量：2590\n"
     ]
    }
   ],
   "source": [
    "# 创建字符序号索引\n",
    "words = sorted(list(set(text)))\n",
    "print(\"字和符号数量：{}\".format(len(words)))\n",
    "\n",
    "word_idx = {w : i for (i, w) in enumerate(words)}\n",
    "idx_word = {i : w for (i, w) in enumerate(words)}"
   ]
  },
  {
   "cell_type": "code",
   "execution_count": 9,
   "metadata": {
    "pycharm": {
     "name": "#%%\n"
    }
   },
   "outputs": [
    {
     "name": "stdout",
     "output_type": "stream",
     "text": [
      "样本数量：29365\n"
     ]
    }
   ],
   "source": [
    "# 根据文本，创建序列\n",
    "sample_maxlen = 40\n",
    "sentences = []\n",
    "next_word = []\n",
    "for i in range(len(text)-sample_maxlen):\n",
    "    sentences.append(text[i : i+sample_maxlen])\n",
    "    next_word.append(text[i+sample_maxlen])\n",
    "print(\"样本数量：{}\".format(len(sentences)))"
   ]
  },
  {
   "cell_type": "code",
   "execution_count": 10,
   "metadata": {
    "pycharm": {
     "name": "#%%\n"
    }
   },
   "outputs": [],
   "source": [
    "# 将文本序列转化成数字序列（矩阵）,实际上就是一个one_hot 编码\n",
    "import numpy as np\n",
    "X = np.zeros((len(sentences), sample_maxlen, len(words)),dtype=np.bool)\n",
    "y = np.zeros((len(sentences), len(words)), dtype=np.bool)\n",
    "\n",
    "for i in range(len(sentences)):\n",
    "    for t, w in enumerate(sentences[i]):\n",
    "        X[i, t, word_idx[w]] = 1\n",
    "    y[i, word_idx[next_word[i]]] = 1"
   ]
  },
  {
   "cell_type": "code",
   "execution_count": 11,
   "metadata": {
    "pycharm": {
     "name": "#%%\n"
    }
   },
   "outputs": [],
   "source": [
    "# 建模\n",
    "from keras.models import Sequential\n",
    "from keras.layers import GRU, Dense\n",
    "from keras.optimizers import Adam\n",
    "model = Sequential()\n",
    "model.add(GRU(units=128,input_shape=(sample_maxlen, len(words))))\n",
    "model.add(Dense(units=len(words), activation='softmax'))\n",
    "\n",
    "optimizer = Adam(learning_rate=0.001)\n",
    "model.compile(optimizer=optimizer,\n",
    "              loss='categorical_crossentropy',\n",
    "              metrics=['accuracy'])\n",
    "# history = model.fit(X, y, batch_size=128,epochs=500)\n",
    "# model.save(\"tangshi_generator_model.h5\")\n",
    "\n",
    "# import pandas as pd\n",
    "# import matplotlib.pyplot as plt\n",
    "# pd.DataFrame(history.history).plot(figsize=(8, 5))\n",
    "# plt.grid(True)\n",
    "# plt.gca().set_ylim(0, 1) # set the vertical range to [0-1]\n",
    "# plt.show()"
   ]
  },
  {
   "cell_type": "code",
   "execution_count": 25,
   "metadata": {
    "pycharm": {
     "name": "#%%\n"
    }
   },
   "outputs": [
    {
     "name": "stdout",
     "output_type": "stream",
     "text": [
      "随机选取的开始句子为：急雪片阔，沙口石冻马蹄脱。\n",
      "亚相勤王甘苦辛，誓将报主静边尘。\n",
      "古来青史谁不见，今\n"
     ]
    },
    {
     "data": {
      "text/plain": [
       "'急雪片阔，沙口石冻马蹄脱。\\n亚相勤王甘苦辛，誓将报主静边尘。\\n古来青史谁不见，今见功名胜古人。\\n\\n059岑参：白雪歌送武判官归京\\n\\n北风卷地白草折，胡天八月即飞雪。\\n忽如一夜春风来，千树万树梨花开。\\n散入珠帘湿罗幕，狐裘不暖锦衾薄。\\n将军角弓不得控，都护铁衣冷犹著。\\n瀚海阑干百丈'"
      ]
     },
     "execution_count": 25,
     "metadata": {},
     "output_type": "execute_result"
    }
   ],
   "source": [
    "def sampling(preds, temperature=1.0):\n",
    "    preds = np.asarray(preds).astype('float64')\n",
    "    preds = np.log(preds)/temperature\n",
    "    exp_preds = np.exp(preds)\n",
    "    preds = exp_preds/np.sum(exp_preds)\n",
    "    probs = np.random.multinomial(1, preds, 1)\n",
    "# ··多项式分布，做n次试验，按照preds的概率分布（和=1），取出size组结果，如下\n",
    "#     >>> np.random.multinomial(20, [1/6.]*6, size=1)\n",
    "#             array([[4, 1, 7, 5, 2, 1]]) # random\n",
    "    return np.argmax(probs) # 返回概率最大的idx\n",
    "\n",
    "from keras.models import load_model\n",
    "import random\n",
    "model = load_model(\"tangshi_generator_model.h5\")\n",
    "\n",
    "def generate_tangshi(model, generate_len=200):\n",
    "    start_idx = random.randint(0, len(text)-sample_maxlen-1)\n",
    "    generated = \"\"\n",
    "    sentence = text[start_idx : start_idx + sample_maxlen]\n",
    "    generated += sentence\n",
    "    print(\"随机选取的开始句子为：{}\".format(generated))\n",
    "    for i in range(generate_len):\n",
    "        x_pred = np.zeros((1, sample_maxlen, len(words)))\n",
    "        for t, w in enumerate(sentence):\n",
    "            x_pred[0, t, word_idx[w]] = 1\n",
    "        preds = model.predict(x_pred)[0] # predict 返回 （1,2590）一个样本 2590个类预测值\n",
    "        next_idx = sampling(preds, 1)\n",
    "        next_w = idx_word[next_idx]\n",
    "        generated += next_w\n",
    "        sentence = sentence[1:] + next_w\n",
    "    return generated\n",
    "\n",
    "generate_tangshi(model, 100)"
   ]
  },
  {
   "cell_type": "code",
   "execution_count": 29,
   "metadata": {},
   "outputs": [
    {
     "name": "stdout",
     "output_type": "stream",
     "text": [
      "测试文本开始句子为：阿明用深度学习作诗一首\n",
      "问世间情为何物\n",
      "直教人生死相许\n",
      "两情若是久长时\n",
      "又岂在朝\n"
     ]
    },
    {
     "data": {
      "text/plain": [
       "'阿明用深度学习作诗一首\\n问世间情为何物\\n直教人生死相许\\n两情若是久长时\\n又岂在朝为丹善酒亦效换。\\n董夫子环猿连我，身上玉貌不系生。\\n武帝祠屋常邻近，一体君臣祭祀同。\\n\\n264崔颢：长干行二首之二\\n\\n家临九江水，来去九江侧。\\n同是长干人，生小不相识。\\n\\n255李白：玉阶怨\\n\\n玉阶生'"
      ]
     },
     "execution_count": 29,
     "metadata": {},
     "output_type": "execute_result"
    }
   ],
   "source": [
    "with open('test.txt','r',encoding='utf-8') as f:\n",
    "    test_text = f.read()\n",
    "    \n",
    "def generate_tangshi_test(model, generate_len=60):\n",
    "    generated = \"\"\n",
    "    sentence = test_text[0 : sample_maxlen]\n",
    "    generated += sentence\n",
    "    print(\"测试文本开始句子为：{}\".format(generated))\n",
    "    for i in range(generate_len):\n",
    "        x_pred = np.zeros((1, sample_maxlen, len(words)))\n",
    "        for t, w in enumerate(sentence):\n",
    "            x_pred[0, t, word_idx[w]] = 1\n",
    "        preds = model.predict(x_pred)[0]\n",
    "        next_idx = sampling(preds, 1)\n",
    "        next_w = idx_word[next_idx]\n",
    "        generated += next_w\n",
    "        sentence = sentence[1:] + next_w\n",
    "    return generated\n",
    "\n",
    "generate_tangshi_test(model, 100)"
   ]
  }
 ],
 "metadata": {
  "kernelspec": {
   "display_name": "Python 3",
   "language": "python",
   "name": "python3"
  },
  "language_info": {
   "codemirror_mode": {
    "name": "ipython",
    "version": 3
   },
   "file_extension": ".py",
   "mimetype": "text/x-python",
   "name": "python",
   "nbconvert_exporter": "python",
   "pygments_lexer": "ipython3",
   "version": "3.7.9"
  }
 },
 "nbformat": 4,
 "nbformat_minor": 1
}
