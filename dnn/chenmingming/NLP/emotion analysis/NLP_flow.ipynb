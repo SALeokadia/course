{
 "nbformat": 4,
 "nbformat_minor": 0,
 "metadata": {
  "colab": {
   "name": "NLP_flow.ipynb",
   "provenance": [],
   "collapsed_sections": [],
   "toc_visible": true
  },
  "kernelspec": {
   "name": "pycharm-969fe3dc",
   "language": "python",
   "display_name": "PyCharm (chenmingming)"
  },
  "accelerator": "GPU"
 },
 "cells": [
  {
   "cell_type": "code",
   "metadata": {
    "colab": {
     "base_uri": "https://localhost:8080/",
     "height": 34
    },
    "id": "kTZRLfdMp7Qu",
    "outputId": "7822dc38-9bb7-4659-e9a9-a0d7d60a0f9e"
   },
   "source": [
    "import tensorflow as tf\n",
    "tf.test.gpu_device_name()"
   ],
   "execution_count": 1,
   "outputs": [
    {
     "name": "stderr",
     "output_type": "stream",
     "text": [
      "C:\\Program Files\\Python37\\lib\\site-packages\\numpy\\_distributor_init.py:32: UserWarning: loaded more than 1 DLL from .libs:\n",
      "C:\\Program Files\\Python37\\lib\\site-packages\\numpy\\.libs\\libopenblas.PYQHXLVVQ7VESDPUVUADXEVJOBGHJPAY.gfortran-win_amd64.dll\n",
      "C:\\Program Files\\Python37\\lib\\site-packages\\numpy\\.libs\\libopenblas.TXA6YQSD3GCQQC22GEQ54J2UDCXDXHWN.gfortran-win_amd64.dll\n",
      "  stacklevel=1)\n"
     ]
    },
    {
     "data": {
      "text/plain": "''"
     },
     "execution_count": 1,
     "metadata": {},
     "output_type": "execute_result"
    }
   ]
  },
  {
   "cell_type": "code",
   "metadata": {
    "colab": {
     "base_uri": "https://localhost:8080/"
    },
    "id": "YA4tify8rmkR",
    "outputId": "0e7ab5f3-a8af-4894-9a18-4e37d186df1d"
   },
   "source": [
    "from google.colab import drive\n",
    "drive.mount('/content/gdrive')"
   ],
   "execution_count": 33,
   "outputs": [
    {
     "output_type": "stream",
     "text": [
      "Drive already mounted at /content/gdrive; to attempt to forcibly remount, call drive.mount(\"/content/gdrive\", force_remount=True).\n"
     ],
     "name": "stdout"
    }
   ]
  },
  {
   "cell_type": "code",
   "metadata": {
    "colab": {
     "base_uri": "https://localhost:8080/"
    },
    "id": "0XmE9t5_uOg9",
    "outputId": "1d0f45b4-2f4d-43a8-b48a-aa12ea2cbe49"
   },
   "source": [
    "cd \"/content/gdrive/MyDrive/Colab Notebooks/\""
   ],
   "execution_count": 34,
   "outputs": [
    {
     "output_type": "stream",
     "text": [
      "/content/gdrive/MyDrive/Colab Notebooks\n"
     ],
     "name": "stdout"
    }
   ]
  },
  {
   "cell_type": "code",
   "metadata": {
    "colab": {
     "base_uri": "https://localhost:8080/",
     "height": 34
    },
    "id": "0kBAuZjdvDGu",
    "outputId": "86de55a4-ece1-4ad0-bd69-1a208250193c"
   },
   "source": [
    "pwd"
   ],
   "execution_count": 35,
   "outputs": [
    {
     "output_type": "execute_result",
     "data": {
      "application/vnd.google.colaboratory.intrinsic+json": {
       "type": "string"
      },
      "text/plain": [
       "'/content/gdrive/MyDrive/Colab Notebooks'"
      ]
     },
     "metadata": {
      "tags": []
     },
     "execution_count": 35
    }
   ]
  },
  {
   "cell_type": "code",
   "metadata": {
    "colab": {
     "base_uri": "https://localhost:8080/"
    },
    "id": "-M3lwHaFtu7I",
    "outputId": "3687b5ad-a680-436c-a298-dacee78a371b"
   },
   "source": [
    "!unzip yelp_labelled.zip"
   ],
   "execution_count": 36,
   "outputs": [
    {
     "output_type": "stream",
     "text": [
      "Archive:  yelp_labelled.zip\n",
      "replace yelp_labelled.txt? [y]es, [n]o, [A]ll, [N]one, [r]ename: y\n",
      "  inflating: yelp_labelled.txt       \n"
     ],
     "name": "stdout"
    }
   ]
  },
  {
   "cell_type": "code",
   "metadata": {
    "id": "h5KHJUWcuAE5"
   },
   "source": [
    "import numpy as np\n",
    "import pandas as pd\n",
    "\n",
    "data = pd.read_csv(\"yelp_labelled.txt\", sep='\\t', names=['sentence', 'label'])\n",
    "\n",
    "data.head() # 1000条数据\n",
    "\n",
    "# 数据 X 和 标签 y\n",
    "sentence = data['sentence'].values\n",
    "label = data['label'].values\n",
    "\n",
    "# 训练集 测试集拆分\n",
    "from sklearn.model_selection import train_test_split\n",
    "X_train, X_test, y_train, y_test = train_test_split(sentence, label, test_size=0.2, random_state=1)"
   ],
   "execution_count": 1,
   "outputs": [
    {
     "name": "stderr",
     "output_type": "stream",
     "text": [
      "C:\\Program Files\\Python37\\lib\\site-packages\\numpy\\_distributor_init.py:32: UserWarning: loaded more than 1 DLL from .libs:\n",
      "C:\\Program Files\\Python37\\lib\\site-packages\\numpy\\.libs\\libopenblas.PYQHXLVVQ7VESDPUVUADXEVJOBGHJPAY.gfortran-win_amd64.dll\n",
      "C:\\Program Files\\Python37\\lib\\site-packages\\numpy\\.libs\\libopenblas.TXA6YQSD3GCQQC22GEQ54J2UDCXDXHWN.gfortran-win_amd64.dll\n",
      "  stacklevel=1)\n"
     ]
    }
   ]
  },
  {
   "cell_type": "code",
   "metadata": {
    "id": "MVHd5LSLwYGC"
   },
   "source": [
    "max_features = 2000\n",
    "\n",
    "# 文本向量化\n",
    "from keras.preprocessing.text import Tokenizer\n",
    "tokenizer = Tokenizer(num_words=max_features)\n",
    "tokenizer.fit_on_texts(X_train) # 训练tokenizer\n",
    "X_train = tokenizer.texts_to_sequences(X_train) # 转成 [[ids...],[ids...],...]\n",
    "X_test = tokenizer.texts_to_sequences(X_test)\n",
    "vocab_size = len(tokenizer.word_index)+1 # +1 是因为index 0, 0 不对应任何词，用来pad\n",
    "\n",
    "maxlen = 50\n",
    "# pad 保证每个句子的长度相等\n",
    "from keras.preprocessing.sequence import pad_sequences\n",
    "X_train = pad_sequences(X_train, maxlen=maxlen, padding='post')\n",
    "# post 尾部补0，pre 前部补0\n",
    "X_test = pad_sequences(X_test, maxlen=maxlen, padding='post')"
   ],
   "execution_count": 2,
   "outputs": []
  },
  {
   "cell_type": "code",
   "metadata": {
    "colab": {
     "base_uri": "https://localhost:8080/",
     "height": 796
    },
    "id": "DAfrOB50x3eW",
    "outputId": "0d6b644c-7b0d-4c0a-ab72-76c609690fec"
   },
   "source": [
    "embed_dim = 256\n",
    "hidden_units = 64\n",
    "\n",
    "from keras.models import Model, Sequential\n",
    "from keras.layers import Dense, LSTM, Embedding, Bidirectional, Dropout\n",
    "model = Sequential()\n",
    "model.add(Embedding(input_dim=max_features,output_dim=embed_dim,\n",
    "                    input_length=maxlen))\n",
    "model.add(Bidirectional(LSTM(hidden_units)))\n",
    "model.add(Dropout(0.3))\n",
    "model.add(Dense(1, activation='sigmoid')) # 二分类sigmoid, 多分类 softmax\n",
    "\n",
    "model.compile(optimizer='adam', loss='binary_crossentropy',metrics=['accuracy'])\n",
    "model.summary()\n",
    "from keras.utils import plot_model\n",
    "plot_model(model, show_shapes=True, to_file='model.jpg') # 绘制模型结构到文件"
   ],
   "execution_count": 3,
   "outputs": [
    {
     "name": "stdout",
     "output_type": "stream",
     "text": [
      "Model: \"sequential\"\n",
      "_________________________________________________________________\n",
      "Layer (type)                 Output Shape              Param #   \n",
      "=================================================================\n",
      "embedding (Embedding)        (None, 50, 256)           463360    \n",
      "_________________________________________________________________\n",
      "bidirectional (Bidirectional (None, 128)               164352    \n",
      "_________________________________________________________________\n",
      "dropout (Dropout)            (None, 128)               0         \n",
      "_________________________________________________________________\n",
      "dense (Dense)                (None, 1)                 129       \n",
      "=================================================================\n",
      "Total params: 627,841\n",
      "Trainable params: 627,841\n",
      "Non-trainable params: 0\n",
      "_________________________________________________________________\n"
     ]
    },
    {
     "data": {
      "image/jpeg": "[encoded data removed]",
      "text/plain": "<IPython.core.display.Image object>"
     },
     "execution_count": 3,
     "metadata": {},
     "output_type": "execute_result"
    }
   ]
  },
  {
   "cell_type": "code",
   "metadata": {
    "colab": {
     "base_uri": "https://localhost:8080/",
     "height": 1000
    },
    "id": "zGMd-Anhz4Xa",
    "outputId": "ac33af2d-e3f6-4b5d-97f6-06dcbaec064e"
   },
   "source": [
    "history = model.fit(X_train,y_train,batch_size=64,\n",
    "             epochs=100,verbose=2,validation_split=0.1)\n",
    "# verbose 是否显示日志信息，0不显示，1显示进度条，2不显示进度条\n",
    "loss, accuracy = model.evaluate(X_train, y_train, verbose=1)\n",
    "print(\"训练集：loss {0:.3f}, 准确率：{1:.3f}\".format(loss, accuracy))\n",
    "loss, accuracy = model.evaluate(X_test, y_test, verbose=1)\n",
    "print(\"测试集：loss {0:.3f}, 准确率：{1:.3f}\".format(loss, accuracy))\n",
    "\n",
    "# 绘制训练曲线\n",
    "from matplotlib import pyplot as plt\n",
    "import pandas as pd\n",
    "his = pd.DataFrame(history.history)\n",
    "loss = history.history['loss']\n",
    "val_loss = history.history['val_loss']\n",
    "acc = history.history['accuracy']\n",
    "val_acc = history.history['val_accuracy']\n",
    "\n",
    "plt.plot(loss, label='train Loss')\n",
    "plt.plot(val_loss, label='valid Loss')\n",
    "plt.title('Training and Validation Loss')\n",
    "plt.legend()\n",
    "plt.grid()\n",
    "plt.show()\n",
    "\n",
    "plt.plot(acc, label='train Acc')\n",
    "plt.plot(val_acc, label='valid Acc')\n",
    "plt.title('Training and Validation Acc')\n",
    "plt.legend()\n",
    "plt.grid()\n",
    "plt.show()"
   ],
   "execution_count": 4,
   "outputs": [
    {
     "name": "stdout",
     "output_type": "stream",
     "text": [
      "Epoch 1/100\n",
      "12/12 - 1s - loss: 0.6920 - accuracy: 0.5278 - val_loss: 0.6863 - val_accuracy: 0.5625\n",
      "Epoch 2/100\n",
      "12/12 - 1s - loss: 0.6676 - accuracy: 0.5847 - val_loss: 0.6671 - val_accuracy: 0.6625\n",
      "Epoch 3/100\n",
      "12/12 - 1s - loss: 0.5861 - accuracy: 0.7778 - val_loss: 0.5956 - val_accuracy: 0.7250\n",
      "Epoch 4/100\n",
      "12/12 - 1s - loss: 0.4086 - accuracy: 0.8653 - val_loss: 0.4884 - val_accuracy: 0.7750\n",
      "Epoch 5/100\n",
      "12/12 - 1s - loss: 0.2947 - accuracy: 0.8917 - val_loss: 0.5210 - val_accuracy: 0.7500\n",
      "Epoch 6/100\n",
      "12/12 - 1s - loss: 0.2192 - accuracy: 0.9597 - val_loss: 0.5339 - val_accuracy: 0.7500\n",
      "Epoch 7/100\n",
      "12/12 - 1s - loss: 0.1251 - accuracy: 0.9806 - val_loss: 0.5501 - val_accuracy: 0.7250\n",
      "Epoch 8/100\n",
      "12/12 - 1s - loss: 0.0702 - accuracy: 0.9917 - val_loss: 0.5940 - val_accuracy: 0.7375\n",
      "Epoch 9/100\n",
      "12/12 - 1s - loss: 0.0420 - accuracy: 0.9958 - val_loss: 0.6157 - val_accuracy: 0.7500\n",
      "Epoch 10/100\n",
      "12/12 - 1s - loss: 0.0299 - accuracy: 0.9958 - val_loss: 0.6481 - val_accuracy: 0.7375\n",
      "Epoch 11/100\n",
      "12/12 - 1s - loss: 0.0209 - accuracy: 0.9986 - val_loss: 0.6645 - val_accuracy: 0.7875\n",
      "Epoch 12/100\n",
      "12/12 - 1s - loss: 0.0169 - accuracy: 0.9986 - val_loss: 0.6840 - val_accuracy: 0.7750\n",
      "Epoch 13/100\n",
      "12/12 - 1s - loss: 0.0140 - accuracy: 0.9986 - val_loss: 0.6796 - val_accuracy: 0.8000\n",
      "Epoch 14/100\n",
      "12/12 - 1s - loss: 0.0111 - accuracy: 1.0000 - val_loss: 0.7799 - val_accuracy: 0.7500\n",
      "Epoch 15/100\n",
      "12/12 - 1s - loss: 0.0148 - accuracy: 0.9972 - val_loss: 0.7682 - val_accuracy: 0.7625\n",
      "Epoch 16/100\n",
      "12/12 - 1s - loss: 0.0139 - accuracy: 0.9972 - val_loss: 0.8292 - val_accuracy: 0.7750\n",
      "Epoch 17/100\n",
      "12/12 - 1s - loss: 0.0134 - accuracy: 0.9972 - val_loss: 0.8204 - val_accuracy: 0.7875\n",
      "Epoch 18/100\n",
      "12/12 - 1s - loss: 0.0088 - accuracy: 0.9986 - val_loss: 0.8414 - val_accuracy: 0.7500\n",
      "Epoch 19/100\n",
      "12/12 - 1s - loss: 0.0082 - accuracy: 0.9986 - val_loss: 0.8542 - val_accuracy: 0.7625\n",
      "Epoch 20/100\n",
      "12/12 - 1s - loss: 0.0059 - accuracy: 1.0000 - val_loss: 0.8863 - val_accuracy: 0.7500\n",
      "Epoch 21/100\n",
      "12/12 - 1s - loss: 0.0071 - accuracy: 1.0000 - val_loss: 0.8297 - val_accuracy: 0.8000\n",
      "Epoch 22/100\n",
      "12/12 - 1s - loss: 0.0050 - accuracy: 1.0000 - val_loss: 0.9366 - val_accuracy: 0.7500\n",
      "Epoch 23/100\n",
      "12/12 - 1s - loss: 0.0034 - accuracy: 1.0000 - val_loss: 0.9911 - val_accuracy: 0.7625\n",
      "Epoch 24/100\n",
      "12/12 - 1s - loss: 0.0029 - accuracy: 1.0000 - val_loss: 1.0098 - val_accuracy: 0.7750\n",
      "Epoch 25/100\n",
      "12/12 - 1s - loss: 0.0037 - accuracy: 1.0000 - val_loss: 1.0426 - val_accuracy: 0.7500\n",
      "Epoch 26/100\n",
      "12/12 - 1s - loss: 0.0039 - accuracy: 0.9986 - val_loss: 1.0106 - val_accuracy: 0.7750\n",
      "Epoch 27/100\n",
      "12/12 - 1s - loss: 0.0029 - accuracy: 1.0000 - val_loss: 1.0074 - val_accuracy: 0.7625\n",
      "Epoch 28/100\n",
      "12/12 - 1s - loss: 0.0027 - accuracy: 1.0000 - val_loss: 0.9849 - val_accuracy: 0.7625\n",
      "Epoch 29/100\n",
      "12/12 - 1s - loss: 0.0021 - accuracy: 1.0000 - val_loss: 1.0280 - val_accuracy: 0.7625\n",
      "Epoch 30/100\n",
      "12/12 - 1s - loss: 0.0017 - accuracy: 1.0000 - val_loss: 1.0670 - val_accuracy: 0.7750\n",
      "Epoch 31/100\n",
      "12/12 - 1s - loss: 0.0016 - accuracy: 1.0000 - val_loss: 1.0937 - val_accuracy: 0.7750\n",
      "Epoch 32/100\n",
      "12/12 - 1s - loss: 0.0012 - accuracy: 1.0000 - val_loss: 1.1116 - val_accuracy: 0.7750\n",
      "Epoch 33/100\n",
      "12/12 - 1s - loss: 0.0014 - accuracy: 1.0000 - val_loss: 1.1231 - val_accuracy: 0.7625\n",
      "Epoch 34/100\n",
      "12/12 - 1s - loss: 0.0013 - accuracy: 1.0000 - val_loss: 1.1377 - val_accuracy: 0.7750\n",
      "Epoch 35/100\n",
      "12/12 - 1s - loss: 0.0012 - accuracy: 1.0000 - val_loss: 1.1491 - val_accuracy: 0.7750\n",
      "Epoch 36/100\n",
      "12/12 - 1s - loss: 0.0012 - accuracy: 1.0000 - val_loss: 1.1627 - val_accuracy: 0.7750\n",
      "Epoch 37/100\n",
      "12/12 - 1s - loss: 0.0012 - accuracy: 1.0000 - val_loss: 1.1747 - val_accuracy: 0.7750\n",
      "Epoch 38/100\n",
      "12/12 - 1s - loss: 0.0010 - accuracy: 1.0000 - val_loss: 1.1784 - val_accuracy: 0.7750\n",
      "Epoch 39/100\n",
      "12/12 - 1s - loss: 9.8235e-04 - accuracy: 1.0000 - val_loss: 1.1879 - val_accuracy: 0.7750\n",
      "Epoch 40/100\n",
      "12/12 - 1s - loss: 7.9451e-04 - accuracy: 1.0000 - val_loss: 1.2024 - val_accuracy: 0.7625\n",
      "Epoch 41/100\n",
      "12/12 - 1s - loss: 7.6846e-04 - accuracy: 1.0000 - val_loss: 1.2173 - val_accuracy: 0.7750\n",
      "Epoch 42/100\n",
      "12/12 - 1s - loss: 8.1981e-04 - accuracy: 1.0000 - val_loss: 1.2273 - val_accuracy: 0.7625\n",
      "Epoch 43/100\n",
      "12/12 - 1s - loss: 9.1207e-04 - accuracy: 1.0000 - val_loss: 1.2416 - val_accuracy: 0.7750\n",
      "Epoch 44/100\n",
      "12/12 - 1s - loss: 0.0010 - accuracy: 1.0000 - val_loss: 1.2453 - val_accuracy: 0.7625\n",
      "Epoch 45/100\n",
      "12/12 - 1s - loss: 6.2032e-04 - accuracy: 1.0000 - val_loss: 1.2518 - val_accuracy: 0.7750\n",
      "Epoch 46/100\n",
      "12/12 - 1s - loss: 6.2788e-04 - accuracy: 1.0000 - val_loss: 1.2591 - val_accuracy: 0.7750\n",
      "Epoch 47/100\n",
      "12/12 - 1s - loss: 6.3592e-04 - accuracy: 1.0000 - val_loss: 1.2739 - val_accuracy: 0.7750\n",
      "Epoch 48/100\n",
      "12/12 - 1s - loss: 5.2102e-04 - accuracy: 1.0000 - val_loss: 1.2892 - val_accuracy: 0.7625\n",
      "Epoch 49/100\n",
      "12/12 - 1s - loss: 5.2978e-04 - accuracy: 1.0000 - val_loss: 1.2952 - val_accuracy: 0.7625\n",
      "Epoch 50/100\n",
      "12/12 - 1s - loss: 4.7353e-04 - accuracy: 1.0000 - val_loss: 1.2988 - val_accuracy: 0.7750\n",
      "Epoch 51/100\n",
      "12/12 - 1s - loss: 5.4065e-04 - accuracy: 1.0000 - val_loss: 1.3194 - val_accuracy: 0.7750\n",
      "Epoch 52/100\n",
      "12/12 - 1s - loss: 5.2361e-04 - accuracy: 1.0000 - val_loss: 1.3250 - val_accuracy: 0.7625\n",
      "Epoch 53/100\n",
      "12/12 - 1s - loss: 6.4000e-04 - accuracy: 1.0000 - val_loss: 1.3292 - val_accuracy: 0.7750\n",
      "Epoch 54/100\n",
      "12/12 - 1s - loss: 6.6137e-04 - accuracy: 1.0000 - val_loss: 1.3194 - val_accuracy: 0.7625\n",
      "Epoch 55/100\n",
      "12/12 - 1s - loss: 4.4569e-04 - accuracy: 1.0000 - val_loss: 1.3198 - val_accuracy: 0.7625\n",
      "Epoch 56/100\n",
      "12/12 - 1s - loss: 4.3677e-04 - accuracy: 1.0000 - val_loss: 1.3237 - val_accuracy: 0.7750\n",
      "Epoch 57/100\n",
      "12/12 - 1s - loss: 4.7597e-04 - accuracy: 1.0000 - val_loss: 1.3231 - val_accuracy: 0.7750\n",
      "Epoch 58/100\n",
      "12/12 - 1s - loss: 4.7659e-04 - accuracy: 1.0000 - val_loss: 1.3246 - val_accuracy: 0.7625\n",
      "Epoch 59/100\n",
      "12/12 - 1s - loss: 3.7181e-04 - accuracy: 1.0000 - val_loss: 1.3360 - val_accuracy: 0.7750\n",
      "Epoch 60/100\n",
      "12/12 - 1s - loss: 3.5911e-04 - accuracy: 1.0000 - val_loss: 1.3483 - val_accuracy: 0.7750\n",
      "Epoch 61/100\n",
      "12/12 - 1s - loss: 3.5545e-04 - accuracy: 1.0000 - val_loss: 1.3623 - val_accuracy: 0.7750\n",
      "Epoch 62/100\n",
      "12/12 - 1s - loss: 3.9921e-04 - accuracy: 1.0000 - val_loss: 1.3801 - val_accuracy: 0.7750\n",
      "Epoch 63/100\n",
      "12/12 - 1s - loss: 3.9817e-04 - accuracy: 1.0000 - val_loss: 1.3901 - val_accuracy: 0.7625\n",
      "Epoch 64/100\n",
      "12/12 - 1s - loss: 3.1303e-04 - accuracy: 1.0000 - val_loss: 1.3978 - val_accuracy: 0.7750\n",
      "Epoch 65/100\n",
      "12/12 - 1s - loss: 4.4314e-04 - accuracy: 1.0000 - val_loss: 1.4186 - val_accuracy: 0.7750\n",
      "Epoch 66/100\n",
      "12/12 - 1s - loss: 3.8421e-04 - accuracy: 1.0000 - val_loss: 1.3917 - val_accuracy: 0.7875\n",
      "Epoch 67/100\n",
      "12/12 - 1s - loss: 4.7556e-04 - accuracy: 1.0000 - val_loss: 1.4031 - val_accuracy: 0.7750\n",
      "Epoch 68/100\n",
      "12/12 - 1s - loss: 3.7133e-04 - accuracy: 1.0000 - val_loss: 1.3809 - val_accuracy: 0.7750\n",
      "Epoch 69/100\n",
      "12/12 - 1s - loss: 2.6005e-04 - accuracy: 1.0000 - val_loss: 1.3850 - val_accuracy: 0.7750\n",
      "Epoch 70/100\n",
      "12/12 - 1s - loss: 2.7052e-04 - accuracy: 1.0000 - val_loss: 1.3939 - val_accuracy: 0.7625\n",
      "Epoch 71/100\n",
      "12/12 - 1s - loss: 2.8078e-04 - accuracy: 1.0000 - val_loss: 1.4039 - val_accuracy: 0.7625\n",
      "Epoch 72/100\n",
      "12/12 - 1s - loss: 2.7156e-04 - accuracy: 1.0000 - val_loss: 1.4164 - val_accuracy: 0.7750\n",
      "Epoch 73/100\n",
      "12/12 - 1s - loss: 2.5665e-04 - accuracy: 1.0000 - val_loss: 1.4240 - val_accuracy: 0.7625\n",
      "Epoch 74/100\n",
      "12/12 - 1s - loss: 2.2537e-04 - accuracy: 1.0000 - val_loss: 1.4303 - val_accuracy: 0.7625\n",
      "Epoch 75/100\n",
      "12/12 - 1s - loss: 2.5879e-04 - accuracy: 1.0000 - val_loss: 1.4380 - val_accuracy: 0.7625\n",
      "Epoch 76/100\n",
      "12/12 - 1s - loss: 2.2933e-04 - accuracy: 1.0000 - val_loss: 1.4432 - val_accuracy: 0.7750\n",
      "Epoch 77/100\n",
      "12/12 - 1s - loss: 3.1291e-04 - accuracy: 1.0000 - val_loss: 1.4470 - val_accuracy: 0.7750\n",
      "Epoch 78/100\n",
      "12/12 - 1s - loss: 2.6635e-04 - accuracy: 1.0000 - val_loss: 1.4456 - val_accuracy: 0.7750\n",
      "Epoch 79/100\n",
      "12/12 - 1s - loss: 2.4419e-04 - accuracy: 1.0000 - val_loss: 1.4498 - val_accuracy: 0.7750\n",
      "Epoch 80/100\n",
      "12/12 - 1s - loss: 2.7458e-04 - accuracy: 1.0000 - val_loss: 1.4488 - val_accuracy: 0.7750\n",
      "Epoch 81/100\n",
      "12/12 - 1s - loss: 2.1906e-04 - accuracy: 1.0000 - val_loss: 1.4523 - val_accuracy: 0.7750\n",
      "Epoch 82/100\n",
      "12/12 - 1s - loss: 2.2363e-04 - accuracy: 1.0000 - val_loss: 1.4583 - val_accuracy: 0.7750\n",
      "Epoch 83/100\n",
      "12/12 - 1s - loss: 1.8160e-04 - accuracy: 1.0000 - val_loss: 1.4649 - val_accuracy: 0.7750\n",
      "Epoch 84/100\n",
      "12/12 - 1s - loss: 2.2107e-04 - accuracy: 1.0000 - val_loss: 1.4711 - val_accuracy: 0.7625\n",
      "Epoch 85/100\n",
      "12/12 - 1s - loss: 1.7827e-04 - accuracy: 1.0000 - val_loss: 1.4769 - val_accuracy: 0.7625\n",
      "Epoch 86/100\n",
      "12/12 - 1s - loss: 1.8578e-04 - accuracy: 1.0000 - val_loss: 1.4765 - val_accuracy: 0.7625\n",
      "Epoch 87/100\n",
      "12/12 - 1s - loss: 1.8023e-04 - accuracy: 1.0000 - val_loss: 1.4816 - val_accuracy: 0.7625\n",
      "Epoch 88/100\n",
      "12/12 - 1s - loss: 2.0705e-04 - accuracy: 1.0000 - val_loss: 1.4857 - val_accuracy: 0.7750\n",
      "Epoch 89/100\n",
      "12/12 - 1s - loss: 1.7869e-04 - accuracy: 1.0000 - val_loss: 1.4666 - val_accuracy: 0.7750\n",
      "Epoch 90/100\n",
      "12/12 - 1s - loss: 2.0902e-04 - accuracy: 1.0000 - val_loss: 1.5016 - val_accuracy: 0.7750\n",
      "Epoch 91/100\n",
      "12/12 - 1s - loss: 1.9698e-04 - accuracy: 1.0000 - val_loss: 1.4783 - val_accuracy: 0.7750\n",
      "Epoch 92/100\n",
      "12/12 - 1s - loss: 1.7902e-04 - accuracy: 1.0000 - val_loss: 1.4884 - val_accuracy: 0.7625\n",
      "Epoch 93/100\n",
      "12/12 - 1s - loss: 1.7029e-04 - accuracy: 1.0000 - val_loss: 1.4988 - val_accuracy: 0.7625\n",
      "Epoch 94/100\n",
      "12/12 - 1s - loss: 1.6492e-04 - accuracy: 1.0000 - val_loss: 1.5005 - val_accuracy: 0.7750\n",
      "Epoch 95/100\n",
      "12/12 - 1s - loss: 1.6601e-04 - accuracy: 1.0000 - val_loss: 1.5026 - val_accuracy: 0.7625\n",
      "Epoch 96/100\n",
      "12/12 - 1s - loss: 1.5854e-04 - accuracy: 1.0000 - val_loss: 1.5038 - val_accuracy: 0.7750\n",
      "Epoch 97/100\n",
      "12/12 - 1s - loss: 1.7219e-04 - accuracy: 1.0000 - val_loss: 1.5167 - val_accuracy: 0.7750\n",
      "Epoch 98/100\n",
      "12/12 - 1s - loss: 1.6954e-04 - accuracy: 1.0000 - val_loss: 1.5173 - val_accuracy: 0.7750\n",
      "Epoch 99/100\n",
      "12/12 - 1s - loss: 1.3299e-04 - accuracy: 1.0000 - val_loss: 1.5158 - val_accuracy: 0.7750\n",
      "Epoch 100/100\n",
      "12/12 - 1s - loss: 1.4899e-04 - accuracy: 1.0000 - val_loss: 1.5151 - val_accuracy: 0.7750\n",
      "25/25 [==============================] - 0s 9ms/step - loss: 0.1516 - accuracy: 0.9775\b\b\b\b\b\b\b\b\b\b\b\b\b\b\b\b\b\b\b\b\b\b\b\b\b\b\b\b\b\b\b\b\b\b\b\b\b\b\b\b\b\b\b\b\b\b\b\b\b\b\b\b\b\b\b\b\b\b\b\b\b\b\b\b\b\b\b\b\b\b\b\b\b\b\b\b\b\b\b\b\b\b\b\b\b\b\b\b\b\b\b\b\b\b\b\b\b\b\b\b\b\b\b\b\b\b\b\b\b\b\b\b\b\b\b\b\b\b\b\b\b\b\b\b\b\b\b\b\b\b\b\b\b\b\b\b\b\b\b\b\b\b\b\b\b\b\b\b\b\b\b\b\b\b\b\b\b\b\b\b\b\b\b\b\b\b\b\b\b\b\b\b\b\b\b\b\b\b\b\b\b\b\b\b\b\b\b\b\b\b\b\b\b\b\b\b\b\b\b\b\b\b\b\b\b\b\b\b\b\b\b\b\b\b\b\b\b\b\b\b\b\b\b\b\b\b\b\b\b\b\b\b\b\b\b\b\b\b\b\b\b\b\b\b\b\b\b\b\b\b\b\b\b\b\b\b\b\b\b\b\b\b\b\b\b\b\b\b\b\b\b\b\b\b\b\b\b\b\b\b\b\b\b\b\b\b\b\b\b\b\b\b\b\b\b\b\b\b\b\b\b\b\b\b\b\b\b\b\b\b\b\b\b\b\b\b\b\b\b\b\b\b\b\b\b\b\b\b\b\b\b\b\b\b\b\b\b\b\b\b\b\b\b\b\b\b\b\b\b\b\b\b\b\b\b\b\b\b\b\b\b\b\b\b\b\b\b\b\b\b\b\b\b\b\b\b\b\b\b\b\b\b\b\b\b\b\b\b\b\b\b\b\b\b\b\b\b\b\b\b\b\b\b\b\b\b\b\b\b\b\b\b\b\b\b\b\b\b\b\b\b\b\b\b\b\b\n",
      "训练集：loss 0.152, 准确率：0.978\n",
      "7/7 [==============================] - 0s 10ms/step - loss: 2.0947 - accuracy: 0.7350\b\b\b\b\b\b\b\b\b\b\b\b\b\b\b\b\b\b\b\b\b\b\b\b\b\b\b\b\b\b\b\b\b\b\b\b\b\b\b\b\b\b\b\b\b\b\b\b\b\b\b\b\b\b\b\b\b\b\b\b\b\b\b\b\b\b\b\b\b\b\b\b\b\b\b\b\b\b\b\b\b\b\b\b\b\b\b\b\b\b\b\b\b\b\b\b\b\b\b\b\b\b\b\b\b\b\b\b\b\b\b\b\b\b\b\b\b\b\b\b\b\b\b\b\b\b\b\b\b\b\b\b\b\b\b\b\b\b\b\b\b\b\b\b\b\b\b\b\b\b\b\b\b\b\b\n",
      "测试集：loss 2.095, 准确率：0.735\n"
     ]
    },
    {
     "data": {
      "text/plain": "<Figure size 432x288 with 1 Axes>",
      "image/png": "[encoded data removed]"
     },
     "metadata": {
      "needs_background": "light"
     },
     "output_type": "display_data"
    },
    {
     "data": {
      "text/plain": "<Figure size 432x288 with 1 Axes>",
      "image/png": "[encoded data removed]"
     },
     "metadata": {
      "needs_background": "light"
     },
     "output_type": "display_data"
    }
   ]
  },
  {
   "cell_type": "code",
   "metadata": {
    "colab": {
     "base_uri": "https://localhost:8080/",
     "height": 16
    },
    "id": "aW0HZRfq06UT",
    "outputId": "3ff1e397-2277-43b5-e3ee-0c57fa90bb73"
   },
   "source": [
    "model.save('trained_model.h5')\n",
    "\n",
    "import pickle\n",
    "with open('trained_tokenizer.pkl','wb') as f:\n",
    "    pickle.dump(tokenizer, f)\n",
    "\n",
    "# 下载到本地\n",
    "# from google.colab import files\n",
    "# files.download('trained_model.h5')\n",
    "# files.download('trained_tokenizer.pkl')"
   ],
   "execution_count": 5,
   "outputs": []
  },
  {
   "cell_type": "code",
   "metadata": {
    "id": "89QnNncU63OK"
   },
   "source": [],
   "execution_count": 18,
   "outputs": []
  },
  {
   "cell_type": "code",
   "metadata": {
    "id": "2RfW93l0_JZp"
   },
   "source": [],
   "execution_count": null,
   "outputs": []
  }
 ]
}