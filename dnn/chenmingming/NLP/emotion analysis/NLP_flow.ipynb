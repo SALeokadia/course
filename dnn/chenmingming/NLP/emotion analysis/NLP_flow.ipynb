{
 "nbformat": 4,
 "nbformat_minor": 0,
 "metadata": {
  "colab": {
   "name": "NLP_flow.ipynb",
   "provenance": [],
   "collapsed_sections": [],
   "toc_visible": true
  },
  "kernelspec": {
   "name": "pycharm-969fe3dc",
   "language": "python",
   "display_name": "PyCharm (chenmingming)"
  },
  "accelerator": "GPU"
 },
 "cells": [
  {
   "cell_type": "code",
   "metadata": {
    "colab": {
     "base_uri": "https://localhost:8080/",
     "height": 34
    },
    "id": "kTZRLfdMp7Qu",
    "outputId": "7822dc38-9bb7-4659-e9a9-a0d7d60a0f9e"
   },
   "source": [
    "import tensorflow as tf\n",
    "tf.test.gpu_device_name()"
   ],
   "execution_count": 1,
   "outputs": [
    {
     "name": "stderr",
     "output_type": "stream",
     "text": [
      "C:\\Program Files\\Python37\\lib\\site-packages\\numpy\\_distributor_init.py:32: UserWarning: loaded more than 1 DLL from .libs:\n",
      "C:\\Program Files\\Python37\\lib\\site-packages\\numpy\\.libs\\libopenblas.PYQHXLVVQ7VESDPUVUADXEVJOBGHJPAY.gfortran-win_amd64.dll\n",
      "C:\\Program Files\\Python37\\lib\\site-packages\\numpy\\.libs\\libopenblas.TXA6YQSD3GCQQC22GEQ54J2UDCXDXHWN.gfortran-win_amd64.dll\n",
      "  stacklevel=1)\n"
     ]
    },
    {
     "data": {
      "text/plain": "''"
     },
     "execution_count": 1,
     "metadata": {},
     "output_type": "execute_result"
    }
   ]
  },
  {
   "cell_type": "code",
   "metadata": {
    "colab": {
     "base_uri": "https://localhost:8080/"
    },
    "id": "YA4tify8rmkR",
    "outputId": "0e7ab5f3-a8af-4894-9a18-4e37d186df1d"
   },
   "source": [
    "from google.colab import drive\n",
    "drive.mount('/content/gdrive')"
   ],
   "execution_count": 33,
   "outputs": [
    {
     "output_type": "stream",
     "text": [
      "Drive already mounted at /content/gdrive; to attempt to forcibly remount, call drive.mount(\"/content/gdrive\", force_remount=True).\n"
     ],
     "name": "stdout"
    }
   ]
  },
  {
   "cell_type": "code",
   "metadata": {
    "colab": {
     "base_uri": "https://localhost:8080/"
    },
    "id": "0XmE9t5_uOg9",
    "outputId": "1d0f45b4-2f4d-43a8-b48a-aa12ea2cbe49"
   },
   "source": [
    "cd \"/content/gdrive/MyDrive/Colab Notebooks/\""
   ],
   "execution_count": 34,
   "outputs": [
    {
     "output_type": "stream",
     "text": [
      "/content/gdrive/MyDrive/Colab Notebooks\n"
     ],
     "name": "stdout"
    }
   ]
  },
  {
   "cell_type": "code",
   "metadata": {
    "colab": {
     "base_uri": "https://localhost:8080/",
     "height": 34
    },
    "id": "0kBAuZjdvDGu",
    "outputId": "86de55a4-ece1-4ad0-bd69-1a208250193c"
   },
   "source": [
    "pwd"
   ],
   "execution_count": 35,
   "outputs": [
    {
     "output_type": "execute_result",
     "data": {
      "application/vnd.google.colaboratory.intrinsic+json": {
       "type": "string"
      },
      "text/plain": [
       "'/content/gdrive/MyDrive/Colab Notebooks'"
      ]
     },
     "metadata": {
      "tags": []
     },
     "execution_count": 35
    }
   ]
  },
  {
   "cell_type": "code",
   "metadata": {
    "colab": {
     "base_uri": "https://localhost:8080/"
    },
    "id": "-M3lwHaFtu7I",
    "outputId": "3687b5ad-a680-436c-a298-dacee78a371b"
   },
   "source": [
    "!unzip yelp_labelled.zip"
   ],
   "execution_count": 36,
   "outputs": [
    {
     "output_type": "stream",
     "text": [
      "Archive:  yelp_labelled.zip\n",
      "replace yelp_labelled.txt? [y]es, [n]o, [A]ll, [N]one, [r]ename: y\n",
      "  inflating: yelp_labelled.txt       \n"
     ],
     "name": "stdout"
    }
   ]
  },
  {
   "cell_type": "code",
   "metadata": {
    "id": "h5KHJUWcuAE5"
   },
   "source": [
    "import numpy as np\n",
    "import pandas as pd\n",
    "\n",
    "data = pd.read_csv(\"yelp_labelled.txt\", sep='\\t', names=['sentence', 'label'])\n",
    "\n",
    "data.head() # 1000条数据\n",
    "\n",
    "# 数据 X 和 标签 y\n",
    "sentence = data['sentence'].values\n",
    "label = data['label'].values\n",
    "\n",
    "# 训练集 测试集拆分\n",
    "from sklearn.model_selection import train_test_split\n",
    "X_train, X_test, y_train, y_test = train_test_split(sentence, label, test_size=0.2, random_state=1)"
   ],
   "execution_count": 2,
   "outputs": []
  },
  {
   "cell_type": "code",
   "metadata": {
    "id": "MVHd5LSLwYGC"
   },
   "source": [
    "max_features = 2000\n",
    "\n",
    "# 文本向量化\n",
    "from keras.preprocessing.text import Tokenizer\n",
    "tokenizer = Tokenizer(num_words=max_features)\n",
    "tokenizer.fit_on_texts(X_train) # 训练tokenizer\n",
    "X_train = tokenizer.texts_to_sequences(X_train) # 转成 [[ids...],[ids...],...]\n",
    "X_test = tokenizer.texts_to_sequences(X_test)\n",
    "vocab_size = len(tokenizer.word_index)+1 # +1 是因为index 0, 0 不对应任何词，用来pad\n",
    "\n",
    "maxlen = 50\n",
    "# pad 保证每个句子的长度相等\n",
    "from keras.preprocessing.sequence import pad_sequences\n",
    "X_train = pad_sequences(X_train, maxlen=maxlen, padding='post')\n",
    "# post 尾部补0，pre 前部补0\n",
    "X_test = pad_sequences(X_test, maxlen=maxlen, padding='post')"
   ],
   "execution_count": 3,
   "outputs": []
  },
  {
   "cell_type": "code",
   "metadata": {
    "colab": {
     "base_uri": "https://localhost:8080/",
     "height": 796
    },
    "id": "DAfrOB50x3eW",
    "outputId": "0d6b644c-7b0d-4c0a-ab72-76c609690fec"
   },
   "source": [
    "embed_dim = 256\n",
    "hidden_units = 64\n",
    "\n",
    "from keras.models import Model, Sequential\n",
    "from keras.layers import Dense, LSTM, Embedding, Bidirectional, Dropout\n",
    "model = Sequential()\n",
    "model.add(Embedding(input_dim=max_features,output_dim=embed_dim,\n",
    "                    input_length=maxlen))\n",
    "model.add(Bidirectional(LSTM(hidden_units)))\n",
    "model.add(Dropout(0.3))\n",
    "model.add(Dense(1, activation='sigmoid')) # 二分类sigmoid, 多分类 softmax\n",
    "\n",
    "model.compile(optimizer='adam', loss='binary_crossentropy',metrics=['accuracy'])\n",
    "model.summary()\n",
    "from keras.utils import plot_model\n",
    "plot_model(model, show_shapes=True, to_file='model.jpg') # 绘制模型结构到文件"
   ],
   "execution_count": 4,
   "outputs": [
    {
     "name": "stdout",
     "output_type": "stream",
     "text": [
      "Model: \"sequential\"\n",
      "_________________________________________________________________\n",
      "Layer (type)                 Output Shape              Param #   \n",
      "=================================================================\n",
      "embedding (Embedding)        (None, 50, 256)           512000    \n",
      "_________________________________________________________________\n",
      "bidirectional (Bidirectional (None, 128)               164352    \n",
      "_________________________________________________________________\n",
      "dropout (Dropout)            (None, 128)               0         \n",
      "_________________________________________________________________\n",
      "dense (Dense)                (None, 1)                 129       \n",
      "=================================================================\n",
      "Total params: 676,481\n",
      "Trainable params: 676,481\n",
      "Non-trainable params: 0\n",
      "_________________________________________________________________\n"
     ]
    },
    {
     "data": {
      "image/jpeg": "[encoded data removed]",
      "text/plain": "<IPython.core.display.Image object>"
     },
     "execution_count": 4,
     "metadata": {},
     "output_type": "execute_result"
    }
   ]
  },
  {
   "cell_type": "code",
   "metadata": {
    "colab": {
     "base_uri": "https://localhost:8080/",
     "height": 1000
    },
    "id": "zGMd-Anhz4Xa",
    "outputId": "ac33af2d-e3f6-4b5d-97f6-06dcbaec064e"
   },
   "source": [
    "history = model.fit(X_train,y_train,batch_size=64,\n",
    "             epochs=100,verbose=2,validation_split=0.1)\n",
    "# verbose 是否显示日志信息，0不显示，1显示进度条，2不显示进度条\n",
    "loss, accuracy = model.evaluate(X_train, y_train, verbose=1)\n",
    "print(\"训练集：loss {0:.3f}, 准确率：{1:.3f}\".format(loss, accuracy))\n",
    "loss, accuracy = model.evaluate(X_test, y_test, verbose=1)\n",
    "print(\"测试集：loss {0:.3f}, 准确率：{1:.3f}\".format(loss, accuracy))\n",
    "\n",
    "# 绘制训练曲线\n",
    "from matplotlib import pyplot as plt\n",
    "import pandas as pd\n",
    "his = pd.DataFrame(history.history)\n",
    "loss = history.history['loss']\n",
    "val_loss = history.history['val_loss']\n",
    "acc = history.history['accuracy']\n",
    "val_acc = history.history['val_accuracy']\n",
    "\n",
    "plt.plot(loss, label='train Loss')\n",
    "plt.plot(val_loss, label='valid Loss')\n",
    "plt.title('Training and Validation Loss')\n",
    "plt.legend()\n",
    "plt.grid()\n",
    "plt.show()\n",
    "\n",
    "plt.plot(acc, label='train Acc')\n",
    "plt.plot(val_acc, label='valid Acc')\n",
    "plt.title('Training and Validation Acc')\n",
    "plt.legend()\n",
    "plt.grid()\n",
    "plt.show()"
   ],
   "execution_count": 5,
   "outputs": [
    {
     "name": "stdout",
     "output_type": "stream",
     "text": [
      "Epoch 1/100\n",
      "12/12 - 1s - loss: 0.6953 - accuracy: 0.5042 - val_loss: 0.6846 - val_accuracy: 0.5250\n",
      "Epoch 2/100\n",
      "12/12 - 1s - loss: 0.6668 - accuracy: 0.6944 - val_loss: 0.6749 - val_accuracy: 0.6000\n",
      "Epoch 3/100\n",
      "12/12 - 1s - loss: 0.5820 - accuracy: 0.7903 - val_loss: 0.6104 - val_accuracy: 0.7250\n",
      "Epoch 4/100\n",
      "12/12 - 1s - loss: 0.4111 - accuracy: 0.8708 - val_loss: 0.4811 - val_accuracy: 0.7750\n",
      "Epoch 5/100\n",
      "12/12 - 1s - loss: 0.2297 - accuracy: 0.9458 - val_loss: 0.5811 - val_accuracy: 0.7375\n",
      "Epoch 6/100\n",
      "12/12 - 1s - loss: 0.1394 - accuracy: 0.9708 - val_loss: 0.4916 - val_accuracy: 0.7625\n",
      "Epoch 7/100\n",
      "12/12 - 1s - loss: 0.0863 - accuracy: 0.9861 - val_loss: 0.4903 - val_accuracy: 0.8375\n",
      "Epoch 8/100\n",
      "12/12 - 1s - loss: 0.0456 - accuracy: 0.9944 - val_loss: 0.5602 - val_accuracy: 0.8250\n",
      "Epoch 9/100\n",
      "12/12 - 1s - loss: 0.0264 - accuracy: 0.9972 - val_loss: 0.6344 - val_accuracy: 0.8125\n",
      "Epoch 10/100\n",
      "12/12 - 1s - loss: 0.0219 - accuracy: 0.9986 - val_loss: 0.6534 - val_accuracy: 0.8125\n",
      "Epoch 11/100\n",
      "12/12 - 1s - loss: 0.0163 - accuracy: 0.9986 - val_loss: 0.6393 - val_accuracy: 0.8250\n",
      "Epoch 12/100\n",
      "12/12 - 1s - loss: 0.0113 - accuracy: 1.0000 - val_loss: 0.7200 - val_accuracy: 0.8375\n",
      "Epoch 13/100\n",
      "12/12 - 1s - loss: 0.0101 - accuracy: 1.0000 - val_loss: 0.6438 - val_accuracy: 0.8375\n",
      "Epoch 14/100\n",
      "12/12 - 1s - loss: 0.0085 - accuracy: 1.0000 - val_loss: 0.6777 - val_accuracy: 0.8375\n",
      "Epoch 15/100\n",
      "12/12 - 1s - loss: 0.0058 - accuracy: 1.0000 - val_loss: 0.7582 - val_accuracy: 0.8250\n",
      "Epoch 16/100\n",
      "12/12 - 1s - loss: 0.0045 - accuracy: 1.0000 - val_loss: 0.8019 - val_accuracy: 0.8375\n",
      "Epoch 17/100\n",
      "12/12 - 1s - loss: 0.0031 - accuracy: 1.0000 - val_loss: 0.8254 - val_accuracy: 0.8375\n",
      "Epoch 18/100\n",
      "12/12 - 1s - loss: 0.0030 - accuracy: 1.0000 - val_loss: 0.8412 - val_accuracy: 0.8250\n",
      "Epoch 19/100\n",
      "12/12 - 1s - loss: 0.0026 - accuracy: 1.0000 - val_loss: 0.8623 - val_accuracy: 0.8375\n",
      "Epoch 20/100\n",
      "12/12 - 1s - loss: 0.0027 - accuracy: 1.0000 - val_loss: 0.8829 - val_accuracy: 0.8125\n",
      "Epoch 21/100\n",
      "12/12 - 1s - loss: 0.0024 - accuracy: 1.0000 - val_loss: 0.8687 - val_accuracy: 0.8500\n",
      "Epoch 22/100\n",
      "12/12 - 1s - loss: 0.0021 - accuracy: 1.0000 - val_loss: 0.8497 - val_accuracy: 0.8250\n",
      "Epoch 23/100\n",
      "12/12 - 1s - loss: 0.0018 - accuracy: 1.0000 - val_loss: 0.8575 - val_accuracy: 0.8500\n",
      "Epoch 24/100\n",
      "12/12 - 1s - loss: 0.0017 - accuracy: 1.0000 - val_loss: 0.8760 - val_accuracy: 0.8375\n",
      "Epoch 25/100\n",
      "12/12 - 1s - loss: 0.0013 - accuracy: 1.0000 - val_loss: 0.9153 - val_accuracy: 0.8375\n",
      "Epoch 26/100\n",
      "12/12 - 1s - loss: 0.0013 - accuracy: 1.0000 - val_loss: 0.9347 - val_accuracy: 0.8250\n",
      "Epoch 27/100\n",
      "12/12 - 1s - loss: 0.0014 - accuracy: 1.0000 - val_loss: 0.9439 - val_accuracy: 0.8500\n",
      "Epoch 28/100\n",
      "12/12 - 1s - loss: 0.0012 - accuracy: 1.0000 - val_loss: 0.8809 - val_accuracy: 0.8500\n",
      "Epoch 29/100\n",
      "12/12 - 1s - loss: 9.6086e-04 - accuracy: 1.0000 - val_loss: 0.9381 - val_accuracy: 0.8250\n",
      "Epoch 30/100\n",
      "12/12 - 1s - loss: 8.4621e-04 - accuracy: 1.0000 - val_loss: 0.9798 - val_accuracy: 0.8375\n",
      "Epoch 31/100\n",
      "12/12 - 1s - loss: 8.9379e-04 - accuracy: 1.0000 - val_loss: 1.0014 - val_accuracy: 0.8375\n",
      "Epoch 32/100\n",
      "12/12 - 1s - loss: 7.5693e-04 - accuracy: 1.0000 - val_loss: 1.0235 - val_accuracy: 0.8375\n",
      "Epoch 33/100\n",
      "12/12 - 1s - loss: 6.9352e-04 - accuracy: 1.0000 - val_loss: 0.9857 - val_accuracy: 0.8375\n",
      "Epoch 34/100\n",
      "12/12 - 1s - loss: 7.0468e-04 - accuracy: 1.0000 - val_loss: 0.9804 - val_accuracy: 0.8375\n",
      "Epoch 35/100\n",
      "12/12 - 1s - loss: 6.4407e-04 - accuracy: 1.0000 - val_loss: 1.0198 - val_accuracy: 0.8375\n",
      "Epoch 36/100\n",
      "12/12 - 1s - loss: 5.6989e-04 - accuracy: 1.0000 - val_loss: 1.0593 - val_accuracy: 0.8375\n",
      "Epoch 37/100\n",
      "12/12 - 1s - loss: 5.7637e-04 - accuracy: 1.0000 - val_loss: 1.0659 - val_accuracy: 0.8375\n",
      "Epoch 38/100\n",
      "12/12 - 1s - loss: 5.4074e-04 - accuracy: 1.0000 - val_loss: 1.0701 - val_accuracy: 0.8375\n",
      "Epoch 39/100\n",
      "12/12 - 1s - loss: 5.7653e-04 - accuracy: 1.0000 - val_loss: 1.0502 - val_accuracy: 0.8375\n",
      "Epoch 40/100\n",
      "12/12 - 1s - loss: 5.0606e-04 - accuracy: 1.0000 - val_loss: 1.0790 - val_accuracy: 0.8375\n",
      "Epoch 41/100\n",
      "12/12 - 1s - loss: 4.5275e-04 - accuracy: 1.0000 - val_loss: 1.1018 - val_accuracy: 0.8375\n",
      "Epoch 42/100\n",
      "12/12 - 1s - loss: 4.9186e-04 - accuracy: 1.0000 - val_loss: 1.1022 - val_accuracy: 0.8125\n",
      "Epoch 43/100\n",
      "12/12 - 1s - loss: 5.2385e-04 - accuracy: 1.0000 - val_loss: 1.0991 - val_accuracy: 0.8375\n",
      "Epoch 44/100\n",
      "12/12 - 1s - loss: 3.7875e-04 - accuracy: 1.0000 - val_loss: 1.1196 - val_accuracy: 0.8250\n",
      "Epoch 45/100\n",
      "12/12 - 1s - loss: 3.7895e-04 - accuracy: 1.0000 - val_loss: 1.1557 - val_accuracy: 0.8250\n",
      "Epoch 46/100\n",
      "12/12 - 1s - loss: 3.9546e-04 - accuracy: 1.0000 - val_loss: 1.1328 - val_accuracy: 0.8250\n",
      "Epoch 47/100\n",
      "12/12 - 1s - loss: 3.2395e-04 - accuracy: 1.0000 - val_loss: 1.1217 - val_accuracy: 0.8375\n",
      "Epoch 48/100\n",
      "12/12 - 1s - loss: 2.9337e-04 - accuracy: 1.0000 - val_loss: 1.1396 - val_accuracy: 0.8250\n",
      "Epoch 49/100\n",
      "12/12 - 1s - loss: 3.2602e-04 - accuracy: 1.0000 - val_loss: 1.1586 - val_accuracy: 0.8250\n",
      "Epoch 50/100\n",
      "12/12 - 1s - loss: 3.9048e-04 - accuracy: 1.0000 - val_loss: 1.1434 - val_accuracy: 0.8375\n",
      "Epoch 51/100\n",
      "12/12 - 1s - loss: 2.5875e-04 - accuracy: 1.0000 - val_loss: 1.1528 - val_accuracy: 0.8375\n",
      "Epoch 52/100\n",
      "12/12 - 1s - loss: 2.8155e-04 - accuracy: 1.0000 - val_loss: 1.1699 - val_accuracy: 0.8250\n",
      "Epoch 53/100\n",
      "12/12 - 1s - loss: 2.7167e-04 - accuracy: 1.0000 - val_loss: 1.2002 - val_accuracy: 0.8250\n",
      "Epoch 54/100\n",
      "12/12 - 1s - loss: 2.8010e-04 - accuracy: 1.0000 - val_loss: 1.1743 - val_accuracy: 0.8375\n",
      "Epoch 55/100\n",
      "12/12 - 1s - loss: 2.8881e-04 - accuracy: 1.0000 - val_loss: 1.1794 - val_accuracy: 0.8375\n",
      "Epoch 56/100\n",
      "12/12 - 1s - loss: 2.7623e-04 - accuracy: 1.0000 - val_loss: 1.2022 - val_accuracy: 0.8375\n",
      "Epoch 57/100\n",
      "12/12 - 1s - loss: 2.8009e-04 - accuracy: 1.0000 - val_loss: 1.1743 - val_accuracy: 0.8375\n",
      "Epoch 58/100\n",
      "12/12 - 1s - loss: 2.4268e-04 - accuracy: 1.0000 - val_loss: 1.1997 - val_accuracy: 0.8250\n",
      "Epoch 59/100\n",
      "12/12 - 1s - loss: 2.4265e-04 - accuracy: 1.0000 - val_loss: 1.2385 - val_accuracy: 0.8375\n",
      "Epoch 60/100\n",
      "12/12 - 1s - loss: 2.2337e-04 - accuracy: 1.0000 - val_loss: 1.2446 - val_accuracy: 0.8125\n",
      "Epoch 61/100\n",
      "12/12 - 1s - loss: 2.6238e-04 - accuracy: 1.0000 - val_loss: 1.1587 - val_accuracy: 0.8375\n",
      "Epoch 62/100\n",
      "12/12 - 1s - loss: 2.4994e-04 - accuracy: 1.0000 - val_loss: 1.1809 - val_accuracy: 0.8375\n",
      "Epoch 63/100\n",
      "12/12 - 1s - loss: 2.5415e-04 - accuracy: 1.0000 - val_loss: 1.2490 - val_accuracy: 0.8375\n",
      "Epoch 64/100\n",
      "12/12 - 1s - loss: 1.8916e-04 - accuracy: 1.0000 - val_loss: 1.2576 - val_accuracy: 0.8375\n",
      "Epoch 65/100\n",
      "12/12 - 1s - loss: 2.1074e-04 - accuracy: 1.0000 - val_loss: 1.2551 - val_accuracy: 0.8250\n",
      "Epoch 66/100\n",
      "12/12 - 1s - loss: 1.8600e-04 - accuracy: 1.0000 - val_loss: 1.2289 - val_accuracy: 0.8375\n",
      "Epoch 67/100\n",
      "12/12 - 1s - loss: 2.1190e-04 - accuracy: 1.0000 - val_loss: 1.2612 - val_accuracy: 0.8125\n",
      "Epoch 68/100\n",
      "12/12 - 1s - loss: 2.2517e-04 - accuracy: 1.0000 - val_loss: 1.2748 - val_accuracy: 0.8250\n",
      "Epoch 69/100\n",
      "12/12 - 1s - loss: 2.2468e-04 - accuracy: 1.0000 - val_loss: 1.2488 - val_accuracy: 0.8375\n",
      "Epoch 70/100\n",
      "12/12 - 1s - loss: 1.5424e-04 - accuracy: 1.0000 - val_loss: 1.2777 - val_accuracy: 0.8250\n",
      "Epoch 71/100\n",
      "12/12 - 1s - loss: 1.8325e-04 - accuracy: 1.0000 - val_loss: 1.3068 - val_accuracy: 0.8125\n",
      "Epoch 72/100\n",
      "12/12 - 2s - loss: 1.4485e-04 - accuracy: 1.0000 - val_loss: 1.3044 - val_accuracy: 0.8375\n",
      "Epoch 73/100\n",
      "12/12 - 2s - loss: 1.5599e-04 - accuracy: 1.0000 - val_loss: 1.3190 - val_accuracy: 0.8125\n",
      "Epoch 74/100\n",
      "12/12 - 2s - loss: 1.4222e-04 - accuracy: 1.0000 - val_loss: 1.2991 - val_accuracy: 0.8375\n",
      "Epoch 75/100\n",
      "12/12 - 1s - loss: 2.5483e-04 - accuracy: 1.0000 - val_loss: 1.2301 - val_accuracy: 0.8250\n",
      "Epoch 76/100\n",
      "12/12 - 1s - loss: 1.8871e-04 - accuracy: 1.0000 - val_loss: 1.2190 - val_accuracy: 0.8375\n",
      "Epoch 77/100\n",
      "12/12 - 1s - loss: 1.3560e-04 - accuracy: 1.0000 - val_loss: 1.2752 - val_accuracy: 0.8375\n",
      "Epoch 78/100\n",
      "12/12 - 1s - loss: 1.2003e-04 - accuracy: 1.0000 - val_loss: 1.3022 - val_accuracy: 0.8250\n",
      "Epoch 79/100\n",
      "12/12 - 1s - loss: 1.2987e-04 - accuracy: 1.0000 - val_loss: 1.3172 - val_accuracy: 0.8250\n",
      "Epoch 80/100\n",
      "12/12 - 1s - loss: 1.2068e-04 - accuracy: 1.0000 - val_loss: 1.3120 - val_accuracy: 0.8375\n",
      "Epoch 81/100\n",
      "12/12 - 1s - loss: 1.3122e-04 - accuracy: 1.0000 - val_loss: 1.3337 - val_accuracy: 0.8375\n",
      "Epoch 82/100\n",
      "12/12 - 1s - loss: 1.3775e-04 - accuracy: 1.0000 - val_loss: 1.3411 - val_accuracy: 0.8250\n",
      "Epoch 83/100\n",
      "12/12 - 1s - loss: 1.1228e-04 - accuracy: 1.0000 - val_loss: 1.3374 - val_accuracy: 0.8375\n",
      "Epoch 84/100\n",
      "12/12 - 1s - loss: 1.1749e-04 - accuracy: 1.0000 - val_loss: 1.3381 - val_accuracy: 0.8375\n",
      "Epoch 85/100\n",
      "12/12 - 1s - loss: 1.2461e-04 - accuracy: 1.0000 - val_loss: 1.3664 - val_accuracy: 0.8125\n",
      "Epoch 86/100\n",
      "12/12 - 1s - loss: 1.1620e-04 - accuracy: 1.0000 - val_loss: 1.3444 - val_accuracy: 0.8375\n",
      "Epoch 87/100\n",
      "12/12 - 1s - loss: 1.0057e-04 - accuracy: 1.0000 - val_loss: 1.3394 - val_accuracy: 0.8375\n",
      "Epoch 88/100\n",
      "12/12 - 1s - loss: 1.1125e-04 - accuracy: 1.0000 - val_loss: 1.3652 - val_accuracy: 0.8250\n",
      "Epoch 89/100\n",
      "12/12 - 1s - loss: 1.3858e-04 - accuracy: 1.0000 - val_loss: 1.3450 - val_accuracy: 0.8375\n",
      "Epoch 90/100\n",
      "12/12 - 1s - loss: 1.1403e-04 - accuracy: 1.0000 - val_loss: 1.3514 - val_accuracy: 0.8375\n",
      "Epoch 91/100\n",
      "12/12 - 1s - loss: 1.0842e-04 - accuracy: 1.0000 - val_loss: 1.3602 - val_accuracy: 0.8375\n",
      "Epoch 92/100\n",
      "12/12 - 1s - loss: 1.1046e-04 - accuracy: 1.0000 - val_loss: 1.3759 - val_accuracy: 0.8250\n",
      "Epoch 93/100\n",
      "12/12 - 1s - loss: 1.0254e-04 - accuracy: 1.0000 - val_loss: 1.3512 - val_accuracy: 0.8375\n",
      "Epoch 94/100\n",
      "12/12 - 1s - loss: 1.0191e-04 - accuracy: 1.0000 - val_loss: 1.3603 - val_accuracy: 0.8375\n",
      "Epoch 95/100\n",
      "12/12 - 1s - loss: 8.5072e-05 - accuracy: 1.0000 - val_loss: 1.3791 - val_accuracy: 0.8375\n",
      "Epoch 96/100\n",
      "12/12 - 1s - loss: 9.5914e-05 - accuracy: 1.0000 - val_loss: 1.4171 - val_accuracy: 0.8125\n",
      "Epoch 97/100\n",
      "12/12 - 1s - loss: 1.1002e-04 - accuracy: 1.0000 - val_loss: 1.3692 - val_accuracy: 0.8250\n",
      "Epoch 98/100\n",
      "12/12 - 1s - loss: 1.0735e-04 - accuracy: 1.0000 - val_loss: 1.3490 - val_accuracy: 0.8375\n",
      "Epoch 99/100\n",
      "12/12 - 1s - loss: 8.9874e-05 - accuracy: 1.0000 - val_loss: 1.3877 - val_accuracy: 0.8250\n",
      "Epoch 100/100\n",
      "12/12 - 1s - loss: 9.8922e-05 - accuracy: 1.0000 - val_loss: 1.3925 - val_accuracy: 0.8375\n",
      "25/25 [==============================] - 0s 10ms/step - loss: 0.1393 - accuracy: 0.9837\b\b\b\b\b\b\b\b\b\b\b\b\b\b\b\b\b\b\b\b\b\b\b\b\b\b\b\b\b\b\b\b\b\b\b\b\b\b\b\b\b\b\b\b\b\b\b\b\b\b\b\b\b\b\b\b\b\b\b\b\b\b\b\b\b\b\b\b\b\b\b\b\b\b\b\b\b\b\b\b\b\b\b\b\b\b\b\b\b\b\b\b\b\b\b\b\b\b\b\b\b\b\b\b\b\b\b\b\b\b\b\b\b\b\b\b\b\b\b\b\b\b\b\b\b\b\b\b\b\b\b\b\b\b\b\b\b\b\b\b\b\b\b\b\b\b\b\b\b\b\b\b\b\b\b\b\b\b\b\b\b\b\b\b\b\b\b\b\b\b\b\b\b\b\b\b\b\b\b\b\b\b\b\b\b\b\b\b\b\b\b\b\b\b\b\b\b\b\b\b\b\b\b\b\b\b\b\b\b\b\b\b\b\b\b\b\b\b\b\b\b\b\b\b\b\b\b\b\b\b\b\b\b\b\b\b\b\b\b\b\b\b\b\b\b\b\b\b\b\b\b\b\b\b\b\b\b\b\b\b\b\b\b\b\b\b\b\b\b\b\b\b\b\b\b\b\b\b\b\b\b\b\b\b\b\b\b\b\b\b\b\b\b\b\b\b\b\b\b\b\b\b\b\b\b\b\b\b\b\b\b\b\b\b\b\b\b\b\b\b\b\b\b\b\b\b\b\b\b\b\b\b\b\b\b\b\b\b\b\b\b\b\b\b\b\b\b\b\b\b\b\b\b\b\b\b\b\b\b\b\b\b\b\b\b\b\b\b\b\b\b\b\b\b\b\b\b\b\b\b\b\b\b\b\b\b\b\b\b\b\b\b\b\b\b\b\b\b\b\b\b\b\b\b\b\b\b\b\b\b\b\b\b\b\b\b\b\b\b\b\b\b\b\b\b\n",
      "训练集：loss 0.139, 准确率：0.984\n",
      "7/7 [==============================] - 0s 7ms/step - loss: 2.2793 - accuracy: 0.7300\b\b\b\b\b\b\b\b\b\b\b\b\b\b\b\b\b\b\b\b\b\b\b\b\b\b\b\b\b\b\b\b\b\b\b\b\b\b\b\b\b\b\b\b\b\b\b\b\b\b\b\b\b\b\b\b\b\b\b\b\b\b\b\b\b\b\b\b\b\b\b\b\b\b\b\b\n",
      "测试集：loss 2.279, 准确率：0.730\n"
     ]
    },
    {
     "data": {
      "text/plain": "<Figure size 432x288 with 1 Axes>",
      "image/png": "[encoded data removed]"
     },
     "metadata": {
      "needs_background": "light"
     },
     "output_type": "display_data"
    },
    {
     "data": {
      "text/plain": "<Figure size 432x288 with 1 Axes>",
      "image/png": "[encoded data removed]"
     },
     "metadata": {
      "needs_background": "light"
     },
     "output_type": "display_data"
    }
   ]
  },
  {
   "cell_type": "code",
   "metadata": {
    "colab": {
     "base_uri": "https://localhost:8080/",
     "height": 16
    },
    "id": "aW0HZRfq06UT",
    "outputId": "3ff1e397-2277-43b5-e3ee-0c57fa90bb73"
   },
   "source": [
    "model.save('trained_model.h5')\n",
    "\n",
    "import pickle\n",
    "with open('trained_tokenizer.pkl','wb') as f:\n",
    "    pickle.dump(tokenizer, f)\n",
    "\n",
    "# 下载到本地\n",
    "# from google.colab import files\n",
    "# files.download('trained_model.h5')\n",
    "# files.download('trained_tokenizer.pkl')"
   ],
   "execution_count": 8,
   "outputs": []
  },
  {
   "cell_type": "code",
   "metadata": {
    "id": "89QnNncU63OK"
   },
   "source": [],
   "execution_count": 18,
   "outputs": []
  },
  {
   "cell_type": "code",
   "metadata": {
    "id": "2RfW93l0_JZp"
   },
   "source": [],
   "execution_count": null,
   "outputs": []
  }
 ]
}