{
 "cells": [
  {
   "cell_type": "code",
   "execution_count": 51,
   "metadata": {
    "collapsed": true
   },
   "outputs": [
    {
     "data": {
      "text/plain": "                                            sentence  label\n0                           Wow... Loved this place.      1\n1                                 Crust is not good.      0\n2          Not tasty and the texture was just nasty.      0\n3  Stopped by during the late May bank holiday of...      1\n4  The selection on the menu was great and so wer...      1",
      "text/html": "<div>\n<style scoped>\n    .dataframe tbody tr th:only-of-type {\n        vertical-align: middle;\n    }\n\n    .dataframe tbody tr th {\n        vertical-align: top;\n    }\n\n    .dataframe thead th {\n        text-align: right;\n    }\n</style>\n<table border=\"1\" class=\"dataframe\">\n  <thead>\n    <tr style=\"text-align: right;\">\n      <th></th>\n      <th>sentence</th>\n      <th>label</th>\n    </tr>\n  </thead>\n  <tbody>\n    <tr>\n      <th>0</th>\n      <td>Wow... Loved this place.</td>\n      <td>1</td>\n    </tr>\n    <tr>\n      <th>1</th>\n      <td>Crust is not good.</td>\n      <td>0</td>\n    </tr>\n    <tr>\n      <th>2</th>\n      <td>Not tasty and the texture was just nasty.</td>\n      <td>0</td>\n    </tr>\n    <tr>\n      <th>3</th>\n      <td>Stopped by during the late May bank holiday of...</td>\n      <td>1</td>\n    </tr>\n    <tr>\n      <th>4</th>\n      <td>The selection on the menu was great and so wer...</td>\n      <td>1</td>\n    </tr>\n  </tbody>\n</table>\n</div>"
     },
     "execution_count": 51,
     "metadata": {},
     "output_type": "execute_result"
    }
   ],
   "source": [
    "# -*- coding:utf-8 -*-\n",
    "# @Python Version: 3.7\n",
    "# @Time: 2020/12/3 19:52\n",
    "# @Author: Michael Ming\n",
    "# @Website: https://michael.blog.csdn.net/\n",
    "# @File: emotion_analysis.py\n",
    "# @Reference:\n",
    "\n",
    "import numpy as np\n",
    "import pandas as pd\n",
    "\n",
    "data = pd.read_csv(\"yelp_labelled.txt\", sep='\\t', names=['sentence', 'label'])\n",
    "\n",
    "data.head() # 1000条数据"
   ]
  },
  {
   "cell_type": "code",
   "execution_count": 52,
   "outputs": [],
   "source": [
    "# 数据 X 和 标签 y\n",
    "sentence = data['sentence'].values\n",
    "label = data['label'].values"
   ],
   "metadata": {
    "collapsed": false,
    "pycharm": {
     "name": "#%%\n"
    }
   }
  },
  {
   "cell_type": "code",
   "execution_count": 53,
   "outputs": [],
   "source": [
    "# 训练集 测试集拆分\n",
    "from sklearn.model_selection import train_test_split\n",
    "X_train, X_test, y_train, y_test = train_test_split(sentence, label, test_size=0.3, random_state=1)"
   ],
   "metadata": {
    "collapsed": false,
    "pycharm": {
     "name": "#%%\n"
    }
   }
  },
  {
   "cell_type": "code",
   "execution_count": 54,
   "outputs": [
    {
     "ename": "KeyboardInterrupt",
     "evalue": "",
     "output_type": "error",
     "traceback": [
      "\u001B[1;31m---------------------------------------------------------------------------\u001B[0m",
      "\u001B[1;31mKeyboardInterrupt\u001B[0m                         Traceback (most recent call last)",
      "\u001B[1;32m<ipython-input-54-d97c6b57a599>\u001B[0m in \u001B[0;36m<module>\u001B[1;34m\u001B[0m\n\u001B[0;32m      6\u001B[0m \u001B[0mX_train\u001B[0m \u001B[1;33m=\u001B[0m \u001B[0mtokenizer\u001B[0m\u001B[1;33m.\u001B[0m\u001B[0mtexts_to_sequences\u001B[0m\u001B[1;33m(\u001B[0m\u001B[0mX_train\u001B[0m\u001B[1;33m)\u001B[0m \u001B[1;31m# 转成 [ids...]\u001B[0m\u001B[1;33m\u001B[0m\u001B[1;33m\u001B[0m\u001B[0m\n\u001B[0;32m      7\u001B[0m \u001B[0mX_test\u001B[0m \u001B[1;33m=\u001B[0m \u001B[0mtokenizer\u001B[0m\u001B[1;33m.\u001B[0m\u001B[0mtexts_to_sequences\u001B[0m\u001B[1;33m(\u001B[0m\u001B[0mX_test\u001B[0m\u001B[1;33m)\u001B[0m\u001B[1;33m\u001B[0m\u001B[1;33m\u001B[0m\u001B[0m\n\u001B[1;32m----> 8\u001B[1;33m \u001B[0mvocab_size\u001B[0m \u001B[1;33m=\u001B[0m \u001B[0mlen\u001B[0m\u001B[1;33m(\u001B[0m\u001B[0mtokenizer\u001B[0m\u001B[1;33m.\u001B[0m\u001B[0mword_index\u001B[0m\u001B[1;33m)\u001B[0m\u001B[1;33m+\u001B[0m\u001B[1;36m1\u001B[0m\u001B[1;33m\u001B[0m\u001B[1;33m\u001B[0m\u001B[0m\n\u001B[0m\u001B[0;32m      9\u001B[0m \u001B[1;33m\u001B[0m\u001B[0m\n",
      "\u001B[1;32m<ipython-input-54-d97c6b57a599>\u001B[0m in \u001B[0;36m<module>\u001B[1;34m\u001B[0m\n\u001B[0;32m      6\u001B[0m \u001B[0mX_train\u001B[0m \u001B[1;33m=\u001B[0m \u001B[0mtokenizer\u001B[0m\u001B[1;33m.\u001B[0m\u001B[0mtexts_to_sequences\u001B[0m\u001B[1;33m(\u001B[0m\u001B[0mX_train\u001B[0m\u001B[1;33m)\u001B[0m \u001B[1;31m# 转成 [ids...]\u001B[0m\u001B[1;33m\u001B[0m\u001B[1;33m\u001B[0m\u001B[0m\n\u001B[0;32m      7\u001B[0m \u001B[0mX_test\u001B[0m \u001B[1;33m=\u001B[0m \u001B[0mtokenizer\u001B[0m\u001B[1;33m.\u001B[0m\u001B[0mtexts_to_sequences\u001B[0m\u001B[1;33m(\u001B[0m\u001B[0mX_test\u001B[0m\u001B[1;33m)\u001B[0m\u001B[1;33m\u001B[0m\u001B[1;33m\u001B[0m\u001B[0m\n\u001B[1;32m----> 8\u001B[1;33m \u001B[0mvocab_size\u001B[0m \u001B[1;33m=\u001B[0m \u001B[0mlen\u001B[0m\u001B[1;33m(\u001B[0m\u001B[0mtokenizer\u001B[0m\u001B[1;33m.\u001B[0m\u001B[0mword_index\u001B[0m\u001B[1;33m)\u001B[0m\u001B[1;33m+\u001B[0m\u001B[1;36m1\u001B[0m\u001B[1;33m\u001B[0m\u001B[1;33m\u001B[0m\u001B[0m\n\u001B[0m\u001B[0;32m      9\u001B[0m \u001B[1;33m\u001B[0m\u001B[0m\n",
      "\u001B[1;32m_pydevd_bundle\\pydevd_cython_win32_37_64.pyx\u001B[0m in \u001B[0;36m_pydevd_bundle.pydevd_cython_win32_37_64.SafeCallWrapper.__call__\u001B[1;34m()\u001B[0m\n",
      "\u001B[1;32m_pydevd_bundle\\pydevd_cython_win32_37_64.pyx\u001B[0m in \u001B[0;36m_pydevd_bundle.pydevd_cython_win32_37_64.PyDBFrame.trace_dispatch\u001B[1;34m()\u001B[0m\n",
      "\u001B[1;32m_pydevd_bundle\\pydevd_cython_win32_37_64.pyx\u001B[0m in \u001B[0;36m_pydevd_bundle.pydevd_cython_win32_37_64.PyDBFrame.trace_dispatch\u001B[1;34m()\u001B[0m\n",
      "\u001B[1;32m_pydevd_bundle\\pydevd_cython_win32_37_64.pyx\u001B[0m in \u001B[0;36m_pydevd_bundle.pydevd_cython_win32_37_64.PyDBFrame.trace_dispatch\u001B[1;34m()\u001B[0m\n",
      "\u001B[1;32m_pydevd_bundle\\pydevd_cython_win32_37_64.pyx\u001B[0m in \u001B[0;36m_pydevd_bundle.pydevd_cython_win32_37_64.PyDBFrame.do_wait_suspend\u001B[1;34m()\u001B[0m\n",
      "\u001B[1;32mC:\\Program Files\\JetBrains\\PyCharm 2018\\plugins\\python\\helpers\\pydev\\pydevd.py\u001B[0m in \u001B[0;36mdo_wait_suspend\u001B[1;34m(self, thread, frame, event, arg, send_suspend_message, is_unhandled_exception)\u001B[0m\n\u001B[0;32m   1139\u001B[0m \u001B[1;33m\u001B[0m\u001B[0m\n\u001B[0;32m   1140\u001B[0m         \u001B[1;32mwith\u001B[0m \u001B[0mself\u001B[0m\u001B[1;33m.\u001B[0m\u001B[0m_threads_suspended_single_notification\u001B[0m\u001B[1;33m.\u001B[0m\u001B[0mnotify_thread_suspended\u001B[0m\u001B[1;33m(\u001B[0m\u001B[0mthread_id\u001B[0m\u001B[1;33m,\u001B[0m \u001B[0mstop_reason\u001B[0m\u001B[1;33m)\u001B[0m\u001B[1;33m:\u001B[0m\u001B[1;33m\u001B[0m\u001B[1;33m\u001B[0m\u001B[0m\n\u001B[1;32m-> 1141\u001B[1;33m             \u001B[0mself\u001B[0m\u001B[1;33m.\u001B[0m\u001B[0m_do_wait_suspend\u001B[0m\u001B[1;33m(\u001B[0m\u001B[0mthread\u001B[0m\u001B[1;33m,\u001B[0m \u001B[0mframe\u001B[0m\u001B[1;33m,\u001B[0m \u001B[0mevent\u001B[0m\u001B[1;33m,\u001B[0m \u001B[0marg\u001B[0m\u001B[1;33m,\u001B[0m \u001B[0msuspend_type\u001B[0m\u001B[1;33m,\u001B[0m \u001B[0mfrom_this_thread\u001B[0m\u001B[1;33m)\u001B[0m\u001B[1;33m\u001B[0m\u001B[1;33m\u001B[0m\u001B[0m\n\u001B[0m\u001B[0;32m   1142\u001B[0m \u001B[1;33m\u001B[0m\u001B[0m\n\u001B[0;32m   1143\u001B[0m     \u001B[1;32mdef\u001B[0m \u001B[0m_do_wait_suspend\u001B[0m\u001B[1;33m(\u001B[0m\u001B[0mself\u001B[0m\u001B[1;33m,\u001B[0m \u001B[0mthread\u001B[0m\u001B[1;33m,\u001B[0m \u001B[0mframe\u001B[0m\u001B[1;33m,\u001B[0m \u001B[0mevent\u001B[0m\u001B[1;33m,\u001B[0m \u001B[0marg\u001B[0m\u001B[1;33m,\u001B[0m \u001B[0msuspend_type\u001B[0m\u001B[1;33m,\u001B[0m \u001B[0mfrom_this_thread\u001B[0m\u001B[1;33m)\u001B[0m\u001B[1;33m:\u001B[0m\u001B[1;33m\u001B[0m\u001B[1;33m\u001B[0m\u001B[0m\n",
      "\u001B[1;32mC:\\Program Files\\JetBrains\\PyCharm 2018\\plugins\\python\\helpers\\pydev\\pydevd.py\u001B[0m in \u001B[0;36m_do_wait_suspend\u001B[1;34m(self, thread, frame, event, arg, suspend_type, from_this_thread)\u001B[0m\n\u001B[0;32m   1154\u001B[0m \u001B[1;33m\u001B[0m\u001B[0m\n\u001B[0;32m   1155\u001B[0m                 \u001B[0mself\u001B[0m\u001B[1;33m.\u001B[0m\u001B[0mprocess_internal_commands\u001B[0m\u001B[1;33m(\u001B[0m\u001B[1;33m)\u001B[0m\u001B[1;33m\u001B[0m\u001B[1;33m\u001B[0m\u001B[0m\n\u001B[1;32m-> 1156\u001B[1;33m                 \u001B[0mtime\u001B[0m\u001B[1;33m.\u001B[0m\u001B[0msleep\u001B[0m\u001B[1;33m(\u001B[0m\u001B[1;36m0.01\u001B[0m\u001B[1;33m)\u001B[0m\u001B[1;33m\u001B[0m\u001B[1;33m\u001B[0m\u001B[0m\n\u001B[0m\u001B[0;32m   1157\u001B[0m \u001B[1;33m\u001B[0m\u001B[0m\n\u001B[0;32m   1158\u001B[0m         \u001B[0mself\u001B[0m\u001B[1;33m.\u001B[0m\u001B[0mcancel_async_evaluation\u001B[0m\u001B[1;33m(\u001B[0m\u001B[0mget_current_thread_id\u001B[0m\u001B[1;33m(\u001B[0m\u001B[0mthread\u001B[0m\u001B[1;33m)\u001B[0m\u001B[1;33m,\u001B[0m \u001B[0mstr\u001B[0m\u001B[1;33m(\u001B[0m\u001B[0mid\u001B[0m\u001B[1;33m(\u001B[0m\u001B[0mframe\u001B[0m\u001B[1;33m)\u001B[0m\u001B[1;33m)\u001B[0m\u001B[1;33m)\u001B[0m\u001B[1;33m\u001B[0m\u001B[1;33m\u001B[0m\u001B[0m\n",
      "\u001B[1;31mKeyboardInterrupt\u001B[0m: "
     ]
    }
   ],
   "source": [
    "# 文本向量化\n",
    "import keras\n",
    "from keras.preprocessing.text import Tokenizer\n",
    "tokenizer = Tokenizer(num_words=6000)\n",
    "tokenizer.fit_on_texts(X_train) # 训练tokenizer\n",
    "X_train = tokenizer.texts_to_sequences(X_train) # 转成 [ids...]\n",
    "X_test = tokenizer.texts_to_sequences(X_test)\n",
    "vocab_size = len(tokenizer.word_index)+1"
   ],
   "metadata": {
    "collapsed": false,
    "pycharm": {
     "name": "#%%\n"
    }
   }
  },
  {
   "cell_type": "code",
   "execution_count": 43,
   "outputs": [],
   "source": [
    "maxlen = 100\n",
    "# pad 保证每个句子的长度相等\n",
    "from keras.preprocessing.sequence import pad_sequences\n",
    "X_train = pad_sequences(X_train, maxlen=maxlen, padding='post')\n",
    "# post 尾部补0，pre 前部补0\n",
    "X_test = pad_sequences(X_test, maxlen=maxlen, padding='post')"
   ],
   "metadata": {
    "collapsed": false,
    "pycharm": {
     "name": "#%%\n"
    }
   }
  },
  {
   "cell_type": "code",
   "execution_count": 44,
   "outputs": [],
   "source": [
    "from keras import layers\n",
    "embeddings_dim = 150\n",
    "filters = 64\n",
    "kernel_size = 5\n",
    "batch_size = 64\n",
    "\n",
    "\n",
    "nn_model = keras.Sequential()\n",
    "nn_model.add(layers.Embedding(input_dim=vocab_size, output_dim=embeddings_dim, input_length=maxlen))\n",
    "nn_model.add(layers.Conv1D(filters=filters,kernel_size=kernel_size,activation='relu'))\n",
    "nn_model.add(layers.GlobalMaxPool1D())\n",
    "nn_model.add(layers.Dropout(0.3))\n",
    "# 上面 GlobalMaxPool1D 后，维度少了一维，下面自定义layers再扩展一维\n",
    "nn_model.add(layers.Lambda(lambda x : keras.backend.expand_dims(x, axis=-1)))\n",
    "nn_model.add(layers.Conv1D(filters=filters,kernel_size=kernel_size,activation='relu'))\n",
    "nn_model.add(layers.GlobalMaxPool1D())\n",
    "nn_model.add(layers.Dropout(0.3))\n",
    "nn_model.add(layers.Dense(10, activation='relu'))\n",
    "nn_model.add(layers.Dense(1, activation='sigmoid')) # 二分类sigmoid, 多分类 softmax"
   ],
   "metadata": {
    "collapsed": false,
    "pycharm": {
     "name": "#%%\n"
    }
   }
  },
  {
   "cell_type": "code",
   "execution_count": 45,
   "outputs": [
    {
     "name": "stdout",
     "output_type": "stream",
     "text": [
      "Model: \"sequential_4\"\n",
      "_________________________________________________________________\n",
      "Layer (type)                 Output Shape              Param #   \n",
      "=================================================================\n",
      "embedding_4 (Embedding)      (None, 100, 150)          251400    \n",
      "_________________________________________________________________\n",
      "conv1d_8 (Conv1D)            (None, 96, 64)            48064     \n",
      "_________________________________________________________________\n",
      "global_max_pooling1d_7 (Glob (None, 64)                0         \n",
      "_________________________________________________________________\n",
      "dropout_7 (Dropout)          (None, 64)                0         \n",
      "_________________________________________________________________\n",
      "lambda_4 (Lambda)            (None, 64, 1)             0         \n",
      "_________________________________________________________________\n",
      "conv1d_9 (Conv1D)            (None, 60, 64)            384       \n",
      "_________________________________________________________________\n",
      "global_max_pooling1d_8 (Glob (None, 64)                0         \n",
      "_________________________________________________________________\n",
      "dropout_8 (Dropout)          (None, 64)                0         \n",
      "_________________________________________________________________\n",
      "dense_6 (Dense)              (None, 10)                650       \n",
      "_________________________________________________________________\n",
      "dense_7 (Dense)              (None, 1)                 11        \n",
      "=================================================================\n",
      "Total params: 300,509\n",
      "Trainable params: 300,509\n",
      "Non-trainable params: 0\n",
      "_________________________________________________________________\n"
     ]
    },
    {
     "data": {
      "image/jpeg": "[encoded data removed]",
      "text/plain": "<IPython.core.display.Image object>"
     },
     "execution_count": 45,
     "metadata": {},
     "output_type": "execute_result"
    }
   ],
   "source": [
    "nn_model.compile(optimizer='adam', loss='binary_crossentropy',metrics=['accuracy'])\n",
    "nn_model.summary()\n",
    "from keras.utils import plot_model\n",
    "plot_model(nn_model, to_file='model.jpg')\n"
   ],
   "metadata": {
    "collapsed": false,
    "pycharm": {
     "name": "#%%\n"
    }
   }
  },
  {
   "cell_type": "code",
   "execution_count": 46,
   "outputs": [
    {
     "name": "stdout",
     "output_type": "stream",
     "text": [
      "Epoch 1/50\n",
      "11/11 - 1s - loss: 0.6933 - accuracy: 0.5014 - val_loss: 0.6933 - val_accuracy: 0.4633\n",
      "Epoch 2/50\n",
      "11/11 - 0s - loss: 0.6931 - accuracy: 0.5214 - val_loss: 0.6935 - val_accuracy: 0.4633\n",
      "Epoch 3/50\n",
      "11/11 - 1s - loss: 0.6930 - accuracy: 0.5257 - val_loss: 0.6936 - val_accuracy: 0.4633\n",
      "Epoch 4/50\n",
      "11/11 - 0s - loss: 0.6926 - accuracy: 0.5429 - val_loss: 0.6936 - val_accuracy: 0.4633\n",
      "Epoch 5/50\n",
      "11/11 - 1s - loss: 0.6916 - accuracy: 0.5557 - val_loss: 0.6939 - val_accuracy: 0.4700\n",
      "Epoch 6/50\n",
      "11/11 - 1s - loss: 0.6868 - accuracy: 0.6457 - val_loss: 0.6930 - val_accuracy: 0.4767\n",
      "Epoch 7/50\n",
      "11/11 - 1s - loss: 0.6750 - accuracy: 0.7771 - val_loss: 0.6872 - val_accuracy: 0.6067\n",
      "Epoch 8/50\n",
      "11/11 - 1s - loss: 0.6472 - accuracy: 0.8386 - val_loss: 0.6749 - val_accuracy: 0.6867\n",
      "Epoch 9/50\n",
      "11/11 - 1s - loss: 0.5915 - accuracy: 0.8929 - val_loss: 0.6508 - val_accuracy: 0.6967\n",
      "Epoch 10/50\n",
      "11/11 - 1s - loss: 0.5068 - accuracy: 0.9271 - val_loss: 0.6181 - val_accuracy: 0.6900\n",
      "Epoch 11/50\n",
      "11/11 - 1s - loss: 0.4149 - accuracy: 0.9500 - val_loss: 0.5886 - val_accuracy: 0.7033\n",
      "Epoch 12/50\n",
      "11/11 - 1s - loss: 0.3284 - accuracy: 0.9586 - val_loss: 0.5721 - val_accuracy: 0.6900\n",
      "Epoch 13/50\n",
      "11/11 - 0s - loss: 0.2740 - accuracy: 0.9486 - val_loss: 0.5651 - val_accuracy: 0.6933\n",
      "Epoch 14/50\n",
      "11/11 - 1s - loss: 0.1881 - accuracy: 0.9886 - val_loss: 0.5685 - val_accuracy: 0.7000\n",
      "Epoch 15/50\n",
      "11/11 - 0s - loss: 0.1464 - accuracy: 0.9800 - val_loss: 0.5446 - val_accuracy: 0.7267\n",
      "Epoch 16/50\n",
      "11/11 - 0s - loss: 0.1061 - accuracy: 0.9871 - val_loss: 0.5611 - val_accuracy: 0.7400\n",
      "Epoch 17/50\n",
      "11/11 - 0s - loss: 0.0764 - accuracy: 0.9929 - val_loss: 0.5751 - val_accuracy: 0.7433\n",
      "Epoch 18/50\n",
      "11/11 - 0s - loss: 0.0683 - accuracy: 0.9886 - val_loss: 0.5702 - val_accuracy: 0.7500\n",
      "Epoch 19/50\n",
      "11/11 - 0s - loss: 0.0437 - accuracy: 0.9971 - val_loss: 0.6020 - val_accuracy: 0.7467\n",
      "Epoch 20/50\n",
      "11/11 - 0s - loss: 0.0417 - accuracy: 0.9957 - val_loss: 0.5927 - val_accuracy: 0.7533\n",
      "Epoch 21/50\n",
      "11/11 - 0s - loss: 0.0300 - accuracy: 0.9971 - val_loss: 0.5862 - val_accuracy: 0.7533\n",
      "Epoch 22/50\n",
      "11/11 - 0s - loss: 0.0265 - accuracy: 0.9971 - val_loss: 0.6073 - val_accuracy: 0.7467\n",
      "Epoch 23/50\n",
      "11/11 - 0s - loss: 0.0268 - accuracy: 0.9957 - val_loss: 0.5971 - val_accuracy: 0.7433\n",
      "Epoch 24/50\n",
      "11/11 - 0s - loss: 0.0197 - accuracy: 0.9957 - val_loss: 0.6009 - val_accuracy: 0.7567\n",
      "Epoch 25/50\n",
      "11/11 - 0s - loss: 0.0160 - accuracy: 1.0000 - val_loss: 0.6190 - val_accuracy: 0.7400\n",
      "Epoch 26/50\n",
      "11/11 - 0s - loss: 0.0118 - accuracy: 1.0000 - val_loss: 0.6471 - val_accuracy: 0.7500\n",
      "Epoch 27/50\n",
      "11/11 - 0s - loss: 0.0148 - accuracy: 0.9971 - val_loss: 0.6480 - val_accuracy: 0.7467\n",
      "Epoch 28/50\n",
      "11/11 - 0s - loss: 0.0116 - accuracy: 1.0000 - val_loss: 0.6547 - val_accuracy: 0.7500\n",
      "Epoch 29/50\n",
      "11/11 - 1s - loss: 0.0101 - accuracy: 0.9986 - val_loss: 0.6520 - val_accuracy: 0.7667\n",
      "Epoch 30/50\n",
      "11/11 - 0s - loss: 0.0070 - accuracy: 1.0000 - val_loss: 0.6676 - val_accuracy: 0.7533\n",
      "Epoch 31/50\n",
      "11/11 - 1s - loss: 0.0139 - accuracy: 0.9971 - val_loss: 0.6660 - val_accuracy: 0.7633\n",
      "Epoch 32/50\n",
      "11/11 - 0s - loss: 0.0064 - accuracy: 1.0000 - val_loss: 0.6723 - val_accuracy: 0.7733\n",
      "Epoch 33/50\n",
      "11/11 - 0s - loss: 0.0058 - accuracy: 1.0000 - val_loss: 0.6892 - val_accuracy: 0.7600\n",
      "Epoch 34/50\n",
      "11/11 - 0s - loss: 0.0038 - accuracy: 1.0000 - val_loss: 0.7058 - val_accuracy: 0.7600\n",
      "Epoch 35/50\n",
      "11/11 - 0s - loss: 0.0041 - accuracy: 1.0000 - val_loss: 0.7188 - val_accuracy: 0.7633\n",
      "Epoch 36/50\n",
      "11/11 - 1s - loss: 0.0042 - accuracy: 1.0000 - val_loss: 0.7242 - val_accuracy: 0.7633\n",
      "Epoch 37/50\n",
      "11/11 - 0s - loss: 0.0126 - accuracy: 0.9971 - val_loss: 0.6959 - val_accuracy: 0.7567\n",
      "Epoch 38/50\n",
      "11/11 - 0s - loss: 0.0060 - accuracy: 1.0000 - val_loss: 0.7134 - val_accuracy: 0.7767\n",
      "Epoch 39/50\n",
      "11/11 - 0s - loss: 0.0045 - accuracy: 1.0000 - val_loss: 0.7451 - val_accuracy: 0.7500\n",
      "Epoch 40/50\n",
      "11/11 - 0s - loss: 0.0029 - accuracy: 1.0000 - val_loss: 0.7790 - val_accuracy: 0.7433\n",
      "Epoch 41/50\n",
      "11/11 - 0s - loss: 0.0102 - accuracy: 0.9971 - val_loss: 0.7318 - val_accuracy: 0.7567\n",
      "Epoch 42/50\n",
      "11/11 - 0s - loss: 0.0072 - accuracy: 0.9971 - val_loss: 0.7515 - val_accuracy: 0.7467\n",
      "Epoch 43/50\n",
      "11/11 - 0s - loss: 0.0067 - accuracy: 0.9971 - val_loss: 0.7434 - val_accuracy: 0.7500\n",
      "Epoch 44/50\n",
      "11/11 - 1s - loss: 0.0037 - accuracy: 1.0000 - val_loss: 0.7463 - val_accuracy: 0.7633\n",
      "Epoch 45/50\n",
      "11/11 - 1s - loss: 0.0029 - accuracy: 1.0000 - val_loss: 0.7735 - val_accuracy: 0.7633\n",
      "Epoch 46/50\n",
      "11/11 - 0s - loss: 0.0031 - accuracy: 1.0000 - val_loss: 0.7886 - val_accuracy: 0.7600\n",
      "Epoch 47/50\n",
      "11/11 - 0s - loss: 0.0022 - accuracy: 1.0000 - val_loss: 0.7922 - val_accuracy: 0.7633\n",
      "Epoch 48/50\n",
      "11/11 - 0s - loss: 0.0024 - accuracy: 1.0000 - val_loss: 0.7943 - val_accuracy: 0.7600\n",
      "Epoch 49/50\n",
      "11/11 - 1s - loss: 0.0016 - accuracy: 1.0000 - val_loss: 0.7970 - val_accuracy: 0.7600\n",
      "Epoch 50/50\n",
      "11/11 - 0s - loss: 0.0027 - accuracy: 1.0000 - val_loss: 0.7994 - val_accuracy: 0.7600\n",
      "22/22 [==============================] - 0s 4ms/step - loss: 9.0586e-04 - accuracy: 1.0000\b\b\b\b\b\b\b\b\b\b\b\b\b\b\b\b\b\b\b\b\b\b\b\b\b\b\b\b\b\b\b\b\b\b\b\b\b\b\b\b\b\b\b\b\b\b\b\b\b\b\b\b\b\b\b\b\b\b\b\b\b\b\b\b\b\b\b\b\b\b\b\b\b\b\b\b\b\b\b\b\b\b\b\b\b\b\b\b\b\b\b\b\b\b\b\b\b\b\b\b\b\b\b\b\b\b\b\b\b\b\b\b\b\b\b\b\b\b\b\b\b\b\b\b\b\b\b\b\b\b\b\b\b\b\b\b\b\b\b\b\b\b\b\b\b\b\b\b\b\b\b\b\b\b\b\b\b\b\b\b\b\b\b\b\b\b\b\b\n",
      "训练集：loss 0.001, 准确率：1.000\n",
      "10/10 [==============================] - 0s 5ms/step - loss: 0.7994 - accuracy: 0.7600\b\b\b\b\b\b\b\b\b\b\b\b\b\b\b\b\b\b\b\b\b\b\b\b\b\b\b\b\b\b\b\b\b\b\b\b\b\b\b\b\b\b\b\b\b\b\b\b\b\b\b\b\b\b\b\b\b\b\b\b\b\b\b\b\b\b\b\b\b\b\b\b\b\b\b\b\b\b\n",
      "测试集：loss 0.799, 准确率：0.760\n"
     ]
    }
   ],
   "source": [
    "nn_model.fit(X_train,y_train,batch_size=batch_size,\n",
    "             epochs=50,verbose=2,validation_data=(X_test,y_test))\n",
    "# verbose 是否显示日志信息，0不显示，1显示进度条，2不显示进度条\n",
    "loss, accuracy = nn_model.evaluate(X_train, y_train, verbose=1)\n",
    "print(\"训练集：loss {0:.3f}, 准确率：{1:.3f}\".format(loss, accuracy))\n",
    "loss, accuracy = nn_model.evaluate(X_test, y_test, verbose=1)\n",
    "print(\"测试集：loss {0:.3f}, 准确率：{1:.3f}\".format(loss, accuracy))"
   ],
   "metadata": {
    "collapsed": false,
    "pycharm": {
     "name": "#%%\n"
    }
   }
  },
  {
   "cell_type": "code",
   "execution_count": 47,
   "outputs": [
    {
     "name": "stdout",
     "output_type": "stream",
     "text": [
      "预测i am not very good.的类别为： 0\n",
      "预测i am very good.的类别为： 1\n"
     ]
    }
   ],
   "source": [
    "text = [\"i am not very good.\", \"i am very good.\"]\n",
    "x = tokenizer.texts_to_sequences(text)\n",
    "x = pad_sequences(x, maxlen=maxlen, padding='post')\n",
    "pred = nn_model.predict(x)\n",
    "print(\"预测{}的类别为：\".format(text[0]), 1 if pred[0][0]>=0.5 else 0)\n",
    "print(\"预测{}的类别为：\".format(text[1]), 1 if pred[1][0]>=0.5 else 0)\n"
   ],
   "metadata": {
    "collapsed": false,
    "pycharm": {
     "name": "#%%\n"
    }
   }
  }
 ],
 "metadata": {
  "kernelspec": {
   "display_name": "Python 3",
   "language": "python",
   "name": "python3"
  },
  "language_info": {
   "codemirror_mode": {
    "name": "ipython",
    "version": 2
   },
   "file_extension": ".py",
   "mimetype": "text/x-python",
   "name": "python",
   "nbconvert_exporter": "python",
   "pygments_lexer": "ipython2",
   "version": "2.7.6"
  }
 },
 "nbformat": 4,
 "nbformat_minor": 0
}