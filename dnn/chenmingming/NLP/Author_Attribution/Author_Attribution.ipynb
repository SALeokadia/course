{
 "cells": [
  {
   "cell_type": "code",
   "execution_count": 5,
   "metadata": {
    "collapsed": true
   },
   "outputs": [
    {
     "name": "stdout",
     "output_type": "stream",
     "text": [
      "文本A的长度：216394\n",
      "文本B的长度：230867\n"
     ]
    }
   ],
   "source": [
    "# 有两个作者的文章（A, B），定义为0， 1\n",
    "A = 0 # hamilton\n",
    "B = 1 # madison\n",
    "UNKNOWN = -1\n",
    "\n",
    "def preprocessing(file_path):\n",
    "    with open(file_path, 'r') as f:\n",
    "        lines = f.readlines()\n",
    "        text = ' '.join(lines[1:]).replace('\\n',' ').replace('  ', ' ').lower().replace('hamilton','').replace('madison','')\n",
    "        text = ' '.join(text.split())\n",
    "        return text\n",
    "\n",
    "# 把同一作者的文章全部合并到一个文件\n",
    "textA, textB = '', ''\n",
    "\n",
    "import os\n",
    "for file in os.listdir('./papers/A'):\n",
    "    textA += preprocessing('./papers/A/'+file)\n",
    "for file in os.listdir('./papers/B'):\n",
    "    textB += preprocessing('./papers/B/'+file)\n",
    "print(\"文本A的长度：{}\".format(len(textA)))\n",
    "print(\"文本B的长度：{}\".format(len(textB)))"
   ]
  },
  {
   "cell_type": "code",
   "execution_count": null,
   "outputs": [],
   "source": [
    "from keras.preprocessing.text import Tokenizer\n",
    "SEQ_LEN = 30 # 切分序列的长度，超参数\n",
    "\n",
    "def make_subsequence()"
   ],
   "metadata": {
    "collapsed": false,
    "pycharm": {
     "name": "#%%\n"
    }
   }
  }
 ],
 "metadata": {
  "kernelspec": {
   "display_name": "Python 3",
   "language": "python",
   "name": "python3"
  },
  "language_info": {
   "codemirror_mode": {
    "name": "ipython",
    "version": 2
   },
   "file_extension": ".py",
   "mimetype": "text/x-python",
   "name": "python",
   "nbconvert_exporter": "python",
   "pygments_lexer": "ipython2",
   "version": "2.7.6"
  }
 },
 "nbformat": 4,
 "nbformat_minor": 0
}