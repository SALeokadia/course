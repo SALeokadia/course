{
 "cells": [
  {
   "cell_type": "code",
   "execution_count": 1,
   "metadata": {},
   "outputs": [
    {
     "name": "stdout",
     "output_type": "stream",
     "text": [
      "文本A的长度：216394\n",
      "文本B的长度：230867\n"
     ]
    }
   ],
   "source": [
    "# 有两个作者的文章（A, B），定义为0， 1\n",
    "A = 0 # hamilton\n",
    "B = 1 # madison\n",
    "UNKNOWN = -1\n",
    "\n",
    "def preprocessing(file_path):\n",
    "    with open(file_path, 'r') as f:\n",
    "        lines = f.readlines()\n",
    "        text = ' '.join(lines[1:]).replace('\\n',' ').replace('  ', ' ').lower().replace('hamilton','').replace('madison','')\n",
    "        text = ' '.join(text.split())\n",
    "        return text\n",
    "\n",
    "# 把同一作者的文章全部合并到一个文件\n",
    "textA, textB = '', ''\n",
    "\n",
    "import os\n",
    "for file in os.listdir('./papers/A'):\n",
    "    textA += preprocessing('./papers/A/'+file)\n",
    "for file in os.listdir('./papers/B'):\n",
    "    textB += preprocessing('./papers/B/'+file)\n",
    "print(\"文本A的长度：{}\".format(len(textA)))\n",
    "print(\"文本B的长度：{}\".format(len(textB)))"
   ]
  },
  {
   "cell_type": "code",
   "execution_count": 2,
   "metadata": {
    "pycharm": {
     "name": "#%%\n"
    }
   },
   "outputs": [],
   "source": [
    "SEQ_LEN = 30 # 切分序列的长度，超参数\n",
    "import numpy as np\n",
    "def make_subsequence(long_seq, label, seq_len=SEQ_LEN):\n",
    "    numofsubseq = len(long_seq)-seq_len+1\n",
    "    X = np.zeros((numofsubseq, seq_len))\n",
    "    y = np.zeros((numofsubseq, 1))\n",
    "    for i in range(numofsubseq):\n",
    "        X[i] = long_seq[i:i+seq_len]\n",
    "        y[i] = label\n",
    "    return X, y\n"
   ]
  },
  {
   "cell_type": "code",
   "execution_count": 3,
   "metadata": {
    "pycharm": {
     "name": "#%%\n"
    }
   },
   "outputs": [
    {
     "name": "stdout",
     "output_type": "stream",
     "text": [
      "字符的种类：52\n",
      "A训练集大小：(216365, 30)\n",
      "B训练集大小：(230838, 30)\n"
     ]
    }
   ],
   "source": [
    "from keras.preprocessing.text import Tokenizer\n",
    "char_tokenizer = Tokenizer(char_level=True)\n",
    "\n",
    "char_tokenizer.fit_on_texts(textA + textB)\n",
    "\n",
    "long_seq_a = char_tokenizer.texts_to_sequences([textA])[0]\n",
    "long_seq_b = char_tokenizer.texts_to_sequences([textB])[0]\n",
    "\n",
    "Xa, ya = make_subsequence(long_seq_a, A)\n",
    "Xb, yb = make_subsequence(long_seq_b, B)\n",
    "print('字符的种类：{}'.format(len(char_tokenizer.word_index))) # 52\n",
    "# {' ': 1, 'e': 2, 't': 3, 'o': 4, 'i': 5, 'n': 6, 'a': 7, 's': 8, 'r': 9, 'h': 10,\n",
    "#  'l': 11, 'd': 12, 'c': 13, 'u': 14, 'f': 15, 'm': 16, 'p': 17, 'b': 18, 'y': 19, 'w': 20,\n",
    "#  ',': 21, 'g': 22, 'v': 23, '.': 24, 'x': 25, 'k': 26, 'j': 27, ';': 28, 'q': 29, 'z': 30,\n",
    "#  '-': 31, '?': 32, '\"': 33, '1': 34, ':': 35, '8': 36, '7': 37, '(': 38, ')': 39, '2': 40,\n",
    "#  '0': 41, '3': 42, '4': 43, '6': 44, \"'\": 45, '!': 46, ']': 47, '5': 48, '[': 49, '@': 50,\n",
    "#  '9': 51, '%': 52}\n",
    "print('A训练集大小：{}'.format(Xa.shape))\n",
    "print('B训练集大小：{}'.format(Xb.shape))"
   ]
  },
  {
   "cell_type": "code",
   "execution_count": 4,
   "metadata": {
    "pycharm": {
     "name": "#%%\n"
    }
   },
   "outputs": [],
   "source": [
    "# 堆叠AB训练数据在一起\n",
    "X = np.vstack((Xa, Xb))\n",
    "y = np.vstack((ya, yb))\n",
    "\n",
    "# 训练集测试集拆分\n",
    "from sklearn.model_selection import train_test_split\n",
    "X_train, X_test, y_train, y_test = train_test_split(X, y, test_size=0.2)\n"
   ]
  },
  {
   "cell_type": "code",
   "execution_count": 5,
   "metadata": {
    "pycharm": {
     "name": "#%%\n"
    }
   },
   "outputs": [
    {
     "name": "stdout",
     "output_type": "stream",
     "text": [
      "Model: \"sequential\"\n",
      "_________________________________________________________________\n",
      "Layer (type)                 Output Shape              Param #   \n",
      "=================================================================\n",
      "embedding (Embedding)        (None, 30, 128)           6784      \n",
      "_________________________________________________________________\n",
      "simple_rnn (SimpleRNN)       (None, 256)               98560     \n",
      "_________________________________________________________________\n",
      "dense (Dense)                (None, 1)                 257       \n",
      "=================================================================\n",
      "Total params: 105,601\n",
      "Trainable params: 105,601\n",
      "Non-trainable params: 0\n",
      "_________________________________________________________________\n"
     ]
    }
   ],
   "source": [
    "from keras.models import Sequential\n",
    "from keras.layers import SimpleRNN, Dense, Embedding\n",
    "from keras.optimizers import Adam\n",
    "\n",
    "Embedding_dim = 128\n",
    "RNN_size = 256\n",
    "\n",
    "model = Sequential()\n",
    "model.add(Embedding(input_dim=len(char_tokenizer.word_index)+1,\n",
    "                    output_dim=Embedding_dim,\n",
    "                    input_length=SEQ_LEN))\n",
    "model.add(SimpleRNN(units=RNN_size, return_sequences=False))\n",
    "model.add(Dense(1, activation='sigmoid'))\n",
    "\n",
    "model.compile(optimizer='adam', loss='binary_crossentropy',metrics=['accuracy'])\n",
    "model.summary()"
   ]
  },
  {
   "cell_type": "code",
   "execution_count": 6,
   "metadata": {
    "pycharm": {
     "name": "#%%\n"
    }
   },
   "outputs": [
    {
     "name": "stdout",
     "output_type": "stream",
     "text": [
      "Epoch 1/20\n",
      "88/88 [==============================] - 59s 669ms/step - loss: 0.6877 - accuracy: 0.5436 - val_loss: 0.6856 - val_accuracy: 0.5540\n",
      "Epoch 2/20\n",
      "88/88 [==============================] - 56s 634ms/step - loss: 0.6830 - accuracy: 0.5564 - val_loss: 0.6844 - val_accuracy: 0.5550\n",
      "Epoch 3/20\n",
      "88/88 [==============================] - 56s 633ms/step - loss: 0.6825 - accuracy: 0.5577 - val_loss: 0.6829 - val_accuracy: 0.5563\n",
      "Epoch 4/20\n",
      "88/88 [==============================] - 56s 634ms/step - loss: 0.6816 - accuracy: 0.5585 - val_loss: 0.6788 - val_accuracy: 0.5641\n",
      "Epoch 5/20\n",
      "88/88 [==============================] - 56s 637ms/step - loss: 0.6714 - accuracy: 0.5813 - val_loss: 0.6670 - val_accuracy: 0.5877\n",
      "Epoch 6/20\n",
      "88/88 [==============================] - 56s 637ms/step - loss: 0.6532 - accuracy: 0.6113 - val_loss: 0.6435 - val_accuracy: 0.6235\n",
      "Epoch 7/20\n",
      "88/88 [==============================] - 57s 648ms/step - loss: 0.6287 - accuracy: 0.6424 - val_loss: 0.6159 - val_accuracy: 0.6563\n",
      "Epoch 8/20\n",
      "88/88 [==============================] - 55s 620ms/step - loss: 0.5932 - accuracy: 0.6807 - val_loss: 0.5747 - val_accuracy: 0.6971\n",
      "Epoch 9/20\n",
      "88/88 [==============================] - 54s 615ms/step - loss: 0.5383 - accuracy: 0.7271 - val_loss: 0.5822 - val_accuracy: 0.7178\n",
      "Epoch 10/20\n",
      "88/88 [==============================] - 56s 632ms/step - loss: 0.4803 - accuracy: 0.7687 - val_loss: 0.4536 - val_accuracy: 0.7846\n",
      "Epoch 11/20\n",
      "88/88 [==============================] - 61s 690ms/step - loss: 0.3979 - accuracy: 0.8190 - val_loss: 0.3940 - val_accuracy: 0.8195\n",
      "Epoch 12/20\n",
      "88/88 [==============================] - 60s 687ms/step - loss: 0.3257 - accuracy: 0.8572 - val_loss: 0.3248 - val_accuracy: 0.8564\n",
      "Epoch 13/20\n",
      "88/88 [==============================] - 59s 668ms/step - loss: 0.2637 - accuracy: 0.8897 - val_loss: 0.2980 - val_accuracy: 0.8742\n",
      "Epoch 14/20\n",
      "88/88 [==============================] - 56s 638ms/step - loss: 0.2154 - accuracy: 0.9115 - val_loss: 0.2326 - val_accuracy: 0.9023\n",
      "Epoch 15/20\n",
      "88/88 [==============================] - 56s 639ms/step - loss: 0.1822 - accuracy: 0.9277 - val_loss: 0.2112 - val_accuracy: 0.9130\n",
      "Epoch 16/20\n",
      "88/88 [==============================] - 56s 640ms/step - loss: 0.1504 - accuracy: 0.9412 - val_loss: 0.1803 - val_accuracy: 0.9267\n",
      "Epoch 17/20\n",
      "88/88 [==============================] - 58s 660ms/step - loss: 0.1298 - accuracy: 0.9499 - val_loss: 0.1662 - val_accuracy: 0.9331\n",
      "Epoch 18/20\n",
      "88/88 [==============================] - 57s 643ms/step - loss: 0.1132 - accuracy: 0.9567 - val_loss: 0.1643 - val_accuracy: 0.9358\n",
      "Epoch 19/20\n",
      "88/88 [==============================] - 58s 659ms/step - loss: 0.1018 - accuracy: 0.9613 - val_loss: 0.1409 - val_accuracy: 0.9441\n",
      "Epoch 20/20\n",
      "88/88 [==============================] - 57s 642ms/step - loss: 0.0907 - accuracy: 0.9659 - val_loss: 0.1325 - val_accuracy: 0.9475\n"
     ]
    }
   ],
   "source": [
    "batch_size = 4096\n",
    "epochs = 20\n",
    "history = model.fit(X_train, y_train, batch_size=batch_size, epochs=epochs,\n",
    "                    validation_data=(X_test, y_test),verbose=1)"
   ]
  },
  {
   "cell_type": "code",
   "execution_count": 9,
   "metadata": {
    "pycharm": {
     "name": "#%%\n"
    }
   },
   "outputs": [
    {
     "data": {
      "image/png": "[encoded data removed]",
      "text/plain": [
       "<Figure size 576x360 with 1 Axes>"
      ]
     },
     "metadata": {
      "needs_background": "light"
     },
     "output_type": "display_data"
    }
   ],
   "source": [
    "import pandas as pd\n",
    "import matplotlib.pyplot as plt\n",
    "pd.DataFrame(history.history).plot(figsize=(8, 5))\n",
    "plt.grid(True)\n",
    "plt.gca().set_ylim(0, 1) # set the vertical range to [0-1]\n",
    "plt.show()"
   ]
  },
  {
   "cell_type": "code",
   "execution_count": 10,
   "metadata": {
    "pycharm": {
     "name": "#%%\n"
    }
   },
   "outputs": [
    {
     "name": "stdout",
     "output_type": "stream",
     "text": [
      "文章 paper_1.txt 被预测为 B:madison 写的，投票数 12211 ： 8563\n",
      "文章 paper_2.txt 被预测为 B:madison 写的，投票数 10899 ： 8747\n",
      "文章 paper_3.txt 被预测为 A:hamilton 写的，投票数 7041 ： 6343\n",
      "文章 paper_4.txt 被预测为 A:hamilton 写的，投票数 5063 ： 4710\n",
      "文章 paper_5.txt 被预测为 A:hamilton 写的，投票数 6878 ： 4876\n"
     ]
    }
   ],
   "source": [
    "# 测试\n",
    "# 测试数据处理\n",
    "for file in os.listdir('./papers/Unknown'):\n",
    "    unk_file = preprocessing('./papers/Unknown/'+file)\n",
    "    unk_file_seq = char_tokenizer.texts_to_sequences([unk_file])[0]\n",
    "    X_unk, _ = make_subsequence(unk_file_seq, UNKNOWN)\n",
    "    y_pred = model.predict(X_unk)\n",
    "    y_pred = y_pred > 0.5\n",
    "    votesA = np.sum(y_pred==0)\n",
    "    votesB = np.sum(y_pred==1)\n",
    "    print(\"文章 {} 被预测为 {} 写的，投票数 {} ： {}\".format(\n",
    "        file,\n",
    "        \"A:hamilton\" if votesA > votesB else \"B:madison\",\n",
    "        max(votesA, votesB),\n",
    "        min(votesA, votesB)\n",
    "    ))\n"
   ]
  }
 ],
 "metadata": {
  "kernelspec": {
   "display_name": "Python 3",
   "language": "python",
   "name": "python3"
  },
  "language_info": {
   "codemirror_mode": {
    "name": "ipython",
    "version": 3
   },
   "file_extension": ".py",
   "mimetype": "text/x-python",
   "name": "python",
   "nbconvert_exporter": "python",
   "pygments_lexer": "ipython3",
   "version": "3.7.9"
  }
 },
 "nbformat": 4,
 "nbformat_minor": 1
}
