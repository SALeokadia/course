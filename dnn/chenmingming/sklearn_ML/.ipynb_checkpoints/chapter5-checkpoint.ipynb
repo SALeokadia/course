{
 "cells": [
  {
   "cell_type": "code",
   "execution_count": 11,
   "metadata": {},
   "outputs": [
    {
     "name": "stdout",
     "output_type": "stream",
     "text": [
      "[[1.1875    ]\n",
      " [1.01041667]\n",
      " [0.39583333]]\n",
      "(array([[1.1875    ],\n",
      "       [1.01041667],\n",
      "       [0.39583333]]), array([8.22916667]), 3, array([26.97402951,  2.46027806,  0.59056212]))\n"
     ]
    },
    {
     "name": "stderr",
     "output_type": "stream",
     "text": [
      "c:\\program files\\python37\\lib\\site-packages\\ipykernel_launcher.py:9: FutureWarning: `rcond` parameter will change to the default of machine precision times ``max(M, N)`` where M and N are the input matrix dimensions.\n",
      "To use the future default and silence this warning we advise to pass `rcond=None`, to keep using the old, explicitly pass `rcond=-1`.\n",
      "  if __name__ == '__main__':\n"
     ]
    }
   ],
   "source": [
    "from numpy.linalg import inv\n",
    "from numpy import dot, transpose\n",
    "X = [[1, 6, 2], [1, 8, 1], [1, 10, 0], [1, 14, 2], [1, 18, 0]]\n",
    "y = [[7], [9], [13], [17.5], [18]]\n",
    "print(dot(inv(dot(transpose(X),X)), dot(transpose(X),y)))\n",
    "\n",
    "from numpy.linalg import lstsq\n",
    "# help(lstsq)\n",
    "print(lstsq(X,y))"
   ]
  },
  {
   "cell_type": "code",
   "execution_count": 17,
   "metadata": {},
   "outputs": [
    {
     "name": "stdout",
     "output_type": "stream",
     "text": [
      "预测值：[10.0625], 实际值：[11]\n",
      "预测值：[10.28125], 实际值：[8.5]\n",
      "预测值：[13.09375], 实际值：[15]\n",
      "预测值：[18.14583333], 实际值：[18]\n",
      "预测值：[13.3125], 实际值：[11]\n",
      "0.7701677731318468\n"
     ]
    }
   ],
   "source": [
    "from sklearn.linear_model import LinearRegression\n",
    "X = [[6, 2], [8, 1], [10, 0], [14, 2], [18, 0]]\n",
    "y = [[7], [9], [13], [17.5], [18]]\n",
    "\n",
    "model = LinearRegression()\n",
    "model.fit(X, y)\n",
    "\n",
    "X_test = [[8, 2], [9, 0], [11, 2], [16, 2], [12, 0]]\n",
    "y_test = [[11], [8.5], [15], [18], [11]]\n",
    "predictions = model.predict(X_test)\n",
    "\n",
    "for i, pred in enumerate(predictions):\n",
    "    print(\"预测值：%s, 实际值：%s\" %(pred, y_test[i]))\n",
    "print(model.score(X_test,y_test))"
   ]
  },
  {
   "cell_type": "code",
   "execution_count": 25,
   "metadata": {},
   "outputs": [
    {
     "name": "stdout",
     "output_type": "stream",
     "text": [
      "原特征\n",
      " [[6], [8], [10], [14], [18]]\n",
      "二次项特征\n",
      " [[  1.   6.  36.]\n",
      " [  1.   8.  64.]\n",
      " [  1.  10. 100.]\n",
      " [  1.  14. 196.]\n",
      " [  1.  18. 324.]]\n"
     ]
    },
    {
     "data": {
      "image/png": "[encoded data removed]",
      "text/plain": [
       "<Figure size 432x288 with 1 Axes>"
      ]
     },
     "metadata": {
      "needs_background": "light"
     },
     "output_type": "display_data"
    },
    {
     "name": "stdout",
     "output_type": "stream",
     "text": [
      "简单线性回归 r-squared值 0.809726797707665\n",
      "二次多项式回归 r-squared值 0.8675443656345054\n"
     ]
    }
   ],
   "source": [
    "import numpy as np\n",
    "import matplotlib.pyplot as plt\n",
    "from sklearn.linear_model import LinearRegression\n",
    "from sklearn.preprocessing import PolynomialFeatures\n",
    "\n",
    "X_train = [[6], [8], [10], [14], [18]] # 直径\n",
    "y_train = [[7], [9], [13], [17.5], [18]]\n",
    "X_test = [[6], [8], [11], [16]] # 价格\n",
    "y_test = [[8], [12], [15], [18]]\n",
    "regressor = LinearRegression()\n",
    "regressor.fit(X_train, y_train)\n",
    "xx = np.linspace(0, 26, 100)\n",
    "yy = regressor.predict(xx.reshape(xx.shape[0], 1))\n",
    "plt.plot(xx, yy, c='g',linestyle='-')\n",
    "\n",
    "# 2次项特征转换器\n",
    "quadratic_featurizer = PolynomialFeatures(degree=2)\n",
    "X_train_quadratic = quadratic_featurizer.fit_transform(X_train)\n",
    "X_test_quadratic = quadratic_featurizer.transform(X_test)\n",
    "print(\"原特征\\n\",X_train)\n",
    "print(\"二次项特征\\n\",X_train_quadratic)\n",
    "\n",
    "regressor_quadratic = LinearRegression()\n",
    "regressor_quadratic.fit(X_train_quadratic, y_train)\n",
    "xx_quadratic = quadratic_featurizer.transform(xx.reshape(xx.shape[0], 1))\n",
    "plt.plot(xx, regressor_quadratic.predict(xx_quadratic), c='r', linestyle='--')\n",
    "plt.rcParams['font.sans-serif'] = 'SimHei'  # 消除中文乱码\n",
    "plt.title('披萨价格 VS 直径')\n",
    "plt.xlabel('直径')\n",
    "plt.ylabel('价格')\n",
    "plt.axis([0, 25, 0, 25])\n",
    "plt.grid(True)\n",
    "plt.scatter(X_train, y_train)\n",
    "plt.show()\n",
    "\n",
    "print('简单线性回归 r-squared值', regressor.score(X_test, y_test))\n",
    "print('二次多项式回归 r-squared值', regressor_quadratic.score(X_test_quadratic, y_test))"
   ]
  },
  {
   "cell_type": "code",
   "execution_count": 20,
   "metadata": {},
   "outputs": [
    {
     "name": "stdout",
     "output_type": "stream",
     "text": [
      "[[  1.   6.  36.]\n",
      " [  1.   8.  64.]\n",
      " [  1.  10. 100.]\n",
      " [  1.  14. 196.]\n",
      " [  1.  18. 324.]]\n"
     ]
    },
    {
     "data": {
      "image/png": "[encoded data removed]",
      "text/plain": [
       "<Figure size 432x288 with 1 Axes>"
      ]
     },
     "metadata": {
      "needs_background": "light"
     },
     "output_type": "display_data"
    },
    {
     "name": "stdout",
     "output_type": "stream",
     "text": [
      "[[6], [8], [10], [14], [18]]\n",
      "[[  1.   6.  36.]\n",
      " [  1.   8.  64.]\n",
      " [  1.  10. 100.]\n",
      " [  1.  14. 196.]\n",
      " [  1.  18. 324.]]\n",
      "[[6], [8], [11], [16]]\n",
      "[[  1.   6.  36.]\n",
      " [  1.   8.  64.]\n",
      " [  1.  11. 121.]\n",
      " [  1.  16. 256.]]\n",
      "Simple linear regression r-squared 0.809726797707665\n",
      "Quadratic regression r-squared 0.8675443656345054\n"
     ]
    }
   ],
   "source": []
  }
 ],
 "metadata": {
  "kernelspec": {
   "display_name": "Python 3",
   "language": "python",
   "name": "python3"
  },
  "language_info": {
   "codemirror_mode": {
    "name": "ipython",
    "version": 3
   },
   "file_extension": ".py",
   "mimetype": "text/x-python",
   "name": "python",
   "nbconvert_exporter": "python",
   "pygments_lexer": "ipython3",
   "version": "3.7.2"
  }
 },
 "nbformat": 4,
 "nbformat_minor": 2
}
