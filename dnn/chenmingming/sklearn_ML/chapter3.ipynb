{
 "cells": [
  {
   "cell_type": "code",
   "execution_count": 15,
   "metadata": {},
   "outputs": [
    {
     "data": {
      "text/plain": [
       "<matplotlib.legend.Legend at 0x219a8f41f28>"
      ]
     },
     "execution_count": 15,
     "metadata": {},
     "output_type": "execute_result"
    },
    {
     "data": {
      "image/png": "[encoded data removed]",
      "text/plain": [
       "<Figure size 432x288 with 1 Axes>"
      ]
     },
     "metadata": {
      "needs_background": "light"
     },
     "output_type": "display_data"
    }
   ],
   "source": [
    "import numpy as np\n",
    "import matplotlib.pyplot as plt\n",
    "\n",
    "X_train = np.array([\n",
    "    [158, 64],\n",
    "    [170, 86],\n",
    "    [183, 84],\n",
    "    [191, 80],\n",
    "    [155, 49],\n",
    "    [163, 59],\n",
    "    [180, 67],\n",
    "    [158, 54],\n",
    "    [170, 67]\n",
    "])\n",
    "y_train = ['male', 'male', 'male', 'male', 'female', 'female', 'female', 'female', 'female']\n",
    "\n",
    "plt.figure()\n",
    "plt.title('Human Heights and Weights by Sex')\n",
    "plt.xlabel('Height in cm')\n",
    "plt.ylabel('Weight in kg')\n",
    "\n",
    "for i, x in enumerate(X_train):\n",
    "    if y_train[i] == 'male':\n",
    "        c1 = plt.scatter(x[0], x[1], c='k', marker='x')\n",
    "    else:\n",
    "        c2 = plt.scatter(x[0], x[1], c='r', marker='o')\n",
    "plt.grid(True)\n",
    "plt.legend((c1,c2),('male','female'),loc='lower right')\n",
    "# plt.show()"
   ]
  },
  {
   "cell_type": "code",
   "execution_count": 18,
   "metadata": {},
   "outputs": [
    {
     "data": {
      "text/plain": [
       "array([ 6.70820393, 21.9317122 , 31.30495168, 37.36308338, 21.        ,\n",
       "       13.60147051, 25.17935662, 16.2788206 , 15.29705854])"
      ]
     },
     "execution_count": 18,
     "metadata": {},
     "output_type": "execute_result"
    }
   ],
   "source": [
    "x = np.array([[155,70]])\n",
    "dis = np.sqrt(np.sum((X_train-x)**2 ,axis = 1))\n",
    "dis"
   ]
  },
  {
   "cell_type": "code",
   "execution_count": 22,
   "metadata": {},
   "outputs": [
    {
     "data": {
      "text/plain": [
       "['male', 'female', 'female']"
      ]
     },
     "execution_count": 22,
     "metadata": {},
     "output_type": "execute_result"
    }
   ],
   "source": [
    "nearset_k_neighbor = dis.argsort()[0:3]\n",
    "k_genders = [y_train[i] for i in nearset_k_neighbor]\n",
    "k_genders"
   ]
  },
  {
   "cell_type": "code",
   "execution_count": 25,
   "metadata": {},
   "outputs": [
    {
     "data": {
      "text/plain": [
       "Counter({'male': 1, 'female': 2})"
      ]
     },
     "execution_count": 25,
     "metadata": {},
     "output_type": "execute_result"
    }
   ],
   "source": [
    "from collections import Counter\n",
    "# b = Counter(np.take(y_train, dis.argsort()[0:3]))\n",
    "b = Counter(k_genders)\n",
    "b # Counter({'male': 1, 'female': 2})"
   ]
  },
  {
   "cell_type": "code",
   "execution_count": 31,
   "metadata": {},
   "outputs": [
    {
     "data": {
      "text/plain": [
       "'female'"
      ]
     },
     "execution_count": 31,
     "metadata": {},
     "output_type": "execute_result"
    }
   ],
   "source": [
    "# help(Counter.most_common)\n",
    "# most_common(self, n=None)\n",
    "#     List the n most common elements and their counts from the most\n",
    "#     common to the least.  If n is None, then list all element counts.\n",
    "b.most_common(1) # [('female', 2), ('male', 1)]\n",
    "b.most_common(1)[0][0] # 'female'"
   ]
  },
  {
   "cell_type": "code",
   "execution_count": 33,
   "metadata": {},
   "outputs": [
    {
     "data": {
      "text/plain": [
       "array([[1],\n",
       "       [1],\n",
       "       [1],\n",
       "       [1],\n",
       "       [0],\n",
       "       [0],\n",
       "       [0],\n",
       "       [0],\n",
       "       [0]])"
      ]
     },
     "execution_count": 33,
     "metadata": {},
     "output_type": "execute_result"
    }
   ],
   "source": [
    "from sklearn.preprocessing import LabelBinarizer\n",
    "from sklearn.neighbors import KNeighborsClassifier\n",
    "\n",
    "lb = LabelBinarizer()\n",
    "y_train_lb = lb.fit_transform(y_train)\n",
    "y_train_lb"
   ]
  },
  {
   "cell_type": "code",
   "execution_count": 39,
   "metadata": {},
   "outputs": [
    {
     "data": {
      "text/plain": [
       "array(['female'], dtype='<U6')"
      ]
     },
     "execution_count": 39,
     "metadata": {},
     "output_type": "execute_result"
    }
   ],
   "source": [
    "K=3\n",
    "clf = KNeighborsClassifier(n_neighbors=K)\n",
    "clf.fit(X_train,y_train_lb.ravel())\n",
    "pred_gender = clf.predict(x)\n",
    "pred_gender # array([0])\n",
    "pred_label_gender = lb.inverse_transform(pred_gender)\n",
    "pred_label_gender # array(['female'], dtype='<U6')"
   ]
  },
  {
   "cell_type": "code",
   "execution_count": 43,
   "metadata": {},
   "outputs": [
    {
     "name": "stdout",
     "output_type": "stream",
     "text": [
      "Predicted labels: ['female' 'male' 'female' 'female']\n"
     ]
    }
   ],
   "source": [
    "X_test = np.array([\n",
    "    [168, 65],\n",
    "    [180, 96],\n",
    "    [160, 52],\n",
    "    [169, 67]\n",
    "])\n",
    "y_test = ['male', 'male', 'female', 'female']\n",
    "y_test_lb = lb.transform(y_test)\n",
    "\n",
    "pred_lb = clf.predict(X_test)\n",
    "print('Predicted labels: %s' % lb.inverse_transform(pred_lb))"
   ]
  },
  {
   "cell_type": "code",
   "execution_count": 45,
   "metadata": {},
   "outputs": [
    {
     "data": {
      "text/plain": [
       "1.0"
      ]
     },
     "execution_count": 45,
     "metadata": {},
     "output_type": "execute_result"
    }
   ],
   "source": [
    "from sklearn.metrics import accuracy_score\n",
    "accuracy_score(y_test_lb, pred_lb)\n",
    "from sklearn.metrics import precision_score\n",
    "precision_score(y_test_lb, pred_lb)"
   ]
  },
  {
   "cell_type": "code",
   "execution_count": 46,
   "metadata": {},
   "outputs": [
    {
     "data": {
      "text/plain": [
       "0.5"
      ]
     },
     "execution_count": 46,
     "metadata": {},
     "output_type": "execute_result"
    }
   ],
   "source": [
    "# 召回率： 男预测男/(男预测男+男预测女)\n",
    "from sklearn.metrics import recall_score\n",
    "recall_score(y_test_lb, pred_lb)"
   ]
  },
  {
   "cell_type": "code",
   "execution_count": 47,
   "metadata": {},
   "outputs": [
    {
     "data": {
      "text/plain": [
       "0.6666666666666666"
      ]
     },
     "execution_count": 47,
     "metadata": {},
     "output_type": "execute_result"
    }
   ],
   "source": [
    "from sklearn.metrics import f1_score\n",
    "f1_score(y_test_lb, pred_lb) # 0.6667"
   ]
  },
  {
   "cell_type": "code",
   "execution_count": 54,
   "metadata": {},
   "outputs": [
    {
     "name": "stdout",
     "output_type": "stream",
     "text": [
      "              precision    recall  f1-score   support\n",
      "\n",
      "        male       1.00      0.50      0.67         2\n",
      "      female       0.67      1.00      0.80         2\n",
      "\n",
      "    accuracy                           0.75         4\n",
      "   macro avg       0.83      0.75      0.73         4\n",
      "weighted avg       0.83      0.75      0.73         4\n",
      "\n"
     ]
    }
   ],
   "source": [
    "from sklearn.metrics import classification_report\n",
    "# help(classification_report)\n",
    "# classification_report(y_true, y_pred, labels=None, target_names=None, s\n",
    "#        ample_weight=None, digits=2, output_dict=False, zero_division='warn')\n",
    "print(classification_report(y_test_lb, pred_lb, target_names=['male','female'], labels=[1,0]))"
   ]
  },
  {
   "cell_type": "code",
   "execution_count": 72,
   "metadata": {},
   "outputs": [
    {
     "data": {
      "text/plain": [
       "95.8888888888889"
      ]
     },
     "execution_count": 72,
     "metadata": {},
     "output_type": "execute_result"
    }
   ],
   "source": [
    "from sklearn.neighbors import KNeighborsRegressor\n",
    "from sklearn.metrics import mean_absolute_error, mean_squared_error,r2_score\n",
    "\n",
    "X_train = np.array([\n",
    "    [158,  1],\n",
    "    [170,  1],\n",
    "    [183,  1],\n",
    "    [191,  1],\n",
    "    [155,  0],\n",
    "    [163,  0],\n",
    "    [180,  0],\n",
    "    [158,  0],\n",
    "    [170,  0]\n",
    "])\n",
    "y_train = [64,86,84,80,49,59,67,54,67]\n",
    "\n",
    "X_test = np.array([\n",
    "    [168,  1],\n",
    "    [180,  1],\n",
    "    [160,  0],\n",
    "    [169,  0]\n",
    "])\n",
    "y_test = [65,96,52,67]\n",
    "\n",
    "K = 3\n",
    "clf = KNeighborsRegressor(n_neighbors=K)\n",
    "clf.fit(X_train, y_train)\n",
    "predictions = clf.predict(np.array(X_test))\n",
    "predictions # array([70.66666667, 79.        , 59.        , 70.66666667])\n",
    "\n",
    "# help(r2_score)\n",
    "# R^2 (coefficient of determination)\n",
    "r2_score(y_test, predictions) # 0.6290565226735438\n",
    "\n",
    "# 平均绝对值误差\n",
    "mean_absolute_error(y_test, predictions) # 8.333333333333336\n",
    "\n",
    "# 平均平方误差\n",
    "mean_squared_error(y_test, predictions)  # 95.8888888888889"
   ]
  },
  {
   "cell_type": "code",
   "execution_count": 70,
   "metadata": {},
   "outputs": [
    {
     "name": "stdout",
     "output_type": "stream",
     "text": [
      "60.0\n",
      "40.01249804748511\n",
      "0.06000000000000005\n",
      "1.0007996802557444\n"
     ]
    }
   ],
   "source": [
    "# from scipy.spatial.distance import euclidean\n",
    "# # help(euclidean) # 欧氏距离\n",
    "# X_train = np.array([\n",
    "#     [1700,1],\n",
    "#     [1600,0]\n",
    "# ])\n",
    "# X_test = np.array([1640,1]).reshape(1,-1)\n",
    "# print(euclidean(X_train[0,:], X_test))\n",
    "# print(euclidean(X_train[1,:], X_test))\n",
    "# # 60.0\n",
    "# # 40.01249804748511\n",
    "\n",
    "# X_train = np.array([\n",
    "#     [1.7,1],\n",
    "#     [1.6,0]\n",
    "# ])\n",
    "# X_test = np.array([1.64,1]).reshape(1,-1)\n",
    "# print(euclidean(X_train[0,:], X_test))\n",
    "# print(euclidean(X_train[1,:], X_test))\n",
    "# # 0.06000000000000005\n",
    "# # 1.0007996802557444"
   ]
  },
  {
   "cell_type": "code",
   "execution_count": 73,
   "metadata": {},
   "outputs": [
    {
     "name": "stdout",
     "output_type": "stream",
     "text": [
      "[[158   1]\n",
      " [170   1]\n",
      " [183   1]\n",
      " [191   1]\n",
      " [155   0]\n",
      " [163   0]\n",
      " [180   0]\n",
      " [158   0]\n",
      " [170   0]]\n",
      "[[-0.9908706   1.11803399]\n",
      " [ 0.01869567  1.11803399]\n",
      " [ 1.11239246  1.11803399]\n",
      " [ 1.78543664  1.11803399]\n",
      " [-1.24326216 -0.89442719]\n",
      " [-0.57021798 -0.89442719]\n",
      " [ 0.86000089 -0.89442719]\n",
      " [-0.9908706  -0.89442719]\n",
      " [ 0.01869567 -0.89442719]]\n"
     ]
    }
   ],
   "source": [
    "from sklearn.preprocessing import StandardScaler\n",
    "scaler = StandardScaler()\n",
    "X_train_scaled = scaler.fit_transform(X_train)\n",
    "\n",
    "print(X_train)\n",
    "print(X_train_scaled)"
   ]
  },
  {
   "cell_type": "code",
   "execution_count": 75,
   "metadata": {},
   "outputs": [
    {
     "data": {
      "text/plain": [
       "KNeighborsRegressor(algorithm='auto', leaf_size=30, metric='minkowski',\n",
       "                    metric_params=None, n_jobs=None, n_neighbors=3, p=2,\n",
       "                    weights='uniform')"
      ]
     },
     "execution_count": 75,
     "metadata": {},
     "output_type": "execute_result"
    }
   ],
   "source": [
    "X_test_scaled = scaler.transform(X_test)\n",
    "clf.fit(X_train_scaled, y_train)"
   ]
  },
  {
   "cell_type": "code",
   "execution_count": 81,
   "metadata": {},
   "outputs": [
    {
     "data": {
      "text/plain": [
       "85.13888888888893"
      ]
     },
     "execution_count": 81,
     "metadata": {},
     "output_type": "execute_result"
    }
   ],
   "source": [
    "pred = clf.predict(X_test_scaled)\n",
    "pred # array([78.        , 83.33333333, 54.        , 64.33333333])\n",
    "\n",
    "# R^2 (coefficient of determination)\n",
    "r2_score(y_test, pred) # 0.6706425961745109\n",
    "\n",
    "# 平均绝对值误差\n",
    "mean_absolute_error(y_test, pred) # 7.583333333333336\n",
    "\n",
    "# 平均平方误差\n",
    "mean_squared_error(y_test, pred)  # 85.13888888888893"
   ]
  }
 ],
 "metadata": {
  "kernelspec": {
   "display_name": "Python 3",
   "language": "python",
   "name": "python3"
  },
  "language_info": {
   "codemirror_mode": {
    "name": "ipython",
    "version": 3
   },
   "file_extension": ".py",
   "mimetype": "text/x-python",
   "name": "python",
   "nbconvert_exporter": "python",
   "pygments_lexer": "ipython3",
   "version": "3.7.2"
  }
 },
 "nbformat": 4,
 "nbformat_minor": 2
}
