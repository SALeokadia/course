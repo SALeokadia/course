{
 "cells": [
  {
   "cell_type": "markdown",
   "metadata": {},
   "source": [
    "# Keras tutorial - the Happy House\n",
    "\n",
    "Welcome to the first assignment of week 2. In this assignment, you will:\n",
    "1. Learn to use Keras, a high-level neural networks API (programming framework), written in Python and capable of running on top of several lower-level frameworks including TensorFlow and CNTK. \n",
    "2. See how you can in a couple of hours build a deep learning algorithm.\n",
    "\n",
    "Why are we using Keras? Keras was developed to enable deep learning engineers to build and experiment with different models very quickly. Just as TensorFlow is a higher-level framework than Python, Keras is an even higher-level framework and provides additional abstractions. Being able to go from idea to result with the least possible delay is key to finding good models. However, Keras is more restrictive than the lower-level frameworks, so there are some very complex models that you can implement in TensorFlow but not (without more difficulty) in Keras. That being said, Keras will work fine for many common models. \n",
    "\n",
    "In this exercise, you'll work on the \"Happy House\" problem, which we'll explain below. Let's load the required packages and solve the problem of the Happy House!"
   ]
  },
  {
   "cell_type": "code",
   "execution_count": 1,
   "metadata": {},
   "outputs": [
    {
     "name": "stderr",
     "output_type": "stream",
     "text": [
      "c:\\program files\\python37\\lib\\site-packages\\numpy\\_distributor_init.py:32: UserWarning: loaded more than 1 DLL from .libs:\n",
      "c:\\program files\\python37\\lib\\site-packages\\numpy\\.libs\\libopenblas.PYQHXLVVQ7VESDPUVUADXEVJOBGHJPAY.gfortran-win_amd64.dll\n",
      "c:\\program files\\python37\\lib\\site-packages\\numpy\\.libs\\libopenblas.TXA6YQSD3GCQQC22GEQ54J2UDCXDXHWN.gfortran-win_amd64.dll\n",
      "  stacklevel=1)\n"
     ]
    }
   ],
   "source": [
    "import numpy as np\n",
    "from keras import layers\n",
    "from keras.layers import Input, Dense, Activation, ZeroPadding2D, BatchNormalization, Flatten, Conv2D\n",
    "from keras.layers import AveragePooling2D, MaxPooling2D, Dropout, GlobalMaxPooling2D, GlobalAveragePooling2D\n",
    "from keras.models import Model\n",
    "from keras.preprocessing import image\n",
    "from keras.utils import layer_utils\n",
    "from keras.utils.data_utils import get_file\n",
    "from keras.applications.imagenet_utils import preprocess_input\n",
    "import pydot\n",
    "from IPython.display import SVG\n",
    "from keras.utils.vis_utils import model_to_dot\n",
    "from keras.utils import plot_model\n",
    "from kt_utils import *\n",
    "\n",
    "import keras.backend as K\n",
    "K.set_image_data_format('channels_last')\n",
    "import matplotlib.pyplot as plt\n",
    "from matplotlib.pyplot import imshow\n",
    "\n",
    "%matplotlib inline"
   ]
  },
  {
   "cell_type": "markdown",
   "metadata": {},
   "source": [
    "**Note**: As you can see, we've imported a lot of functions from Keras. You can use them easily just by calling them directly in the notebook. Ex: `X = Input(...)` or `X = ZeroPadding2D(...)`."
   ]
  },
  {
   "cell_type": "markdown",
   "metadata": {},
   "source": [
    "## 1 - The Happy House \n",
    "\n",
    "For your next vacation, you decided to spend a week with five of your friends from school. It is a very convenient house with many things to do nearby. But the most important benefit is that everybody has commited to be happy when they are in the house. So anyone wanting to enter the house must prove their current state of happiness.\n",
    "\n",
    "<img src=\"images/happy-house.jpg\" style=\"width:350px;height:270px;\">\n",
    "<caption><center> <u> <font color='purple'> **Figure 1** </u><font color='purple'>  : **the Happy House**</center></caption>\n",
    "\n",
    "\n",
    "As a deep learning expert, to make sure the \"Happy\" rule is strictly applied, you are going to build an algorithm which that uses pictures from the front door camera to check if the person is happy or not. The door should open only if the person is happy. \n",
    "\n",
    "You have gathered pictures of your friends and yourself, taken by the front-door camera. The dataset is labbeled. \n",
    "\n",
    "<img src=\"images/house-members.png\" style=\"width:550px;height:250px;\">\n",
    "\n",
    "Run the following code to normalize the dataset and learn about its shapes."
   ]
  },
  {
   "cell_type": "code",
   "execution_count": 2,
   "metadata": {},
   "outputs": [
    {
     "name": "stdout",
     "output_type": "stream",
     "text": [
      "number of training examples = 600\n",
      "number of test examples = 150\n",
      "X_train shape: (600, 64, 64, 3)\n",
      "Y_train shape: (600, 1)\n",
      "X_test shape: (150, 64, 64, 3)\n",
      "Y_test shape: (150, 1)\n"
     ]
    }
   ],
   "source": [
    "X_train_orig, Y_train_orig, X_test_orig, Y_test_orig, classes = load_dataset()\n",
    "\n",
    "# Normalize image vectors\n",
    "X_train = X_train_orig/255.\n",
    "X_test = X_test_orig/255.\n",
    "\n",
    "# Reshape\n",
    "Y_train = Y_train_orig.T\n",
    "Y_test = Y_test_orig.T\n",
    "\n",
    "print (\"number of training examples = \" + str(X_train.shape[0]))\n",
    "print (\"number of test examples = \" + str(X_test.shape[0]))\n",
    "print (\"X_train shape: \" + str(X_train.shape))\n",
    "print (\"Y_train shape: \" + str(Y_train.shape))\n",
    "print (\"X_test shape: \" + str(X_test.shape))\n",
    "print (\"Y_test shape: \" + str(Y_test.shape))"
   ]
  },
  {
   "cell_type": "markdown",
   "metadata": {},
   "source": [
    "**Details of the \"Happy\" dataset**:\n",
    "- Images are of shape (64,64,3)\n",
    "- Training: 600 pictures\n",
    "- Test: 150 pictures\n",
    "\n",
    "It is now time to solve the \"Happy\" Challenge."
   ]
  },
  {
   "cell_type": "markdown",
   "metadata": {},
   "source": [
    "## 2 - Building a model in Keras\n",
    "\n",
    "Keras is very good for rapid prototyping. In just a short time you will be able to build a model that achieves outstanding results.\n",
    "\n",
    "Here is an example of a model in Keras:\n",
    "\n",
    "```python\n",
    "def model(input_shape):\n",
    "    # Define the input placeholder as a tensor with shape input_shape. Think of this as your input image!\n",
    "    X_input = Input(input_shape)\n",
    "\n",
    "    # Zero-Padding: pads the border of X_input with zeroes\n",
    "    X = ZeroPadding2D((3, 3))(X_input)\n",
    "\n",
    "    # CONV -> BN -> RELU Block applied to X\n",
    "    X = Conv2D(32, (7, 7), strides = (1, 1), name = 'conv0')(X)\n",
    "    X = BatchNormalization(axis = 3, name = 'bn0')(X)\n",
    "    X = Activation('relu')(X)\n",
    "\n",
    "    # MAXPOOL\n",
    "    X = MaxPooling2D((2, 2), name='max_pool')(X)\n",
    "\n",
    "    # FLATTEN X (means convert it to a vector) + FULLYCONNECTED\n",
    "    X = Flatten()(X)\n",
    "    X = Dense(1, activation='sigmoid', name='fc')(X)\n",
    "\n",
    "    # Create model. This creates your Keras model instance, you'll use this instance to train/test the model.\n",
    "    model = Model(inputs = X_input, outputs = X, name='HappyModel')\n",
    "    \n",
    "    return model\n",
    "```\n",
    "\n",
    "Note that Keras uses a different convention with variable names than we've previously used with numpy and TensorFlow. In particular, rather than creating and assigning a new variable on each step of forward propagation such as `X`, `Z1`, `A1`, `Z2`, `A2`, etc. for the computations for the different layers, in Keras code each line above just reassigns `X` to a new value using `X = ...`. In other words, during each step of forward propagation, we are just writing the latest value in the commputation into the same variable `X`. The only exception was `X_input`, which we kept separate and did not overwrite, since we needed it at the end to create the Keras model instance (`model = Model(inputs = X_input, ...)` above). \n",
    "\n",
    "**Exercise**: Implement a `HappyModel()`. This assignment is more open-ended than most. We suggest that you start by implementing a model using the architecture we suggest, and run through the rest of this assignment using that as your initial model. But after that, come back and take initiative to try out other model architectures. For example, you might take inspiration from the model above, but then vary the network architecture and hyperparameters however you wish. You can also use other functions such as `AveragePooling2D()`, `GlobalMaxPooling2D()`, `Dropout()`. \n",
    "\n",
    "**Note**: You have to be careful with your data's shapes. Use what you've learned in the videos to make sure your convolutional, pooling and fully-connected layers are adapted to the volumes you're applying it to."
   ]
  },
  {
   "cell_type": "code",
   "execution_count": 3,
   "metadata": {},
   "outputs": [],
   "source": [
    "# GRADED FUNCTION: HappyModel\n",
    "\n",
    "def HappyModel(input_shape):\n",
    "    \"\"\"\n",
    "    Implementation of the HappyModel.\n",
    "    \n",
    "    Arguments:\n",
    "    input_shape -- shape of the images of the dataset\n",
    "\n",
    "    Returns:\n",
    "    model -- a Model() instance in Keras\n",
    "    \"\"\"\n",
    "    \n",
    "    ### START CODE HERE ###\n",
    "    # Feel free to use the suggested outline in the text above to get started, and run through the whole\n",
    "    # exercise (including the later portions of this notebook) once. The come back also try out other\n",
    "    # network architectures as well. \n",
    "    X_input = Input(input_shape)\n",
    "    \n",
    "    X = ZeroPadding2D((3,3))(X_input)\n",
    "    \n",
    "    X = Conv2D(32,(7,7), strides = (1,1), name='conv0')(X)\n",
    "    X = BatchNormalization(axis = 3, name='bn0')(X)\n",
    "    X = Activation('relu')(X)\n",
    "    \n",
    "    X = MaxPooling2D((2,2), name='max_pool')(X)\n",
    "    \n",
    "    X = Flatten()(X)\n",
    "    X = Dense(1, activation='sigmoid', name='fc')(X)\n",
    "    \n",
    "    model = Model(inputs = X_input, outputs = X, name='HappyModel')\n",
    "    \n",
    "    ### END CODE HERE ###\n",
    "    \n",
    "    return model"
   ]
  },
  {
   "cell_type": "markdown",
   "metadata": {},
   "source": [
    "You have now built a function to describe your model. To train and test this model, there are four steps in Keras:\n",
    "1. Create the model by calling the function above\n",
    "2. Compile the model by calling `model.compile(optimizer = \"...\", loss = \"...\", metrics = [\"accuracy\"])`\n",
    "3. Train the model on train data by calling `model.fit(x = ..., y = ..., epochs = ..., batch_size = ...)`\n",
    "4. Test the model on test data by calling `model.evaluate(x = ..., y = ...)`\n",
    "\n",
    "If you want to know more about `model.compile()`, `model.fit()`, `model.evaluate()` and their arguments, refer to the official [Keras documentation](https://keras.io/models/model/).\n",
    "\n",
    "**Exercise**: Implement step 1, i.e. create the model."
   ]
  },
  {
   "cell_type": "code",
   "execution_count": 4,
   "metadata": {},
   "outputs": [],
   "source": [
    "### START CODE HERE ### (1 line)\n",
    "happyModel = HappyModel(X_train[0].shape)\n",
    "### END CODE HERE ###"
   ]
  },
  {
   "cell_type": "markdown",
   "metadata": {},
   "source": [
    "**Exercise**: Implement step 2, i.e. compile the model to configure the learning process. Choose the 3 arguments of `compile()` wisely. Hint: the Happy Challenge is a binary classification problem."
   ]
  },
  {
   "cell_type": "code",
   "execution_count": 5,
   "metadata": {},
   "outputs": [],
   "source": [
    "### START CODE HERE ### (1 line)\n",
    "import keras\n",
    "opt = keras.optimizers.Adam(learning_rate=0.01)\n",
    "happyModel.compile(optimizer=opt, loss=keras.losses.BinaryCrossentropy(),metrics=['acc'])\n",
    "### END CODE HERE ###"
   ]
  },
  {
   "cell_type": "markdown",
   "metadata": {},
   "source": [
    "**Exercise**: Implement step 3, i.e. train the model. Choose the number of epochs and the batch size."
   ]
  },
  {
   "cell_type": "code",
   "execution_count": 6,
   "metadata": {},
   "outputs": [
    {
     "name": "stdout",
     "output_type": "stream",
     "text": [
      "Epoch 1/30\n",
      "15/15 [==============================] - 2s 161ms/step - loss: 33.0765 - acc: 0.4889 - val_loss: 31.5316 - val_acc: 0.5667\n",
      "Epoch 2/30\n",
      "15/15 [==============================] - 2s 144ms/step - loss: 11.6344 - acc: 0.6356 - val_loss: 53.0696 - val_acc: 0.5000\n",
      "Epoch 3/30\n",
      "15/15 [==============================] - 2s 141ms/step - loss: 5.4999 - acc: 0.7444 - val_loss: 49.0953 - val_acc: 0.5000\n",
      "Epoch 4/30\n",
      "15/15 [==============================] - 2s 144ms/step - loss: 2.4308 - acc: 0.8000 - val_loss: 40.8578 - val_acc: 0.5067\n",
      "Epoch 5/30\n",
      "15/15 [==============================] - 2s 143ms/step - loss: 0.9372 - acc: 0.8600 - val_loss: 27.5977 - val_acc: 0.5000\n",
      "Epoch 6/30\n",
      "15/15 [==============================] - 2s 146ms/step - loss: 0.5558 - acc: 0.9067 - val_loss: 6.4009 - val_acc: 0.6467\n",
      "Epoch 7/30\n",
      "15/15 [==============================] - 2s 141ms/step - loss: 1.8595 - acc: 0.8200 - val_loss: 8.3434 - val_acc: 0.6200\n",
      "Epoch 8/30\n",
      "15/15 [==============================] - 2s 143ms/step - loss: 0.6277 - acc: 0.8711 - val_loss: 2.4510 - val_acc: 0.7467\n",
      "Epoch 9/30\n",
      "15/15 [==============================] - 2s 141ms/step - loss: 0.7203 - acc: 0.8889 - val_loss: 1.8703 - val_acc: 0.7800\n",
      "Epoch 10/30\n",
      "15/15 [==============================] - 2s 142ms/step - loss: 0.3578 - acc: 0.9067 - val_loss: 1.5641 - val_acc: 0.7800\n",
      "Epoch 11/30\n",
      "15/15 [==============================] - 2s 144ms/step - loss: 0.2298 - acc: 0.9333 - val_loss: 0.7710 - val_acc: 0.8467\n",
      "Epoch 12/30\n",
      "15/15 [==============================] - 2s 143ms/step - loss: 0.1254 - acc: 0.9533 - val_loss: 0.5231 - val_acc: 0.8733\n",
      "Epoch 13/30\n",
      "15/15 [==============================] - 2s 142ms/step - loss: 0.1533 - acc: 0.9533 - val_loss: 0.3345 - val_acc: 0.8933\n",
      "Epoch 14/30\n",
      "15/15 [==============================] - 2s 141ms/step - loss: 0.1387 - acc: 0.9489 - val_loss: 0.3561 - val_acc: 0.8933\n",
      "Epoch 15/30\n",
      "15/15 [==============================] - 2s 141ms/step - loss: 0.0732 - acc: 0.9889 - val_loss: 0.1197 - val_acc: 0.9333\n",
      "Epoch 16/30\n",
      "15/15 [==============================] - 2s 141ms/step - loss: 0.0857 - acc: 0.9778 - val_loss: 0.0736 - val_acc: 0.9800\n",
      "Epoch 17/30\n",
      "15/15 [==============================] - 2s 142ms/step - loss: 0.1311 - acc: 0.9578 - val_loss: 0.1815 - val_acc: 0.9333\n",
      "Epoch 18/30\n",
      "15/15 [==============================] - 2s 143ms/step - loss: 0.0967 - acc: 0.9800 - val_loss: 0.0575 - val_acc: 0.9800\n",
      "Epoch 19/30\n",
      "15/15 [==============================] - 2s 143ms/step - loss: 0.0611 - acc: 0.9778 - val_loss: 0.0592 - val_acc: 0.9867\n",
      "Epoch 20/30\n",
      "15/15 [==============================] - 2s 143ms/step - loss: 0.0704 - acc: 0.9778 - val_loss: 0.0280 - val_acc: 0.9867\n",
      "Epoch 21/30\n",
      "15/15 [==============================] - 2s 143ms/step - loss: 0.0839 - acc: 0.9800 - val_loss: 0.2618 - val_acc: 0.8933\n",
      "Epoch 22/30\n",
      "15/15 [==============================] - 2s 146ms/step - loss: 0.1194 - acc: 0.9600 - val_loss: 0.0505 - val_acc: 0.9867\n",
      "Epoch 23/30\n",
      "15/15 [==============================] - 2s 146ms/step - loss: 0.0599 - acc: 0.9800 - val_loss: 0.0742 - val_acc: 0.9800\n",
      "Epoch 24/30\n",
      "15/15 [==============================] - 2s 148ms/step - loss: 0.0622 - acc: 0.9756 - val_loss: 0.0459 - val_acc: 0.9733\n",
      "Epoch 25/30\n",
      "15/15 [==============================] - 2s 145ms/step - loss: 0.2978 - acc: 0.9356 - val_loss: 0.2511 - val_acc: 0.9133\n",
      "Epoch 26/30\n",
      "15/15 [==============================] - 2s 155ms/step - loss: 0.1736 - acc: 0.9533 - val_loss: 0.0716 - val_acc: 0.9667\n",
      "Epoch 27/30\n",
      "15/15 [==============================] - 2s 156ms/step - loss: 0.1980 - acc: 0.9378 - val_loss: 0.3728 - val_acc: 0.8933\n",
      "Epoch 28/30\n",
      "15/15 [==============================] - 2s 147ms/step - loss: 0.1060 - acc: 0.9756 - val_loss: 1.3012 - val_acc: 0.7867\n",
      "Epoch 29/30\n",
      "15/15 [==============================] - 3s 178ms/step - loss: 1.7820 - acc: 0.8044 - val_loss: 0.2244 - val_acc: 0.9133\n",
      "Epoch 30/30\n",
      "15/15 [==============================] - 3s 196ms/step - loss: 1.1054 - acc: 0.8511 - val_loss: 0.2069 - val_acc: 0.9333\n"
     ]
    }
   ],
   "source": [
    "### START CODE HERE ### (1 line)\n",
    "history = happyModel.fit(x=X_train, y=Y_train, validation_split=0.25, batch_size=32, epochs=30)\n",
    "### END CODE HERE ###"
   ]
  },
  {
   "cell_type": "code",
   "execution_count": 7,
   "metadata": {
    "scrolled": true
   },
   "outputs": [
    {
     "data": {
      "image/png": "[encoded data removed]",
      "text/plain": [
       "<IPython.core.display.Image object>"
      ]
     },
     "execution_count": 7,
     "metadata": {},
     "output_type": "execute_result"
    }
   ],
   "source": [
    "from keras.utils import plot_model\n",
    "plot_model(happyModel, to_file='model.png')"
   ]
  },
  {
   "cell_type": "code",
   "execution_count": 8,
   "metadata": {},
   "outputs": [
    {
     "name": "stdout",
     "output_type": "stream",
     "text": [
      "{'loss': [33.07651138305664, 11.63438606262207, 5.499914646148682, 2.430845260620117, 0.9371844530105591, 0.5557892322540283, 1.8594646453857422, 0.6276981830596924, 0.7203438878059387, 0.3577888011932373, 0.22983001172542572, 0.12540242075920105, 0.15330328047275543, 0.1386609524488449, 0.07322841137647629, 0.08572742342948914, 0.13114391267299652, 0.0967288687825203, 0.06105048581957817, 0.07043416053056717, 0.08385909348726273, 0.11939481645822525, 0.05990976467728615, 0.06219591200351715, 0.29777541756629944, 0.17362968623638153, 0.19797679781913757, 0.10601938515901566, 1.7820250988006592, 1.105406641960144], 'acc': [0.4888888895511627, 0.6355555653572083, 0.7444444298744202, 0.800000011920929, 0.8600000143051147, 0.9066666960716248, 0.8199999928474426, 0.8711110949516296, 0.8888888955116272, 0.9066666960716248, 0.9333333373069763, 0.95333331823349, 0.95333331823349, 0.948888897895813, 0.9888888597488403, 0.9777777791023254, 0.9577777981758118, 0.9800000190734863, 0.9777777791023254, 0.9777777791023254, 0.9800000190734863, 0.9599999785423279, 0.9800000190734863, 0.9755555391311646, 0.9355555772781372, 0.95333331823349, 0.9377777576446533, 0.9755555391311646, 0.804444432258606, 0.851111114025116], 'val_loss': [31.53155517578125, 53.069602966308594, 49.09528732299805, 40.85783386230469, 27.59773826599121, 6.400897026062012, 8.343425750732422, 2.4509825706481934, 1.870317816734314, 1.5640602111816406, 0.7709982395172119, 0.5231102705001831, 0.3344770669937134, 0.3560594618320465, 0.11968297511339188, 0.07356498390436172, 0.18149903416633606, 0.0574512854218483, 0.05917643755674362, 0.02795596420764923, 0.2617745101451874, 0.05049377307295799, 0.0741957426071167, 0.04588840901851654, 0.2511425316333771, 0.07160661369562149, 0.37279772758483887, 1.301231861114502, 0.22443170845508575, 0.20691749453544617], 'val_acc': [0.5666666626930237, 0.5, 0.5, 0.5066666603088379, 0.5, 0.6466666460037231, 0.6200000047683716, 0.746666669845581, 0.7799999713897705, 0.7799999713897705, 0.846666693687439, 0.8733333349227905, 0.8933333158493042, 0.8933333158493042, 0.9333333373069763, 0.9800000190734863, 0.9333333373069763, 0.9800000190734863, 0.9866666793823242, 0.9866666793823242, 0.8933333158493042, 0.9866666793823242, 0.9800000190734863, 0.9733333587646484, 0.9133333563804626, 0.9666666388511658, 0.8933333158493042, 0.7866666913032532, 0.9133333563804626, 0.9333333373069763]}\n"
     ]
    }
   ],
   "source": [
    "# help(history)\n",
    "print(history.history)"
   ]
  },
  {
   "cell_type": "code",
   "execution_count": 9,
   "metadata": {},
   "outputs": [
    {
     "data": {
      "image/png": "[encoded data removed]",
      "text/plain": [
       "<Figure size 432x288 with 1 Axes>"
      ]
     },
     "metadata": {
      "needs_background": "light"
     },
     "output_type": "display_data"
    },
    {
     "data": {
      "image/png": "[encoded data removed]",
      "text/plain": [
       "<Figure size 432x288 with 1 Axes>"
      ]
     },
     "metadata": {
      "needs_background": "light"
     },
     "output_type": "display_data"
    }
   ],
   "source": [
    "# 绘制训练 & 验证的准确率值\n",
    "plt.plot(history.history['acc'])\n",
    "plt.plot(history.history['val_acc'])\n",
    "plt.title('Model accuracy')\n",
    "plt.ylabel('Accuracy')\n",
    "plt.xlabel('Epoch')\n",
    "plt.legend(['Train', 'Test'], loc='upper left')\n",
    "plt.show()\n",
    "\n",
    "# 绘制训练 & 验证的损失值\n",
    "plt.plot(history.history['loss'])\n",
    "plt.plot(history.history['val_loss'])\n",
    "plt.title('Model loss')\n",
    "plt.ylabel('Loss')\n",
    "plt.xlabel('Epoch')\n",
    "plt.legend(['Train', 'Test'], loc='upper left')\n",
    "plt.show()"
   ]
  },
  {
   "cell_type": "markdown",
   "metadata": {},
   "source": [
    "Note that if you run `fit()` again, the `model` will continue to train with the parameters it has already learnt instead of reinitializing them.\n",
    "\n",
    "**Exercise**: Implement step 4, i.e. test/evaluate the model."
   ]
  },
  {
   "cell_type": "code",
   "execution_count": 10,
   "metadata": {
    "scrolled": true
   },
   "outputs": [
    {
     "name": "stdout",
     "output_type": "stream",
     "text": [
      "30/30 [==============================] - 0s 8ms/step - loss: 0.2447 - acc: 0.9133\n",
      "[0.2447441667318344, 0.9133333563804626]\n",
      "Loss = 0.2447441667318344\n",
      "Test Accuracy = 0.9133333563804626\n"
     ]
    }
   ],
   "source": [
    "### START CODE HERE ### (1 line)\n",
    "from keras import metrics\n",
    "preds = happyModel.evaluate(X_test, Y_test, batch_size=5, verbose=1, sample_weight=None)\n",
    "### END CODE HERE ###\n",
    "print(preds)\n",
    "\n",
    "print (\"Loss = \" + str(preds[0]))\n",
    "print (\"Test Accuracy = \" + str(preds[1]))"
   ]
  },
  {
   "cell_type": "markdown",
   "metadata": {},
   "source": [
    "If your `happyModel()` function worked, you should have observed much better than random-guessing (50%) accuracy on the train and test sets.\n",
    "\n",
    "To give you a point of comparison, our model gets around **95% test accuracy in 40 epochs** (and 99% train accuracy) with a mini batch size of 16 and \"adam\" optimizer. But our model gets decent accuracy after just 2-5 epochs, so if you're comparing different models you can also train a variety of models on just a few epochs and see how they compare. \n",
    "\n",
    "If you have not yet achieved a very good accuracy (let's say more than 80%), here're some things you can play around with to try to achieve it:\n",
    "\n",
    "- Try using blocks of CONV->BATCHNORM->RELU such as:\n",
    "```python\n",
    "X = Conv2D(32, (3, 3), strides = (1, 1), name = 'conv0')(X)\n",
    "X = BatchNormalization(axis = 3, name = 'bn0')(X)\n",
    "X = Activation('relu')(X)\n",
    "```\n",
    "until your height and width dimensions are quite low and your number of channels quite large (≈32 for example). You are encoding useful information in a volume with a lot of channels. You can then flatten the volume and use a fully-connected layer.\n",
    "- You can use MAXPOOL after such blocks. It will help you lower the dimension in height and width.\n",
    "- Change your optimizer. We find Adam works well. \n",
    "- If the model is struggling to run and you get memory issues, lower your batch_size (12 is usually a good compromise)\n",
    "- Run on more epochs, until you see the train accuracy plateauing. \n",
    "\n",
    "Even if you have achieved a good accuracy, please feel free to keep playing with your model to try to get even better results. \n",
    "\n",
    "**Note**: If you perform hyperparameter tuning on your model, the test set actually becomes a dev set, and your model might end up overfitting to the test (dev) set. But just for the purpose of this assignment, we won't worry about that here.\n"
   ]
  },
  {
   "cell_type": "markdown",
   "metadata": {},
   "source": [
    "## 3 - Conclusion\n",
    "\n",
    "Congratulations, you have solved the Happy House challenge! \n",
    "\n",
    "Now, you just need to link this model to the front-door camera of your house. We unfortunately won't go into the details of how to do that here. "
   ]
  },
  {
   "cell_type": "markdown",
   "metadata": {},
   "source": [
    "<font color='blue'>\n",
    "**What we would like you to remember from this assignment:**\n",
    "- Keras is a tool we recommend for rapid prototyping. It allows you to quickly try out different model architectures. Are there any applications of deep learning to your daily life that you'd like to implement using Keras? \n",
    "- Remember how to code a model in Keras and the four steps leading to the evaluation of your model on the test set. Create->Compile->Fit/Train->Evaluate/Test."
   ]
  },
  {
   "cell_type": "markdown",
   "metadata": {},
   "source": [
    "## 4 - Test with your own image (Optional)\n",
    "\n",
    "Congratulations on finishing this assignment. You can now take a picture of your face and see if you could enter the Happy House. To do that:\n",
    "    1. Click on \"File\" in the upper bar of this notebook, then click \"Open\" to go on your Coursera Hub.\n",
    "    2. Add your image to this Jupyter Notebook's directory, in the \"images\" folder\n",
    "    3. Write your image's name in the following code\n",
    "    4. Run the code and check if the algorithm is right (0 is unhappy, 1 is happy)!\n",
    "    \n",
    "The training/test sets were quite similar; for example, all the pictures were taken against the same background (since a front door camera is always mounted in the same position). This makes the problem easier, but a model trained on this data may or may not work on your own data. But feel free to give it a try! "
   ]
  },
  {
   "cell_type": "code",
   "execution_count": 15,
   "metadata": {},
   "outputs": [
    {
     "name": "stdout",
     "output_type": "stream",
     "text": [
      "[[1.]]\n"
     ]
    },
    {
     "data": {
      "image/png": "[encoded data removed]",
      "text/plain": [
       "<Figure size 432x288 with 1 Axes>"
      ]
     },
     "metadata": {
      "needs_background": "light"
     },
     "output_type": "display_data"
    }
   ],
   "source": [
    "### START CODE HERE ###\n",
    "img_path = 'images/1.jpg'\n",
    "### END CODE HERE ###\n",
    "img = image.load_img(img_path, target_size=(64, 64))\n",
    "imshow(img)\n",
    "\n",
    "x = image.img_to_array(img)\n",
    "x = np.expand_dims(x, axis=0)\n",
    "x = preprocess_input(x)\n",
    "\n",
    "print(happyModel.predict(x))"
   ]
  },
  {
   "cell_type": "markdown",
   "metadata": {},
   "source": [
    "## 5 - Other useful functions in Keras (Optional)\n",
    "\n",
    "Two other basic features of Keras that you'll find useful are:\n",
    "- `model.summary()`: prints the details of your layers in a table with the sizes of its inputs/outputs\n",
    "- `plot_model()`: plots your graph in a nice layout. You can even save it as \".png\" using SVG() if you'd like to share it on social media ;). It is saved in \"File\" then \"Open...\" in the upper bar of the notebook.\n",
    "\n",
    "Run the following code."
   ]
  },
  {
   "cell_type": "code",
   "execution_count": 17,
   "metadata": {
    "scrolled": false
   },
   "outputs": [
    {
     "name": "stdout",
     "output_type": "stream",
     "text": [
      "Model: \"HappyModel\"\n",
      "_________________________________________________________________\n",
      "Layer (type)                 Output Shape              Param #   \n",
      "=================================================================\n",
      "input_1 (InputLayer)         [(None, 64, 64, 3)]       0         \n",
      "_________________________________________________________________\n",
      "zero_padding2d (ZeroPadding2 (None, 70, 70, 3)         0         \n",
      "_________________________________________________________________\n",
      "conv0 (Conv2D)               (None, 64, 64, 32)        4736      \n",
      "_________________________________________________________________\n",
      "bn0 (BatchNormalization)     (None, 64, 64, 32)        128       \n",
      "_________________________________________________________________\n",
      "activation (Activation)      (None, 64, 64, 32)        0         \n",
      "_________________________________________________________________\n",
      "max_pool (MaxPooling2D)      (None, 32, 32, 32)        0         \n",
      "_________________________________________________________________\n",
      "flatten (Flatten)            (None, 32768)             0         \n",
      "_________________________________________________________________\n",
      "fc (Dense)                   (None, 1)                 32769     \n",
      "=================================================================\n",
      "Total params: 37,633\n",
      "Trainable params: 37,569\n",
      "Non-trainable params: 64\n",
      "_________________________________________________________________\n"
     ]
    }
   ],
   "source": [
    "from IPython.display import SVG\n",
    "from keras.utils.vis_utils import model_to_dothappyModel.summary()"
   ]
  },
  {
   "cell_type": "code",
   "execution_count": 19,
   "metadata": {},
   "outputs": [
    {
     "data": {
      "image/svg+xml": [
       "<svg height=\"741pt\" viewBox=\"0.00 0.00 211.00 556.00\" width=\"281pt\" xmlns=\"http://www.w3.org/2000/svg\" xmlns:xlink=\"http://www.w3.org/1999/xlink\">\n",
       "<g class=\"graph\" id=\"graph0\" transform=\"scale(1.33333 1.33333) rotate(0) translate(4 552)\">\n",
       "<title>G</title>\n",
       "<polygon fill=\"white\" points=\"-4,4 -4,-552 207,-552 207,4 -4,4\" stroke=\"none\"/>\n",
       "<!-- 2108944026816 -->\n",
       "<g class=\"node\" id=\"node1\"><title>2108944026816</title>\n",
       "<polygon fill=\"none\" points=\"38.5,-511.5 38.5,-547.5 164.5,-547.5 164.5,-511.5 38.5,-511.5\" stroke=\"black\"/>\n",
       "<text font-family=\"Times New Roman,serif\" font-size=\"14.00\" text-anchor=\"middle\" x=\"101.5\" y=\"-525.8\">input_1: InputLayer</text>\n",
       "</g>\n",
       "<!-- 2108944381040 -->\n",
       "<g class=\"node\" id=\"node2\"><title>2108944381040</title>\n",
       "<polygon fill=\"none\" points=\"0,-438.5 0,-474.5 203,-474.5 203,-438.5 0,-438.5\" stroke=\"black\"/>\n",
       "<text font-family=\"Times New Roman,serif\" font-size=\"14.00\" text-anchor=\"middle\" x=\"101.5\" y=\"-452.8\">zero_padding2d: ZeroPadding2D</text>\n",
       "</g>\n",
       "<!-- 2108944026816&#45;&gt;2108944381040 -->\n",
       "<g class=\"edge\" id=\"edge1\"><title>2108944026816-&gt;2108944381040</title>\n",
       "<path d=\"M101.5,-511.313C101.5,-503.289 101.5,-493.547 101.5,-484.569\" fill=\"none\" stroke=\"black\"/>\n",
       "<polygon fill=\"black\" points=\"105,-484.529 101.5,-474.529 98.0001,-484.529 105,-484.529\" stroke=\"black\"/>\n",
       "</g>\n",
       "<!-- 2108944381488 -->\n",
       "<g class=\"node\" id=\"node3\"><title>2108944381488</title>\n",
       "<polygon fill=\"none\" points=\"49,-365.5 49,-401.5 154,-401.5 154,-365.5 49,-365.5\" stroke=\"black\"/>\n",
       "<text font-family=\"Times New Roman,serif\" font-size=\"14.00\" text-anchor=\"middle\" x=\"101.5\" y=\"-379.8\">conv0: Conv2D</text>\n",
       "</g>\n",
       "<!-- 2108944381040&#45;&gt;2108944381488 -->\n",
       "<g class=\"edge\" id=\"edge2\"><title>2108944381040-&gt;2108944381488</title>\n",
       "<path d=\"M101.5,-438.313C101.5,-430.289 101.5,-420.547 101.5,-411.569\" fill=\"none\" stroke=\"black\"/>\n",
       "<polygon fill=\"black\" points=\"105,-411.529 101.5,-401.529 98.0001,-411.529 105,-411.529\" stroke=\"black\"/>\n",
       "</g>\n",
       "<!-- 2108944383336 -->\n",
       "<g class=\"node\" id=\"node4\"><title>2108944383336</title>\n",
       "<polygon fill=\"none\" points=\"24.5,-292.5 24.5,-328.5 178.5,-328.5 178.5,-292.5 24.5,-292.5\" stroke=\"black\"/>\n",
       "<text font-family=\"Times New Roman,serif\" font-size=\"14.00\" text-anchor=\"middle\" x=\"101.5\" y=\"-306.8\">bn0: BatchNormalization</text>\n",
       "</g>\n",
       "<!-- 2108944381488&#45;&gt;2108944383336 -->\n",
       "<g class=\"edge\" id=\"edge3\"><title>2108944381488-&gt;2108944383336</title>\n",
       "<path d=\"M101.5,-365.313C101.5,-357.289 101.5,-347.547 101.5,-338.569\" fill=\"none\" stroke=\"black\"/>\n",
       "<polygon fill=\"black\" points=\"105,-338.529 101.5,-328.529 98.0001,-338.529 105,-338.529\" stroke=\"black\"/>\n",
       "</g>\n",
       "<!-- 2108944381712 -->\n",
       "<g class=\"node\" id=\"node5\"><title>2108944381712</title>\n",
       "<polygon fill=\"none\" points=\"34.5,-219.5 34.5,-255.5 168.5,-255.5 168.5,-219.5 34.5,-219.5\" stroke=\"black\"/>\n",
       "<text font-family=\"Times New Roman,serif\" font-size=\"14.00\" text-anchor=\"middle\" x=\"101.5\" y=\"-233.8\">activation: Activation</text>\n",
       "</g>\n",
       "<!-- 2108944383336&#45;&gt;2108944381712 -->\n",
       "<g class=\"edge\" id=\"edge4\"><title>2108944383336-&gt;2108944381712</title>\n",
       "<path d=\"M101.5,-292.313C101.5,-284.289 101.5,-274.547 101.5,-265.569\" fill=\"none\" stroke=\"black\"/>\n",
       "<polygon fill=\"black\" points=\"105,-265.529 101.5,-255.529 98.0001,-265.529 105,-265.529\" stroke=\"black\"/>\n",
       "</g>\n",
       "<!-- 2108944761016 -->\n",
       "<g class=\"node\" id=\"node6\"><title>2108944761016</title>\n",
       "<polygon fill=\"none\" points=\"19.5,-146.5 19.5,-182.5 183.5,-182.5 183.5,-146.5 19.5,-146.5\" stroke=\"black\"/>\n",
       "<text font-family=\"Times New Roman,serif\" font-size=\"14.00\" text-anchor=\"middle\" x=\"101.5\" y=\"-160.8\">max_pool: MaxPooling2D</text>\n",
       "</g>\n",
       "<!-- 2108944381712&#45;&gt;2108944761016 -->\n",
       "<g class=\"edge\" id=\"edge5\"><title>2108944381712-&gt;2108944761016</title>\n",
       "<path d=\"M101.5,-219.313C101.5,-211.289 101.5,-201.547 101.5,-192.569\" fill=\"none\" stroke=\"black\"/>\n",
       "<polygon fill=\"black\" points=\"105,-192.529 101.5,-182.529 98.0001,-192.529 105,-192.529\" stroke=\"black\"/>\n",
       "</g>\n",
       "<!-- 2108945626000 -->\n",
       "<g class=\"node\" id=\"node7\"><title>2108945626000</title>\n",
       "<polygon fill=\"none\" points=\"54,-73.5 54,-109.5 149,-109.5 149,-73.5 54,-73.5\" stroke=\"black\"/>\n",
       "<text font-family=\"Times New Roman,serif\" font-size=\"14.00\" text-anchor=\"middle\" x=\"101.5\" y=\"-87.8\">flatten: Flatten</text>\n",
       "</g>\n",
       "<!-- 2108944761016&#45;&gt;2108945626000 -->\n",
       "<g class=\"edge\" id=\"edge6\"><title>2108944761016-&gt;2108945626000</title>\n",
       "<path d=\"M101.5,-146.313C101.5,-138.289 101.5,-128.547 101.5,-119.569\" fill=\"none\" stroke=\"black\"/>\n",
       "<polygon fill=\"black\" points=\"105,-119.529 101.5,-109.529 98.0001,-119.529 105,-119.529\" stroke=\"black\"/>\n",
       "</g>\n",
       "<!-- 2108945723344 -->\n",
       "<g class=\"node\" id=\"node8\"><title>2108945723344</title>\n",
       "<polygon fill=\"none\" points=\"67,-0.5 67,-36.5 136,-36.5 136,-0.5 67,-0.5\" stroke=\"black\"/>\n",
       "<text font-family=\"Times New Roman,serif\" font-size=\"14.00\" text-anchor=\"middle\" x=\"101.5\" y=\"-14.8\">fc: Dense</text>\n",
       "</g>\n",
       "<!-- 2108945626000&#45;&gt;2108945723344 -->\n",
       "<g class=\"edge\" id=\"edge7\"><title>2108945626000-&gt;2108945723344</title>\n",
       "<path d=\"M101.5,-73.3129C101.5,-65.2895 101.5,-55.5475 101.5,-46.5691\" fill=\"none\" stroke=\"black\"/>\n",
       "<polygon fill=\"black\" points=\"105,-46.5288 101.5,-36.5288 98.0001,-46.5289 105,-46.5288\" stroke=\"black\"/>\n",
       "</g>\n",
       "</g>\n",
       "</svg>"
      ],
      "text/plain": [
       "<IPython.core.display.SVG object>"
      ]
     },
     "execution_count": 19,
     "metadata": {},
     "output_type": "execute_result"
    }
   ],
   "source": [
    "from IPython.display import SVG\n",
    "from keras.utils.vis_utils import model_to_dot\n",
    "plot_model(happyModel, to_file='HappyModel.png')\n",
    "SVG(model_to_dot(happyModel).create(prog='dot', format='svg'))"
   ]
  },
  {
   "cell_type": "code",
   "execution_count": null,
   "metadata": {},
   "outputs": [],
   "source": []
  }
 ],
 "metadata": {
  "kernelspec": {
   "display_name": "Python 3",
   "language": "python",
   "name": "python3"
  },
  "language_info": {
   "codemirror_mode": {
    "name": "ipython",
    "version": 3
   },
   "file_extension": ".py",
   "mimetype": "text/x-python",
   "name": "python",
   "nbconvert_exporter": "python",
   "pygments_lexer": "ipython3",
   "version": "3.7.2"
  }
 },
 "nbformat": 4,
 "nbformat_minor": 2
}
