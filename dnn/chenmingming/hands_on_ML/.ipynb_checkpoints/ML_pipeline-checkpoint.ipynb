{
 "cells": [
  {
   "cell_type": "code",
   "execution_count": 28,
   "metadata": {},
   "outputs": [],
   "source": [
    "import numpy as np\n",
    "import pandas as pd\n",
    "%matplotlib inline\n",
    "import matplotlib.pyplot as plt\n",
    "from sklearn.model_selection import train_test_split\n",
    "from sklearn.model_selection import StratifiedShuffleSplit\n",
    "from sklearn.impute import SimpleImputer\n",
    "from sklearn.preprocessing import LabelEncoder\n",
    "from sklearn.preprocessing import OneHotEncoder\n",
    "from sklearn.preprocessing import LabelBinarizer\n",
    "from sklearn.base import BaseEstimator, TransformerMixin\n",
    "from sklearn.pipeline import Pipeline\n",
    "from sklearn.preprocessing import StandardScaler\n",
    "from sklearn.pipeline import FeatureUnion\n",
    "from sklearn.model_selection import GridSearchCV\n",
    "from sklearn.model_selection import cross_val_score"
   ]
  },
  {
   "cell_type": "code",
   "execution_count": 29,
   "metadata": {
    "scrolled": true
   },
   "outputs": [
    {
     "data": {
      "text/plain": [
       "Index(['id', 'last_evaluation', 'number_project', 'average_monthly_hours',\n",
       "       'time_spend_company', 'Work_accident', 'package',\n",
       "       'promotion_last_5years', 'division', 'salary', 'satisfaction_level'],\n",
       "      dtype='object')"
      ]
     },
     "execution_count": 29,
     "metadata": {},
     "output_type": "execute_result"
    }
   ],
   "source": [
    "data = pd.read_csv(\"../competition/Employee_Satisfaction/train.csv\")\n",
    "test = pd.read_csv(\"../competition/Employee_Satisfaction/test.csv\")\n",
    "data.columns"
   ]
  },
  {
   "cell_type": "code",
   "execution_count": 30,
   "metadata": {},
   "outputs": [],
   "source": [
    "y = data['satisfaction_level']\n",
    "X = data.drop(['satisfaction_level'], axis=1)"
   ]
  },
  {
   "cell_type": "code",
   "execution_count": 31,
   "metadata": {},
   "outputs": [
    {
     "name": "stdout",
     "output_type": "stream",
     "text": [
      "['Work_accident', 'promotion_last_5years', 'last_evaluation', 'average_monthly_hours', 'number_project', 'id', 'time_spend_company']\n",
      "['package', 'division', 'salary']\n"
     ]
    },
    {
     "data": {
      "text/plain": [
       "array([['a', 'accounting', 'medium'],\n",
       "       ['b', 'marketing', 'low'],\n",
       "       ['e', 'sales', 'medium'],\n",
       "       ...,\n",
       "       ['c', 'sales', 'medium'],\n",
       "       ['b', 'IT', 'low'],\n",
       "       ['c', 'support', 'low']], dtype=object)"
      ]
     },
     "execution_count": 31,
     "metadata": {},
     "output_type": "execute_result"
    }
   ],
   "source": [
    "def num_cat_splitor(X):\n",
    "    s = (X.dtypes == 'object')\n",
    "    object_cols = list(s[s].index)\n",
    "    object_cols # ['package', 'division', 'salary']\n",
    "    num_cols = list(set(X.columns) - set(object_cols))\n",
    "    num_cols\n",
    "    # ['Work_accident',\n",
    "    #  'time_spend_company',\n",
    "    #  'promotion_last_5years',\n",
    "    #  'id',\n",
    "    #  'average_monthly_hours',\n",
    "    #  'last_evaluation',\n",
    "    #  'number_project']\n",
    "    return num_cols, object_cols\n",
    "num_cols, object_cols = num_cat_splitor(X)\n",
    "print(num_cols)\n",
    "print(object_cols)\n",
    "X[object_cols].values"
   ]
  },
  {
   "cell_type": "code",
   "execution_count": 32,
   "metadata": {},
   "outputs": [],
   "source": [
    "class DataFrameSelector(BaseEstimator, TransformerMixin):\n",
    "    def __init__(self, attribute_names):\n",
    "        self.attribute_names = attribute_names\n",
    "    def fit(self, X, y=None):\n",
    "        return self\n",
    "    def transform(self, X):\n",
    "        return X[self.attribute_names].values\n",
    "    \n",
    "num_pipeline = Pipeline([\n",
    "        ('selector', DataFrameSelector(num_cols)),\n",
    "        ('imputer', SimpleImputer(strategy=\"median\")),\n",
    "        ('std_scaler', StandardScaler()),\n",
    "    ])"
   ]
  },
  {
   "cell_type": "code",
   "execution_count": 33,
   "metadata": {},
   "outputs": [
    {
     "data": {
      "text/plain": [
       "(11999, 25)"
      ]
     },
     "execution_count": 33,
     "metadata": {},
     "output_type": "execute_result"
    }
   ],
   "source": [
    "cat_pipeline = Pipeline([\n",
    "        ('selector', DataFrameSelector(object_cols)),\n",
    "        ('cat_encoder', OneHotEncoder(sparse=False)),\n",
    "    ])\n",
    "\n",
    "full_pipeline = FeatureUnion(transformer_list=[\n",
    "        (\"num_pipeline\", num_pipeline),\n",
    "        (\"cat_pipeline\", cat_pipeline),\n",
    "    ])\n",
    "X_prepared = full_pipeline.fit_transform(X)\n",
    "X_prepared.shape"
   ]
  },
  {
   "cell_type": "code",
   "execution_count": 34,
   "metadata": {},
   "outputs": [
    {
     "name": "stdout",
     "output_type": "stream",
     "text": [
      "[0.17779438 0.1829623  0.18112756]\n",
      "0.18062808168627564\n",
      "0.0021391555263106897\n"
     ]
    }
   ],
   "source": [
    "from sklearn.ensemble import RandomForestRegressor\n",
    "forest_reg = RandomForestRegressor()\n",
    "forest_scores = cross_val_score(forest_reg,X_prepared,y,\n",
    "                               scoring='neg_mean_squared_error',cv=3)\n",
    "forest_rmse_scores = np.sqrt(-forest_scores)\n",
    "print(forest_rmse_scores)\n",
    "print(forest_rmse_scores.mean())\n",
    "print(forest_rmse_scores.std())"
   ]
  },
  {
   "cell_type": "code",
   "execution_count": 35,
   "metadata": {
    "scrolled": true
   },
   "outputs": [
    {
     "data": {
      "text/plain": [
       "GridSearchCV(cv=5, estimator=RandomForestRegressor(),\n",
       "             param_grid=[{'max_features': [2, 4, 6, 8],\n",
       "                          'n_estimators': [3, 10, 30, 50, 80]},\n",
       "                         {'bootstrap': [False], 'max_features': [2, 3, 4],\n",
       "                          'n_estimators': [3, 10]}],\n",
       "             scoring='neg_mean_squared_error')"
      ]
     },
     "execution_count": 35,
     "metadata": {},
     "output_type": "execute_result"
    }
   ],
   "source": [
    "param_grid = [\n",
    "    {'n_estimators' : [3,10,30,50,80],'max_features':[2,4,6,8]},\n",
    "    {'bootstrap':[False], 'n_estimators' : [3,10],'max_features':[2,3,4]},\n",
    "]\n",
    "forest_reg = RandomForestRegressor()\n",
    "grid_search = GridSearchCV(forest_reg, param_grid, cv=5,\n",
    "                          scoring='neg_mean_squared_error')\n",
    "grid_search.fit(X_prepared,y)\n"
   ]
  },
  {
   "cell_type": "code",
   "execution_count": 36,
   "metadata": {},
   "outputs": [
    {
     "data": {
      "text/plain": [
       "{'max_features': 8, 'n_estimators': 80}"
      ]
     },
     "execution_count": 36,
     "metadata": {},
     "output_type": "execute_result"
    }
   ],
   "source": [
    "grid_search.best_params_"
   ]
  },
  {
   "cell_type": "code",
   "execution_count": 37,
   "metadata": {},
   "outputs": [
    {
     "data": {
      "text/plain": [
       "RandomForestRegressor(max_features=8, n_estimators=80)"
      ]
     },
     "execution_count": 37,
     "metadata": {},
     "output_type": "execute_result"
    }
   ],
   "source": [
    "grid_search.best_estimator_"
   ]
  },
  {
   "cell_type": "code",
   "execution_count": 38,
   "metadata": {},
   "outputs": [
    {
     "name": "stdout",
     "output_type": "stream",
     "text": [
      "0.2129252723367584 {'max_features': 2, 'n_estimators': 3}\n",
      "0.19276874697889504 {'max_features': 2, 'n_estimators': 10}\n",
      "0.1865548358477794 {'max_features': 2, 'n_estimators': 30}\n",
      "0.18556292560099835 {'max_features': 2, 'n_estimators': 50}\n",
      "0.1843301132697697 {'max_features': 2, 'n_estimators': 80}\n",
      "0.2083194772288037 {'max_features': 4, 'n_estimators': 3}\n",
      "0.18816455255485012 {'max_features': 4, 'n_estimators': 10}\n",
      "0.1829623147935501 {'max_features': 4, 'n_estimators': 30}\n",
      "0.18205489877494252 {'max_features': 4, 'n_estimators': 50}\n",
      "0.18089699699013326 {'max_features': 4, 'n_estimators': 80}\n",
      "0.2071443061432644 {'max_features': 6, 'n_estimators': 3}\n",
      "0.1869972051226723 {'max_features': 6, 'n_estimators': 10}\n",
      "0.18085709016526758 {'max_features': 6, 'n_estimators': 30}\n",
      "0.18019182644771176 {'max_features': 6, 'n_estimators': 50}\n",
      "0.17924296098682077 {'max_features': 6, 'n_estimators': 80}\n",
      "0.2059155832777527 {'max_features': 8, 'n_estimators': 3}\n",
      "0.18624609411168255 {'max_features': 8, 'n_estimators': 10}\n",
      "0.18004561312395753 {'max_features': 8, 'n_estimators': 30}\n",
      "0.17936941689965172 {'max_features': 8, 'n_estimators': 50}\n",
      "0.17835926815308129 {'max_features': 8, 'n_estimators': 80}\n",
      "0.21288100505518498 {'bootstrap': False, 'max_features': 2, 'n_estimators': 3}\n",
      "0.1939210743488901 {'bootstrap': False, 'max_features': 2, 'n_estimators': 10}\n",
      "0.21063797541003335 {'bootstrap': False, 'max_features': 3, 'n_estimators': 3}\n",
      "0.19187364833373335 {'bootstrap': False, 'max_features': 3, 'n_estimators': 10}\n",
      "0.20546714762759175 {'bootstrap': False, 'max_features': 4, 'n_estimators': 3}\n",
      "0.1898756580450539 {'bootstrap': False, 'max_features': 4, 'n_estimators': 10}\n"
     ]
    }
   ],
   "source": [
    "cv_result = grid_search.cv_results_\n",
    "for mean_score, params in zip(cv_result['mean_test_score'], cv_result['params']):\n",
    "    print(np.sqrt(-mean_score), params)"
   ]
  },
  {
   "cell_type": "code",
   "execution_count": 39,
   "metadata": {},
   "outputs": [
    {
     "data": {
      "text/plain": [
       "array([0.01281747, 0.00326629, 0.13011967, 0.20860081, 0.21515772,\n",
       "       0.14794409, 0.09535877, 0.01160134, 0.02337838, 0.0114124 ,\n",
       "       0.02205272, 0.01089199, 0.00758653, 0.00638578, 0.00570083,\n",
       "       0.00533725, 0.00481233, 0.00626799, 0.00699377, 0.01256712,\n",
       "       0.01023773, 0.01105252, 0.00736504, 0.01143477, 0.01165668])"
      ]
     },
     "execution_count": 39,
     "metadata": {},
     "output_type": "execute_result"
    }
   ],
   "source": [
    "feature_importances = grid_search.best_estimator_.feature_importances_\n",
    "feature_importances"
   ]
  },
  {
   "cell_type": "code",
   "execution_count": 40,
   "metadata": {},
   "outputs": [],
   "source": [
    "k = 3\n",
    "def indices_of_top_k(arr, k):\n",
    "    return np.sort(np.argpartition(np.array(arr), -k)[-k:])\n",
    "\n",
    "class TopFeatureSelector(BaseEstimator, TransformerMixin):\n",
    "    def __init__(self, feature_importances, k):\n",
    "        self.feature_importances = feature_importances\n",
    "        self.k = k\n",
    "    def fit(self, X, y=None):\n",
    "        self.feature_indices_ = indices_of_top_k(self.feature_importances, self.k)\n",
    "        return self\n",
    "    def transform(self, X):\n",
    "        return X[:, self.feature_indices_]\n",
    "    \n",
    "prepare_select_and_predict_pipeline = Pipeline([\n",
    "    ('preparation', full_pipeline),\n",
    "    ('feature_selection', TopFeatureSelector(feature_importances, k)),\n",
    "    ('forst_reg', RandomForestRegressor())\n",
    "])"
   ]
  },
  {
   "cell_type": "code",
   "execution_count": 42,
   "metadata": {},
   "outputs": [
    {
     "name": "stdout",
     "output_type": "stream",
     "text": [
      "Fitting 10 folds for each of 60 candidates, totalling 600 fits\n"
     ]
    },
    {
     "name": "stderr",
     "output_type": "stream",
     "text": [
      "[Parallel(n_jobs=-1)]: Using backend LokyBackend with 8 concurrent workers.\n",
      "[Parallel(n_jobs=-1)]: Done  25 tasks      | elapsed:   41.9s\n",
      "[Parallel(n_jobs=-1)]: Done 146 tasks      | elapsed:  4.0min\n",
      "[Parallel(n_jobs=-1)]: Done 349 tasks      | elapsed:  4.3min\n",
      "[Parallel(n_jobs=-1)]: Done 600 out of 600 | elapsed:  4.5min finished\n"
     ]
    },
    {
     "data": {
      "text/plain": [
       "GridSearchCV(cv=10,\n",
       "             estimator=Pipeline(steps=[('preparation',\n",
       "                                        FeatureUnion(transformer_list=[('num_pipeline',\n",
       "                                                                        Pipeline(steps=[('selector',\n",
       "                                                                                         DataFrameSelector(attribute_names=['Work_accident',\n",
       "                                                                                                                            'promotion_last_5years',\n",
       "                                                                                                                            'last_evaluation',\n",
       "                                                                                                                            'average_monthly_hours',\n",
       "                                                                                                                            'number_project',\n",
       "                                                                                                                            'id',\n",
       "                                                                                                                            'time_spend_company'])),\n",
       "                                                                                        ('imputer',\n",
       "                                                                                         SimpleImputer(strategy='median')),\n",
       "                                                                                        ('std_s...\n",
       "       0.00533725, 0.00481233, 0.00626799, 0.00699377, 0.01256712,\n",
       "       0.01023773, 0.01105252, 0.00736504, 0.01143477, 0.01165668]),\n",
       "                                                           k=3)),\n",
       "                                       ('forst_reg', RandomForestRegressor())]),\n",
       "             n_jobs=-1,\n",
       "             param_grid=[{'forst_reg__max_features': [2, 4, 6, 8],\n",
       "                          'forst_reg__n_estimators': [200, 250, 300, 310, 330],\n",
       "                          'preparation__num_pipeline__imputer__strategy': ['mean',\n",
       "                                                                           'median',\n",
       "                                                                           'most_frequent']}],\n",
       "             scoring='neg_mean_squared_error', verbose=2)"
      ]
     },
     "execution_count": 42,
     "metadata": {},
     "output_type": "execute_result"
    }
   ],
   "source": [
    "param_grid = [{\n",
    "    'preparation__num_pipeline__imputer__strategy': ['mean', 'median', 'most_frequent'],\n",
    "#     'feature_selection__k': list(range(5, len(feature_importances) + 1)),\n",
    "    'forst_reg__n_estimators' : [200,250,300,310,330],\n",
    "    'forst_reg__max_features':[2,4,6,8]\n",
    "}]\n",
    "\n",
    "grid_search_prep = GridSearchCV(prepare_select_and_predict_pipeline, param_grid, cv=10,\n",
    "                                scoring='neg_mean_squared_error', verbose=2, n_jobs=-1)\n",
    "grid_search_prep.fit(X,y)"
   ]
  },
  {
   "cell_type": "code",
   "execution_count": 43,
   "metadata": {},
   "outputs": [
    {
     "data": {
      "text/plain": [
       "{'forst_reg__max_features': 2,\n",
       " 'forst_reg__n_estimators': 250,\n",
       " 'preparation__num_pipeline__imputer__strategy': 'mean'}"
      ]
     },
     "execution_count": 43,
     "metadata": {},
     "output_type": "execute_result"
    }
   ],
   "source": [
    "grid_search_prep.best_params_"
   ]
  },
  {
   "cell_type": "code",
   "execution_count": 44,
   "metadata": {},
   "outputs": [
    {
     "data": {
      "text/plain": [
       "Pipeline(steps=[('preparation',\n",
       "                 FeatureUnion(transformer_list=[('num_pipeline',\n",
       "                                                 Pipeline(steps=[('selector',\n",
       "                                                                  DataFrameSelector(attribute_names=['Work_accident',\n",
       "                                                                                                     'promotion_last_5years',\n",
       "                                                                                                     'last_evaluation',\n",
       "                                                                                                     'average_monthly_hours',\n",
       "                                                                                                     'number_project',\n",
       "                                                                                                     'id',\n",
       "                                                                                                     'time_spend_company'])),\n",
       "                                                                 ('imputer',\n",
       "                                                                  SimpleImputer()),\n",
       "                                                                 ('std_scaler',\n",
       "                                                                  StandardScaler())])),\n",
       "                                                ('cat_pipeline',\n",
       "                                                 Pi...\n",
       "                 TopFeatureSelector(feature_importances=array([0.01281747, 0.00326629, 0.13011967, 0.20860081, 0.21515772,\n",
       "       0.14794409, 0.09535877, 0.01160134, 0.02337838, 0.0114124 ,\n",
       "       0.02205272, 0.01089199, 0.00758653, 0.00638578, 0.00570083,\n",
       "       0.00533725, 0.00481233, 0.00626799, 0.00699377, 0.01256712,\n",
       "       0.01023773, 0.01105252, 0.00736504, 0.01143477, 0.01165668]),\n",
       "                                    k=3)),\n",
       "                ('forst_reg',\n",
       "                 RandomForestRegressor(max_features=2, n_estimators=250))])"
      ]
     },
     "execution_count": 44,
     "metadata": {},
     "output_type": "execute_result"
    }
   ],
   "source": [
    "final_model = grid_search_prep.best_estimator_\n",
    "final_model"
   ]
  },
  {
   "cell_type": "code",
   "execution_count": 45,
   "metadata": {},
   "outputs": [
    {
     "data": {
      "text/html": [
       "<div>\n",
       "<style scoped>\n",
       "    .dataframe tbody tr th:only-of-type {\n",
       "        vertical-align: middle;\n",
       "    }\n",
       "\n",
       "    .dataframe tbody tr th {\n",
       "        vertical-align: top;\n",
       "    }\n",
       "\n",
       "    .dataframe thead th {\n",
       "        text-align: right;\n",
       "    }\n",
       "</style>\n",
       "<table border=\"1\" class=\"dataframe\">\n",
       "  <thead>\n",
       "    <tr style=\"text-align: right;\">\n",
       "      <th></th>\n",
       "      <th>id</th>\n",
       "      <th>last_evaluation</th>\n",
       "      <th>number_project</th>\n",
       "      <th>average_monthly_hours</th>\n",
       "      <th>time_spend_company</th>\n",
       "      <th>Work_accident</th>\n",
       "      <th>package</th>\n",
       "      <th>promotion_last_5years</th>\n",
       "      <th>division</th>\n",
       "      <th>salary</th>\n",
       "    </tr>\n",
       "  </thead>\n",
       "  <tbody>\n",
       "    <tr>\n",
       "      <th>0</th>\n",
       "      <td>4615</td>\n",
       "      <td>0.78</td>\n",
       "      <td>4</td>\n",
       "      <td>260.71</td>\n",
       "      <td>2</td>\n",
       "      <td>0</td>\n",
       "      <td>e</td>\n",
       "      <td>0</td>\n",
       "      <td>technical</td>\n",
       "      <td>medium</td>\n",
       "    </tr>\n",
       "    <tr>\n",
       "      <th>1</th>\n",
       "      <td>1680</td>\n",
       "      <td>0.96</td>\n",
       "      <td>7</td>\n",
       "      <td>275.38</td>\n",
       "      <td>5</td>\n",
       "      <td>0</td>\n",
       "      <td>b</td>\n",
       "      <td>0</td>\n",
       "      <td>marketing</td>\n",
       "      <td>low</td>\n",
       "    </tr>\n",
       "    <tr>\n",
       "      <th>2</th>\n",
       "      <td>8866</td>\n",
       "      <td>0.57</td>\n",
       "      <td>4</td>\n",
       "      <td>207.29</td>\n",
       "      <td>5</td>\n",
       "      <td>0</td>\n",
       "      <td>e</td>\n",
       "      <td>0</td>\n",
       "      <td>sales</td>\n",
       "      <td>low</td>\n",
       "    </tr>\n",
       "    <tr>\n",
       "      <th>3</th>\n",
       "      <td>7525</td>\n",
       "      <td>0.89</td>\n",
       "      <td>5</td>\n",
       "      <td>150.70</td>\n",
       "      <td>4</td>\n",
       "      <td>0</td>\n",
       "      <td>c</td>\n",
       "      <td>0</td>\n",
       "      <td>technical</td>\n",
       "      <td>medium</td>\n",
       "    </tr>\n",
       "    <tr>\n",
       "      <th>4</th>\n",
       "      <td>5389</td>\n",
       "      <td>0.93</td>\n",
       "      <td>3</td>\n",
       "      <td>141.23</td>\n",
       "      <td>2</td>\n",
       "      <td>0</td>\n",
       "      <td>e</td>\n",
       "      <td>0</td>\n",
       "      <td>support</td>\n",
       "      <td>medium</td>\n",
       "    </tr>\n",
       "  </tbody>\n",
       "</table>\n",
       "</div>"
      ],
      "text/plain": [
       "     id  last_evaluation  number_project  average_monthly_hours  \\\n",
       "0  4615             0.78               4                 260.71   \n",
       "1  1680             0.96               7                 275.38   \n",
       "2  8866             0.57               4                 207.29   \n",
       "3  7525             0.89               5                 150.70   \n",
       "4  5389             0.93               3                 141.23   \n",
       "\n",
       "   time_spend_company  Work_accident package  promotion_last_5years  \\\n",
       "0                   2              0       e                      0   \n",
       "1                   5              0       b                      0   \n",
       "2                   5              0       e                      0   \n",
       "3                   4              0       c                      0   \n",
       "4                   2              0       e                      0   \n",
       "\n",
       "    division  salary  \n",
       "0  technical  medium  \n",
       "1  marketing     low  \n",
       "2      sales     low  \n",
       "3  technical  medium  \n",
       "4    support  medium  "
      ]
     },
     "execution_count": 45,
     "metadata": {},
     "output_type": "execute_result"
    }
   ],
   "source": [
    "y_pred_test = final_model.predict(test)\n",
    "result = pd.DataFrame()\n",
    "result['id'] = test['id']\n",
    "result['satisfaction_level'] = y_pred_test\n",
    "result.to_csv('rf_ML_pipeline.csv',index=False)\n",
    "test.head()"
   ]
  }
 ],
 "metadata": {
  "kernelspec": {
   "display_name": "Python 3",
   "language": "python",
   "name": "python3"
  },
  "language_info": {
   "codemirror_mode": {
    "name": "ipython",
    "version": 3
   },
   "file_extension": ".py",
   "mimetype": "text/x-python",
   "name": "python",
   "nbconvert_exporter": "python",
   "pygments_lexer": "ipython3",
   "version": "3.8.4"
  }
 },
 "nbformat": 4,
 "nbformat_minor": 4
}
