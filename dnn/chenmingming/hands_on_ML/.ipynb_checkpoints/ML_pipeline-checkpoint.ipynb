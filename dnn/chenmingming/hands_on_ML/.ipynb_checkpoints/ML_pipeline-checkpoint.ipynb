{
 "cells": [
  {
   "cell_type": "code",
   "execution_count": 93,
   "metadata": {},
   "outputs": [],
   "source": [
    "import numpy as np\n",
    "import pandas as pd\n",
    "%matplotlib inline\n",
    "import matplotlib.pyplot as plt\n",
    "from sklearn.model_selection import train_test_split\n",
    "from sklearn.model_selection import StratifiedShuffleSplit\n",
    "from sklearn.impute import SimpleImputer\n",
    "from sklearn.preprocessing import LabelEncoder\n",
    "from sklearn.preprocessing import OneHotEncoder\n",
    "from sklearn.preprocessing import LabelBinarizer\n",
    "from sklearn.base import BaseEstimator, TransformerMixin\n",
    "from sklearn.pipeline import Pipeline\n",
    "from sklearn.preprocessing import StandardScaler\n",
    "from sklearn.pipeline import FeatureUnion\n",
    "from sklearn.model_selection import GridSearchCV\n",
    "from sklearn.model_selection import cross_val_score"
   ]
  },
  {
   "cell_type": "code",
   "execution_count": 122,
   "metadata": {
    "scrolled": true
   },
   "outputs": [
    {
     "data": {
      "text/plain": [
       "Index(['id', 'last_evaluation', 'number_project', 'average_monthly_hours',\n",
       "       'time_spend_company', 'Work_accident', 'package',\n",
       "       'promotion_last_5years', 'division', 'salary', 'satisfaction_level'],\n",
       "      dtype='object')"
      ]
     },
     "execution_count": 122,
     "metadata": {},
     "output_type": "execute_result"
    }
   ],
   "source": [
    "data = pd.read_csv(\"../competition/Employee_Satisfaction/train.csv\")\n",
    "test = pd.read_csv(\"../competition/Employee_Satisfaction/test.csv\")\n",
    "data.columns"
   ]
  },
  {
   "cell_type": "code",
   "execution_count": 95,
   "metadata": {},
   "outputs": [],
   "source": [
    "y = data['satisfaction_level']\n",
    "X = data.drop(['satisfaction_level'], axis=1)"
   ]
  },
  {
   "cell_type": "code",
   "execution_count": 96,
   "metadata": {},
   "outputs": [
    {
     "name": "stdout",
     "output_type": "stream",
     "text": [
      "['Work_accident', 'time_spend_company', 'promotion_last_5years', 'id', 'average_monthly_hours', 'last_evaluation', 'number_project']\n",
      "['package', 'division', 'salary']\n"
     ]
    },
    {
     "data": {
      "text/plain": [
       "array([['a', 'accounting', 'medium'],\n",
       "       ['b', 'marketing', 'low'],\n",
       "       ['e', 'sales', 'medium'],\n",
       "       ...,\n",
       "       ['c', 'sales', 'medium'],\n",
       "       ['b', 'IT', 'low'],\n",
       "       ['c', 'support', 'low']], dtype=object)"
      ]
     },
     "execution_count": 96,
     "metadata": {},
     "output_type": "execute_result"
    }
   ],
   "source": [
    "def num_cat_splitor(X):\n",
    "    s = (X.dtypes == 'object')\n",
    "    object_cols = list(s[s].index)\n",
    "    object_cols # ['package', 'division', 'salary']\n",
    "    num_cols = list(set(X.columns) - set(object_cols))\n",
    "    num_cols\n",
    "    # ['Work_accident',\n",
    "    #  'time_spend_company',\n",
    "    #  'promotion_last_5years',\n",
    "    #  'id',\n",
    "    #  'average_monthly_hours',\n",
    "    #  'last_evaluation',\n",
    "    #  'number_project']\n",
    "    return num_cols, object_cols\n",
    "num_cols, object_cols = num_cat_splitor(X)\n",
    "print(num_cols)\n",
    "print(object_cols)\n",
    "X[object_cols].values"
   ]
  },
  {
   "cell_type": "code",
   "execution_count": 97,
   "metadata": {},
   "outputs": [],
   "source": [
    "class DataFrameSelector(BaseEstimator, TransformerMixin):\n",
    "    def __init__(self, attribute_names):\n",
    "        self.attribute_names = attribute_names\n",
    "    def fit(self, X, y=None):\n",
    "        return self\n",
    "    def transform(self, X):\n",
    "        return X[self.attribute_names].values\n",
    "    \n",
    "num_pipeline = Pipeline([\n",
    "        ('selector', DataFrameSelector(num_cols)),\n",
    "        ('imputer', SimpleImputer(strategy=\"median\")),\n",
    "        ('std_scaler', StandardScaler()),\n",
    "    ])"
   ]
  },
  {
   "cell_type": "code",
   "execution_count": 98,
   "metadata": {},
   "outputs": [
    {
     "data": {
      "text/plain": [
       "(11999, 25)"
      ]
     },
     "execution_count": 98,
     "metadata": {},
     "output_type": "execute_result"
    }
   ],
   "source": [
    "cat_pipeline = Pipeline([\n",
    "        ('selector', DataFrameSelector(object_cols)),\n",
    "        ('cat_encoder', OneHotEncoder(sparse=False)),\n",
    "    ])\n",
    "\n",
    "full_pipeline = FeatureUnion(transformer_list=[\n",
    "        (\"num_pipeline\", num_pipeline),\n",
    "        (\"cat_pipeline\", cat_pipeline),\n",
    "    ])\n",
    "X_prepared = full_pipeline.fit_transform(X)\n",
    "X_prepared.shape"
   ]
  },
  {
   "cell_type": "code",
   "execution_count": 99,
   "metadata": {},
   "outputs": [
    {
     "name": "stdout",
     "output_type": "stream",
     "text": [
      "[0.17767301 0.18211663 0.18128649]\n",
      "0.18035871005080292\n",
      "0.0019290815349805967\n"
     ]
    }
   ],
   "source": [
    "forest_reg = RandomForestRegressor()\n",
    "forest_scores = cross_val_score(forest_reg,X_prepared,y,\n",
    "                               scoring='neg_mean_squared_error',cv=3)\n",
    "forest_rmse_scores = np.sqrt(-forest_scores)\n",
    "print(forest_rmse_scores)\n",
    "print(forest_rmse_scores.mean())\n",
    "print(forest_rmse_scores.std())"
   ]
  },
  {
   "cell_type": "code",
   "execution_count": 100,
   "metadata": {
    "scrolled": true
   },
   "outputs": [
    {
     "data": {
      "text/plain": [
       "GridSearchCV(cv=5, estimator=RandomForestRegressor(),\n",
       "             param_grid=[{'max_features': [2, 4, 6, 8],\n",
       "                          'n_estimators': [3, 10, 30]},\n",
       "                         {'bootstrap': [False], 'max_features': [2, 3, 4],\n",
       "                          'n_estimators': [3, 10]}],\n",
       "             scoring='neg_mean_squared_error')"
      ]
     },
     "execution_count": 100,
     "metadata": {},
     "output_type": "execute_result"
    }
   ],
   "source": [
    "param_grid = [\n",
    "    {'n_estimators' : [3,10,30],'max_features':[2,4,6,8]},\n",
    "    {'bootstrap':[False], 'n_estimators' : [3,10],'max_features':[2,3,4]},\n",
    "]\n",
    "forest_reg = RandomForestRegressor()\n",
    "grid_search = GridSearchCV(forest_reg, param_grid, cv=5,\n",
    "                          scoring='neg_mean_squared_error')\n",
    "grid_search.fit(X_prepared,y)\n"
   ]
  },
  {
   "cell_type": "code",
   "execution_count": 101,
   "metadata": {},
   "outputs": [
    {
     "data": {
      "text/plain": [
       "{'max_features': 8, 'n_estimators': 30}"
      ]
     },
     "execution_count": 101,
     "metadata": {},
     "output_type": "execute_result"
    }
   ],
   "source": [
    "grid_search.best_params_"
   ]
  },
  {
   "cell_type": "code",
   "execution_count": 102,
   "metadata": {},
   "outputs": [
    {
     "data": {
      "text/plain": [
       "RandomForestRegressor(max_features=8, n_estimators=30)"
      ]
     },
     "execution_count": 102,
     "metadata": {},
     "output_type": "execute_result"
    }
   ],
   "source": [
    "grid_search.best_estimator_"
   ]
  },
  {
   "cell_type": "code",
   "execution_count": 103,
   "metadata": {},
   "outputs": [
    {
     "name": "stdout",
     "output_type": "stream",
     "text": [
      "0.21672947843603435 {'max_features': 2, 'n_estimators': 3}\n",
      "0.19326941681206122 {'max_features': 2, 'n_estimators': 10}\n",
      "0.18670411934127787 {'max_features': 2, 'n_estimators': 30}\n",
      "0.20955467058788665 {'max_features': 4, 'n_estimators': 3}\n",
      "0.1889899343929204 {'max_features': 4, 'n_estimators': 10}\n",
      "0.1821711514173845 {'max_features': 4, 'n_estimators': 30}\n",
      "0.20683335337374673 {'max_features': 6, 'n_estimators': 3}\n",
      "0.187790093767181 {'max_features': 6, 'n_estimators': 10}\n",
      "0.18100972971295928 {'max_features': 6, 'n_estimators': 30}\n",
      "0.20719771329021583 {'max_features': 8, 'n_estimators': 3}\n",
      "0.1859510805341047 {'max_features': 8, 'n_estimators': 10}\n",
      "0.18035407573239673 {'max_features': 8, 'n_estimators': 30}\n",
      "0.21094992134337529 {'bootstrap': False, 'max_features': 2, 'n_estimators': 3}\n",
      "0.1951233950354826 {'bootstrap': False, 'max_features': 2, 'n_estimators': 10}\n",
      "0.21048765152406534 {'bootstrap': False, 'max_features': 3, 'n_estimators': 3}\n",
      "0.19171859010850603 {'bootstrap': False, 'max_features': 3, 'n_estimators': 10}\n",
      "0.20866352620316503 {'bootstrap': False, 'max_features': 4, 'n_estimators': 3}\n",
      "0.1901773782706081 {'bootstrap': False, 'max_features': 4, 'n_estimators': 10}\n"
     ]
    }
   ],
   "source": [
    "cv_result = grid_search.cv_results_\n",
    "for mean_score, params in zip(cv_result['mean_test_score'], cv_result['params']):\n",
    "    print(np.sqrt(-mean_score), params)"
   ]
  },
  {
   "cell_type": "code",
   "execution_count": 104,
   "metadata": {},
   "outputs": [
    {
     "data": {
      "text/plain": [
       "array([0.01339825, 0.08916229, 0.003258  , 0.14694404, 0.20214578,\n",
       "       0.13606608, 0.23051826, 0.01185551, 0.0175757 , 0.01242556,\n",
       "       0.01581036, 0.01255439, 0.00814935, 0.00654919, 0.0054828 ,\n",
       "       0.00515477, 0.00488507, 0.00628945, 0.00676332, 0.01268749,\n",
       "       0.01037455, 0.01081768, 0.00786773, 0.01133198, 0.0119324 ])"
      ]
     },
     "execution_count": 104,
     "metadata": {},
     "output_type": "execute_result"
    }
   ],
   "source": [
    "feature_importances = grid_search.best_estimator_.feature_importances_\n",
    "feature_importances"
   ]
  },
  {
   "cell_type": "code",
   "execution_count": 105,
   "metadata": {},
   "outputs": [],
   "source": [
    "k = 3\n",
    "def indices_of_top_k(arr, k):\n",
    "    return np.sort(np.argpartition(np.array(arr), -k)[-k:])\n",
    "\n",
    "class TopFeatureSelector(BaseEstimator, TransformerMixin):\n",
    "    def __init__(self, feature_importances, k):\n",
    "        self.feature_importances = feature_importances\n",
    "        self.k = k\n",
    "    def fit(self, X, y=None):\n",
    "        self.feature_indices_ = indices_of_top_k(self.feature_importances, self.k)\n",
    "        return self\n",
    "    def transform(self, X):\n",
    "        return X[:, self.feature_indices_]\n",
    "    \n",
    "prepare_select_and_predict_pipeline = Pipeline([\n",
    "    ('preparation', full_pipeline),\n",
    "    ('feature_selection', TopFeatureSelector(feature_importances, k)),\n",
    "    ('forst_reg', RandomForestRegressor())\n",
    "])"
   ]
  },
  {
   "cell_type": "code",
   "execution_count": 107,
   "metadata": {},
   "outputs": [
    {
     "name": "stdout",
     "output_type": "stream",
     "text": [
      "Fitting 3 folds for each of 189 candidates, totalling 567 fits\n"
     ]
    },
    {
     "name": "stderr",
     "output_type": "stream",
     "text": [
      "[Parallel(n_jobs=-1)]: Using backend LokyBackend with 8 concurrent workers.\n",
      "[Parallel(n_jobs=-1)]: Done  25 tasks      | elapsed:    2.6s\n",
      "[Parallel(n_jobs=-1)]: Done 146 tasks      | elapsed:   16.4s\n",
      "[Parallel(n_jobs=-1)]: Done 349 tasks      | elapsed:   49.7s\n",
      "[Parallel(n_jobs=-1)]: Done 567 out of 567 | elapsed:  1.6min finished\n"
     ]
    },
    {
     "data": {
      "text/plain": [
       "GridSearchCV(cv=3,\n",
       "             estimator=Pipeline(steps=[('preparation',\n",
       "                                        FeatureUnion(transformer_list=[('num_pipeline',\n",
       "                                                                        Pipeline(steps=[('selector',\n",
       "                                                                                         DataFrameSelector(attribute_names=['Work_accident',\n",
       "                                                                                                                            'time_spend_company',\n",
       "                                                                                                                            'promotion_last_5years',\n",
       "                                                                                                                            'id',\n",
       "                                                                                                                            'average_monthly_hours',\n",
       "                                                                                                                            'last_evaluation',\n",
       "                                                                                                                            'number_project'])),\n",
       "                                                                                        ('imputer',\n",
       "                                                                                         SimpleImputer(strategy='median')),\n",
       "                                                                                        ('std_sc...\n",
       "       0.01037455, 0.01081768, 0.00786773, 0.01133198, 0.0119324 ]),\n",
       "                                                           k=3)),\n",
       "                                       ('forst_reg', RandomForestRegressor())]),\n",
       "             n_jobs=-1,\n",
       "             param_grid=[{'feature_selection__k': [5, 6, 7, 8, 9, 10, 11, 12,\n",
       "                                                   13, 14, 15, 16, 17, 18, 19,\n",
       "                                                   20, 21, 22, 23, 24, 25],\n",
       "                          'forst_reg__n_estimators': [3, 10, 30],\n",
       "                          'preparation__num_pipeline__imputer__strategy': ['mean',\n",
       "                                                                           'median',\n",
       "                                                                           'most_frequent']}],\n",
       "             scoring='neg_mean_squared_error', verbose=2)"
      ]
     },
     "execution_count": 107,
     "metadata": {},
     "output_type": "execute_result"
    }
   ],
   "source": [
    "param_grid = [{\n",
    "    'preparation__num_pipeline__imputer__strategy': ['mean', 'median', 'most_frequent'],\n",
    "    'feature_selection__k': list(range(5, len(feature_importances) + 1)),\n",
    "    'forst_reg__n_estimators' : [3,10,30]\n",
    "}]\n",
    "\n",
    "grid_search_prep = GridSearchCV(prepare_select_and_predict_pipeline, param_grid, cv=3,\n",
    "                                scoring='neg_mean_squared_error', verbose=2, n_jobs=-1)\n",
    "grid_search_prep.fit(X,y)"
   ]
  },
  {
   "cell_type": "code",
   "execution_count": 108,
   "metadata": {},
   "outputs": [
    {
     "data": {
      "text/plain": [
       "{'feature_selection__k': 25,\n",
       " 'forst_reg__n_estimators': 30,\n",
       " 'preparation__num_pipeline__imputer__strategy': 'mean'}"
      ]
     },
     "execution_count": 108,
     "metadata": {},
     "output_type": "execute_result"
    }
   ],
   "source": [
    "grid_search_prep.best_params_"
   ]
  },
  {
   "cell_type": "code",
   "execution_count": 110,
   "metadata": {},
   "outputs": [
    {
     "data": {
      "text/plain": [
       "Pipeline(steps=[('preparation',\n",
       "                 FeatureUnion(transformer_list=[('num_pipeline',\n",
       "                                                 Pipeline(steps=[('selector',\n",
       "                                                                  DataFrameSelector(attribute_names=['Work_accident',\n",
       "                                                                                                     'time_spend_company',\n",
       "                                                                                                     'promotion_last_5years',\n",
       "                                                                                                     'id',\n",
       "                                                                                                     'average_monthly_hours',\n",
       "                                                                                                     'last_evaluation',\n",
       "                                                                                                     'number_project'])),\n",
       "                                                                 ('imputer',\n",
       "                                                                  SimpleImputer()),\n",
       "                                                                 ('std_scaler',\n",
       "                                                                  StandardScaler())])),\n",
       "                                                ('cat_pipeline',\n",
       "                                                 Pi...\n",
       "                 TopFeatureSelector(feature_importances=array([0.01339825, 0.08916229, 0.003258  , 0.14694404, 0.20214578,\n",
       "       0.13606608, 0.23051826, 0.01185551, 0.0175757 , 0.01242556,\n",
       "       0.01581036, 0.01255439, 0.00814935, 0.00654919, 0.0054828 ,\n",
       "       0.00515477, 0.00488507, 0.00628945, 0.00676332, 0.01268749,\n",
       "       0.01037455, 0.01081768, 0.00786773, 0.01133198, 0.0119324 ]),\n",
       "                                    k=25)),\n",
       "                ('forst_reg', RandomForestRegressor(n_estimators=30))])"
      ]
     },
     "execution_count": 110,
     "metadata": {},
     "output_type": "execute_result"
    }
   ],
   "source": [
    "final_model = grid_search_prep.best_estimator_\n",
    "final_model"
   ]
  },
  {
   "cell_type": "code",
   "execution_count": 125,
   "metadata": {},
   "outputs": [
    {
     "data": {
      "text/html": [
       "<div>\n",
       "<style scoped>\n",
       "    .dataframe tbody tr th:only-of-type {\n",
       "        vertical-align: middle;\n",
       "    }\n",
       "\n",
       "    .dataframe tbody tr th {\n",
       "        vertical-align: top;\n",
       "    }\n",
       "\n",
       "    .dataframe thead th {\n",
       "        text-align: right;\n",
       "    }\n",
       "</style>\n",
       "<table border=\"1\" class=\"dataframe\">\n",
       "  <thead>\n",
       "    <tr style=\"text-align: right;\">\n",
       "      <th></th>\n",
       "      <th>id</th>\n",
       "      <th>last_evaluation</th>\n",
       "      <th>number_project</th>\n",
       "      <th>average_monthly_hours</th>\n",
       "      <th>time_spend_company</th>\n",
       "      <th>Work_accident</th>\n",
       "      <th>package</th>\n",
       "      <th>promotion_last_5years</th>\n",
       "      <th>division</th>\n",
       "      <th>salary</th>\n",
       "    </tr>\n",
       "  </thead>\n",
       "  <tbody>\n",
       "    <tr>\n",
       "      <th>0</th>\n",
       "      <td>4615</td>\n",
       "      <td>0.78</td>\n",
       "      <td>4</td>\n",
       "      <td>260.71</td>\n",
       "      <td>2</td>\n",
       "      <td>0</td>\n",
       "      <td>e</td>\n",
       "      <td>0</td>\n",
       "      <td>technical</td>\n",
       "      <td>medium</td>\n",
       "    </tr>\n",
       "    <tr>\n",
       "      <th>1</th>\n",
       "      <td>1680</td>\n",
       "      <td>0.96</td>\n",
       "      <td>7</td>\n",
       "      <td>275.38</td>\n",
       "      <td>5</td>\n",
       "      <td>0</td>\n",
       "      <td>b</td>\n",
       "      <td>0</td>\n",
       "      <td>marketing</td>\n",
       "      <td>low</td>\n",
       "    </tr>\n",
       "    <tr>\n",
       "      <th>2</th>\n",
       "      <td>8866</td>\n",
       "      <td>0.57</td>\n",
       "      <td>4</td>\n",
       "      <td>207.29</td>\n",
       "      <td>5</td>\n",
       "      <td>0</td>\n",
       "      <td>e</td>\n",
       "      <td>0</td>\n",
       "      <td>sales</td>\n",
       "      <td>low</td>\n",
       "    </tr>\n",
       "    <tr>\n",
       "      <th>3</th>\n",
       "      <td>7525</td>\n",
       "      <td>0.89</td>\n",
       "      <td>5</td>\n",
       "      <td>150.70</td>\n",
       "      <td>4</td>\n",
       "      <td>0</td>\n",
       "      <td>c</td>\n",
       "      <td>0</td>\n",
       "      <td>technical</td>\n",
       "      <td>medium</td>\n",
       "    </tr>\n",
       "    <tr>\n",
       "      <th>4</th>\n",
       "      <td>5389</td>\n",
       "      <td>0.93</td>\n",
       "      <td>3</td>\n",
       "      <td>141.23</td>\n",
       "      <td>2</td>\n",
       "      <td>0</td>\n",
       "      <td>e</td>\n",
       "      <td>0</td>\n",
       "      <td>support</td>\n",
       "      <td>medium</td>\n",
       "    </tr>\n",
       "  </tbody>\n",
       "</table>\n",
       "</div>"
      ],
      "text/plain": [
       "     id  last_evaluation  number_project  average_monthly_hours  \\\n",
       "0  4615             0.78               4                 260.71   \n",
       "1  1680             0.96               7                 275.38   \n",
       "2  8866             0.57               4                 207.29   \n",
       "3  7525             0.89               5                 150.70   \n",
       "4  5389             0.93               3                 141.23   \n",
       "\n",
       "   time_spend_company  Work_accident package  promotion_last_5years  \\\n",
       "0                   2              0       e                      0   \n",
       "1                   5              0       b                      0   \n",
       "2                   5              0       e                      0   \n",
       "3                   4              0       c                      0   \n",
       "4                   2              0       e                      0   \n",
       "\n",
       "    division  salary  \n",
       "0  technical  medium  \n",
       "1  marketing     low  \n",
       "2      sales     low  \n",
       "3  technical  medium  \n",
       "4    support  medium  "
      ]
     },
     "execution_count": 125,
     "metadata": {},
     "output_type": "execute_result"
    }
   ],
   "source": [
    "y_pred_test = final_model.predict(test)\n",
    "result = pd.DataFrame()\n",
    "result['id'] = test['id']\n",
    "result['satisfaction_level'] = y_pred_test\n",
    "result.to_csv('rf_ML_pipeline.csv',index=False)\n",
    "test.head()"
   ]
  }
 ],
 "metadata": {
  "kernelspec": {
   "display_name": "Python 3",
   "language": "python",
   "name": "python3"
  },
  "language_info": {
   "codemirror_mode": {
    "name": "ipython",
    "version": 3
   },
   "file_extension": ".py",
   "mimetype": "text/x-python",
   "name": "python",
   "nbconvert_exporter": "python",
   "pygments_lexer": "ipython3",
   "version": "3.7.2"
  }
 },
 "nbformat": 4,
 "nbformat_minor": 4
}
