{
 "cells": [
  {
   "cell_type": "code",
   "execution_count": 1,
   "metadata": {},
   "outputs": [],
   "source": [
    "import tensorflow as tf\n",
    "from tensorflow import keras\n",
    "# import keras\n",
    "import numpy as np\n",
    "%matplotlib inline\n",
    "import matplotlib.pyplot as plt\n",
    "import pandas as pd\n",
    "\n",
    "train = pd.read_csv('train.csv')\n",
    "y_train_full = train['label']\n",
    "X_train_full = train.drop(['label'], axis=1)\n",
    "X_test = pd.read_csv('test.csv')"
   ]
  },
  {
   "cell_type": "code",
   "execution_count": 2,
   "metadata": {
    "pycharm": {
     "name": "#%%\n"
    }
   },
   "outputs": [
    {
     "data": {
      "text/plain": [
       "(42000, 784)"
      ]
     },
     "execution_count": 2,
     "metadata": {},
     "output_type": "execute_result"
    }
   ],
   "source": [
    "X_train_full.shape"
   ]
  },
  {
   "cell_type": "code",
   "execution_count": 3,
   "metadata": {
    "pycharm": {
     "name": "#%%\n"
    }
   },
   "outputs": [],
   "source": [
    "X_valid, X_train = X_train_full[:8000] / 255.0, X_train_full[8000:] / 255.0\n",
    "y_valid, y_train = y_train_full[:8000], y_train_full[8000:]"
   ]
  },
  {
   "cell_type": "code",
   "execution_count": 4,
   "metadata": {
    "pycharm": {
     "name": "#%%\n"
    }
   },
   "outputs": [
    {
     "name": "stdout",
     "output_type": "stream",
     "text": [
      "[[  0   0   0   0   0   0   0   0   0   0   0   0   0   0   0   0   0   0\n",
      "    0   0   0   0   0   0   0   0   0   0]\n",
      " [  0   0   0   0   0   0   0   0   0   0   0   0   0   0   0   0   0   0\n",
      "    0   0   0   0   0   0   0   0   0   0]\n",
      " [  0   0   0   0   0   0   0   0   0   0   0   0   0   0   0   0   0   0\n",
      "    0   0   0   0   0   0   0   0   0   0]\n",
      " [  0   0   0   0   0   0   0   0   0   0   0   0   0   0   0   0   0   0\n",
      "    0   0   0   0   0   0   0   0   0   0]\n",
      " [  0   0   0   0   0   0   0   0   0   0   0   0   0   0   0   0   0   0\n",
      "    0   0 188 255  94   0   0   0   0   0]\n",
      " [  0   0   0   0   0   0   0   0   0   0   0   0   0   0   0   0   0   0\n",
      "    0 191 250 253  93   0   0   0   0   0]\n",
      " [  0   0   0   0   0   0   0   0   0   0   0   0   0   0   0   0   0   0\n",
      "  123 248 253 167  10   0   0   0   0   0]\n",
      " [  0   0   0   0   0   0   0   0   0   0   0   0   0   0   0   0   0  80\n",
      "  247 253 208  13   0   0   0   0   0   0]\n",
      " [  0   0   0   0   0   0   0   0   0   0   0   0   0   0   0   0  29 207\n",
      "  253 235  77   0   0   0   0   0   0   0]\n",
      " [  0   0   0   0   0   0   0   0   0   0   0   0   0   0   0  54 209 253\n",
      "  253  88   0   0   0   0   0   0   0   0]\n",
      " [  0   0   0   0   0   0   0   0   0   0   0   0   0   0  93 254 253 238\n",
      "  170  17   0   0   0   0   0   0   0   0]\n",
      " [  0   0   0   0   0   0   0   0   0   0   0   0   0  23 210 254 253 159\n",
      "    0   0   0   0   0   0   0   0   0   0]\n",
      " [  0   0   0   0   0   0   0   0   0   0   0   0  16 209 253 254 240  81\n",
      "    0   0   0   0   0   0   0   0   0   0]\n",
      " [  0   0   0   0   0   0   0   0   0   0   0   0  27 253 253 254  13   0\n",
      "    0   0   0   0   0   0   0   0   0   0]\n",
      " [  0   0   0   0   0   0   0   0   0   0   0  20 206 254 254 198   7   0\n",
      "    0   0   0   0   0   0   0   0   0   0]\n",
      " [  0   0   0   0   0   0   0   0   0   0   0 168 253 253 196   7   0   0\n",
      "    0   0   0   0   0   0   0   0   0   0]\n",
      " [  0   0   0   0   0   0   0   0   0   0  20 203 253 248  76   0   0   0\n",
      "    0   0   0   0   0   0   0   0   0   0]\n",
      " [  0   0   0   0   0   0   0   0   0  22 188 253 245  93   0   0   0   0\n",
      "    0   0   0   0   0   0   0   0   0   0]\n",
      " [  0   0   0   0   0   0   0   0   0 103 253 253 191   0   0   0   0   0\n",
      "    0   0   0   0   0   0   0   0   0   0]\n",
      " [  0   0   0   0   0   0   0   0  89 240 253 195  25   0   0   0   0   0\n",
      "    0   0   0   0   0   0   0   0   0   0]\n",
      " [  0   0   0   0   0   0   0  15 220 253 253  80   0   0   0   0   0   0\n",
      "    0   0   0   0   0   0   0   0   0   0]\n",
      " [  0   0   0   0   0   0   0  94 253 253 253  94   0   0   0   0   0   0\n",
      "    0   0   0   0   0   0   0   0   0   0]\n",
      " [  0   0   0   0   0   0   0  89 251 253 250 131   0   0   0   0   0   0\n",
      "    0   0   0   0   0   0   0   0   0   0]\n",
      " [  0   0   0   0   0   0   0   0 214 218  95   0   0   0   0   0   0   0\n",
      "    0   0   0   0   0   0   0   0   0   0]\n",
      " [  0   0   0   0   0   0   0   0   0   0   0   0   0   0   0   0   0   0\n",
      "    0   0   0   0   0   0   0   0   0   0]\n",
      " [  0   0   0   0   0   0   0   0   0   0   0   0   0   0   0   0   0   0\n",
      "    0   0   0   0   0   0   0   0   0   0]\n",
      " [  0   0   0   0   0   0   0   0   0   0   0   0   0   0   0   0   0   0\n",
      "    0   0   0   0   0   0   0   0   0   0]\n",
      " [  0   0   0   0   0   0   0   0   0   0   0   0   0   0   0   0   0   0\n",
      "    0   0   0   0   0   0   0   0   0   0]]\n"
     ]
    }
   ],
   "source": [
    "from PIL import Image\n",
    "img = Image.fromarray(np.uint8(np.array(X_train_full)[0].reshape(28,28)))\n",
    "img.show()\n",
    "print(np.uint8(np.array(X_train_full)[0].reshape(28,28)))"
   ]
  },
  {
   "cell_type": "code",
   "execution_count": 5,
   "metadata": {
    "pycharm": {
     "name": "#%%\n"
    }
   },
   "outputs": [],
   "source": [
    "model = keras.models.Sequential()\n",
    "# model.add(keras.layers.Flatten(input_shape=[784]))\n",
    "model.add(keras.layers.Dense(300, activation=\"relu\"))\n",
    "model.add(keras.layers.Dense(100, activation=\"relu\"))\n",
    "model.add(keras.layers.Dense(10, activation=\"softmax\"))"
   ]
  },
  {
   "cell_type": "code",
   "execution_count": 6,
   "metadata": {
    "pycharm": {
     "name": "#%%\n"
    }
   },
   "outputs": [],
   "source": [
    "model = keras.models.Sequential([\n",
    "# keras.layers.Flatten(input_shape=[784]),\n",
    "keras.layers.Dense(300, activation=\"relu\"),\n",
    "keras.layers.Dense(100, activation=\"relu\"),\n",
    "keras.layers.Dense(10, activation=\"softmax\")\n",
    "])"
   ]
  },
  {
   "cell_type": "code",
   "execution_count": 7,
   "metadata": {
    "pycharm": {
     "name": "#%%\n"
    }
   },
   "outputs": [],
   "source": [
    "opt = keras.optimizers.Adam(learning_rate=0.001, beta_1=0.9, beta_2=0.999, decay=0.01)\n",
    "model.compile(loss=\"sparse_categorical_crossentropy\",\n",
    "              optimizer=opt, metrics=[\"accuracy\"])"
   ]
  },
  {
   "cell_type": "code",
   "execution_count": 8,
   "metadata": {
    "pycharm": {
     "name": "#%%\n"
    },
    "scrolled": true
   },
   "outputs": [
    {
     "name": "stdout",
     "output_type": "stream",
     "text": [
      "Epoch 1/60\n",
      "WARNING:tensorflow:Layer dense_3 is casting an input tensor from dtype float64 to the layer's dtype of float32, which is new behavior in TensorFlow 2.  The layer has dtype float32 because its dtype defaults to floatx.\n",
      "\n",
      "If you intended to run this layer in float32, you can safely ignore this warning. If in doubt, this warning is likely only an issue if you are porting a TensorFlow 1.X model to TensorFlow 2.\n",
      "\n",
      "To change all layers to have dtype float64 by default, call `tf.keras.backend.set_floatx('float64')`. To change just this layer, pass dtype='float64' to the layer constructor. If you are the author of this layer, you can disable autocasting by passing autocast=False to the base Layer constructor.\n",
      "\n",
      "1063/1063 [==============================] - 2s 2ms/step - loss: 0.2968 - accuracy: 0.9144 - val_loss: 0.2068 - val_accuracy: 0.9409\n",
      "Epoch 2/60\n",
      "1063/1063 [==============================] - 2s 2ms/step - loss: 0.1774 - accuracy: 0.9496 - val_loss: 0.1810 - val_accuracy: 0.9482\n",
      "Epoch 3/60\n",
      "1063/1063 [==============================] - 2s 2ms/step - loss: 0.1558 - accuracy: 0.9557 - val_loss: 0.1690 - val_accuracy: 0.9523\n",
      "Epoch 4/60\n",
      "1063/1063 [==============================] - 2s 2ms/step - loss: 0.1439 - accuracy: 0.9598 - val_loss: 0.1612 - val_accuracy: 0.9526\n",
      "Epoch 5/60\n",
      "1063/1063 [==============================] - 2s 2ms/step - loss: 0.1364 - accuracy: 0.9621 - val_loss: 0.1570 - val_accuracy: 0.9548\n",
      "Epoch 6/60\n",
      "1063/1063 [==============================] - 2s 2ms/step - loss: 0.1304 - accuracy: 0.9641 - val_loss: 0.1529 - val_accuracy: 0.9549\n",
      "Epoch 7/60\n",
      "1063/1063 [==============================] - 2s 2ms/step - loss: 0.1261 - accuracy: 0.9649 - val_loss: 0.1499 - val_accuracy: 0.9564\n",
      "Epoch 8/60\n",
      "1063/1063 [==============================] - 2s 2ms/step - loss: 0.1224 - accuracy: 0.9660 - val_loss: 0.1473 - val_accuracy: 0.9570\n",
      "Epoch 9/60\n",
      "1063/1063 [==============================] - 2s 2ms/step - loss: 0.1192 - accuracy: 0.9667 - val_loss: 0.1459 - val_accuracy: 0.9570\n",
      "Epoch 10/60\n",
      "1063/1063 [==============================] - 2s 2ms/step - loss: 0.1168 - accuracy: 0.9675 - val_loss: 0.1434 - val_accuracy: 0.9588\n",
      "Epoch 11/60\n",
      "1063/1063 [==============================] - 2s 2ms/step - loss: 0.1144 - accuracy: 0.9686 - val_loss: 0.1422 - val_accuracy: 0.9580\n",
      "Epoch 12/60\n",
      "1063/1063 [==============================] - 2s 2ms/step - loss: 0.1125 - accuracy: 0.9685 - val_loss: 0.1403 - val_accuracy: 0.9601\n",
      "Epoch 13/60\n",
      "1063/1063 [==============================] - 2s 2ms/step - loss: 0.1107 - accuracy: 0.9693 - val_loss: 0.1394 - val_accuracy: 0.9597\n",
      "Epoch 14/60\n",
      "1063/1063 [==============================] - 2s 2ms/step - loss: 0.1091 - accuracy: 0.9699 - val_loss: 0.1386 - val_accuracy: 0.9597\n",
      "Epoch 15/60\n",
      "1063/1063 [==============================] - 2s 2ms/step - loss: 0.1076 - accuracy: 0.9704 - val_loss: 0.1377 - val_accuracy: 0.9606\n",
      "Epoch 16/60\n",
      "1063/1063 [==============================] - 2s 2ms/step - loss: 0.1062 - accuracy: 0.9706 - val_loss: 0.1362 - val_accuracy: 0.9614\n",
      "Epoch 17/60\n",
      "1063/1063 [==============================] - 2s 2ms/step - loss: 0.1051 - accuracy: 0.9714 - val_loss: 0.1355 - val_accuracy: 0.9611\n",
      "Epoch 18/60\n",
      "1063/1063 [==============================] - 2s 2ms/step - loss: 0.1039 - accuracy: 0.9718 - val_loss: 0.1349 - val_accuracy: 0.9606\n",
      "Epoch 19/60\n",
      "1063/1063 [==============================] - 2s 2ms/step - loss: 0.1029 - accuracy: 0.9719 - val_loss: 0.1339 - val_accuracy: 0.9617\n",
      "Epoch 20/60\n",
      "1063/1063 [==============================] - 3s 3ms/step - loss: 0.1019 - accuracy: 0.9720 - val_loss: 0.1335 - val_accuracy: 0.9614\n",
      "Epoch 21/60\n",
      "1063/1063 [==============================] - 2s 2ms/step - loss: 0.1010 - accuracy: 0.9725 - val_loss: 0.1328 - val_accuracy: 0.9614\n",
      "Epoch 22/60\n",
      "1063/1063 [==============================] - 3s 3ms/step - loss: 0.1001 - accuracy: 0.9728 - val_loss: 0.1326 - val_accuracy: 0.9620\n",
      "Epoch 23/60\n",
      "1063/1063 [==============================] - 3s 3ms/step - loss: 0.0992 - accuracy: 0.9730 - val_loss: 0.1314 - val_accuracy: 0.9634\n",
      "Epoch 24/60\n",
      "1063/1063 [==============================] - 2s 2ms/step - loss: 0.0985 - accuracy: 0.9732 - val_loss: 0.1310 - val_accuracy: 0.9625\n",
      "Epoch 25/60\n",
      "1063/1063 [==============================] - 3s 2ms/step - loss: 0.0977 - accuracy: 0.9735 - val_loss: 0.1307 - val_accuracy: 0.9615\n",
      "Epoch 26/60\n",
      "1063/1063 [==============================] - 2s 2ms/step - loss: 0.0971 - accuracy: 0.9735 - val_loss: 0.1302 - val_accuracy: 0.9624\n",
      "Epoch 27/60\n",
      "1063/1063 [==============================] - 2s 2ms/step - loss: 0.0963 - accuracy: 0.9740 - val_loss: 0.1296 - val_accuracy: 0.9628\n",
      "Epoch 28/60\n",
      "1063/1063 [==============================] - 2s 2ms/step - loss: 0.0957 - accuracy: 0.9740 - val_loss: 0.1293 - val_accuracy: 0.9625\n",
      "Epoch 29/60\n",
      "1063/1063 [==============================] - 2s 2ms/step - loss: 0.0951 - accuracy: 0.9739 - val_loss: 0.1291 - val_accuracy: 0.9626\n",
      "Epoch 30/60\n",
      "1063/1063 [==============================] - 3s 3ms/step - loss: 0.0946 - accuracy: 0.9744 - val_loss: 0.1286 - val_accuracy: 0.9629\n",
      "Epoch 31/60\n",
      "1063/1063 [==============================] - 3s 3ms/step - loss: 0.0940 - accuracy: 0.9746 - val_loss: 0.1282 - val_accuracy: 0.9628\n",
      "Epoch 32/60\n",
      "1063/1063 [==============================] - 3s 2ms/step - loss: 0.0934 - accuracy: 0.9748 - val_loss: 0.1277 - val_accuracy: 0.9635\n",
      "Epoch 33/60\n",
      "1063/1063 [==============================] - 2s 2ms/step - loss: 0.0929 - accuracy: 0.9749 - val_loss: 0.1272 - val_accuracy: 0.9638\n",
      "Epoch 34/60\n",
      "1063/1063 [==============================] - 2s 2ms/step - loss: 0.0924 - accuracy: 0.9751 - val_loss: 0.1269 - val_accuracy: 0.9636\n",
      "Epoch 35/60\n",
      "1063/1063 [==============================] - 2s 2ms/step - loss: 0.0920 - accuracy: 0.9752 - val_loss: 0.1267 - val_accuracy: 0.9643\n",
      "Epoch 36/60\n",
      "1063/1063 [==============================] - 2s 2ms/step - loss: 0.0915 - accuracy: 0.9753 - val_loss: 0.1263 - val_accuracy: 0.9639\n",
      "Epoch 37/60\n",
      "1063/1063 [==============================] - 2s 2ms/step - loss: 0.0911 - accuracy: 0.9752 - val_loss: 0.1260 - val_accuracy: 0.9640\n",
      "Epoch 38/60\n",
      "1063/1063 [==============================] - 2s 2ms/step - loss: 0.0906 - accuracy: 0.9754 - val_loss: 0.1259 - val_accuracy: 0.9639\n",
      "Epoch 39/60\n",
      "1063/1063 [==============================] - 2s 2ms/step - loss: 0.0902 - accuracy: 0.9754 - val_loss: 0.1256 - val_accuracy: 0.9638\n",
      "Epoch 40/60\n",
      "1063/1063 [==============================] - 2s 2ms/step - loss: 0.0898 - accuracy: 0.9754 - val_loss: 0.1255 - val_accuracy: 0.9641\n",
      "Epoch 41/60\n",
      "1063/1063 [==============================] - 2s 2ms/step - loss: 0.0894 - accuracy: 0.9758 - val_loss: 0.1251 - val_accuracy: 0.9645\n",
      "Epoch 42/60\n",
      "1063/1063 [==============================] - 2s 2ms/step - loss: 0.0890 - accuracy: 0.9761 - val_loss: 0.1248 - val_accuracy: 0.9647\n",
      "Epoch 43/60\n",
      "1063/1063 [==============================] - 2s 2ms/step - loss: 0.0886 - accuracy: 0.9759 - val_loss: 0.1245 - val_accuracy: 0.9643\n",
      "Epoch 44/60\n",
      "1063/1063 [==============================] - 2s 2ms/step - loss: 0.0883 - accuracy: 0.9761 - val_loss: 0.1243 - val_accuracy: 0.9645\n",
      "Epoch 45/60\n",
      "1063/1063 [==============================] - 2s 2ms/step - loss: 0.0879 - accuracy: 0.9762 - val_loss: 0.1241 - val_accuracy: 0.9646\n",
      "Epoch 46/60\n",
      "1063/1063 [==============================] - 2s 2ms/step - loss: 0.0876 - accuracy: 0.9763 - val_loss: 0.1239 - val_accuracy: 0.9640\n",
      "Epoch 47/60\n",
      "1063/1063 [==============================] - 2s 2ms/step - loss: 0.0873 - accuracy: 0.9764 - val_loss: 0.1236 - val_accuracy: 0.9651\n",
      "Epoch 48/60\n",
      "1063/1063 [==============================] - 2s 2ms/step - loss: 0.0870 - accuracy: 0.9766 - val_loss: 0.1234 - val_accuracy: 0.9645\n",
      "Epoch 49/60\n",
      "1063/1063 [==============================] - 2s 2ms/step - loss: 0.0866 - accuracy: 0.9765 - val_loss: 0.1233 - val_accuracy: 0.9647\n",
      "Epoch 50/60\n",
      "1063/1063 [==============================] - 2s 2ms/step - loss: 0.0864 - accuracy: 0.9769 - val_loss: 0.1230 - val_accuracy: 0.9649\n",
      "Epoch 51/60\n",
      "1063/1063 [==============================] - 2s 2ms/step - loss: 0.0860 - accuracy: 0.9769 - val_loss: 0.1229 - val_accuracy: 0.9646\n",
      "Epoch 52/60\n"
     ]
    },
    {
     "name": "stdout",
     "output_type": "stream",
     "text": [
      "1063/1063 [==============================] - 2s 2ms/step - loss: 0.0857 - accuracy: 0.9770 - val_loss: 0.1226 - val_accuracy: 0.9649\n",
      "Epoch 53/60\n",
      "1063/1063 [==============================] - 2s 2ms/step - loss: 0.0855 - accuracy: 0.9770 - val_loss: 0.1225 - val_accuracy: 0.9650\n",
      "Epoch 54/60\n",
      "1063/1063 [==============================] - 2s 2ms/step - loss: 0.0852 - accuracy: 0.9771 - val_loss: 0.1223 - val_accuracy: 0.9655\n",
      "Epoch 55/60\n",
      "1063/1063 [==============================] - 2s 2ms/step - loss: 0.0849 - accuracy: 0.9771 - val_loss: 0.1221 - val_accuracy: 0.9649\n",
      "Epoch 56/60\n",
      "1063/1063 [==============================] - 2s 2ms/step - loss: 0.0847 - accuracy: 0.9772 - val_loss: 0.1219 - val_accuracy: 0.9649\n",
      "Epoch 57/60\n",
      "1063/1063 [==============================] - 2s 2ms/step - loss: 0.0844 - accuracy: 0.9774 - val_loss: 0.1218 - val_accuracy: 0.9649\n",
      "Epoch 58/60\n",
      "1063/1063 [==============================] - 2s 2ms/step - loss: 0.0841 - accuracy: 0.9773 - val_loss: 0.1216 - val_accuracy: 0.9649\n",
      "Epoch 59/60\n",
      "1063/1063 [==============================] - 2s 2ms/step - loss: 0.0839 - accuracy: 0.9774 - val_loss: 0.1214 - val_accuracy: 0.9649\n",
      "Epoch 60/60\n",
      "1063/1063 [==============================] - 2s 2ms/step - loss: 0.0836 - accuracy: 0.9774 - val_loss: 0.1213 - val_accuracy: 0.9649\n"
     ]
    }
   ],
   "source": [
    "history = model.fit(X_train, y_train, epochs=60,\n",
    "                    validation_data=(X_valid, y_valid))"
   ]
  },
  {
   "cell_type": "code",
   "execution_count": 9,
   "metadata": {},
   "outputs": [
    {
     "name": "stdout",
     "output_type": "stream",
     "text": [
      "Model: \"sequential_1\"\n",
      "_________________________________________________________________\n",
      "Layer (type)                 Output Shape              Param #   \n",
      "=================================================================\n",
      "dense_3 (Dense)              (None, 300)               235500    \n",
      "_________________________________________________________________\n",
      "dense_4 (Dense)              (None, 100)               30100     \n",
      "_________________________________________________________________\n",
      "dense_5 (Dense)              (None, 10)                1010      \n",
      "=================================================================\n",
      "Total params: 266,610\n",
      "Trainable params: 266,610\n",
      "Non-trainable params: 0\n",
      "_________________________________________________________________\n"
     ]
    }
   ],
   "source": [
    "model.summary()"
   ]
  },
  {
   "cell_type": "code",
   "execution_count": 12,
   "metadata": {},
   "outputs": [
    {
     "data": {
      "image/png": "[encoded data removed]",
      "text/plain": [
       "<IPython.core.display.Image object>"
      ]
     },
     "execution_count": 12,
     "metadata": {},
     "output_type": "execute_result"
    }
   ],
   "source": [
    "from tensorflow.keras.utils import plot_model\n",
    "plot_model(model, './model.png', show_shapes=True)"
   ]
  },
  {
   "cell_type": "code",
   "execution_count": 13,
   "metadata": {
    "pycharm": {
     "name": "#%%\n"
    }
   },
   "outputs": [
    {
     "data": {
      "image/png": "[encoded data removed]",
      "text/plain": [
       "<Figure size 576x360 with 1 Axes>"
      ]
     },
     "metadata": {
      "needs_background": "light"
     },
     "output_type": "display_data"
    }
   ],
   "source": [
    "pd.DataFrame(history.history).plot(figsize=(8, 5))\n",
    "plt.grid(True)\n",
    "plt.gca().set_ylim(0, 1) # set the vertical range to [0-1]\n",
    "plt.show()"
   ]
  },
  {
   "cell_type": "code",
   "execution_count": 14,
   "metadata": {
    "pycharm": {
     "name": "#%%\n"
    }
   },
   "outputs": [
    {
     "name": "stdout",
     "output_type": "stream",
     "text": [
      "(28000,)\n"
     ]
    }
   ],
   "source": [
    "y_pred = model.predict(X_test)\n",
    "pred = y_pred.argmax(axis=1).reshape(-1)\n",
    "print(pred.shape)"
   ]
  },
  {
   "cell_type": "code",
   "execution_count": 15,
   "metadata": {
    "pycharm": {
     "name": "#%%\n"
    }
   },
   "outputs": [],
   "source": [
    "image_id = pd.Series(range(1,len(pred)+1))\n",
    "output = pd.DataFrame({'ImageId':image_id, 'Label':pred})\n",
    "output.to_csv(\"submission_NN.csv\",  index=False)"
   ]
  },
  {
   "cell_type": "code",
   "execution_count": null,
   "metadata": {
    "pycharm": {
     "name": "#%%\n"
    }
   },
   "outputs": [],
   "source": []
  }
 ],
 "metadata": {
  "kernelspec": {
   "display_name": "Python 3",
   "language": "python",
   "name": "python3"
  },
  "language_info": {
   "codemirror_mode": {
    "name": "ipython",
    "version": 3
   },
   "file_extension": ".py",
   "mimetype": "text/x-python",
   "name": "python",
   "nbconvert_exporter": "python",
   "pygments_lexer": "ipython3",
   "version": "3.7.9"
  }
 },
 "nbformat": 4,
 "nbformat_minor": 1
}
