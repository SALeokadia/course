{
 "cells": [
  {
   "cell_type": "code",
   "execution_count": 1,
   "metadata": {},
   "outputs": [],
   "source": [
    "import tensorflow as tf\n",
    "from tensorflow import keras\n",
    "# import keras\n",
    "import numpy as np\n",
    "%matplotlib inline\n",
    "import matplotlib.pyplot as plt\n",
    "import pandas as pd\n",
    "\n",
    "train = pd.read_csv('train.csv')\n",
    "y_train_full = train['label']\n",
    "X_train_full = train.drop(['label'], axis=1)\n",
    "X_test = pd.read_csv('test.csv')"
   ]
  },
  {
   "cell_type": "code",
   "execution_count": 2,
   "metadata": {
    "pycharm": {
     "name": "#%%\n"
    }
   },
   "outputs": [
    {
     "data": {
      "text/plain": [
       "(42000, 784)"
      ]
     },
     "execution_count": 2,
     "metadata": {},
     "output_type": "execute_result"
    }
   ],
   "source": [
    "X_train_full.shape"
   ]
  },
  {
   "cell_type": "code",
   "execution_count": 3,
   "metadata": {
    "pycharm": {
     "name": "#%%\n"
    }
   },
   "outputs": [],
   "source": [
    "X_valid, X_train = X_train_full[:8000] / 255.0, X_train_full[8000:] / 255.0\n",
    "y_valid, y_train = y_train_full[:8000], y_train_full[8000:]"
   ]
  },
  {
   "cell_type": "code",
   "execution_count": 4,
   "metadata": {
    "pycharm": {
     "name": "#%%\n"
    }
   },
   "outputs": [
    {
     "name": "stdout",
     "output_type": "stream",
     "text": [
      "[[  0   0   0   0   0   0   0   0   0   0   0   0   0   0   0   0   0   0\n",
      "    0   0   0   0   0   0   0   0   0   0]\n",
      " [  0   0   0   0   0   0   0   0   0   0   0   0   0   0   0   0   0   0\n",
      "    0   0   0   0   0   0   0   0   0   0]\n",
      " [  0   0   0   0   0   0   0   0   0   0   0   0   0   0   0   0   0   0\n",
      "    0   0   0   0   0   0   0   0   0   0]\n",
      " [  0   0   0   0   0   0   0   0   0   0   0   0   0   0   0   0   0   0\n",
      "    0   0   0   0   0   0   0   0   0   0]\n",
      " [  0   0   0   0   0   0   0   0   0   0   0   0   0   0   0   0   0   0\n",
      "    0   0 188 255  94   0   0   0   0   0]\n",
      " [  0   0   0   0   0   0   0   0   0   0   0   0   0   0   0   0   0   0\n",
      "    0 191 250 253  93   0   0   0   0   0]\n",
      " [  0   0   0   0   0   0   0   0   0   0   0   0   0   0   0   0   0   0\n",
      "  123 248 253 167  10   0   0   0   0   0]\n",
      " [  0   0   0   0   0   0   0   0   0   0   0   0   0   0   0   0   0  80\n",
      "  247 253 208  13   0   0   0   0   0   0]\n",
      " [  0   0   0   0   0   0   0   0   0   0   0   0   0   0   0   0  29 207\n",
      "  253 235  77   0   0   0   0   0   0   0]\n",
      " [  0   0   0   0   0   0   0   0   0   0   0   0   0   0   0  54 209 253\n",
      "  253  88   0   0   0   0   0   0   0   0]\n",
      " [  0   0   0   0   0   0   0   0   0   0   0   0   0   0  93 254 253 238\n",
      "  170  17   0   0   0   0   0   0   0   0]\n",
      " [  0   0   0   0   0   0   0   0   0   0   0   0   0  23 210 254 253 159\n",
      "    0   0   0   0   0   0   0   0   0   0]\n",
      " [  0   0   0   0   0   0   0   0   0   0   0   0  16 209 253 254 240  81\n",
      "    0   0   0   0   0   0   0   0   0   0]\n",
      " [  0   0   0   0   0   0   0   0   0   0   0   0  27 253 253 254  13   0\n",
      "    0   0   0   0   0   0   0   0   0   0]\n",
      " [  0   0   0   0   0   0   0   0   0   0   0  20 206 254 254 198   7   0\n",
      "    0   0   0   0   0   0   0   0   0   0]\n",
      " [  0   0   0   0   0   0   0   0   0   0   0 168 253 253 196   7   0   0\n",
      "    0   0   0   0   0   0   0   0   0   0]\n",
      " [  0   0   0   0   0   0   0   0   0   0  20 203 253 248  76   0   0   0\n",
      "    0   0   0   0   0   0   0   0   0   0]\n",
      " [  0   0   0   0   0   0   0   0   0  22 188 253 245  93   0   0   0   0\n",
      "    0   0   0   0   0   0   0   0   0   0]\n",
      " [  0   0   0   0   0   0   0   0   0 103 253 253 191   0   0   0   0   0\n",
      "    0   0   0   0   0   0   0   0   0   0]\n",
      " [  0   0   0   0   0   0   0   0  89 240 253 195  25   0   0   0   0   0\n",
      "    0   0   0   0   0   0   0   0   0   0]\n",
      " [  0   0   0   0   0   0   0  15 220 253 253  80   0   0   0   0   0   0\n",
      "    0   0   0   0   0   0   0   0   0   0]\n",
      " [  0   0   0   0   0   0   0  94 253 253 253  94   0   0   0   0   0   0\n",
      "    0   0   0   0   0   0   0   0   0   0]\n",
      " [  0   0   0   0   0   0   0  89 251 253 250 131   0   0   0   0   0   0\n",
      "    0   0   0   0   0   0   0   0   0   0]\n",
      " [  0   0   0   0   0   0   0   0 214 218  95   0   0   0   0   0   0   0\n",
      "    0   0   0   0   0   0   0   0   0   0]\n",
      " [  0   0   0   0   0   0   0   0   0   0   0   0   0   0   0   0   0   0\n",
      "    0   0   0   0   0   0   0   0   0   0]\n",
      " [  0   0   0   0   0   0   0   0   0   0   0   0   0   0   0   0   0   0\n",
      "    0   0   0   0   0   0   0   0   0   0]\n",
      " [  0   0   0   0   0   0   0   0   0   0   0   0   0   0   0   0   0   0\n",
      "    0   0   0   0   0   0   0   0   0   0]\n",
      " [  0   0   0   0   0   0   0   0   0   0   0   0   0   0   0   0   0   0\n",
      "    0   0   0   0   0   0   0   0   0   0]]\n"
     ]
    }
   ],
   "source": [
    "from PIL import Image\n",
    "img = Image.fromarray(np.uint8(np.array(X_train_full)[0].reshape(28,28)))\n",
    "img.show()\n",
    "print(np.uint8(np.array(X_train_full)[0].reshape(28,28)))"
   ]
  },
  {
   "cell_type": "code",
   "execution_count": 5,
   "metadata": {
    "pycharm": {
     "name": "#%%\n"
    }
   },
   "outputs": [],
   "source": [
    "model = keras.models.Sequential()\n",
    "# model.add(keras.layers.Flatten(input_shape=[784]))\n",
    "model.add(keras.layers.Dense(300, activation=\"relu\"))\n",
    "model.add(keras.layers.Dense(100, activation=\"relu\"))\n",
    "model.add(keras.layers.Dense(10, activation=\"softmax\"))"
   ]
  },
  {
   "cell_type": "code",
   "execution_count": 6,
   "metadata": {
    "pycharm": {
     "name": "#%%\n"
    }
   },
   "outputs": [],
   "source": [
    "model = keras.models.Sequential([\n",
    "# keras.layers.Flatten(input_shape=[784]),\n",
    "keras.layers.Dense(300, activation=\"relu\"),\n",
    "keras.layers.Dense(100, activation=\"relu\"),\n",
    "keras.layers.Dense(10, activation=\"softmax\")\n",
    "])"
   ]
  },
  {
   "cell_type": "code",
   "execution_count": 7,
   "metadata": {
    "pycharm": {
     "name": "#%%\n"
    }
   },
   "outputs": [],
   "source": [
    "opt = keras.optimizers.Adam(learning_rate=0.001, beta_1=0.9, beta_2=0.999, decay=0.01)\n",
    "model.compile(loss=\"sparse_categorical_crossentropy\",\n",
    "              optimizer=opt, metrics=[\"accuracy\"])"
   ]
  },
  {
   "cell_type": "code",
   "execution_count": 8,
   "metadata": {
    "pycharm": {
     "name": "#%%\n"
    },
    "scrolled": true
   },
   "outputs": [
    {
     "name": "stdout",
     "output_type": "stream",
     "text": [
      "Epoch 1/100\n",
      "WARNING:tensorflow:Layer dense_3 is casting an input tensor from dtype float64 to the layer's dtype of float32, which is new behavior in TensorFlow 2.  The layer has dtype float32 because its dtype defaults to floatx.\n",
      "\n",
      "If you intended to run this layer in float32, you can safely ignore this warning. If in doubt, this warning is likely only an issue if you are porting a TensorFlow 1.X model to TensorFlow 2.\n",
      "\n",
      "To change all layers to have dtype float64 by default, call `tf.keras.backend.set_floatx('float64')`. To change just this layer, pass dtype='float64' to the layer constructor. If you are the author of this layer, you can disable autocasting by passing autocast=False to the base Layer constructor.\n",
      "\n",
      "1063/1063 [==============================] - 3s 2ms/step - loss: 0.2967 - accuracy: 0.9145 - val_loss: 0.2026 - val_accuracy: 0.9416\n",
      "Epoch 2/100\n",
      "1063/1063 [==============================] - 2s 2ms/step - loss: 0.1735 - accuracy: 0.9510 - val_loss: 0.1819 - val_accuracy: 0.9471\n",
      "Epoch 3/100\n",
      "1063/1063 [==============================] - 2s 2ms/step - loss: 0.1525 - accuracy: 0.9575 - val_loss: 0.1691 - val_accuracy: 0.9524\n",
      "Epoch 4/100\n",
      "1063/1063 [==============================] - 2s 2ms/step - loss: 0.1407 - accuracy: 0.9614 - val_loss: 0.1628 - val_accuracy: 0.9525\n",
      "Epoch 5/100\n",
      "1063/1063 [==============================] - 2s 2ms/step - loss: 0.1332 - accuracy: 0.9635 - val_loss: 0.1571 - val_accuracy: 0.9556\n",
      "Epoch 6/100\n",
      "1063/1063 [==============================] - 2s 2ms/step - loss: 0.1275 - accuracy: 0.9647 - val_loss: 0.1544 - val_accuracy: 0.9557\n",
      "Epoch 7/100\n",
      "1063/1063 [==============================] - 2s 2ms/step - loss: 0.1233 - accuracy: 0.9661 - val_loss: 0.1505 - val_accuracy: 0.9564\n",
      "Epoch 8/100\n",
      "1063/1063 [==============================] - 2s 2ms/step - loss: 0.1195 - accuracy: 0.9669 - val_loss: 0.1485 - val_accuracy: 0.9575\n",
      "Epoch 9/100\n",
      "1063/1063 [==============================] - 2s 2ms/step - loss: 0.1167 - accuracy: 0.9676 - val_loss: 0.1461 - val_accuracy: 0.9580\n",
      "Epoch 10/100\n",
      "1063/1063 [==============================] - 2s 2ms/step - loss: 0.1139 - accuracy: 0.9690 - val_loss: 0.1443 - val_accuracy: 0.9576\n",
      "Epoch 11/100\n",
      "1063/1063 [==============================] - 2s 2ms/step - loss: 0.1118 - accuracy: 0.9694 - val_loss: 0.1429 - val_accuracy: 0.9589\n",
      "Epoch 12/100\n",
      "1063/1063 [==============================] - 2s 2ms/step - loss: 0.1097 - accuracy: 0.9701 - val_loss: 0.1419 - val_accuracy: 0.9586\n",
      "Epoch 13/100\n",
      "1063/1063 [==============================] - 2s 2ms/step - loss: 0.1082 - accuracy: 0.9704 - val_loss: 0.1407 - val_accuracy: 0.9591\n",
      "Epoch 14/100\n",
      "1063/1063 [==============================] - 3s 2ms/step - loss: 0.1066 - accuracy: 0.9710 - val_loss: 0.1397 - val_accuracy: 0.9599\n",
      "Epoch 15/100\n",
      "1063/1063 [==============================] - 3s 2ms/step - loss: 0.1052 - accuracy: 0.9713 - val_loss: 0.1386 - val_accuracy: 0.9595\n",
      "Epoch 16/100\n",
      "1063/1063 [==============================] - 3s 2ms/step - loss: 0.1038 - accuracy: 0.9719 - val_loss: 0.1381 - val_accuracy: 0.9604\n",
      "Epoch 17/100\n",
      "1063/1063 [==============================] - 3s 3ms/step - loss: 0.1025 - accuracy: 0.9724 - val_loss: 0.1370 - val_accuracy: 0.9600\n",
      "Epoch 18/100\n",
      "1063/1063 [==============================] - 3s 3ms/step - loss: 0.1015 - accuracy: 0.9724 - val_loss: 0.1363 - val_accuracy: 0.9607\n",
      "Epoch 19/100\n",
      "1063/1063 [==============================] - 3s 3ms/step - loss: 0.1004 - accuracy: 0.9728 - val_loss: 0.1356 - val_accuracy: 0.9610\n",
      "Epoch 20/100\n",
      "1063/1063 [==============================] - 2s 2ms/step - loss: 0.0995 - accuracy: 0.9731 - val_loss: 0.1348 - val_accuracy: 0.9609\n",
      "Epoch 21/100\n",
      "1063/1063 [==============================] - 2s 2ms/step - loss: 0.0986 - accuracy: 0.9737 - val_loss: 0.1345 - val_accuracy: 0.9617\n",
      "Epoch 22/100\n",
      "1063/1063 [==============================] - 2s 2ms/step - loss: 0.0978 - accuracy: 0.9738 - val_loss: 0.1338 - val_accuracy: 0.9620\n",
      "Epoch 23/100\n",
      "1063/1063 [==============================] - 2s 2ms/step - loss: 0.0970 - accuracy: 0.9738 - val_loss: 0.1330 - val_accuracy: 0.9614\n",
      "Epoch 24/100\n",
      "1063/1063 [==============================] - 2s 2ms/step - loss: 0.0962 - accuracy: 0.9741 - val_loss: 0.1326 - val_accuracy: 0.9622\n",
      "Epoch 25/100\n",
      "1063/1063 [==============================] - 2s 2ms/step - loss: 0.0955 - accuracy: 0.9745 - val_loss: 0.1323 - val_accuracy: 0.9622\n",
      "Epoch 26/100\n",
      "1063/1063 [==============================] - 2s 2ms/step - loss: 0.0948 - accuracy: 0.9744 - val_loss: 0.1320 - val_accuracy: 0.9626\n",
      "Epoch 27/100\n",
      "1063/1063 [==============================] - 2s 2ms/step - loss: 0.0941 - accuracy: 0.9749 - val_loss: 0.1312 - val_accuracy: 0.9621\n",
      "Epoch 28/100\n",
      "1063/1063 [==============================] - 2s 2ms/step - loss: 0.0935 - accuracy: 0.9751 - val_loss: 0.1310 - val_accuracy: 0.9621\n",
      "Epoch 29/100\n",
      "1063/1063 [==============================] - 2s 2ms/step - loss: 0.0929 - accuracy: 0.9750 - val_loss: 0.1304 - val_accuracy: 0.9621\n",
      "Epoch 30/100\n",
      "1063/1063 [==============================] - 2s 2ms/step - loss: 0.0924 - accuracy: 0.9751 - val_loss: 0.1303 - val_accuracy: 0.9619\n",
      "Epoch 31/100\n",
      "1063/1063 [==============================] - 2s 2ms/step - loss: 0.0919 - accuracy: 0.9755 - val_loss: 0.1297 - val_accuracy: 0.9624\n",
      "Epoch 32/100\n",
      "1063/1063 [==============================] - 2s 2ms/step - loss: 0.0913 - accuracy: 0.9755 - val_loss: 0.1297 - val_accuracy: 0.9621\n",
      "Epoch 33/100\n",
      "1063/1063 [==============================] - 2s 2ms/step - loss: 0.0908 - accuracy: 0.9755 - val_loss: 0.1294 - val_accuracy: 0.9624\n",
      "Epoch 34/100\n",
      "1063/1063 [==============================] - 2s 2ms/step - loss: 0.0904 - accuracy: 0.9756 - val_loss: 0.1289 - val_accuracy: 0.9622\n",
      "Epoch 35/100\n",
      "1063/1063 [==============================] - 2s 2ms/step - loss: 0.0899 - accuracy: 0.9759 - val_loss: 0.1284 - val_accuracy: 0.9624\n",
      "Epoch 36/100\n",
      "1063/1063 [==============================] - 2s 2ms/step - loss: 0.0894 - accuracy: 0.9759 - val_loss: 0.1282 - val_accuracy: 0.9629\n",
      "Epoch 37/100\n",
      "1063/1063 [==============================] - 2s 2ms/step - loss: 0.0890 - accuracy: 0.9763 - val_loss: 0.1280 - val_accuracy: 0.9626\n",
      "Epoch 38/100\n",
      "1063/1063 [==============================] - 2s 2ms/step - loss: 0.0886 - accuracy: 0.9763 - val_loss: 0.1277 - val_accuracy: 0.9621\n",
      "Epoch 39/100\n",
      "1063/1063 [==============================] - 2s 2ms/step - loss: 0.0882 - accuracy: 0.9763 - val_loss: 0.1275 - val_accuracy: 0.9621\n",
      "Epoch 40/100\n",
      "1063/1063 [==============================] - 2s 2ms/step - loss: 0.0878 - accuracy: 0.9763 - val_loss: 0.1273 - val_accuracy: 0.9628\n",
      "Epoch 41/100\n",
      "1063/1063 [==============================] - 2s 2ms/step - loss: 0.0874 - accuracy: 0.9765 - val_loss: 0.1270 - val_accuracy: 0.9628\n",
      "Epoch 42/100\n",
      "1063/1063 [==============================] - 2s 2ms/step - loss: 0.0870 - accuracy: 0.9764 - val_loss: 0.1268 - val_accuracy: 0.9630\n",
      "Epoch 43/100\n",
      "1063/1063 [==============================] - 2s 2ms/step - loss: 0.0867 - accuracy: 0.9768 - val_loss: 0.1266 - val_accuracy: 0.9626\n",
      "Epoch 44/100\n",
      "1063/1063 [==============================] - 2s 2ms/step - loss: 0.0863 - accuracy: 0.9769 - val_loss: 0.1263 - val_accuracy: 0.9635\n",
      "Epoch 45/100\n",
      "1063/1063 [==============================] - 2s 2ms/step - loss: 0.0860 - accuracy: 0.9769 - val_loss: 0.1262 - val_accuracy: 0.9634\n",
      "Epoch 46/100\n",
      "1063/1063 [==============================] - 2s 2ms/step - loss: 0.0857 - accuracy: 0.9771 - val_loss: 0.1260 - val_accuracy: 0.9634\n",
      "Epoch 47/100\n",
      "1063/1063 [==============================] - 2s 2ms/step - loss: 0.0854 - accuracy: 0.9769 - val_loss: 0.1257 - val_accuracy: 0.9632\n",
      "Epoch 48/100\n",
      "1063/1063 [==============================] - 2s 2ms/step - loss: 0.0850 - accuracy: 0.9770 - val_loss: 0.1255 - val_accuracy: 0.9639\n",
      "Epoch 49/100\n",
      "1063/1063 [==============================] - 2s 2ms/step - loss: 0.0848 - accuracy: 0.9771 - val_loss: 0.1254 - val_accuracy: 0.9635\n",
      "Epoch 50/100\n",
      "1063/1063 [==============================] - 2s 2ms/step - loss: 0.0844 - accuracy: 0.9774 - val_loss: 0.1252 - val_accuracy: 0.9632\n",
      "Epoch 51/100\n",
      "1063/1063 [==============================] - 2s 2ms/step - loss: 0.0842 - accuracy: 0.9774 - val_loss: 0.1251 - val_accuracy: 0.9635\n",
      "Epoch 52/100\n"
     ]
    },
    {
     "name": "stdout",
     "output_type": "stream",
     "text": [
      "1063/1063 [==============================] - 2s 2ms/step - loss: 0.0839 - accuracy: 0.9773 - val_loss: 0.1249 - val_accuracy: 0.9635\n",
      "Epoch 53/100\n",
      "1063/1063 [==============================] - 2s 2ms/step - loss: 0.0836 - accuracy: 0.9776 - val_loss: 0.1247 - val_accuracy: 0.9639\n",
      "Epoch 54/100\n",
      "1063/1063 [==============================] - 2s 2ms/step - loss: 0.0833 - accuracy: 0.9776 - val_loss: 0.1246 - val_accuracy: 0.9639\n",
      "Epoch 55/100\n",
      "1063/1063 [==============================] - 2s 2ms/step - loss: 0.0831 - accuracy: 0.9776 - val_loss: 0.1244 - val_accuracy: 0.9638\n",
      "Epoch 56/100\n",
      "1063/1063 [==============================] - 2s 2ms/step - loss: 0.0828 - accuracy: 0.9777 - val_loss: 0.1242 - val_accuracy: 0.9639\n",
      "Epoch 57/100\n",
      "1063/1063 [==============================] - 2s 2ms/step - loss: 0.0826 - accuracy: 0.9778 - val_loss: 0.1241 - val_accuracy: 0.9639\n",
      "Epoch 58/100\n",
      "1063/1063 [==============================] - 2s 2ms/step - loss: 0.0823 - accuracy: 0.9778 - val_loss: 0.1239 - val_accuracy: 0.9644\n",
      "Epoch 59/100\n",
      "1063/1063 [==============================] - 2s 2ms/step - loss: 0.0821 - accuracy: 0.9779 - val_loss: 0.1237 - val_accuracy: 0.9645\n",
      "Epoch 60/100\n",
      "1063/1063 [==============================] - 2s 2ms/step - loss: 0.0818 - accuracy: 0.9778 - val_loss: 0.1236 - val_accuracy: 0.9644\n",
      "Epoch 61/100\n",
      "1063/1063 [==============================] - 2s 2ms/step - loss: 0.0816 - accuracy: 0.9781 - val_loss: 0.1234 - val_accuracy: 0.9641\n",
      "Epoch 62/100\n",
      "1063/1063 [==============================] - 2s 2ms/step - loss: 0.0814 - accuracy: 0.9780 - val_loss: 0.1233 - val_accuracy: 0.9646\n",
      "Epoch 63/100\n",
      "1063/1063 [==============================] - 2s 2ms/step - loss: 0.0812 - accuracy: 0.9781 - val_loss: 0.1232 - val_accuracy: 0.9649\n",
      "Epoch 64/100\n",
      "1063/1063 [==============================] - 2s 2ms/step - loss: 0.0810 - accuracy: 0.9781 - val_loss: 0.1229 - val_accuracy: 0.9649\n",
      "Epoch 65/100\n",
      "1063/1063 [==============================] - 2s 2ms/step - loss: 0.0807 - accuracy: 0.9781 - val_loss: 0.1229 - val_accuracy: 0.9646\n",
      "Epoch 66/100\n",
      "1063/1063 [==============================] - 2s 2ms/step - loss: 0.0805 - accuracy: 0.9782 - val_loss: 0.1228 - val_accuracy: 0.9650\n",
      "Epoch 67/100\n",
      "1063/1063 [==============================] - 2s 2ms/step - loss: 0.0803 - accuracy: 0.9784 - val_loss: 0.1227 - val_accuracy: 0.9649\n",
      "Epoch 68/100\n",
      "1063/1063 [==============================] - 2s 2ms/step - loss: 0.0801 - accuracy: 0.9784 - val_loss: 0.1225 - val_accuracy: 0.9646\n",
      "Epoch 69/100\n",
      "1063/1063 [==============================] - 2s 2ms/step - loss: 0.0799 - accuracy: 0.9784 - val_loss: 0.1225 - val_accuracy: 0.9651\n",
      "Epoch 70/100\n",
      "1063/1063 [==============================] - 2s 2ms/step - loss: 0.0797 - accuracy: 0.9785 - val_loss: 0.1223 - val_accuracy: 0.9649\n",
      "Epoch 71/100\n",
      "1063/1063 [==============================] - 2s 2ms/step - loss: 0.0795 - accuracy: 0.9786 - val_loss: 0.1221 - val_accuracy: 0.9649\n",
      "Epoch 72/100\n",
      "1063/1063 [==============================] - 2s 2ms/step - loss: 0.0793 - accuracy: 0.9786 - val_loss: 0.1220 - val_accuracy: 0.9656\n",
      "Epoch 73/100\n",
      "1063/1063 [==============================] - 2s 2ms/step - loss: 0.0791 - accuracy: 0.9787 - val_loss: 0.1219 - val_accuracy: 0.9650\n",
      "Epoch 74/100\n",
      "1063/1063 [==============================] - 2s 2ms/step - loss: 0.0790 - accuracy: 0.9786 - val_loss: 0.1217 - val_accuracy: 0.9650\n",
      "Epoch 75/100\n",
      "1063/1063 [==============================] - 2s 2ms/step - loss: 0.0788 - accuracy: 0.9789 - val_loss: 0.1217 - val_accuracy: 0.9651\n",
      "Epoch 76/100\n",
      "1063/1063 [==============================] - 2s 2ms/step - loss: 0.0786 - accuracy: 0.9788 - val_loss: 0.1216 - val_accuracy: 0.9651\n",
      "Epoch 77/100\n",
      "1063/1063 [==============================] - 2s 2ms/step - loss: 0.0784 - accuracy: 0.9789 - val_loss: 0.1215 - val_accuracy: 0.9653\n",
      "Epoch 78/100\n",
      "1063/1063 [==============================] - 2s 2ms/step - loss: 0.0783 - accuracy: 0.9788 - val_loss: 0.1214 - val_accuracy: 0.9653\n",
      "Epoch 79/100\n",
      "1063/1063 [==============================] - 2s 2ms/step - loss: 0.0781 - accuracy: 0.9789 - val_loss: 0.1212 - val_accuracy: 0.9653\n",
      "Epoch 80/100\n",
      "1063/1063 [==============================] - 2s 2ms/step - loss: 0.0779 - accuracy: 0.9791 - val_loss: 0.1212 - val_accuracy: 0.9654\n",
      "Epoch 81/100\n",
      "1063/1063 [==============================] - 2s 2ms/step - loss: 0.0778 - accuracy: 0.9790 - val_loss: 0.1210 - val_accuracy: 0.9657\n",
      "Epoch 82/100\n",
      "1063/1063 [==============================] - 2s 2ms/step - loss: 0.0776 - accuracy: 0.9790 - val_loss: 0.1210 - val_accuracy: 0.9655\n",
      "Epoch 83/100\n",
      "1063/1063 [==============================] - 2s 2ms/step - loss: 0.0775 - accuracy: 0.9792 - val_loss: 0.1208 - val_accuracy: 0.9659\n",
      "Epoch 84/100\n",
      "1063/1063 [==============================] - 2s 2ms/step - loss: 0.0773 - accuracy: 0.9792 - val_loss: 0.1208 - val_accuracy: 0.9657\n",
      "Epoch 85/100\n",
      "1063/1063 [==============================] - 2s 2ms/step - loss: 0.0771 - accuracy: 0.9792 - val_loss: 0.1207 - val_accuracy: 0.9657\n",
      "Epoch 86/100\n",
      "1063/1063 [==============================] - 2s 2ms/step - loss: 0.0770 - accuracy: 0.9793 - val_loss: 0.1206 - val_accuracy: 0.9659\n",
      "Epoch 87/100\n",
      "1063/1063 [==============================] - 2s 2ms/step - loss: 0.0769 - accuracy: 0.9794 - val_loss: 0.1205 - val_accuracy: 0.9656\n",
      "Epoch 88/100\n",
      "1063/1063 [==============================] - 2s 2ms/step - loss: 0.0767 - accuracy: 0.9794 - val_loss: 0.1204 - val_accuracy: 0.9659\n",
      "Epoch 89/100\n",
      "1063/1063 [==============================] - 2s 2ms/step - loss: 0.0766 - accuracy: 0.9793 - val_loss: 0.1203 - val_accuracy: 0.9659\n",
      "Epoch 90/100\n",
      "1063/1063 [==============================] - 2s 2ms/step - loss: 0.0764 - accuracy: 0.9794 - val_loss: 0.1202 - val_accuracy: 0.9657\n",
      "Epoch 91/100\n",
      "1063/1063 [==============================] - 2s 2ms/step - loss: 0.0763 - accuracy: 0.9796 - val_loss: 0.1202 - val_accuracy: 0.9659\n",
      "Epoch 92/100\n",
      "1063/1063 [==============================] - 2s 2ms/step - loss: 0.0761 - accuracy: 0.9796 - val_loss: 0.1201 - val_accuracy: 0.9660\n",
      "Epoch 93/100\n",
      "1063/1063 [==============================] - 2s 2ms/step - loss: 0.0760 - accuracy: 0.9796 - val_loss: 0.1200 - val_accuracy: 0.9657\n",
      "Epoch 94/100\n",
      "1063/1063 [==============================] - 2s 2ms/step - loss: 0.0759 - accuracy: 0.9799 - val_loss: 0.1199 - val_accuracy: 0.9660\n",
      "Epoch 95/100\n",
      "1063/1063 [==============================] - 2s 2ms/step - loss: 0.0757 - accuracy: 0.9798 - val_loss: 0.1199 - val_accuracy: 0.9657\n",
      "Epoch 96/100\n",
      "1063/1063 [==============================] - 2s 2ms/step - loss: 0.0756 - accuracy: 0.9796 - val_loss: 0.1197 - val_accuracy: 0.9656\n",
      "Epoch 97/100\n",
      "1063/1063 [==============================] - 2s 2ms/step - loss: 0.0755 - accuracy: 0.9797 - val_loss: 0.1196 - val_accuracy: 0.9657\n",
      "Epoch 98/100\n",
      "1063/1063 [==============================] - 2s 2ms/step - loss: 0.0753 - accuracy: 0.9797 - val_loss: 0.1195 - val_accuracy: 0.9659\n",
      "Epoch 99/100\n",
      "1063/1063 [==============================] - 2s 2ms/step - loss: 0.0752 - accuracy: 0.9798 - val_loss: 0.1195 - val_accuracy: 0.9659\n",
      "Epoch 100/100\n",
      "1063/1063 [==============================] - 2s 2ms/step - loss: 0.0751 - accuracy: 0.9798 - val_loss: 0.1194 - val_accuracy: 0.9661\n"
     ]
    }
   ],
   "source": [
    "history = model.fit(X_train, y_train, epochs=100,\n",
    "                    validation_data=(X_valid, y_valid))"
   ]
  },
  {
   "cell_type": "code",
   "execution_count": 9,
   "metadata": {},
   "outputs": [
    {
     "name": "stdout",
     "output_type": "stream",
     "text": [
      "Model: \"sequential_1\"\n",
      "_________________________________________________________________\n",
      "Layer (type)                 Output Shape              Param #   \n",
      "=================================================================\n",
      "dense_3 (Dense)              (None, 300)               235500    \n",
      "_________________________________________________________________\n",
      "dense_4 (Dense)              (None, 100)               30100     \n",
      "_________________________________________________________________\n",
      "dense_5 (Dense)              (None, 10)                1010      \n",
      "=================================================================\n",
      "Total params: 266,610\n",
      "Trainable params: 266,610\n",
      "Non-trainable params: 0\n",
      "_________________________________________________________________\n"
     ]
    }
   ],
   "source": [
    "model.summary()"
   ]
  },
  {
   "cell_type": "code",
   "execution_count": 10,
   "metadata": {},
   "outputs": [
    {
     "data": {
      "image/png": "[encoded data removed]",
      "text/plain": [
       "<IPython.core.display.Image object>"
      ]
     },
     "execution_count": 10,
     "metadata": {},
     "output_type": "execute_result"
    }
   ],
   "source": [
    "from tensorflow.keras.utils import plot_model\n",
    "plot_model(model, './model.png', show_shapes=True)"
   ]
  },
  {
   "cell_type": "code",
   "execution_count": 11,
   "metadata": {
    "pycharm": {
     "name": "#%%\n"
    }
   },
   "outputs": [
    {
     "data": {
      "image/png": "[encoded data removed]",
      "text/plain": [
       "<Figure size 576x360 with 1 Axes>"
      ]
     },
     "metadata": {
      "needs_background": "light"
     },
     "output_type": "display_data"
    }
   ],
   "source": [
    "pd.DataFrame(history.history).plot(figsize=(8, 5))\n",
    "plt.grid(True)\n",
    "plt.gca().set_ylim(0, 1) # set the vertical range to [0-1]\n",
    "plt.show()"
   ]
  },
  {
   "cell_type": "code",
   "execution_count": 12,
   "metadata": {
    "pycharm": {
     "name": "#%%\n"
    }
   },
   "outputs": [
    {
     "name": "stdout",
     "output_type": "stream",
     "text": [
      "(28000,)\n"
     ]
    }
   ],
   "source": [
    "y_pred = model.predict(X_test)\n",
    "pred = y_pred.argmax(axis=1).reshape(-1)\n",
    "print(pred.shape)"
   ]
  },
  {
   "cell_type": "code",
   "execution_count": 13,
   "metadata": {
    "pycharm": {
     "name": "#%%\n"
    }
   },
   "outputs": [],
   "source": [
    "image_id = pd.Series(range(1,len(pred)+1))\n",
    "output = pd.DataFrame({'ImageId':image_id, 'Label':pred})\n",
    "output.to_csv(\"submission_NN.csv\",  index=False)"
   ]
  },
  {
   "cell_type": "code",
   "execution_count": null,
   "metadata": {
    "pycharm": {
     "name": "#%%\n"
    }
   },
   "outputs": [],
   "source": []
  }
 ],
 "metadata": {
  "kernelspec": {
   "display_name": "Python 3",
   "language": "python",
   "name": "python3"
  },
  "language_info": {
   "codemirror_mode": {
    "name": "ipython",
    "version": 3
   },
   "file_extension": ".py",
   "mimetype": "text/x-python",
   "name": "python",
   "nbconvert_exporter": "python",
   "pygments_lexer": "ipython3",
   "version": "3.7.9"
  }
 },
 "nbformat": 4,
 "nbformat_minor": 1
}
