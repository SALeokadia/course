{
 "cells": [
  {
   "cell_type": "code",
   "execution_count": 57,
   "metadata": {
    "collapsed": true
   },
   "outputs": [],
   "source": [
    "# -*- coding:utf-8 -*-\n",
    "# @Python Version: 3.7\n",
    "# @Time: 2020/5/16 21:10\n",
    "# @Author: Michael Ming\n",
    "# @Website: https://michael.blog.csdn.net/\n",
    "# @File: pandasExercise.ipynb\n",
    "# @Reference: https://www.kaggle.com/learn/pandas\n",
    "import pandas as pd"
   ]
  },
  {
   "cell_type": "code",
   "execution_count": 58,
   "outputs": [],
   "source": [
    "pd.DataFrame({'Yes':[50,22],\"No\":[131,2]})\n",
    "pd.DataFrame({\"Michael\":['handsome','good'],\"Ming\":['love basketball','coding']})\n",
    "pd.DataFrame({\"Michael\":['handsome','good'],\"Ming\":['love basketball','coding']},\n",
    "             index=['people1 say','people2 say'])\n",
    "fruits = pd.DataFrame([[30, 21],[40, 22]], columns=['Apples', 'Bananas'])"
   ],
   "metadata": {
    "collapsed": false,
    "pycharm": {
     "name": "#%%\n"
    }
   }
  },
  {
   "cell_type": "code",
   "execution_count": 59,
   "outputs": [
    {
     "data": {
      "text/plain": "2018销量    30\n2019销量    40\n2020销量    50\nName: 博客访问量, dtype: int64"
     },
     "execution_count": 59,
     "metadata": {},
     "output_type": "execute_result"
    }
   ],
   "source": [
    "pd.Series([5,2,0,1,3,1,4])\n",
    "pd.Series([30,40,50],index=['2018销量','2019销量','2020销量'],\n",
    "          name='博客访问量')"
   ],
   "metadata": {
    "collapsed": false,
    "pycharm": {
     "name": "#%%\n"
    }
   }
  },
  {
   "cell_type": "code",
   "execution_count": 60,
   "outputs": [
    {
     "data": {
      "text/plain": "    country                                        description  \\\n0     Italy  Aromas include tropical fruit, broom, brimston...   \n1  Portugal  This is ripe and fruity, a wine that is smooth...   \n2        US  Tart and snappy, the flavors of lime flesh and...   \n3        US  Pineapple rind, lemon pith and orange blossom ...   \n4        US  Much like the regular bottling from 2012, this...   \n\n                          designation  points  price           province  \\\n0                        Vulkà Bianco      87    NaN  Sicily & Sardinia   \n1                            Avidagos      87   15.0              Douro   \n2                                 NaN      87   14.0             Oregon   \n3                Reserve Late Harvest      87   13.0           Michigan   \n4  Vintner's Reserve Wild Child Block      87   65.0             Oregon   \n\n              region_1           region_2         taster_name  \\\n0                 Etna                NaN       Kerin O’Keefe   \n1                  NaN                NaN          Roger Voss   \n2    Willamette Valley  Willamette Valley        Paul Gregutt   \n3  Lake Michigan Shore                NaN  Alexander Peartree   \n4    Willamette Valley  Willamette Valley        Paul Gregutt   \n\n  taster_twitter_handle                                              title  \\\n0          @kerinokeefe                  Nicosia 2013 Vulkà Bianco  (Etna)   \n1            @vossroger      Quinta dos Avidagos 2011 Avidagos Red (Douro)   \n2           @paulgwine       Rainstorm 2013 Pinot Gris (Willamette Valley)   \n3                   NaN  St. Julian 2013 Reserve Late Harvest Riesling ...   \n4           @paulgwine   Sweet Cheeks 2012 Vintner's Reserve Wild Child...   \n\n          variety               winery  \n0     White Blend              Nicosia  \n1  Portuguese Red  Quinta dos Avidagos  \n2      Pinot Gris            Rainstorm  \n3        Riesling           St. Julian  \n4      Pinot Noir         Sweet Cheeks  ",
      "text/html": "<div>\n<style scoped>\n    .dataframe tbody tr th:only-of-type {\n        vertical-align: middle;\n    }\n\n    .dataframe tbody tr th {\n        vertical-align: top;\n    }\n\n    .dataframe thead th {\n        text-align: right;\n    }\n</style>\n<table border=\"1\" class=\"dataframe\">\n  <thead>\n    <tr style=\"text-align: right;\">\n      <th></th>\n      <th>country</th>\n      <th>description</th>\n      <th>designation</th>\n      <th>points</th>\n      <th>price</th>\n      <th>province</th>\n      <th>region_1</th>\n      <th>region_2</th>\n      <th>taster_name</th>\n      <th>taster_twitter_handle</th>\n      <th>title</th>\n      <th>variety</th>\n      <th>winery</th>\n    </tr>\n  </thead>\n  <tbody>\n    <tr>\n      <td>0</td>\n      <td>Italy</td>\n      <td>Aromas include tropical fruit, broom, brimston...</td>\n      <td>Vulkà Bianco</td>\n      <td>87</td>\n      <td>NaN</td>\n      <td>Sicily &amp; Sardinia</td>\n      <td>Etna</td>\n      <td>NaN</td>\n      <td>Kerin O’Keefe</td>\n      <td>@kerinokeefe</td>\n      <td>Nicosia 2013 Vulkà Bianco  (Etna)</td>\n      <td>White Blend</td>\n      <td>Nicosia</td>\n    </tr>\n    <tr>\n      <td>1</td>\n      <td>Portugal</td>\n      <td>This is ripe and fruity, a wine that is smooth...</td>\n      <td>Avidagos</td>\n      <td>87</td>\n      <td>15.0</td>\n      <td>Douro</td>\n      <td>NaN</td>\n      <td>NaN</td>\n      <td>Roger Voss</td>\n      <td>@vossroger</td>\n      <td>Quinta dos Avidagos 2011 Avidagos Red (Douro)</td>\n      <td>Portuguese Red</td>\n      <td>Quinta dos Avidagos</td>\n    </tr>\n    <tr>\n      <td>2</td>\n      <td>US</td>\n      <td>Tart and snappy, the flavors of lime flesh and...</td>\n      <td>NaN</td>\n      <td>87</td>\n      <td>14.0</td>\n      <td>Oregon</td>\n      <td>Willamette Valley</td>\n      <td>Willamette Valley</td>\n      <td>Paul Gregutt</td>\n      <td>@paulgwine</td>\n      <td>Rainstorm 2013 Pinot Gris (Willamette Valley)</td>\n      <td>Pinot Gris</td>\n      <td>Rainstorm</td>\n    </tr>\n    <tr>\n      <td>3</td>\n      <td>US</td>\n      <td>Pineapple rind, lemon pith and orange blossom ...</td>\n      <td>Reserve Late Harvest</td>\n      <td>87</td>\n      <td>13.0</td>\n      <td>Michigan</td>\n      <td>Lake Michigan Shore</td>\n      <td>NaN</td>\n      <td>Alexander Peartree</td>\n      <td>NaN</td>\n      <td>St. Julian 2013 Reserve Late Harvest Riesling ...</td>\n      <td>Riesling</td>\n      <td>St. Julian</td>\n    </tr>\n    <tr>\n      <td>4</td>\n      <td>US</td>\n      <td>Much like the regular bottling from 2012, this...</td>\n      <td>Vintner's Reserve Wild Child Block</td>\n      <td>87</td>\n      <td>65.0</td>\n      <td>Oregon</td>\n      <td>Willamette Valley</td>\n      <td>Willamette Valley</td>\n      <td>Paul Gregutt</td>\n      <td>@paulgwine</td>\n      <td>Sweet Cheeks 2012 Vintner's Reserve Wild Child...</td>\n      <td>Pinot Noir</td>\n      <td>Sweet Cheeks</td>\n    </tr>\n  </tbody>\n</table>\n</div>"
     },
     "execution_count": 60,
     "metadata": {},
     "output_type": "execute_result"
    }
   ],
   "source": [
    "wine_rev = pd.read_csv(\"winemag-data-130k-v2.csv\")\n",
    "wine_rev.shape\n",
    "wine_rev.head()\n",
    "wine_rev = pd.read_csv(\"winemag-data-130k-v2.csv\", index_col=0)\n",
    "wine_rev.head()\n",
    "# wine_rev.to_csv('XXX.csv') # 保存"
   ],
   "metadata": {
    "collapsed": false,
    "pycharm": {
     "name": "#%%\n"
    }
   }
  },
  {
   "cell_type": "code",
   "execution_count": 61,
   "outputs": [
    {
     "data": {
      "text/plain": "         country                                        description  \\\n0          Italy  Aromas include tropical fruit, broom, brimston...   \n1       Portugal  This is ripe and fruity, a wine that is smooth...   \n2             US  Tart and snappy, the flavors of lime flesh and...   \n3             US  Pineapple rind, lemon pith and orange blossom ...   \n4             US  Much like the regular bottling from 2012, this...   \n...          ...                                                ...   \n129966   Germany  Notes of honeysuckle and cantaloupe sweeten th...   \n129967        US  Citation is given as much as a decade of bottl...   \n129968    France  Well-drained gravel soil gives this wine its c...   \n129969    France  A dry style of Pinot Gris, this is crisp with ...   \n129970    France  Big, rich and off-dry, this is powered by inte...   \n\n                                   designation  points  price  \\\n0                                 Vulkà Bianco      87    NaN   \n1                                     Avidagos      87   15.0   \n2                                          NaN      87   14.0   \n3                         Reserve Late Harvest      87   13.0   \n4           Vintner's Reserve Wild Child Block      87   65.0   \n...                                        ...     ...    ...   \n129966  Brauneberger Juffer-Sonnenuhr Spätlese      90   28.0   \n129967                                     NaN      90   75.0   \n129968                                   Kritt      90   30.0   \n129969                                     NaN      90   32.0   \n129970           Lieu-dit Harth Cuvée Caroline      90   21.0   \n\n                 province             region_1           region_2  \\\n0       Sicily & Sardinia                 Etna                NaN   \n1                   Douro                  NaN                NaN   \n2                  Oregon    Willamette Valley  Willamette Valley   \n3                Michigan  Lake Michigan Shore                NaN   \n4                  Oregon    Willamette Valley  Willamette Valley   \n...                   ...                  ...                ...   \n129966              Mosel                  NaN                NaN   \n129967             Oregon               Oregon       Oregon Other   \n129968             Alsace               Alsace                NaN   \n129969             Alsace               Alsace                NaN   \n129970             Alsace               Alsace                NaN   \n\n               taster_name taster_twitter_handle  \\\n0            Kerin O’Keefe          @kerinokeefe   \n1               Roger Voss            @vossroger   \n2             Paul Gregutt           @paulgwine    \n3       Alexander Peartree                   NaN   \n4             Paul Gregutt           @paulgwine    \n...                    ...                   ...   \n129966  Anna Lee C. Iijima                   NaN   \n129967        Paul Gregutt           @paulgwine    \n129968          Roger Voss            @vossroger   \n129969          Roger Voss            @vossroger   \n129970          Roger Voss            @vossroger   \n\n                                                    title         variety  \\\n0                       Nicosia 2013 Vulkà Bianco  (Etna)     White Blend   \n1           Quinta dos Avidagos 2011 Avidagos Red (Douro)  Portuguese Red   \n2           Rainstorm 2013 Pinot Gris (Willamette Valley)      Pinot Gris   \n3       St. Julian 2013 Reserve Late Harvest Riesling ...        Riesling   \n4       Sweet Cheeks 2012 Vintner's Reserve Wild Child...      Pinot Noir   \n...                                                   ...             ...   \n129966  Dr. H. Thanisch (Erben Müller-Burggraef) 2013 ...        Riesling   \n129967                  Citation 2004 Pinot Noir (Oregon)      Pinot Noir   \n129968  Domaine Gresser 2013 Kritt Gewurztraminer (Als...  Gewürztraminer   \n129969      Domaine Marcel Deiss 2012 Pinot Gris (Alsace)      Pinot Gris   \n129970  Domaine Schoffit 2012 Lieu-dit Harth Cuvée Car...  Gewürztraminer   \n\n                                          winery   critic  test_id  \n0                                        Nicosia  Michael   129971  \n1                            Quinta dos Avidagos  Michael   129970  \n2                                      Rainstorm  Michael   129969  \n3                                     St. Julian  Michael   129968  \n4                                   Sweet Cheeks  Michael   129967  \n...                                          ...      ...      ...  \n129966  Dr. H. Thanisch (Erben Müller-Burggraef)  Michael        5  \n129967                                  Citation  Michael        4  \n129968                           Domaine Gresser  Michael        3  \n129969                      Domaine Marcel Deiss  Michael        2  \n129970                          Domaine Schoffit  Michael        1  \n\n[129971 rows x 15 columns]",
      "text/html": "<div>\n<style scoped>\n    .dataframe tbody tr th:only-of-type {\n        vertical-align: middle;\n    }\n\n    .dataframe tbody tr th {\n        vertical-align: top;\n    }\n\n    .dataframe thead th {\n        text-align: right;\n    }\n</style>\n<table border=\"1\" class=\"dataframe\">\n  <thead>\n    <tr style=\"text-align: right;\">\n      <th></th>\n      <th>country</th>\n      <th>description</th>\n      <th>designation</th>\n      <th>points</th>\n      <th>price</th>\n      <th>province</th>\n      <th>region_1</th>\n      <th>region_2</th>\n      <th>taster_name</th>\n      <th>taster_twitter_handle</th>\n      <th>title</th>\n      <th>variety</th>\n      <th>winery</th>\n      <th>critic</th>\n      <th>test_id</th>\n    </tr>\n  </thead>\n  <tbody>\n    <tr>\n      <td>0</td>\n      <td>Italy</td>\n      <td>Aromas include tropical fruit, broom, brimston...</td>\n      <td>Vulkà Bianco</td>\n      <td>87</td>\n      <td>NaN</td>\n      <td>Sicily &amp; Sardinia</td>\n      <td>Etna</td>\n      <td>NaN</td>\n      <td>Kerin O’Keefe</td>\n      <td>@kerinokeefe</td>\n      <td>Nicosia 2013 Vulkà Bianco  (Etna)</td>\n      <td>White Blend</td>\n      <td>Nicosia</td>\n      <td>Michael</td>\n      <td>129971</td>\n    </tr>\n    <tr>\n      <td>1</td>\n      <td>Portugal</td>\n      <td>This is ripe and fruity, a wine that is smooth...</td>\n      <td>Avidagos</td>\n      <td>87</td>\n      <td>15.0</td>\n      <td>Douro</td>\n      <td>NaN</td>\n      <td>NaN</td>\n      <td>Roger Voss</td>\n      <td>@vossroger</td>\n      <td>Quinta dos Avidagos 2011 Avidagos Red (Douro)</td>\n      <td>Portuguese Red</td>\n      <td>Quinta dos Avidagos</td>\n      <td>Michael</td>\n      <td>129970</td>\n    </tr>\n    <tr>\n      <td>2</td>\n      <td>US</td>\n      <td>Tart and snappy, the flavors of lime flesh and...</td>\n      <td>NaN</td>\n      <td>87</td>\n      <td>14.0</td>\n      <td>Oregon</td>\n      <td>Willamette Valley</td>\n      <td>Willamette Valley</td>\n      <td>Paul Gregutt</td>\n      <td>@paulgwine</td>\n      <td>Rainstorm 2013 Pinot Gris (Willamette Valley)</td>\n      <td>Pinot Gris</td>\n      <td>Rainstorm</td>\n      <td>Michael</td>\n      <td>129969</td>\n    </tr>\n    <tr>\n      <td>3</td>\n      <td>US</td>\n      <td>Pineapple rind, lemon pith and orange blossom ...</td>\n      <td>Reserve Late Harvest</td>\n      <td>87</td>\n      <td>13.0</td>\n      <td>Michigan</td>\n      <td>Lake Michigan Shore</td>\n      <td>NaN</td>\n      <td>Alexander Peartree</td>\n      <td>NaN</td>\n      <td>St. Julian 2013 Reserve Late Harvest Riesling ...</td>\n      <td>Riesling</td>\n      <td>St. Julian</td>\n      <td>Michael</td>\n      <td>129968</td>\n    </tr>\n    <tr>\n      <td>4</td>\n      <td>US</td>\n      <td>Much like the regular bottling from 2012, this...</td>\n      <td>Vintner's Reserve Wild Child Block</td>\n      <td>87</td>\n      <td>65.0</td>\n      <td>Oregon</td>\n      <td>Willamette Valley</td>\n      <td>Willamette Valley</td>\n      <td>Paul Gregutt</td>\n      <td>@paulgwine</td>\n      <td>Sweet Cheeks 2012 Vintner's Reserve Wild Child...</td>\n      <td>Pinot Noir</td>\n      <td>Sweet Cheeks</td>\n      <td>Michael</td>\n      <td>129967</td>\n    </tr>\n    <tr>\n      <td>...</td>\n      <td>...</td>\n      <td>...</td>\n      <td>...</td>\n      <td>...</td>\n      <td>...</td>\n      <td>...</td>\n      <td>...</td>\n      <td>...</td>\n      <td>...</td>\n      <td>...</td>\n      <td>...</td>\n      <td>...</td>\n      <td>...</td>\n      <td>...</td>\n      <td>...</td>\n    </tr>\n    <tr>\n      <td>129966</td>\n      <td>Germany</td>\n      <td>Notes of honeysuckle and cantaloupe sweeten th...</td>\n      <td>Brauneberger Juffer-Sonnenuhr Spätlese</td>\n      <td>90</td>\n      <td>28.0</td>\n      <td>Mosel</td>\n      <td>NaN</td>\n      <td>NaN</td>\n      <td>Anna Lee C. Iijima</td>\n      <td>NaN</td>\n      <td>Dr. H. Thanisch (Erben Müller-Burggraef) 2013 ...</td>\n      <td>Riesling</td>\n      <td>Dr. H. Thanisch (Erben Müller-Burggraef)</td>\n      <td>Michael</td>\n      <td>5</td>\n    </tr>\n    <tr>\n      <td>129967</td>\n      <td>US</td>\n      <td>Citation is given as much as a decade of bottl...</td>\n      <td>NaN</td>\n      <td>90</td>\n      <td>75.0</td>\n      <td>Oregon</td>\n      <td>Oregon</td>\n      <td>Oregon Other</td>\n      <td>Paul Gregutt</td>\n      <td>@paulgwine</td>\n      <td>Citation 2004 Pinot Noir (Oregon)</td>\n      <td>Pinot Noir</td>\n      <td>Citation</td>\n      <td>Michael</td>\n      <td>4</td>\n    </tr>\n    <tr>\n      <td>129968</td>\n      <td>France</td>\n      <td>Well-drained gravel soil gives this wine its c...</td>\n      <td>Kritt</td>\n      <td>90</td>\n      <td>30.0</td>\n      <td>Alsace</td>\n      <td>Alsace</td>\n      <td>NaN</td>\n      <td>Roger Voss</td>\n      <td>@vossroger</td>\n      <td>Domaine Gresser 2013 Kritt Gewurztraminer (Als...</td>\n      <td>Gewürztraminer</td>\n      <td>Domaine Gresser</td>\n      <td>Michael</td>\n      <td>3</td>\n    </tr>\n    <tr>\n      <td>129969</td>\n      <td>France</td>\n      <td>A dry style of Pinot Gris, this is crisp with ...</td>\n      <td>NaN</td>\n      <td>90</td>\n      <td>32.0</td>\n      <td>Alsace</td>\n      <td>Alsace</td>\n      <td>NaN</td>\n      <td>Roger Voss</td>\n      <td>@vossroger</td>\n      <td>Domaine Marcel Deiss 2012 Pinot Gris (Alsace)</td>\n      <td>Pinot Gris</td>\n      <td>Domaine Marcel Deiss</td>\n      <td>Michael</td>\n      <td>2</td>\n    </tr>\n    <tr>\n      <td>129970</td>\n      <td>France</td>\n      <td>Big, rich and off-dry, this is powered by inte...</td>\n      <td>Lieu-dit Harth Cuvée Caroline</td>\n      <td>90</td>\n      <td>21.0</td>\n      <td>Alsace</td>\n      <td>Alsace</td>\n      <td>NaN</td>\n      <td>Roger Voss</td>\n      <td>@vossroger</td>\n      <td>Domaine Schoffit 2012 Lieu-dit Harth Cuvée Car...</td>\n      <td>Gewürztraminer</td>\n      <td>Domaine Schoffit</td>\n      <td>Michael</td>\n      <td>1</td>\n    </tr>\n  </tbody>\n</table>\n<p>129971 rows × 15 columns</p>\n</div>"
     },
     "execution_count": 61,
     "metadata": {},
     "output_type": "execute_result"
    }
   ],
   "source": [
    "# wine_rev.country\n",
    "wine_rev['country']\n",
    "wine_rev['country'][0]\n",
    "wine_rev.country[1]\n",
    "wine_rev.iloc[0]\n",
    "wine_rev.iloc[:,0]\n",
    "wine_rev.iloc[:3,0]\n",
    "wine_rev.iloc[[1,2],0]\n",
    "wine_rev.iloc[-5:]\n",
    "wine_rev.loc[ : 3,'country']\n",
    "wine_rev.loc[ 1 : 3,['country','points']]\n",
    "wine_rev.set_index(\"title\")\n",
    "wine_rev.country == 'US'\n",
    "wine_rev.loc[wine_rev.country == 'US']\n",
    "wine_rev.loc[(wine_rev.country == 'US') | (wine_rev.points >= 90)]\n",
    "wine_rev.loc[wine_rev.country.isin(['US','Italy'])]\n",
    "wine_rev.loc[wine_rev.price.isnull()]\n",
    "wine_rev['critic'] = 'Michael'\n",
    "# wine_rev.country = 'Ming'\n",
    "wine_rev\n",
    "wine_rev['test_id'] = range(len(wine_rev),0,-1)\n",
    "wine_rev"
   ],
   "metadata": {
    "collapsed": false,
    "pycharm": {
     "name": "#%%\n"
    }
   }
  },
  {
   "cell_type": "code",
   "execution_count": 69,
   "outputs": [
    {
     "name": "stdout",
     "output_type": "stream",
     "text": [
      "88.44713820775404\n"
     ]
    },
    {
     "data": {
      "text/plain": "    country           province    len\n392      US         California  36247\n415      US         Washington   8639\n118  France           Bordeaux   5941\n227   Italy            Tuscany   5897\n409      US             Oregon   5373\n..      ...                ...    ...\n386  Turkey  Elazığ-Diyarbakir      1\n389  Turkey        Urla-Thrace      1\n395      US             Hawaii      1\n399      US           Kentucky      1\n411      US       Rhode Island      1\n\n[425 rows x 3 columns]",
      "text/html": "<div>\n<style scoped>\n    .dataframe tbody tr th:only-of-type {\n        vertical-align: middle;\n    }\n\n    .dataframe tbody tr th {\n        vertical-align: top;\n    }\n\n    .dataframe thead th {\n        text-align: right;\n    }\n</style>\n<table border=\"1\" class=\"dataframe\">\n  <thead>\n    <tr style=\"text-align: right;\">\n      <th></th>\n      <th>country</th>\n      <th>province</th>\n      <th>len</th>\n    </tr>\n  </thead>\n  <tbody>\n    <tr>\n      <td>392</td>\n      <td>US</td>\n      <td>California</td>\n      <td>36247</td>\n    </tr>\n    <tr>\n      <td>415</td>\n      <td>US</td>\n      <td>Washington</td>\n      <td>8639</td>\n    </tr>\n    <tr>\n      <td>118</td>\n      <td>France</td>\n      <td>Bordeaux</td>\n      <td>5941</td>\n    </tr>\n    <tr>\n      <td>227</td>\n      <td>Italy</td>\n      <td>Tuscany</td>\n      <td>5897</td>\n    </tr>\n    <tr>\n      <td>409</td>\n      <td>US</td>\n      <td>Oregon</td>\n      <td>5373</td>\n    </tr>\n    <tr>\n      <td>...</td>\n      <td>...</td>\n      <td>...</td>\n      <td>...</td>\n    </tr>\n    <tr>\n      <td>386</td>\n      <td>Turkey</td>\n      <td>Elazığ-Diyarbakir</td>\n      <td>1</td>\n    </tr>\n    <tr>\n      <td>389</td>\n      <td>Turkey</td>\n      <td>Urla-Thrace</td>\n      <td>1</td>\n    </tr>\n    <tr>\n      <td>395</td>\n      <td>US</td>\n      <td>Hawaii</td>\n      <td>1</td>\n    </tr>\n    <tr>\n      <td>399</td>\n      <td>US</td>\n      <td>Kentucky</td>\n      <td>1</td>\n    </tr>\n    <tr>\n      <td>411</td>\n      <td>US</td>\n      <td>Rhode Island</td>\n      <td>1</td>\n    </tr>\n  </tbody>\n</table>\n<p>425 rows × 3 columns</p>\n</div>"
     },
     "execution_count": 69,
     "metadata": {},
     "output_type": "execute_result"
    }
   ],
   "source": [
    "wine_rev.points.describe()\n",
    "wine_rev.country.describe()\n",
    "wine_rev.points.mean()\n",
    "wine_rev.country.unique()\n",
    "wine_rev.country.value_counts()\n",
    "wine_points_mean = wine_rev.points.mean()\n",
    "print(wine_points_mean)\n",
    "# wine_rev.points.map(lambda p : p-wine_points_mean)\n",
    "# def remean_points(row):\n",
    "#     row.points = row.points - wine_points_mean\n",
    "#     return row\n",
    "# wine_rev.apply(remean_points,axis='columns')\n",
    "wine_rev.points - wine_points_mean\n",
    "\n",
    "wine_rev.country+'-'+wine_rev.region_1\n",
    "wine_rev\n",
    "wine_rev.groupby('points').points.count()\n",
    "wine_rev.groupby('points').price.min()\n",
    "wine_rev.groupby('points').apply(lambda df : df.title.iloc[0])\n",
    "wine_rev.groupby(['country','province']).apply(lambda df : df.loc[df.points.idxmax()])\n",
    "wine_rev.groupby('country').price.agg([len,min,max])\n",
    "country_rev = wine_rev.groupby(['country','province']).description.agg([len])\n",
    "cr = country_rev.reset_index()\n",
    "cr.sort_values(by='len')\n",
    "cr.sort_values(by='len',ascending=False)\n",
    "cr.sort_index()\n",
    "cr.sort_values(by=['country', 'len'],ascending=[False,True])"
   ],
   "metadata": {
    "collapsed": false,
    "pycharm": {
     "name": "#%%\n"
    }
   }
  }
 ],
 "metadata": {
  "kernelspec": {
   "display_name": "Python 3",
   "language": "python",
   "name": "python3"
  },
  "language_info": {
   "codemirror_mode": {
    "name": "ipython",
    "version": 2
   },
   "file_extension": ".py",
   "mimetype": "text/x-python",
   "name": "python",
   "nbconvert_exporter": "python",
   "pygments_lexer": "ipython2",
   "version": "2.7.6"
  }
 },
 "nbformat": 4,
 "nbformat_minor": 0
}