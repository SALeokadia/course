{
 "cells": [
  {
   "cell_type": "code",
   "execution_count": 2,
   "outputs": [],
   "source": [
    "# -*- coding:utf-8 -*-\n",
    "# @Python Version: 3.7\n",
    "# @Time: 2020/6/12 00:09\n",
    "# @Author: Michael Ming\n",
    "# @Website: https://michael.blog.csdn.net/\n",
    "# @File: employee_satisfaction_pipeline.ipynb\n",
    "# @Reference:"
   ],
   "metadata": {
    "collapsed": false,
    "pycharm": {
     "name": "#%%\n"
    }
   }
  },
  {
   "cell_type": "code",
   "execution_count": 3,
   "outputs": [],
   "source": [
    "%matplotlib inline\n",
    "import numpy as np\n",
    "import matplotlib.pyplot as plt\n",
    "plt.rcParams['figure.facecolor']=(1,1,1,1) # pycharm 绘图白底，看得清坐标\n",
    "import pandas as pd\n",
    "import seaborn as sns\n",
    "from sklearn import preprocessing\n",
    "from sklearn.linear_model import LinearRegression as lr\n",
    "from sklearn.ensemble import RandomForestRegressor as rf\n",
    "from sklearn.ensemble import AdaBoostRegressor\n",
    "from sklearn.model_selection import GridSearchCV\n",
    "from sklearn.model_selection import train_test_split,cross_val_score\n",
    "from sklearn.metrics import *\n",
    "from sklearn.preprocessing import OneHotEncoder,LabelEncoder,OrdinalEncoder"
   ],
   "metadata": {
    "collapsed": false,
    "pycharm": {
     "name": "#%%\n"
    }
   }
  },
  {
   "cell_type": "code",
   "execution_count": 4,
   "outputs": [
    {
     "name": "stdout",
     "output_type": "stream",
     "text": [
      "10\n"
     ]
    },
    {
     "data": {
      "text/plain": "<matplotlib.axes._subplots.AxesSubplot at 0x164eb4a6c50>"
     },
     "execution_count": 4,
     "metadata": {},
     "output_type": "execute_result"
    },
    {
     "data": {
      "text/plain": "<Figure size 432x288 with 1 Axes>",
      "image/png": "[encoded data removed]"
     },
     "metadata": {
      "needs_background": "light"
     },
     "output_type": "display_data"
    }
   ],
   "source": [
    "# 读取数据\n",
    "tr_data = pd.read_csv(r\"D:\\Softwares\\gitcode\\dnn\\chenmingming\\competition\\Employee_Satisfaction\\train.csv\",index_col='id')\n",
    "X_test = pd.read_csv(r\"D:\\Softwares\\gitcode\\dnn\\chenmingming\\competition\\Employee_Satisfaction\\test.csv\",index_col='id') # 不含标签\n",
    "print(len(tr_data.columns))\n",
    "tr_data.head(10)\n",
    "tr_data['satisfaction_level_cat'] = np.ceil(tr_data['satisfaction_level']*100/10)\n",
    "tr_data['satisfaction_level_cat'].hist() # 满意度分成10个等级\n",
    "tr_data['time_spend_company'].hist()\n",
    "tr_data['number_project'].hist()"
   ],
   "metadata": {
    "collapsed": false,
    "pycharm": {
     "name": "#%%\n"
    }
   }
  },
  {
   "cell_type": "code",
   "execution_count": 5,
   "outputs": [
    {
     "name": "stderr",
     "output_type": "stream",
     "text": [
      "c:\\program files\\python37\\lib\\site-packages\\ipykernel_launcher.py:6: FutureWarning: \n",
      "Passing list-likes to .loc or [] with any missing label will raise\n",
      "KeyError in the future, you can use .reindex() as an alternative.\n",
      "\n",
      "See the documentation here:\n",
      "https://pandas.pydata.org/pandas-docs/stable/user_guide/indexing.html#deprecate-loc-reindex-listlike\n",
      "  \n",
      "c:\\program files\\python37\\lib\\site-packages\\ipykernel_launcher.py:7: FutureWarning: \n",
      "Passing list-likes to .loc or [] with any missing label will raise\n",
      "KeyError in the future, you can use .reindex() as an alternative.\n",
      "\n",
      "See the documentation here:\n",
      "https://pandas.pydata.org/pandas-docs/stable/user_guide/indexing.html#deprecate-loc-reindex-listlike\n",
      "  import sys\n"
     ]
    }
   ],
   "source": [
    "tr_data.corr()\n",
    "# sns.regplot(x=tr_data.index, y=tr_data['satisfaction_level'])\n",
    "from sklearn.model_selection import StratifiedShuffleSplit\n",
    "splt = StratifiedShuffleSplit(n_splits=1, test_size=0.2, random_state=1)\n",
    "for train_idx, test_idx in splt.split(tr_data, tr_data['satisfaction_level_cat']):\n",
    "    strat_train_set = tr_data.loc[train_idx]\n",
    "    strat_test_set = tr_data.loc[test_idx]\n",
    "\n",
    "for set in (strat_train_set, strat_test_set):\n",
    "    set.drop('satisfaction_level_cat',axis=1,inplace=True)"
   ],
   "metadata": {
    "collapsed": false,
    "pycharm": {
     "name": "#%%\n"
    }
   }
  },
  {
   "cell_type": "code",
   "execution_count": 6,
   "outputs": [
    {
     "data": {
      "text/plain": "satisfaction_level       1.000000\nlast_evaluation          0.085759\nWork_accident            0.041254\npromotion_last_5years    0.011735\naverage_monthly_hours   -0.012339\nnumber_project          -0.135155\ntime_spend_company      -0.149982\nName: satisfaction_level, dtype: float64"
     },
     "execution_count": 6,
     "metadata": {},
     "output_type": "execute_result"
    }
   ],
   "source": [
    "corr_mat = strat_train_set.corr()\n",
    "corr_mat['satisfaction_level'].sort_values(ascending=False)"
   ],
   "metadata": {
    "collapsed": false,
    "pycharm": {
     "name": "#%%\n"
    }
   }
  },
  {
   "cell_type": "code",
   "execution_count": 7,
   "outputs": [
    {
     "ename": "SyntaxError",
     "evalue": "invalid syntax (<ipython-input-7-9cab65136fa7>, line 17)",
     "output_type": "error",
     "traceback": [
      "\u001B[1;36m  File \u001B[1;32m\"<ipython-input-7-9cab65136fa7>\"\u001B[1;36m, line \u001B[1;32m17\u001B[0m\n\u001B[1;33m    strat_train_set_extra_attri = pd.DataFrame(strat_train_set_extra_attri,columns=)\u001B[0m\n\u001B[1;37m                                                                                   ^\u001B[0m\n\u001B[1;31mSyntaxError\u001B[0m\u001B[1;31m:\u001B[0m invalid syntax\n"
     ]
    }
   ],
   "source": [
    "from sklearn.base import BaseEstimator, TransformerMixin\n",
    "number_project_idx, time_spend_company_idx = 1, 3\n",
    "class addfeature(BaseEstimator, TransformerMixin):\n",
    "    def __init__(self, add_project_perYear = True):\n",
    "        self.add_project_perYear = add_project_perYear\n",
    "    def fit(self,X,y=None):\n",
    "        return self\n",
    "    def transform(self,X,y=None):\n",
    "        if self.add_project_perYear:\n",
    "            projects_perYear = X[:,number_project_idx]/X[:,time_spend_company_idx]\n",
    "            return np.c_[X,projects_perYear]\n",
    "        else:\n",
    "            return X\n",
    "add_attri = addfeature(add_project_perYear=True)\n",
    "strat_train_set_extra_attri = add_attri.transform(strat_train_set.values)\n",
    "strat_train_set_extra_attri.shape\n",
    "strat_train_set_extra_attri = pd.DataFrame(strat_train_set_extra_attri,columns=s)"
   ],
   "metadata": {
    "collapsed": false,
    "pycharm": {
     "name": "#%%\n"
    }
   }
  },
  {
   "cell_type": "code",
   "execution_count": null,
   "outputs": [],
   "source": [
    "train_num = strat_train_set_extra_attri."
   ],
   "metadata": {
    "collapsed": false,
    "pycharm": {
     "name": "#%%\n"
    }
   }
  },
  {
   "cell_type": "code",
   "execution_count": null,
   "outputs": [],
   "source": [
    "y_pred_test = model1.predict(X_test_final)\n",
    "result = pd.DataFrame()\n",
    "result['id'] = X_test.index\n",
    "result['satisfaction_level'] = y_pred_test\n",
    "result.to_csv('lr_with_num_scale.csv',index=False)"
   ],
   "metadata": {
    "collapsed": false,
    "pycharm": {
     "name": "#%%\n"
    }
   }
  }
 ],
 "metadata": {
  "kernelspec": {
   "display_name": "Python 3",
   "language": "python",
   "name": "python3"
  },
  "language_info": {
   "codemirror_mode": {
    "name": "ipython",
    "version": 2
   },
   "file_extension": ".py",
   "mimetype": "text/x-python",
   "name": "python",
   "nbconvert_exporter": "python",
   "pygments_lexer": "ipython2",
   "version": "2.7.6"
  }
 },
 "nbformat": 4,
 "nbformat_minor": 0
}