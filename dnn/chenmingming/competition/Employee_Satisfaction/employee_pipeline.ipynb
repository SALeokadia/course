{
 "cells": [
  {
   "cell_type": "code",
   "execution_count": null,
   "outputs": [],
   "source": [
    "# -*- coding:utf-8 -*-\n",
    "# @Python Version: 3.7\n",
    "# @Time: 2020/6/12 00:09\n",
    "# @Author: Michael Ming\n",
    "# @Website: https://michael.blog.csdn.net/\n",
    "# @File: employee_satisfaction_pipeline.ipynb\n",
    "# @Reference:"
   ],
   "metadata": {
    "collapsed": false,
    "pycharm": {
     "name": "#%%\n"
    }
   }
  },
  {
   "cell_type": "code",
   "execution_count": 1,
   "outputs": [],
   "source": [
    "%matplotlib inline\n",
    "import numpy as np\n",
    "import matplotlib.pyplot as plt\n",
    "plt.rcParams['figure.facecolor']=(1,1,1,1) # pycharm 绘图白底，看得清坐标\n",
    "import pandas as pd\n",
    "import seaborn as sns\n",
    "from sklearn import preprocessing\n",
    "from sklearn.linear_model import LinearRegression as lr\n",
    "from sklearn.ensemble import RandomForestRegressor as rf\n",
    "from sklearn.ensemble import AdaBoostRegressor\n",
    "from sklearn.model_selection import GridSearchCV\n",
    "from sklearn.model_selection import train_test_split,cross_val_score\n",
    "from sklearn.metrics import *\n",
    "from sklearn.preprocessing import OneHotEncoder,LabelEncoder,OrdinalEncoder"
   ],
   "metadata": {
    "collapsed": false,
    "pycharm": {
     "name": "#%%\n"
    }
   }
  },
  {
   "cell_type": "code",
   "execution_count": 8,
   "outputs": [
    {
     "data": {
      "text/plain": "       last_evaluation  number_project  average_monthly_hours  \\\nid                                                              \n13697             0.99               3                 161.39   \n1142              1.00               5                 226.22   \n7954              0.91               5                 199.45   \n2225              0.51               3                 235.14   \n9753              0.89               3                 219.91   \n8661              0.75               4                 258.68   \n10963             0.59               4                 149.19   \n2761              0.85               3                 146.21   \n14839             0.85               5                 244.16   \n14009             0.43               3                 146.57   \n\n       time_spend_company  Work_accident package  promotion_last_5years  \\\nid                                                                        \n13697                   2              0       a                      0   \n1142                    6              0       b                      0   \n7954                    2              0       e                      0   \n2225                    3              0       c                      0   \n9753                    2              0       a                      0   \n8661                    3              1       a                      0   \n10963                   3              0       c                      0   \n2761                    3              0       a                      0   \n14839                   6              0       d                      0   \n14009                   4              0       e                      1   \n\n         division  salary  satisfaction_level  \nid                                             \n13697  accounting  medium               0.681  \n1142    marketing     low               0.876  \n7954        sales  medium               0.955  \n2225        sales     low               0.817  \n9753    technical     low               0.920  \n8661    technical     low               0.490  \n10963     support     low               0.597  \n2761        sales  medium               0.629  \n14839       sales     low               0.713  \n14009       sales  medium               0.612  ",
      "text/html": "<div>\n<style scoped>\n    .dataframe tbody tr th:only-of-type {\n        vertical-align: middle;\n    }\n\n    .dataframe tbody tr th {\n        vertical-align: top;\n    }\n\n    .dataframe thead th {\n        text-align: right;\n    }\n</style>\n<table border=\"1\" class=\"dataframe\">\n  <thead>\n    <tr style=\"text-align: right;\">\n      <th></th>\n      <th>last_evaluation</th>\n      <th>number_project</th>\n      <th>average_monthly_hours</th>\n      <th>time_spend_company</th>\n      <th>Work_accident</th>\n      <th>package</th>\n      <th>promotion_last_5years</th>\n      <th>division</th>\n      <th>salary</th>\n      <th>satisfaction_level</th>\n    </tr>\n    <tr>\n      <th>id</th>\n      <th></th>\n      <th></th>\n      <th></th>\n      <th></th>\n      <th></th>\n      <th></th>\n      <th></th>\n      <th></th>\n      <th></th>\n      <th></th>\n    </tr>\n  </thead>\n  <tbody>\n    <tr>\n      <td>13697</td>\n      <td>0.99</td>\n      <td>3</td>\n      <td>161.39</td>\n      <td>2</td>\n      <td>0</td>\n      <td>a</td>\n      <td>0</td>\n      <td>accounting</td>\n      <td>medium</td>\n      <td>0.681</td>\n    </tr>\n    <tr>\n      <td>1142</td>\n      <td>1.00</td>\n      <td>5</td>\n      <td>226.22</td>\n      <td>6</td>\n      <td>0</td>\n      <td>b</td>\n      <td>0</td>\n      <td>marketing</td>\n      <td>low</td>\n      <td>0.876</td>\n    </tr>\n    <tr>\n      <td>7954</td>\n      <td>0.91</td>\n      <td>5</td>\n      <td>199.45</td>\n      <td>2</td>\n      <td>0</td>\n      <td>e</td>\n      <td>0</td>\n      <td>sales</td>\n      <td>medium</td>\n      <td>0.955</td>\n    </tr>\n    <tr>\n      <td>2225</td>\n      <td>0.51</td>\n      <td>3</td>\n      <td>235.14</td>\n      <td>3</td>\n      <td>0</td>\n      <td>c</td>\n      <td>0</td>\n      <td>sales</td>\n      <td>low</td>\n      <td>0.817</td>\n    </tr>\n    <tr>\n      <td>9753</td>\n      <td>0.89</td>\n      <td>3</td>\n      <td>219.91</td>\n      <td>2</td>\n      <td>0</td>\n      <td>a</td>\n      <td>0</td>\n      <td>technical</td>\n      <td>low</td>\n      <td>0.920</td>\n    </tr>\n    <tr>\n      <td>8661</td>\n      <td>0.75</td>\n      <td>4</td>\n      <td>258.68</td>\n      <td>3</td>\n      <td>1</td>\n      <td>a</td>\n      <td>0</td>\n      <td>technical</td>\n      <td>low</td>\n      <td>0.490</td>\n    </tr>\n    <tr>\n      <td>10963</td>\n      <td>0.59</td>\n      <td>4</td>\n      <td>149.19</td>\n      <td>3</td>\n      <td>0</td>\n      <td>c</td>\n      <td>0</td>\n      <td>support</td>\n      <td>low</td>\n      <td>0.597</td>\n    </tr>\n    <tr>\n      <td>2761</td>\n      <td>0.85</td>\n      <td>3</td>\n      <td>146.21</td>\n      <td>3</td>\n      <td>0</td>\n      <td>a</td>\n      <td>0</td>\n      <td>sales</td>\n      <td>medium</td>\n      <td>0.629</td>\n    </tr>\n    <tr>\n      <td>14839</td>\n      <td>0.85</td>\n      <td>5</td>\n      <td>244.16</td>\n      <td>6</td>\n      <td>0</td>\n      <td>d</td>\n      <td>0</td>\n      <td>sales</td>\n      <td>low</td>\n      <td>0.713</td>\n    </tr>\n    <tr>\n      <td>14009</td>\n      <td>0.43</td>\n      <td>3</td>\n      <td>146.57</td>\n      <td>4</td>\n      <td>0</td>\n      <td>e</td>\n      <td>1</td>\n      <td>sales</td>\n      <td>medium</td>\n      <td>0.612</td>\n    </tr>\n  </tbody>\n</table>\n</div>"
     },
     "execution_count": 8,
     "metadata": {},
     "output_type": "execute_result"
    }
   ],
   "source": [
    "# 读取数据\n",
    "tr_data = pd.read_csv(r\"D:\\Softwares\\gitcode\\dnn\\chenmingming\\competition\\Employee_Satisfaction\\train.csv\",index_col='id')\n",
    "X_test = pd.read_csv(r\"D:\\Softwares\\gitcode\\dnn\\chenmingming\\competition\\Employee_Satisfaction\\test.csv\",index_col='id') # 不含标签\n",
    "\n",
    "tr_data.head(10)"
   ],
   "metadata": {
    "collapsed": false,
    "pycharm": {
     "name": "#%%\n"
    }
   }
  },
  {
   "cell_type": "code",
   "execution_count": null,
   "outputs": [],
   "source": [
    "tr_data.corr()\n",
    "sns.regplot(x=tr_data.index, y=tr_data['satisfaction_level'])"
   ],
   "metadata": {
    "collapsed": false,
    "pycharm": {
     "name": "#%%\n"
    }
   }
  },
  {
   "cell_type": "code",
   "execution_count": null,
   "outputs": [],
   "source": [
    "X = tr_data.drop(['satisfaction_level'], axis=1)\n",
    "y = tr_data['satisfaction_level']\n",
    "X_train, X_valid, y_train, y_valid = train_test_split(X, y,test_size=0.2,random_state=1)\n",
    "X_train\n",
    "feature = X_train.columns\n",
    "print(feature)\n",
    "s = (X_train.dtypes == 'object')\n",
    "object_cols = list(s[s].index)\n",
    "print(object_cols)\n",
    "y_train\n",
    "# 查看标签值，是一系列的浮点数\n",
    "pd.unique(y_train)\n",
    "\n"
   ],
   "metadata": {
    "collapsed": false,
    "pycharm": {
     "name": "#%%\n"
    }
   }
  },
  {
   "cell_type": "code",
   "execution_count": null,
   "outputs": [],
   "source": [
    "# 数字特征\n",
    "num_X_train = X_train.drop(object_cols, axis=1)\n",
    "num_X_valid = X_valid.drop(object_cols, axis=1)\n",
    "num_X_test = X_test.drop(object_cols, axis=1)\n",
    "\n",
    "X_scale = preprocessing.StandardScaler()\n",
    "X_scale.fit_transform(num_X_train)\n",
    "print(num_X_train.shape)\n",
    "num_X_train_data = X_scale.fit_transform(num_X_train)\n",
    "num_X_valid_data = X_scale.transform(num_X_valid)\n",
    "num_X_test_data = X_scale.transform(num_X_test)\n",
    "print(type(num_X_train_data))\n",
    "\n",
    "num_X_train_scale = pd.DataFrame(num_X_train_data)\n",
    "num_X_train_scale.columns = num_X_train.columns\n",
    "num_X_valid_scale = pd.DataFrame(num_X_valid_data)\n",
    "num_X_valid_scale.columns = num_X_valid.columns\n",
    "num_X_test_scale = pd.DataFrame(num_X_test_data)\n",
    "num_X_test_scale.columns = num_X_test.columns\n",
    "num_X_train_scale.index = num_X_train.index\n",
    "num_X_valid_scale.index = num_X_valid.index\n",
    "num_X_test_scale.index = num_X_test.index"
   ],
   "metadata": {
    "collapsed": false,
    "pycharm": {
     "name": "#%%\n"
    }
   }
  },
  {
   "cell_type": "code",
   "execution_count": null,
   "outputs": [],
   "source": [
    "# 检查是否有列中，数据集之间的值的种类有差异，防止编码transform出错，经检查没有bad\n",
    "good_label_cols = [col for col in object_cols if\n",
    "                   set(X_train[col]) == set(X_valid[col])]\n",
    "good_label_cols\n",
    "# Problematic columns that will be dropped from the dataset\n",
    "bad_label_cols = list(set(object_cols)-set(good_label_cols))\n",
    "bad_label_cols\n",
    "\n",
    "good_label_cols = [col for col in object_cols if\n",
    "                   set(X_train[col]) == set(X_test[col])]\n",
    "good_label_cols\n",
    "# Problematic columns that will be dropped from the dataset\n",
    "bad_label_cols = list(set(object_cols)-set(good_label_cols))\n",
    "bad_label_cols"
   ],
   "metadata": {
    "collapsed": false,
    "pycharm": {
     "name": "#%%\n"
    }
   }
  },
  {
   "cell_type": "code",
   "execution_count": null,
   "outputs": [],
   "source": [
    "# 文字特征\n",
    "cat_X_train = X_train[good_label_cols]\n",
    "cat_X_valid = X_valid[good_label_cols]\n",
    "cat_X_test = X_test[good_label_cols]\n",
    "cat_X_train"
   ],
   "metadata": {
    "collapsed": false,
    "pycharm": {
     "name": "#%%\n"
    }
   }
  },
  {
   "cell_type": "code",
   "execution_count": null,
   "outputs": [],
   "source": [
    "# 文字特征转换成数字特征\n",
    "labEncoder = LabelEncoder()\n",
    "for f in set(good_label_cols):\n",
    "    cat_X_train[f] = labEncoder.fit_transform(cat_X_train[f])\n",
    "    cat_X_valid[f] = labEncoder.transform(cat_X_valid[f])\n",
    "    cat_X_test[f] = labEncoder.transform(cat_X_test[f])\n",
    "cat_X_train"
   ],
   "metadata": {
    "collapsed": false,
    "pycharm": {
     "name": "#%%\n"
    }
   }
  },
  {
   "cell_type": "code",
   "execution_count": null,
   "outputs": [],
   "source": [
    "cat_X_train.index = X_train.index\n",
    "X_train_final = pd.concat([num_X_train_scale, cat_X_train], axis=1)\n",
    "X_train_final\n",
    "# for i in feature:\n",
    "#     sns.regplot(x=X_train_final[i],y=y_train)\n",
    "#     plt.show()\n",
    "\n",
    "cat_X_valid.index = X_valid.index\n",
    "X_valid_final = pd.concat([num_X_valid_scale, cat_X_valid], axis=1)\n",
    "\n",
    "cat_X_test.index = X_test.index\n",
    "cat_X_test\n",
    "X_test_final = pd.concat([num_X_test_scale, cat_X_test], axis=1)\n",
    "X_test_final"
   ],
   "metadata": {
    "collapsed": false,
    "pycharm": {
     "name": "#%%\n"
    }
   }
  },
  {
   "cell_type": "code",
   "execution_count": null,
   "outputs": [],
   "source": [
    "n = [25,50,100,200]\n",
    "r = [0.2,0.4,0.6,0.8,1]\n",
    "param = dict(n_estimators=n, learning_rate=r)\n",
    "\n",
    "model1 = AdaBoostRegressor(base_estimator=rf(n_estimators=100),n_estimators=100,learning_rate=1,random_state=1)\n",
    "model1.fit(X_train_final, y_train)\n",
    "# grid = GridSearchCV(model1,param,cv=10,scoring='neg_mean_squared_error')\n",
    "# grid.fit(X_train_final,y_train)\n",
    "# model1.fit(X_train_final, y_train)\n",
    "# cross_val_score(model1,X_train_final,y_train,cv=10,scoring='neg_mean_squared_error')\n",
    "\n",
    "# model = grid.best_estimator_\n",
    "y_pred_valid = model1.predict(X_valid_final)\n",
    "mean_absolute_error(y_pred_valid, y_valid)"
   ],
   "metadata": {
    "collapsed": false,
    "pycharm": {
     "name": "#%%\n"
    }
   }
  },
  {
   "cell_type": "code",
   "execution_count": null,
   "outputs": [],
   "source": [
    "y_pred_test = model1.predict(X_test_final)\n",
    "result = pd.DataFrame()\n",
    "result['id'] = X_test.index\n",
    "result['satisfaction_level'] = y_pred_test\n",
    "result.to_csv('lr_with_num_scale.csv',index=False)"
   ],
   "metadata": {
    "collapsed": false,
    "pycharm": {
     "name": "#%%\n"
    }
   }
  }
 ],
 "metadata": {
  "kernelspec": {
   "display_name": "Python 3",
   "language": "python",
   "name": "python3"
  },
  "language_info": {
   "codemirror_mode": {
    "name": "ipython",
    "version": 2
   },
   "file_extension": ".py",
   "mimetype": "text/x-python",
   "name": "python",
   "nbconvert_exporter": "python",
   "pygments_lexer": "ipython2",
   "version": "2.7.6"
  }
 },
 "nbformat": 4,
 "nbformat_minor": 0
}