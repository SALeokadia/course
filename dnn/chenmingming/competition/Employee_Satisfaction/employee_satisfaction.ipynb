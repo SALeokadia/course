{
 "cells": [
  {
   "cell_type": "code",
   "execution_count": 1,
   "metadata": {
    "collapsed": true
   },
   "outputs": [],
   "source": [
    "# -*- coding:utf-8 -*-\n",
    "# @Python Version: 3.7\n",
    "# @Time: 2020/5/16 21:10\n",
    "# @Author: Michael Ming\n",
    "# @Website: https://michael.blog.csdn.net/\n",
    "# @File: employee_satisfaction.ipynb\n",
    "# @Reference:"
   ]
  },
  {
   "cell_type": "code",
   "execution_count": 14,
   "outputs": [],
   "source": [
    "%matplotlib inline\n",
    "import numpy as np\n",
    "import matplotlib.pyplot as plt\n",
    "import os\n",
    "os.getcwd()\n",
    "plt.rcParams['figure.facecolor']=(1,1,1,1) # pycharm 绘图白底，看得清坐标\n",
    "import pandas as pd\n",
    "import seaborn as sns\n",
    "from sklearn import preprocessing\n",
    "from sklearn.linear_model import LinearRegression as lr\n",
    "from sklearn.ensemble import RandomForestRegressor as rf\n",
    "from sklearn.ensemble import AdaBoostRegressor\n",
    "from sklearn.model_selection import GridSearchCV\n",
    "from sklearn.model_selection import train_test_split,cross_val_score\n",
    "from sklearn.metrics import *\n",
    "from sklearn.preprocessing import OneHotEncoder,LabelEncoder,OrdinalEncoder"
   ],
   "metadata": {
    "collapsed": false,
    "pycharm": {
     "name": "#%%\n"
    }
   }
  },
  {
   "cell_type": "code",
   "execution_count": 15,
   "outputs": [
    {
     "ename": "FileNotFoundError",
     "evalue": "[Errno 2] File b'train.csv' does not exist: b'train.csv'",
     "output_type": "error",
     "traceback": [
      "\u001B[1;31m---------------------------------------------------------------------------\u001B[0m",
      "\u001B[1;31mFileNotFoundError\u001B[0m                         Traceback (most recent call last)",
      "\u001B[1;32m<ipython-input-15-faf77a91b50b>\u001B[0m in \u001B[0;36m<module>\u001B[1;34m\u001B[0m\n\u001B[0;32m      1\u001B[0m \u001B[1;31m# 读取数据\u001B[0m\u001B[1;33m\u001B[0m\u001B[1;33m\u001B[0m\u001B[1;33m\u001B[0m\u001B[0m\n\u001B[1;32m----> 2\u001B[1;33m \u001B[0mtr_data\u001B[0m \u001B[1;33m=\u001B[0m \u001B[0mpd\u001B[0m\u001B[1;33m.\u001B[0m\u001B[0mread_csv\u001B[0m\u001B[1;33m(\u001B[0m\u001B[1;34m\"train.csv\"\u001B[0m\u001B[1;33m,\u001B[0m\u001B[0mindex_col\u001B[0m\u001B[1;33m=\u001B[0m\u001B[1;34m'id'\u001B[0m\u001B[1;33m)\u001B[0m\u001B[1;33m\u001B[0m\u001B[1;33m\u001B[0m\u001B[0m\n\u001B[0m\u001B[0;32m      3\u001B[0m \u001B[0mX_test\u001B[0m \u001B[1;33m=\u001B[0m \u001B[0mpd\u001B[0m\u001B[1;33m.\u001B[0m\u001B[0mread_csv\u001B[0m\u001B[1;33m(\u001B[0m\u001B[1;34m\"test.csv\"\u001B[0m\u001B[1;33m,\u001B[0m\u001B[0mindex_col\u001B[0m\u001B[1;33m=\u001B[0m\u001B[1;34m'id'\u001B[0m\u001B[1;33m)\u001B[0m \u001B[1;31m# 不含标签\u001B[0m\u001B[1;33m\u001B[0m\u001B[1;33m\u001B[0m\u001B[0m\n\u001B[0;32m      4\u001B[0m \u001B[1;33m\u001B[0m\u001B[0m\n\u001B[0;32m      5\u001B[0m \u001B[0mtr_data\u001B[0m\u001B[1;33m.\u001B[0m\u001B[0mhead\u001B[0m\u001B[1;33m(\u001B[0m\u001B[1;36m10\u001B[0m\u001B[1;33m)\u001B[0m\u001B[1;33m\u001B[0m\u001B[1;33m\u001B[0m\u001B[0m\n",
      "\u001B[1;32m~\\AppData\\Roaming\\Python\\Python37\\site-packages\\pandas\\io\\parsers.py\u001B[0m in \u001B[0;36mparser_f\u001B[1;34m(filepath_or_buffer, sep, delimiter, header, names, index_col, usecols, squeeze, prefix, mangle_dupe_cols, dtype, engine, converters, true_values, false_values, skipinitialspace, skiprows, skipfooter, nrows, na_values, keep_default_na, na_filter, verbose, skip_blank_lines, parse_dates, infer_datetime_format, keep_date_col, date_parser, dayfirst, cache_dates, iterator, chunksize, compression, thousands, decimal, lineterminator, quotechar, quoting, doublequote, escapechar, comment, encoding, dialect, error_bad_lines, warn_bad_lines, delim_whitespace, low_memory, memory_map, float_precision)\u001B[0m\n\u001B[0;32m    683\u001B[0m         )\n\u001B[0;32m    684\u001B[0m \u001B[1;33m\u001B[0m\u001B[0m\n\u001B[1;32m--> 685\u001B[1;33m         \u001B[1;32mreturn\u001B[0m \u001B[0m_read\u001B[0m\u001B[1;33m(\u001B[0m\u001B[0mfilepath_or_buffer\u001B[0m\u001B[1;33m,\u001B[0m \u001B[0mkwds\u001B[0m\u001B[1;33m)\u001B[0m\u001B[1;33m\u001B[0m\u001B[1;33m\u001B[0m\u001B[0m\n\u001B[0m\u001B[0;32m    686\u001B[0m \u001B[1;33m\u001B[0m\u001B[0m\n\u001B[0;32m    687\u001B[0m     \u001B[0mparser_f\u001B[0m\u001B[1;33m.\u001B[0m\u001B[0m__name__\u001B[0m \u001B[1;33m=\u001B[0m \u001B[0mname\u001B[0m\u001B[1;33m\u001B[0m\u001B[1;33m\u001B[0m\u001B[0m\n",
      "\u001B[1;32m~\\AppData\\Roaming\\Python\\Python37\\site-packages\\pandas\\io\\parsers.py\u001B[0m in \u001B[0;36m_read\u001B[1;34m(filepath_or_buffer, kwds)\u001B[0m\n\u001B[0;32m    455\u001B[0m \u001B[1;33m\u001B[0m\u001B[0m\n\u001B[0;32m    456\u001B[0m     \u001B[1;31m# Create the parser.\u001B[0m\u001B[1;33m\u001B[0m\u001B[1;33m\u001B[0m\u001B[1;33m\u001B[0m\u001B[0m\n\u001B[1;32m--> 457\u001B[1;33m     \u001B[0mparser\u001B[0m \u001B[1;33m=\u001B[0m \u001B[0mTextFileReader\u001B[0m\u001B[1;33m(\u001B[0m\u001B[0mfp_or_buf\u001B[0m\u001B[1;33m,\u001B[0m \u001B[1;33m**\u001B[0m\u001B[0mkwds\u001B[0m\u001B[1;33m)\u001B[0m\u001B[1;33m\u001B[0m\u001B[1;33m\u001B[0m\u001B[0m\n\u001B[0m\u001B[0;32m    458\u001B[0m \u001B[1;33m\u001B[0m\u001B[0m\n\u001B[0;32m    459\u001B[0m     \u001B[1;32mif\u001B[0m \u001B[0mchunksize\u001B[0m \u001B[1;32mor\u001B[0m \u001B[0miterator\u001B[0m\u001B[1;33m:\u001B[0m\u001B[1;33m\u001B[0m\u001B[1;33m\u001B[0m\u001B[0m\n",
      "\u001B[1;32m~\\AppData\\Roaming\\Python\\Python37\\site-packages\\pandas\\io\\parsers.py\u001B[0m in \u001B[0;36m__init__\u001B[1;34m(self, f, engine, **kwds)\u001B[0m\n\u001B[0;32m    893\u001B[0m             \u001B[0mself\u001B[0m\u001B[1;33m.\u001B[0m\u001B[0moptions\u001B[0m\u001B[1;33m[\u001B[0m\u001B[1;34m\"has_index_names\"\u001B[0m\u001B[1;33m]\u001B[0m \u001B[1;33m=\u001B[0m \u001B[0mkwds\u001B[0m\u001B[1;33m[\u001B[0m\u001B[1;34m\"has_index_names\"\u001B[0m\u001B[1;33m]\u001B[0m\u001B[1;33m\u001B[0m\u001B[1;33m\u001B[0m\u001B[0m\n\u001B[0;32m    894\u001B[0m \u001B[1;33m\u001B[0m\u001B[0m\n\u001B[1;32m--> 895\u001B[1;33m         \u001B[0mself\u001B[0m\u001B[1;33m.\u001B[0m\u001B[0m_make_engine\u001B[0m\u001B[1;33m(\u001B[0m\u001B[0mself\u001B[0m\u001B[1;33m.\u001B[0m\u001B[0mengine\u001B[0m\u001B[1;33m)\u001B[0m\u001B[1;33m\u001B[0m\u001B[1;33m\u001B[0m\u001B[0m\n\u001B[0m\u001B[0;32m    896\u001B[0m \u001B[1;33m\u001B[0m\u001B[0m\n\u001B[0;32m    897\u001B[0m     \u001B[1;32mdef\u001B[0m \u001B[0mclose\u001B[0m\u001B[1;33m(\u001B[0m\u001B[0mself\u001B[0m\u001B[1;33m)\u001B[0m\u001B[1;33m:\u001B[0m\u001B[1;33m\u001B[0m\u001B[1;33m\u001B[0m\u001B[0m\n",
      "\u001B[1;32m~\\AppData\\Roaming\\Python\\Python37\\site-packages\\pandas\\io\\parsers.py\u001B[0m in \u001B[0;36m_make_engine\u001B[1;34m(self, engine)\u001B[0m\n\u001B[0;32m   1133\u001B[0m     \u001B[1;32mdef\u001B[0m \u001B[0m_make_engine\u001B[0m\u001B[1;33m(\u001B[0m\u001B[0mself\u001B[0m\u001B[1;33m,\u001B[0m \u001B[0mengine\u001B[0m\u001B[1;33m=\u001B[0m\u001B[1;34m\"c\"\u001B[0m\u001B[1;33m)\u001B[0m\u001B[1;33m:\u001B[0m\u001B[1;33m\u001B[0m\u001B[1;33m\u001B[0m\u001B[0m\n\u001B[0;32m   1134\u001B[0m         \u001B[1;32mif\u001B[0m \u001B[0mengine\u001B[0m \u001B[1;33m==\u001B[0m \u001B[1;34m\"c\"\u001B[0m\u001B[1;33m:\u001B[0m\u001B[1;33m\u001B[0m\u001B[1;33m\u001B[0m\u001B[0m\n\u001B[1;32m-> 1135\u001B[1;33m             \u001B[0mself\u001B[0m\u001B[1;33m.\u001B[0m\u001B[0m_engine\u001B[0m \u001B[1;33m=\u001B[0m \u001B[0mCParserWrapper\u001B[0m\u001B[1;33m(\u001B[0m\u001B[0mself\u001B[0m\u001B[1;33m.\u001B[0m\u001B[0mf\u001B[0m\u001B[1;33m,\u001B[0m \u001B[1;33m**\u001B[0m\u001B[0mself\u001B[0m\u001B[1;33m.\u001B[0m\u001B[0moptions\u001B[0m\u001B[1;33m)\u001B[0m\u001B[1;33m\u001B[0m\u001B[1;33m\u001B[0m\u001B[0m\n\u001B[0m\u001B[0;32m   1136\u001B[0m         \u001B[1;32melse\u001B[0m\u001B[1;33m:\u001B[0m\u001B[1;33m\u001B[0m\u001B[1;33m\u001B[0m\u001B[0m\n\u001B[0;32m   1137\u001B[0m             \u001B[1;32mif\u001B[0m \u001B[0mengine\u001B[0m \u001B[1;33m==\u001B[0m \u001B[1;34m\"python\"\u001B[0m\u001B[1;33m:\u001B[0m\u001B[1;33m\u001B[0m\u001B[1;33m\u001B[0m\u001B[0m\n",
      "\u001B[1;32m~\\AppData\\Roaming\\Python\\Python37\\site-packages\\pandas\\io\\parsers.py\u001B[0m in \u001B[0;36m__init__\u001B[1;34m(self, src, **kwds)\u001B[0m\n\u001B[0;32m   1915\u001B[0m         \u001B[0mkwds\u001B[0m\u001B[1;33m[\u001B[0m\u001B[1;34m\"usecols\"\u001B[0m\u001B[1;33m]\u001B[0m \u001B[1;33m=\u001B[0m \u001B[0mself\u001B[0m\u001B[1;33m.\u001B[0m\u001B[0musecols\u001B[0m\u001B[1;33m\u001B[0m\u001B[1;33m\u001B[0m\u001B[0m\n\u001B[0;32m   1916\u001B[0m \u001B[1;33m\u001B[0m\u001B[0m\n\u001B[1;32m-> 1917\u001B[1;33m         \u001B[0mself\u001B[0m\u001B[1;33m.\u001B[0m\u001B[0m_reader\u001B[0m \u001B[1;33m=\u001B[0m \u001B[0mparsers\u001B[0m\u001B[1;33m.\u001B[0m\u001B[0mTextReader\u001B[0m\u001B[1;33m(\u001B[0m\u001B[0msrc\u001B[0m\u001B[1;33m,\u001B[0m \u001B[1;33m**\u001B[0m\u001B[0mkwds\u001B[0m\u001B[1;33m)\u001B[0m\u001B[1;33m\u001B[0m\u001B[1;33m\u001B[0m\u001B[0m\n\u001B[0m\u001B[0;32m   1918\u001B[0m         \u001B[0mself\u001B[0m\u001B[1;33m.\u001B[0m\u001B[0munnamed_cols\u001B[0m \u001B[1;33m=\u001B[0m \u001B[0mself\u001B[0m\u001B[1;33m.\u001B[0m\u001B[0m_reader\u001B[0m\u001B[1;33m.\u001B[0m\u001B[0munnamed_cols\u001B[0m\u001B[1;33m\u001B[0m\u001B[1;33m\u001B[0m\u001B[0m\n\u001B[0;32m   1919\u001B[0m \u001B[1;33m\u001B[0m\u001B[0m\n",
      "\u001B[1;32mpandas\\_libs\\parsers.pyx\u001B[0m in \u001B[0;36mpandas._libs.parsers.TextReader.__cinit__\u001B[1;34m()\u001B[0m\n",
      "\u001B[1;32mpandas\\_libs\\parsers.pyx\u001B[0m in \u001B[0;36mpandas._libs.parsers.TextReader._setup_parser_source\u001B[1;34m()\u001B[0m\n",
      "\u001B[1;31mFileNotFoundError\u001B[0m: [Errno 2] File b'train.csv' does not exist: b'train.csv'"
     ]
    }
   ],
   "source": [
    "# 读取数据\n",
    "tr_data = pd.read_csv(\"train.csv\",index_col='id')\n",
    "X_test = pd.read_csv(\"test.csv\",index_col='id') # 不含标签\n",
    "\n",
    "tr_data.head(10)"
   ],
   "metadata": {
    "collapsed": false,
    "pycharm": {
     "name": "#%%\n"
    }
   }
  },
  {
   "cell_type": "code",
   "execution_count": 4,
   "outputs": [
    {
     "ename": "NameError",
     "evalue": "name 'tr_data' is not defined",
     "output_type": "error",
     "traceback": [
      "\u001B[1;31m---------------------------------------------------------------------------\u001B[0m",
      "\u001B[1;31mNameError\u001B[0m                                 Traceback (most recent call last)",
      "\u001B[1;32m<ipython-input-4-814acf91781e>\u001B[0m in \u001B[0;36m<module>\u001B[1;34m\u001B[0m\n\u001B[1;32m----> 1\u001B[1;33m \u001B[0mtr_data\u001B[0m\u001B[1;33m.\u001B[0m\u001B[0mcorr\u001B[0m\u001B[1;33m(\u001B[0m\u001B[1;33m)\u001B[0m\u001B[1;33m\u001B[0m\u001B[1;33m\u001B[0m\u001B[0m\n\u001B[0m\u001B[0;32m      2\u001B[0m \u001B[0msns\u001B[0m\u001B[1;33m.\u001B[0m\u001B[0mregplot\u001B[0m\u001B[1;33m(\u001B[0m\u001B[0mx\u001B[0m\u001B[1;33m=\u001B[0m\u001B[0mtr_data\u001B[0m\u001B[1;33m.\u001B[0m\u001B[0mindex\u001B[0m\u001B[1;33m,\u001B[0m \u001B[0my\u001B[0m\u001B[1;33m=\u001B[0m\u001B[0mtr_data\u001B[0m\u001B[1;33m[\u001B[0m\u001B[1;34m'satisfaction_level'\u001B[0m\u001B[1;33m]\u001B[0m\u001B[1;33m)\u001B[0m\u001B[1;33m\u001B[0m\u001B[1;33m\u001B[0m\u001B[0m\n\u001B[0;32m      3\u001B[0m \u001B[1;33m\u001B[0m\u001B[0m\n",
      "\u001B[1;31mNameError\u001B[0m: name 'tr_data' is not defined"
     ]
    }
   ],
   "source": [
    "tr_data.corr()\n",
    "sns.regplot(x=tr_data.index, y=tr_data['satisfaction_level'])"
   ],
   "metadata": {
    "collapsed": false,
    "pycharm": {
     "name": "#%%\n"
    }
   }
  },
  {
   "cell_type": "code",
   "execution_count": 16,
   "outputs": [
    {
     "name": "stdout",
     "output_type": "stream",
     "text": [
      "Index(['last_evaluation', 'number_project', 'average_monthly_hours',\n",
      "       'time_spend_company', 'Work_accident', 'package',\n",
      "       'promotion_last_5years', 'division', 'salary'],\n",
      "      dtype='object')\n",
      "['package', 'division', 'salary']\n"
     ]
    },
    {
     "data": {
      "text/plain": "array([0.774, 0.419, 0.955, 0.864, 0.395, 0.788, 0.888, 0.57 , 0.775,\n       0.967, 0.106, 0.096, 0.215, 0.601, 0.912, 0.25 , 0.373, 0.852,\n       0.957, 0.878, 0.662, 0.362, 0.522, 0.865, 0.434, 0.315, 0.84 ,\n       0.621, 0.353, 0.611, 0.435, 0.756, 0.367, 0.717, 0.646, 0.777,\n       0.115, 0.668, 0.453, 0.37 , 0.083, 0.824, 0.11 , 0.797, 0.78 ,\n       0.119, 0.38 , 0.616, 0.629, 0.234, 0.465, 0.677, 0.55 , 0.374,\n       0.826, 0.936, 0.697, 0.85 , 0.976, 0.421, 0.09 , 0.099, 0.952,\n       0.531, 0.849, 0.431, 0.226, 0.901, 0.603, 0.605, 0.786, 0.839,\n       0.416, 0.813, 0.82 , 0.459, 0.44 , 0.236, 0.499, 0.763, 0.661,\n       0.75 , 0.733, 0.637, 0.73 , 0.844, 0.178, 0.517, 0.571, 0.449,\n       0.933, 0.898, 0.685, 0.58 , 0.138, 0.897, 0.969, 0.368, 0.889,\n       0.456, 0.168, 0.954, 0.764, 0.575, 0.893, 0.673, 0.672, 0.739,\n       0.653, 0.842, 0.394, 0.903, 0.867, 0.652, 0.087, 0.701, 0.109,\n       0.838, 0.594, 0.989, 0.705, 0.485, 0.682, 0.123, 0.961, 0.102,\n       0.479, 0.097, 0.679, 0.947, 0.429, 0.825, 0.791, 0.687, 0.751,\n       0.289, 0.823, 0.906, 0.561, 0.757, 0.841, 0.724, 0.432, 0.567,\n       0.963, 0.568, 0.787, 0.507, 0.204, 0.729, 0.112, 0.651, 0.934,\n       0.516, 0.758, 0.891, 0.782, 0.094, 0.356, 0.848, 0.261, 0.526,\n       0.798, 0.846, 0.347, 0.45 , 0.974, 0.359, 0.529, 0.498, 0.543,\n       0.306, 0.33 , 0.586, 0.818, 0.595, 0.648, 0.489, 0.407, 0.734,\n       0.207, 0.932, 0.398, 0.909, 0.718, 0.365, 0.678, 0.776, 0.615,\n       0.599, 0.702, 0.491, 0.562, 0.749, 0.503, 0.153, 0.383, 0.868,\n       0.565, 0.436, 0.709, 0.564, 0.827, 0.99 , 0.484, 0.328, 0.999,\n       0.51 , 0.111, 0.108, 0.879, 0.732, 0.874, 0.399, 0.699, 0.67 ,\n       0.843, 0.105, 0.799, 0.609, 0.907, 0.189, 0.476, 0.634, 0.177,\n       0.916, 0.94 , 0.462, 0.487, 0.688, 0.206, 0.117, 0.46 , 0.534,\n       0.855, 0.535, 0.851, 0.554, 0.366, 0.853, 0.093, 0.158, 0.589,\n       0.958, 0.103, 0.817, 0.857, 0.943, 0.095, 0.592, 0.472, 0.719,\n       0.583, 0.738, 0.754, 0.608, 0.577, 0.163, 0.654, 0.597, 0.549,\n       0.746, 0.87 , 0.104, 0.424, 0.312, 0.345, 0.951, 0.579, 0.519,\n       0.563, 0.602, 0.107, 0.509, 0.962, 0.445, 0.451, 0.726, 0.414,\n       0.753, 0.884, 0.946, 0.862, 0.334, 0.617, 0.547, 0.481, 0.74 ,\n       0.836, 0.721, 0.808, 0.202, 0.639, 0.935, 0.092, 0.83 , 0.525,\n       0.881, 0.626, 0.953, 0.89 , 0.801, 0.42 , 0.618, 0.872, 0.442,\n       0.781, 0.406, 0.552, 0.638, 0.321, 0.966, 0.904, 0.581, 0.329,\n       0.779, 0.695, 0.369, 0.948, 0.876, 0.224, 0.501, 0.635, 0.572,\n       0.956, 0.613, 0.59 , 0.752, 0.642, 0.793, 0.873, 0.229, 0.98 ,\n       0.723, 0.448, 0.624, 0.381, 0.796, 0.931, 0.922, 0.364, 0.378,\n       0.704, 0.63 , 0.998, 0.698, 0.441, 0.622, 0.736, 0.625, 0.542,\n       0.232, 0.783, 0.871, 0.588, 0.228, 0.208, 0.644, 0.425, 0.408,\n       0.527, 0.149, 0.939, 0.175, 0.69 , 0.401, 0.619, 0.184, 0.95 ,\n       0.114, 0.632, 0.735, 0.994, 0.101, 0.415, 0.663, 0.656, 0.859,\n       0.928, 0.821, 0.937, 0.183, 0.915, 0.322, 0.486, 0.944, 0.377,\n       0.666, 0.645, 0.725, 0.805, 0.4  , 0.255, 0.664, 0.186, 0.834,\n       0.665, 0.691, 0.8  , 0.471, 0.731, 0.118, 0.91 , 0.926, 0.761,\n       0.607, 0.566, 0.43 , 0.689, 0.885, 0.847, 0.361, 0.866, 0.693,\n       0.856, 0.452, 0.338, 0.532, 0.902, 0.483, 0.921, 0.545, 0.587,\n       0.468, 0.667, 0.863, 0.975, 0.173, 0.971, 0.767, 0.743, 0.875,\n       0.423, 0.744, 0.728, 0.121, 0.892, 0.991, 0.861, 0.191, 0.924,\n       0.247, 0.997, 0.692, 0.694, 0.148, 0.882, 0.986, 0.789, 0.576,\n       0.497, 0.402, 0.785, 0.548, 0.574, 0.92 , 0.36 , 0.382, 0.582,\n       1.   , 0.727, 0.593, 0.784, 0.518, 0.533, 0.886, 0.443, 0.113,\n       0.681, 0.97 , 0.854, 0.13 , 0.386, 0.911, 0.355, 0.505, 0.171,\n       0.703, 0.264, 0.995, 0.555, 0.845, 0.352, 0.627, 0.988, 0.194,\n       0.124, 0.426, 0.72 , 0.713, 0.551, 0.762, 0.604, 0.706, 0.213,\n       0.56 , 0.806, 0.54 , 0.379, 0.151, 0.927, 0.318, 0.223, 0.772,\n       0.578, 0.174, 0.716, 0.591, 0.585, 0.68 , 0.461, 0.807, 0.745,\n       0.896, 0.647, 0.832, 0.569, 0.488, 0.76 , 0.773, 0.411, 0.536,\n       0.804, 0.929, 0.475, 0.768, 0.968, 0.972, 0.305, 0.631, 0.748,\n       0.883, 0.225, 0.437, 0.62 , 0.596, 0.388, 0.371, 0.696, 0.319,\n       0.392, 0.17 , 0.88 , 0.79 , 0.712, 0.819, 0.741, 0.86 , 0.53 ,\n       0.769, 0.993, 0.771, 0.291, 0.433, 0.598, 0.412, 0.614, 0.755,\n       0.502, 0.19 , 0.428, 0.643, 0.446, 0.478, 0.941, 0.521, 0.546,\n       0.914, 0.128, 0.822, 0.463, 0.091, 0.711, 0.539, 0.214, 0.835,\n       0.376, 0.556, 0.127, 0.511, 0.657, 0.385, 0.169, 0.496, 0.913,\n       0.559, 0.895, 0.47 , 0.792, 0.296, 0.659, 0.342, 0.156, 0.9  ,\n       0.984, 0.304, 0.538, 0.391, 0.528, 0.15 , 0.506, 0.803, 0.302,\n       0.144, 0.129, 0.942, 0.965, 0.573, 0.212, 0.098, 0.372, 0.418,\n       0.959, 0.918, 0.277, 0.512, 0.858, 0.837, 0.405, 0.357, 0.482,\n       0.628, 0.457, 0.179, 0.676, 0.116, 0.161, 0.145, 0.396, 0.49 ,\n       0.544, 0.439, 0.12 , 0.259, 0.21 , 0.877, 0.23 , 0.1  , 0.869,\n       0.28 , 0.996, 0.816, 0.636, 0.235, 0.815, 0.828, 0.524, 0.125,\n       0.612, 0.389, 0.978, 0.714, 0.606, 0.243, 0.427, 0.674, 0.298,\n       0.275, 0.422, 0.747, 0.737, 0.894, 0.274, 0.39 , 0.514, 0.495,\n       0.985, 0.086, 0.166, 0.417, 0.375, 0.683, 0.182, 0.473, 0.5  ,\n       0.623, 0.945, 0.759, 0.814, 0.176, 0.923, 0.187, 0.6  , 0.205,\n       0.66 , 0.133, 0.833, 0.48 , 0.492, 0.742, 0.444, 0.973, 0.919,\n       0.979, 0.641, 0.294, 0.553, 0.351, 0.938, 0.192, 0.404, 0.811,\n       0.707, 0.722, 0.794, 0.41 , 0.198, 0.135, 0.172, 0.089, 0.477,\n       0.311, 0.14 , 0.354, 0.336, 0.77 , 0.137, 0.3  , 0.802, 0.201,\n       0.766, 0.908, 0.558, 0.218, 0.982, 0.61 , 0.249, 0.977, 0.812,\n       0.384, 0.316, 0.088, 0.238, 0.282, 0.633, 0.393, 0.52 , 0.141,\n       0.221, 0.155, 0.655, 0.447, 0.778, 0.992, 0.313, 0.18 , 0.16 ,\n       0.237, 0.925, 0.27 , 0.684, 0.267, 0.333, 0.199, 0.64 , 0.513,\n       0.981, 0.079, 0.2  , 0.286, 0.494, 0.829, 0.65 , 0.403, 0.397,\n       0.307, 0.317, 0.181, 0.335, 0.708, 0.409, 0.244, 0.93 , 0.658,\n       0.515, 0.795, 0.493, 0.349, 0.252, 0.136, 0.831, 0.504, 0.917,\n       0.438, 0.167, 0.649, 0.358, 0.193, 0.557, 0.332, 0.584, 0.7  ,\n       0.669, 0.164, 0.523, 0.96 , 0.195, 0.134, 0.887, 0.983, 0.675,\n       0.147, 0.899, 0.343, 0.239, 0.126, 0.809, 0.159, 0.203, 0.288,\n       0.454, 0.327, 0.295, 0.273, 0.537, 0.24 , 0.323, 0.309, 0.765,\n       0.71 , 0.219, 0.196, 0.949, 0.344, 0.157, 0.324, 0.297, 0.162,\n       0.508, 0.279, 0.32 , 0.154, 0.715, 0.325, 0.905, 0.81 , 0.242,\n       0.301, 0.185, 0.217, 0.265, 0.131, 0.245, 0.222, 0.413, 0.258,\n       0.146, 0.197, 0.331, 0.246, 0.085, 0.326, 0.686, 0.671, 0.248,\n       0.31 , 0.303, 0.458, 0.541, 0.142, 0.299, 0.152, 0.964, 0.082,\n       0.233, 0.314, 0.466, 0.287, 0.216, 0.262, 0.339, 0.363, 0.139,\n       0.464, 0.143, 0.281, 0.165, 0.469, 0.257, 0.292, 0.271, 0.084,\n       0.081, 0.455, 0.188, 0.22 , 0.211, 0.132, 0.293, 0.266, 0.341,\n       0.987, 0.231, 0.227, 0.348, 0.308, 0.387, 0.283, 0.474, 0.272,\n       0.346, 0.276, 0.122, 0.34 , 0.078])"
     },
     "execution_count": 16,
     "metadata": {},
     "output_type": "execute_result"
    }
   ],
   "source": [
    "X = tr_data.drop(['satisfaction_level'], axis=1)\n",
    "y = tr_data['satisfaction_level']\n",
    "X_train, X_valid, y_train, y_valid = train_test_split(X, y,test_size=0.2,random_state=1)\n",
    "X_train\n",
    "feature = X_train.columns\n",
    "print(feature)\n",
    "s = (X_train.dtypes == 'object')\n",
    "object_cols = list(s[s].index)\n",
    "print(object_cols)\n",
    "y_train\n",
    "# 查看标签值，是一系列的浮点数\n",
    "pd.unique(y_train)\n",
    "\n"
   ],
   "metadata": {
    "collapsed": false,
    "pycharm": {
     "name": "#%%\n"
    }
   }
  },
  {
   "cell_type": "code",
   "execution_count": 17,
   "outputs": [
    {
     "name": "stdout",
     "output_type": "stream",
     "text": [
      "(9599, 6)\n",
      "<class 'numpy.ndarray'>\n"
     ]
    }
   ],
   "source": [
    "# 数字特征\n",
    "num_X_train = X_train.drop(object_cols, axis=1)\n",
    "num_X_valid = X_valid.drop(object_cols, axis=1)\n",
    "num_X_test = X_test.drop(object_cols, axis=1)\n",
    "\n",
    "X_scale = preprocessing.StandardScaler()\n",
    "X_scale.fit_transform(num_X_train)\n",
    "print(num_X_train.shape)\n",
    "num_X_train_data = X_scale.fit_transform(num_X_train)\n",
    "num_X_valid_data = X_scale.transform(num_X_valid)\n",
    "num_X_test_data = X_scale.transform(num_X_test)\n",
    "print(type(num_X_train_data))\n",
    "\n",
    "num_X_train_scale = pd.DataFrame(num_X_train_data)\n",
    "num_X_train_scale.columns = num_X_train.columns\n",
    "num_X_valid_scale = pd.DataFrame(num_X_valid_data)\n",
    "num_X_valid_scale.columns = num_X_valid.columns\n",
    "num_X_test_scale = pd.DataFrame(num_X_test_data)\n",
    "num_X_test_scale.columns = num_X_test.columns\n",
    "num_X_train_scale.index = num_X_train.index\n",
    "num_X_valid_scale.index = num_X_valid.index\n",
    "num_X_test_scale.index = num_X_test.index"
   ],
   "metadata": {
    "collapsed": false,
    "pycharm": {
     "name": "#%%\n"
    }
   }
  },
  {
   "cell_type": "code",
   "execution_count": 18,
   "outputs": [
    {
     "data": {
      "text/plain": "[]"
     },
     "execution_count": 18,
     "metadata": {},
     "output_type": "execute_result"
    }
   ],
   "source": [
    "# 检查是否有列中，数据集之间的值的种类有差异，防止编码transform出错，经检查没有bad\n",
    "good_label_cols = [col for col in object_cols if\n",
    "                   set(X_train[col]) == set(X_valid[col])]\n",
    "good_label_cols\n",
    "# Problematic columns that will be dropped from the dataset\n",
    "bad_label_cols = list(set(object_cols)-set(good_label_cols))\n",
    "bad_label_cols\n",
    "\n",
    "good_label_cols = [col for col in object_cols if\n",
    "                   set(X_train[col]) == set(X_test[col])]\n",
    "good_label_cols\n",
    "# Problematic columns that will be dropped from the dataset\n",
    "bad_label_cols = list(set(object_cols)-set(good_label_cols))\n",
    "bad_label_cols"
   ],
   "metadata": {
    "collapsed": false,
    "pycharm": {
     "name": "#%%\n"
    }
   }
  },
  {
   "cell_type": "code",
   "execution_count": 19,
   "outputs": [
    {
     "data": {
      "text/plain": "      package    division  salary\nid                               \n10824       a          IT  medium\n1325        d  accounting  medium\n12866       a     support     low\n13239       a       sales     low\n1423        d     support     low\n...       ...         ...     ...\n796         d          hr     low\n3456        c       sales  medium\n2075        c       sales     low\n13851       e   technical    high\n9293        c   technical  medium\n\n[9599 rows x 3 columns]",
      "text/html": "<div>\n<style scoped>\n    .dataframe tbody tr th:only-of-type {\n        vertical-align: middle;\n    }\n\n    .dataframe tbody tr th {\n        vertical-align: top;\n    }\n\n    .dataframe thead th {\n        text-align: right;\n    }\n</style>\n<table border=\"1\" class=\"dataframe\">\n  <thead>\n    <tr style=\"text-align: right;\">\n      <th></th>\n      <th>package</th>\n      <th>division</th>\n      <th>salary</th>\n    </tr>\n    <tr>\n      <th>id</th>\n      <th></th>\n      <th></th>\n      <th></th>\n    </tr>\n  </thead>\n  <tbody>\n    <tr>\n      <td>10824</td>\n      <td>a</td>\n      <td>IT</td>\n      <td>medium</td>\n    </tr>\n    <tr>\n      <td>1325</td>\n      <td>d</td>\n      <td>accounting</td>\n      <td>medium</td>\n    </tr>\n    <tr>\n      <td>12866</td>\n      <td>a</td>\n      <td>support</td>\n      <td>low</td>\n    </tr>\n    <tr>\n      <td>13239</td>\n      <td>a</td>\n      <td>sales</td>\n      <td>low</td>\n    </tr>\n    <tr>\n      <td>1423</td>\n      <td>d</td>\n      <td>support</td>\n      <td>low</td>\n    </tr>\n    <tr>\n      <td>...</td>\n      <td>...</td>\n      <td>...</td>\n      <td>...</td>\n    </tr>\n    <tr>\n      <td>796</td>\n      <td>d</td>\n      <td>hr</td>\n      <td>low</td>\n    </tr>\n    <tr>\n      <td>3456</td>\n      <td>c</td>\n      <td>sales</td>\n      <td>medium</td>\n    </tr>\n    <tr>\n      <td>2075</td>\n      <td>c</td>\n      <td>sales</td>\n      <td>low</td>\n    </tr>\n    <tr>\n      <td>13851</td>\n      <td>e</td>\n      <td>technical</td>\n      <td>high</td>\n    </tr>\n    <tr>\n      <td>9293</td>\n      <td>c</td>\n      <td>technical</td>\n      <td>medium</td>\n    </tr>\n  </tbody>\n</table>\n<p>9599 rows × 3 columns</p>\n</div>"
     },
     "execution_count": 19,
     "metadata": {},
     "output_type": "execute_result"
    }
   ],
   "source": [
    "# 文字特征\n",
    "cat_X_train = X_train[good_label_cols]\n",
    "cat_X_valid = X_valid[good_label_cols]\n",
    "cat_X_test = X_test[good_label_cols]\n",
    "cat_X_train"
   ],
   "metadata": {
    "collapsed": false,
    "pycharm": {
     "name": "#%%\n"
    }
   }
  },
  {
   "cell_type": "code",
   "execution_count": 20,
   "outputs": [
    {
     "name": "stderr",
     "output_type": "stream",
     "text": [
      "c:\\program files\\python37\\lib\\site-packages\\ipykernel_launcher.py:4: SettingWithCopyWarning: \n",
      "A value is trying to be set on a copy of a slice from a DataFrame.\n",
      "Try using .loc[row_indexer,col_indexer] = value instead\n",
      "\n",
      "See the caveats in the documentation: http://pandas.pydata.org/pandas-docs/stable/user_guide/indexing.html#returning-a-view-versus-a-copy\n",
      "  after removing the cwd from sys.path.\n",
      "c:\\program files\\python37\\lib\\site-packages\\ipykernel_launcher.py:5: SettingWithCopyWarning: \n",
      "A value is trying to be set on a copy of a slice from a DataFrame.\n",
      "Try using .loc[row_indexer,col_indexer] = value instead\n",
      "\n",
      "See the caveats in the documentation: http://pandas.pydata.org/pandas-docs/stable/user_guide/indexing.html#returning-a-view-versus-a-copy\n",
      "  \"\"\"\n",
      "c:\\program files\\python37\\lib\\site-packages\\ipykernel_launcher.py:6: SettingWithCopyWarning: \n",
      "A value is trying to be set on a copy of a slice from a DataFrame.\n",
      "Try using .loc[row_indexer,col_indexer] = value instead\n",
      "\n",
      "See the caveats in the documentation: http://pandas.pydata.org/pandas-docs/stable/user_guide/indexing.html#returning-a-view-versus-a-copy\n",
      "  \n"
     ]
    },
    {
     "data": {
      "text/plain": "       package  division  salary\nid                              \n10824        0         0       2\n1325         3         2       2\n12866        0         8       1\n13239        0         7       1\n1423         3         8       1\n...        ...       ...     ...\n796          3         3       1\n3456         2         7       2\n2075         2         7       1\n13851        4         9       0\n9293         2         9       2\n\n[9599 rows x 3 columns]",
      "text/html": "<div>\n<style scoped>\n    .dataframe tbody tr th:only-of-type {\n        vertical-align: middle;\n    }\n\n    .dataframe tbody tr th {\n        vertical-align: top;\n    }\n\n    .dataframe thead th {\n        text-align: right;\n    }\n</style>\n<table border=\"1\" class=\"dataframe\">\n  <thead>\n    <tr style=\"text-align: right;\">\n      <th></th>\n      <th>package</th>\n      <th>division</th>\n      <th>salary</th>\n    </tr>\n    <tr>\n      <th>id</th>\n      <th></th>\n      <th></th>\n      <th></th>\n    </tr>\n  </thead>\n  <tbody>\n    <tr>\n      <td>10824</td>\n      <td>0</td>\n      <td>0</td>\n      <td>2</td>\n    </tr>\n    <tr>\n      <td>1325</td>\n      <td>3</td>\n      <td>2</td>\n      <td>2</td>\n    </tr>\n    <tr>\n      <td>12866</td>\n      <td>0</td>\n      <td>8</td>\n      <td>1</td>\n    </tr>\n    <tr>\n      <td>13239</td>\n      <td>0</td>\n      <td>7</td>\n      <td>1</td>\n    </tr>\n    <tr>\n      <td>1423</td>\n      <td>3</td>\n      <td>8</td>\n      <td>1</td>\n    </tr>\n    <tr>\n      <td>...</td>\n      <td>...</td>\n      <td>...</td>\n      <td>...</td>\n    </tr>\n    <tr>\n      <td>796</td>\n      <td>3</td>\n      <td>3</td>\n      <td>1</td>\n    </tr>\n    <tr>\n      <td>3456</td>\n      <td>2</td>\n      <td>7</td>\n      <td>2</td>\n    </tr>\n    <tr>\n      <td>2075</td>\n      <td>2</td>\n      <td>7</td>\n      <td>1</td>\n    </tr>\n    <tr>\n      <td>13851</td>\n      <td>4</td>\n      <td>9</td>\n      <td>0</td>\n    </tr>\n    <tr>\n      <td>9293</td>\n      <td>2</td>\n      <td>9</td>\n      <td>2</td>\n    </tr>\n  </tbody>\n</table>\n<p>9599 rows × 3 columns</p>\n</div>"
     },
     "execution_count": 20,
     "metadata": {},
     "output_type": "execute_result"
    }
   ],
   "source": [
    "# 文字特征转换成数字特征\n",
    "labEncoder = LabelEncoder()\n",
    "for f in set(good_label_cols):\n",
    "    cat_X_train[f] = labEncoder.fit_transform(cat_X_train[f])\n",
    "    cat_X_valid[f] = labEncoder.transform(cat_X_valid[f])\n",
    "    cat_X_test[f] = labEncoder.transform(cat_X_test[f])\n",
    "cat_X_train"
   ],
   "metadata": {
    "collapsed": false,
    "pycharm": {
     "name": "#%%\n"
    }
   }
  },
  {
   "cell_type": "code",
   "execution_count": 21,
   "outputs": [
    {
     "data": {
      "text/plain": "       last_evaluation  number_project  average_monthly_hours  \\\nid                                                              \n4615          0.370951        0.165847               1.172045   \n1680          1.424829        2.605016               1.465941   \n8866         -0.858573        0.165847               0.101836   \n7525          1.014987        0.978903              -1.031880   \n5389          1.249182       -0.647209              -1.221601   \n...                ...             ...                    ...   \n8434         -1.561158       -0.647209              -1.388483   \n14013         0.078207        0.165847               0.872739   \n10221         0.195305        0.165847               0.815242   \n12847        -0.097439       -0.647209               0.667392   \n12036        -1.502609       -1.460266              -1.302537   \n\n       time_spend_company  Work_accident  promotion_last_5years  package  \\\nid                                                                         \n4615            -1.022386       -0.40924              -0.146616        4   \n1680             1.022315       -0.40924              -0.146616        1   \n8866             1.022315       -0.40924              -0.146616        4   \n7525             0.340748       -0.40924              -0.146616        2   \n5389            -1.022386       -0.40924              -0.146616        4   \n...                   ...            ...                    ...      ...   \n8434            -1.022386       -0.40924              -0.146616        2   \n14013           -1.022386       -0.40924              -0.146616        0   \n10221            0.340748       -0.40924              -0.146616        0   \n12847            0.340748       -0.40924              -0.146616        2   \n12036           -0.340819       -0.40924              -0.146616        1   \n\n       division  salary  \nid                       \n4615          9       2  \n1680          5       1  \n8866          7       1  \n7525          9       2  \n5389          8       2  \n...         ...     ...  \n8434          9       1  \n14013         7       1  \n10221         6       1  \n12847         2       0  \n12036         9       1  \n\n[3000 rows x 9 columns]",
      "text/html": "<div>\n<style scoped>\n    .dataframe tbody tr th:only-of-type {\n        vertical-align: middle;\n    }\n\n    .dataframe tbody tr th {\n        vertical-align: top;\n    }\n\n    .dataframe thead th {\n        text-align: right;\n    }\n</style>\n<table border=\"1\" class=\"dataframe\">\n  <thead>\n    <tr style=\"text-align: right;\">\n      <th></th>\n      <th>last_evaluation</th>\n      <th>number_project</th>\n      <th>average_monthly_hours</th>\n      <th>time_spend_company</th>\n      <th>Work_accident</th>\n      <th>promotion_last_5years</th>\n      <th>package</th>\n      <th>division</th>\n      <th>salary</th>\n    </tr>\n    <tr>\n      <th>id</th>\n      <th></th>\n      <th></th>\n      <th></th>\n      <th></th>\n      <th></th>\n      <th></th>\n      <th></th>\n      <th></th>\n      <th></th>\n    </tr>\n  </thead>\n  <tbody>\n    <tr>\n      <td>4615</td>\n      <td>0.370951</td>\n      <td>0.165847</td>\n      <td>1.172045</td>\n      <td>-1.022386</td>\n      <td>-0.40924</td>\n      <td>-0.146616</td>\n      <td>4</td>\n      <td>9</td>\n      <td>2</td>\n    </tr>\n    <tr>\n      <td>1680</td>\n      <td>1.424829</td>\n      <td>2.605016</td>\n      <td>1.465941</td>\n      <td>1.022315</td>\n      <td>-0.40924</td>\n      <td>-0.146616</td>\n      <td>1</td>\n      <td>5</td>\n      <td>1</td>\n    </tr>\n    <tr>\n      <td>8866</td>\n      <td>-0.858573</td>\n      <td>0.165847</td>\n      <td>0.101836</td>\n      <td>1.022315</td>\n      <td>-0.40924</td>\n      <td>-0.146616</td>\n      <td>4</td>\n      <td>7</td>\n      <td>1</td>\n    </tr>\n    <tr>\n      <td>7525</td>\n      <td>1.014987</td>\n      <td>0.978903</td>\n      <td>-1.031880</td>\n      <td>0.340748</td>\n      <td>-0.40924</td>\n      <td>-0.146616</td>\n      <td>2</td>\n      <td>9</td>\n      <td>2</td>\n    </tr>\n    <tr>\n      <td>5389</td>\n      <td>1.249182</td>\n      <td>-0.647209</td>\n      <td>-1.221601</td>\n      <td>-1.022386</td>\n      <td>-0.40924</td>\n      <td>-0.146616</td>\n      <td>4</td>\n      <td>8</td>\n      <td>2</td>\n    </tr>\n    <tr>\n      <td>...</td>\n      <td>...</td>\n      <td>...</td>\n      <td>...</td>\n      <td>...</td>\n      <td>...</td>\n      <td>...</td>\n      <td>...</td>\n      <td>...</td>\n      <td>...</td>\n    </tr>\n    <tr>\n      <td>8434</td>\n      <td>-1.561158</td>\n      <td>-0.647209</td>\n      <td>-1.388483</td>\n      <td>-1.022386</td>\n      <td>-0.40924</td>\n      <td>-0.146616</td>\n      <td>2</td>\n      <td>9</td>\n      <td>1</td>\n    </tr>\n    <tr>\n      <td>14013</td>\n      <td>0.078207</td>\n      <td>0.165847</td>\n      <td>0.872739</td>\n      <td>-1.022386</td>\n      <td>-0.40924</td>\n      <td>-0.146616</td>\n      <td>0</td>\n      <td>7</td>\n      <td>1</td>\n    </tr>\n    <tr>\n      <td>10221</td>\n      <td>0.195305</td>\n      <td>0.165847</td>\n      <td>0.815242</td>\n      <td>0.340748</td>\n      <td>-0.40924</td>\n      <td>-0.146616</td>\n      <td>0</td>\n      <td>6</td>\n      <td>1</td>\n    </tr>\n    <tr>\n      <td>12847</td>\n      <td>-0.097439</td>\n      <td>-0.647209</td>\n      <td>0.667392</td>\n      <td>0.340748</td>\n      <td>-0.40924</td>\n      <td>-0.146616</td>\n      <td>2</td>\n      <td>2</td>\n      <td>0</td>\n    </tr>\n    <tr>\n      <td>12036</td>\n      <td>-1.502609</td>\n      <td>-1.460266</td>\n      <td>-1.302537</td>\n      <td>-0.340819</td>\n      <td>-0.40924</td>\n      <td>-0.146616</td>\n      <td>1</td>\n      <td>9</td>\n      <td>1</td>\n    </tr>\n  </tbody>\n</table>\n<p>3000 rows × 9 columns</p>\n</div>"
     },
     "execution_count": 21,
     "metadata": {},
     "output_type": "execute_result"
    }
   ],
   "source": [
    "cat_X_train.index = X_train.index\n",
    "X_train_final = pd.concat([num_X_train_scale, cat_X_train], axis=1)\n",
    "X_train_final\n",
    "# for i in feature:\n",
    "#     sns.regplot(x=X_train_final[i],y=y_train)\n",
    "#     plt.show()\n",
    "\n",
    "cat_X_valid.index = X_valid.index\n",
    "X_valid_final = pd.concat([num_X_valid_scale, cat_X_valid], axis=1)\n",
    "\n",
    "cat_X_test.index = X_test.index\n",
    "cat_X_test\n",
    "X_test_final = pd.concat([num_X_test_scale, cat_X_test], axis=1)\n",
    "X_test_final"
   ],
   "metadata": {
    "collapsed": false,
    "pycharm": {
     "name": "#%%\n"
    }
   }
  },
  {
   "cell_type": "code",
   "execution_count": 22,
   "outputs": [
    {
     "data": {
      "text/plain": "0.13823714370027398"
     },
     "execution_count": 22,
     "metadata": {},
     "output_type": "execute_result"
    }
   ],
   "source": [
    "n = [25,50,100,200]\n",
    "r = [0.2,0.4,0.6,0.8,1]\n",
    "param = dict(n_estimators=n, learning_rate=r)\n",
    "\n",
    "model1 = AdaBoostRegressor(base_estimator=rf(n_estimators=100),n_estimators=100,learning_rate=1,random_state=1)\n",
    "model1.fit(X_train_final, y_train)\n",
    "# grid = GridSearchCV(model1,param,cv=10,scoring='neg_mean_squared_error')\n",
    "# grid.fit(X_train_final,y_train)\n",
    "# model1.fit(X_train_final, y_train)\n",
    "# cross_val_score(model1,X_train_final,y_train,cv=10,scoring='neg_mean_squared_error')\n",
    "\n",
    "# model = grid.best_estimator_\n",
    "y_pred_valid = model1.predict(X_valid_final)\n",
    "mean_absolute_error(y_pred_valid, y_valid)"
   ],
   "metadata": {
    "collapsed": false,
    "pycharm": {
     "name": "#%%\n"
    }
   }
  },
  {
   "cell_type": "code",
   "execution_count": 24,
   "outputs": [],
   "source": [
    "y_pred_test = model1.predict(X_test_final)\n",
    "result = pd.DataFrame()\n",
    "result['id'] = X_test.index\n",
    "result['satisfaction_level'] = y_pred_test\n",
    "result.to_csv('lr_with_num_scale.csv',index=False)"
   ],
   "metadata": {
    "collapsed": false,
    "pycharm": {
     "name": "#%%\n"
    }
   }
  }
 ],
 "metadata": {
  "kernelspec": {
   "display_name": "Python 3",
   "language": "python",
   "name": "python3"
  },
  "language_info": {
   "codemirror_mode": {
    "name": "ipython",
    "version": 2
   },
   "file_extension": ".py",
   "mimetype": "text/x-python",
   "name": "python",
   "nbconvert_exporter": "python",
   "pygments_lexer": "ipython2",
   "version": "2.7.6"
  }
 },
 "nbformat": 4,
 "nbformat_minor": 0
}