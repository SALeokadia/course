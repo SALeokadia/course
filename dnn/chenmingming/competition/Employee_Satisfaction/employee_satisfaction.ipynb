{
 "cells": [
  {
   "cell_type": "code",
   "execution_count": 1,
   "metadata": {
    "collapsed": true
   },
   "outputs": [],
   "source": [
    "# -*- coding:utf-8 -*-\n",
    "# @Python Version: 3.7\n",
    "# @Time: 2020/5/16 21:10\n",
    "# @Author: Michael Ming\n",
    "# @Website: https://michael.blog.csdn.net/\n",
    "# @File: employee_satisfaction.ipynb\n",
    "# @Reference:"
   ]
  },
  {
   "cell_type": "code",
   "execution_count": 2,
   "outputs": [],
   "source": [
    "%matplotlib inline\n",
    "import numpy as np\n",
    "import matplotlib.pyplot as plt\n",
    "import pandas as pd\n",
    "import seaborn as sns\n",
    "from sklearn import preprocessing\n",
    "from sklearn.linear_model import LinearRegression as lr\n",
    "from sklearn.model_selection import train_test_split,cross_val_score\n",
    "from sklearn.metrics import *\n",
    "from sklearn.preprocessing import OneHotEncoder,LabelEncoder,OrdinalEncoder"
   ],
   "metadata": {
    "collapsed": false,
    "pycharm": {
     "name": "#%%\n"
    }
   }
  },
  {
   "cell_type": "code",
   "execution_count": 3,
   "outputs": [
    {
     "data": {
      "text/plain": "      id  last_evaluation  number_project  average_monthly_hours  \\\n0  13697             0.99               3                 161.39   \n1   1142             1.00               5                 226.22   \n2   7954             0.91               5                 199.45   \n3   2225             0.51               3                 235.14   \n4   9753             0.89               3                 219.91   \n5   8661             0.75               4                 258.68   \n6  10963             0.59               4                 149.19   \n7   2761             0.85               3                 146.21   \n8  14839             0.85               5                 244.16   \n9  14009             0.43               3                 146.57   \n\n   time_spend_company  Work_accident package  promotion_last_5years  \\\n0                   2              0       a                      0   \n1                   6              0       b                      0   \n2                   2              0       e                      0   \n3                   3              0       c                      0   \n4                   2              0       a                      0   \n5                   3              1       a                      0   \n6                   3              0       c                      0   \n7                   3              0       a                      0   \n8                   6              0       d                      0   \n9                   4              0       e                      1   \n\n     division  salary  satisfaction_level  \n0  accounting  medium               0.681  \n1   marketing     low               0.876  \n2       sales  medium               0.955  \n3       sales     low               0.817  \n4   technical     low               0.920  \n5   technical     low               0.490  \n6     support     low               0.597  \n7       sales  medium               0.629  \n8       sales     low               0.713  \n9       sales  medium               0.612  ",
      "text/html": "<div>\n<style scoped>\n    .dataframe tbody tr th:only-of-type {\n        vertical-align: middle;\n    }\n\n    .dataframe tbody tr th {\n        vertical-align: top;\n    }\n\n    .dataframe thead th {\n        text-align: right;\n    }\n</style>\n<table border=\"1\" class=\"dataframe\">\n  <thead>\n    <tr style=\"text-align: right;\">\n      <th></th>\n      <th>id</th>\n      <th>last_evaluation</th>\n      <th>number_project</th>\n      <th>average_monthly_hours</th>\n      <th>time_spend_company</th>\n      <th>Work_accident</th>\n      <th>package</th>\n      <th>promotion_last_5years</th>\n      <th>division</th>\n      <th>salary</th>\n      <th>satisfaction_level</th>\n    </tr>\n  </thead>\n  <tbody>\n    <tr>\n      <td>0</td>\n      <td>13697</td>\n      <td>0.99</td>\n      <td>3</td>\n      <td>161.39</td>\n      <td>2</td>\n      <td>0</td>\n      <td>a</td>\n      <td>0</td>\n      <td>accounting</td>\n      <td>medium</td>\n      <td>0.681</td>\n    </tr>\n    <tr>\n      <td>1</td>\n      <td>1142</td>\n      <td>1.00</td>\n      <td>5</td>\n      <td>226.22</td>\n      <td>6</td>\n      <td>0</td>\n      <td>b</td>\n      <td>0</td>\n      <td>marketing</td>\n      <td>low</td>\n      <td>0.876</td>\n    </tr>\n    <tr>\n      <td>2</td>\n      <td>7954</td>\n      <td>0.91</td>\n      <td>5</td>\n      <td>199.45</td>\n      <td>2</td>\n      <td>0</td>\n      <td>e</td>\n      <td>0</td>\n      <td>sales</td>\n      <td>medium</td>\n      <td>0.955</td>\n    </tr>\n    <tr>\n      <td>3</td>\n      <td>2225</td>\n      <td>0.51</td>\n      <td>3</td>\n      <td>235.14</td>\n      <td>3</td>\n      <td>0</td>\n      <td>c</td>\n      <td>0</td>\n      <td>sales</td>\n      <td>low</td>\n      <td>0.817</td>\n    </tr>\n    <tr>\n      <td>4</td>\n      <td>9753</td>\n      <td>0.89</td>\n      <td>3</td>\n      <td>219.91</td>\n      <td>2</td>\n      <td>0</td>\n      <td>a</td>\n      <td>0</td>\n      <td>technical</td>\n      <td>low</td>\n      <td>0.920</td>\n    </tr>\n    <tr>\n      <td>5</td>\n      <td>8661</td>\n      <td>0.75</td>\n      <td>4</td>\n      <td>258.68</td>\n      <td>3</td>\n      <td>1</td>\n      <td>a</td>\n      <td>0</td>\n      <td>technical</td>\n      <td>low</td>\n      <td>0.490</td>\n    </tr>\n    <tr>\n      <td>6</td>\n      <td>10963</td>\n      <td>0.59</td>\n      <td>4</td>\n      <td>149.19</td>\n      <td>3</td>\n      <td>0</td>\n      <td>c</td>\n      <td>0</td>\n      <td>support</td>\n      <td>low</td>\n      <td>0.597</td>\n    </tr>\n    <tr>\n      <td>7</td>\n      <td>2761</td>\n      <td>0.85</td>\n      <td>3</td>\n      <td>146.21</td>\n      <td>3</td>\n      <td>0</td>\n      <td>a</td>\n      <td>0</td>\n      <td>sales</td>\n      <td>medium</td>\n      <td>0.629</td>\n    </tr>\n    <tr>\n      <td>8</td>\n      <td>14839</td>\n      <td>0.85</td>\n      <td>5</td>\n      <td>244.16</td>\n      <td>6</td>\n      <td>0</td>\n      <td>d</td>\n      <td>0</td>\n      <td>sales</td>\n      <td>low</td>\n      <td>0.713</td>\n    </tr>\n    <tr>\n      <td>9</td>\n      <td>14009</td>\n      <td>0.43</td>\n      <td>3</td>\n      <td>146.57</td>\n      <td>4</td>\n      <td>0</td>\n      <td>e</td>\n      <td>1</td>\n      <td>sales</td>\n      <td>medium</td>\n      <td>0.612</td>\n    </tr>\n  </tbody>\n</table>\n</div>"
     },
     "execution_count": 3,
     "metadata": {},
     "output_type": "execute_result"
    }
   ],
   "source": [
    "# 读取数据\n",
    "tr_data = pd.read_csv(\"train.csv\")\n",
    "X_test = pd.read_csv(\"test.csv\") # 不含标签\n",
    "\n",
    "tr_data.head(10)"
   ],
   "metadata": {
    "collapsed": false,
    "pycharm": {
     "name": "#%%\n"
    }
   }
  },
  {
   "cell_type": "code",
   "execution_count": 4,
   "outputs": [
    {
     "data": {
      "text/plain": "                             id  last_evaluation  number_project  \\\nid                     1.000000        -0.013648       -0.012102   \nlast_evaluation       -0.013648         1.000000        0.347152   \nnumber_project        -0.012102         0.347152        1.000000   \naverage_monthly_hours -0.007090         0.342323        0.419395   \ntime_spend_company     0.143734         0.129223        0.201111   \nWork_accident          0.024166        -0.005648       -0.002945   \npromotion_last_5years  0.081827        -0.007048       -0.010292   \nsatisfaction_level     0.049497         0.103578       -0.140529   \n\n                       average_monthly_hours  time_spend_company  \\\nid                                 -0.007090            0.143734   \nlast_evaluation                     0.342323            0.129223   \nnumber_project                      0.419395            0.201111   \naverage_monthly_hours               1.000000            0.136228   \ntime_spend_company                  0.136228            1.000000   \nWork_accident                      -0.012860            0.001208   \npromotion_last_5years              -0.012579            0.059848   \nsatisfaction_level                 -0.022989           -0.102777   \n\n                       Work_accident  promotion_last_5years  \\\nid                          0.024166               0.081827   \nlast_evaluation            -0.005648              -0.007048   \nnumber_project             -0.002945              -0.010292   \naverage_monthly_hours      -0.012860              -0.012579   \ntime_spend_company          0.001208               0.059848   \nWork_accident               1.000000               0.043554   \npromotion_last_5years       0.043554               1.000000   \nsatisfaction_level          0.059632               0.025748   \n\n                       satisfaction_level  \nid                               0.049497  \nlast_evaluation                  0.103578  \nnumber_project                  -0.140529  \naverage_monthly_hours           -0.022989  \ntime_spend_company              -0.102777  \nWork_accident                    0.059632  \npromotion_last_5years            0.025748  \nsatisfaction_level               1.000000  ",
      "text/html": "<div>\n<style scoped>\n    .dataframe tbody tr th:only-of-type {\n        vertical-align: middle;\n    }\n\n    .dataframe tbody tr th {\n        vertical-align: top;\n    }\n\n    .dataframe thead th {\n        text-align: right;\n    }\n</style>\n<table border=\"1\" class=\"dataframe\">\n  <thead>\n    <tr style=\"text-align: right;\">\n      <th></th>\n      <th>id</th>\n      <th>last_evaluation</th>\n      <th>number_project</th>\n      <th>average_monthly_hours</th>\n      <th>time_spend_company</th>\n      <th>Work_accident</th>\n      <th>promotion_last_5years</th>\n      <th>satisfaction_level</th>\n    </tr>\n  </thead>\n  <tbody>\n    <tr>\n      <td>id</td>\n      <td>1.000000</td>\n      <td>-0.013648</td>\n      <td>-0.012102</td>\n      <td>-0.007090</td>\n      <td>0.143734</td>\n      <td>0.024166</td>\n      <td>0.081827</td>\n      <td>0.049497</td>\n    </tr>\n    <tr>\n      <td>last_evaluation</td>\n      <td>-0.013648</td>\n      <td>1.000000</td>\n      <td>0.347152</td>\n      <td>0.342323</td>\n      <td>0.129223</td>\n      <td>-0.005648</td>\n      <td>-0.007048</td>\n      <td>0.103578</td>\n    </tr>\n    <tr>\n      <td>number_project</td>\n      <td>-0.012102</td>\n      <td>0.347152</td>\n      <td>1.000000</td>\n      <td>0.419395</td>\n      <td>0.201111</td>\n      <td>-0.002945</td>\n      <td>-0.010292</td>\n      <td>-0.140529</td>\n    </tr>\n    <tr>\n      <td>average_monthly_hours</td>\n      <td>-0.007090</td>\n      <td>0.342323</td>\n      <td>0.419395</td>\n      <td>1.000000</td>\n      <td>0.136228</td>\n      <td>-0.012860</td>\n      <td>-0.012579</td>\n      <td>-0.022989</td>\n    </tr>\n    <tr>\n      <td>time_spend_company</td>\n      <td>0.143734</td>\n      <td>0.129223</td>\n      <td>0.201111</td>\n      <td>0.136228</td>\n      <td>1.000000</td>\n      <td>0.001208</td>\n      <td>0.059848</td>\n      <td>-0.102777</td>\n    </tr>\n    <tr>\n      <td>Work_accident</td>\n      <td>0.024166</td>\n      <td>-0.005648</td>\n      <td>-0.002945</td>\n      <td>-0.012860</td>\n      <td>0.001208</td>\n      <td>1.000000</td>\n      <td>0.043554</td>\n      <td>0.059632</td>\n    </tr>\n    <tr>\n      <td>promotion_last_5years</td>\n      <td>0.081827</td>\n      <td>-0.007048</td>\n      <td>-0.010292</td>\n      <td>-0.012579</td>\n      <td>0.059848</td>\n      <td>0.043554</td>\n      <td>1.000000</td>\n      <td>0.025748</td>\n    </tr>\n    <tr>\n      <td>satisfaction_level</td>\n      <td>0.049497</td>\n      <td>0.103578</td>\n      <td>-0.140529</td>\n      <td>-0.022989</td>\n      <td>-0.102777</td>\n      <td>0.059632</td>\n      <td>0.025748</td>\n      <td>1.000000</td>\n    </tr>\n  </tbody>\n</table>\n</div>"
     },
     "execution_count": 4,
     "metadata": {},
     "output_type": "execute_result"
    }
   ],
   "source": [
    "tr_data.corr()"
   ],
   "metadata": {
    "collapsed": false,
    "pycharm": {
     "name": "#%%\n"
    }
   }
  },
  {
   "cell_type": "code",
   "execution_count": 5,
   "outputs": [
    {
     "name": "stdout",
     "output_type": "stream",
     "text": [
      "Index(['id', 'last_evaluation', 'number_project', 'average_monthly_hours',\n",
      "       'time_spend_company', 'Work_accident', 'package',\n",
      "       'promotion_last_5years', 'division', 'salary'],\n",
      "      dtype='object')\n",
      "['package', 'division', 'salary']\n"
     ]
    },
    {
     "data": {
      "text/plain": "array([0.774, 0.419, 0.955, 0.864, 0.395, 0.788, 0.888, 0.57 , 0.775,\n       0.967, 0.106, 0.096, 0.215, 0.601, 0.912, 0.25 , 0.373, 0.852,\n       0.957, 0.878, 0.662, 0.362, 0.522, 0.865, 0.434, 0.315, 0.84 ,\n       0.621, 0.353, 0.611, 0.435, 0.756, 0.367, 0.717, 0.646, 0.777,\n       0.115, 0.668, 0.453, 0.37 , 0.083, 0.824, 0.11 , 0.797, 0.78 ,\n       0.119, 0.38 , 0.616, 0.629, 0.234, 0.465, 0.677, 0.55 , 0.374,\n       0.826, 0.936, 0.697, 0.85 , 0.976, 0.421, 0.09 , 0.099, 0.952,\n       0.531, 0.849, 0.431, 0.226, 0.901, 0.603, 0.605, 0.786, 0.839,\n       0.416, 0.813, 0.82 , 0.459, 0.44 , 0.236, 0.499, 0.763, 0.661,\n       0.75 , 0.733, 0.637, 0.73 , 0.844, 0.178, 0.517, 0.571, 0.449,\n       0.933, 0.898, 0.685, 0.58 , 0.138, 0.897, 0.969, 0.368, 0.889,\n       0.456, 0.168, 0.954, 0.764, 0.575, 0.893, 0.673, 0.672, 0.739,\n       0.653, 0.842, 0.394, 0.903, 0.867, 0.652, 0.087, 0.701, 0.109,\n       0.838, 0.594, 0.989, 0.705, 0.485, 0.682, 0.123, 0.961, 0.102,\n       0.479, 0.097, 0.679, 0.947, 0.429, 0.825, 0.791, 0.687, 0.751,\n       0.289, 0.823, 0.906, 0.561, 0.757, 0.841, 0.724, 0.432, 0.567,\n       0.963, 0.568, 0.787, 0.507, 0.204, 0.729, 0.112, 0.651, 0.934,\n       0.516, 0.758, 0.891, 0.782, 0.094, 0.356, 0.848, 0.261, 0.526,\n       0.798, 0.846, 0.347, 0.45 , 0.974, 0.359, 0.529, 0.498, 0.543,\n       0.306, 0.33 , 0.586, 0.818, 0.595, 0.648, 0.489, 0.407, 0.734,\n       0.207, 0.932, 0.398, 0.909, 0.718, 0.365, 0.678, 0.776, 0.615,\n       0.599, 0.702, 0.491, 0.562, 0.749, 0.503, 0.153, 0.383, 0.868,\n       0.565, 0.436, 0.709, 0.564, 0.827, 0.99 , 0.484, 0.328, 0.999,\n       0.51 , 0.111, 0.108, 0.879, 0.732, 0.874, 0.399, 0.699, 0.67 ,\n       0.843, 0.105, 0.799, 0.609, 0.907, 0.189, 0.476, 0.634, 0.177,\n       0.916, 0.94 , 0.462, 0.487, 0.688, 0.206, 0.117, 0.46 , 0.534,\n       0.855, 0.535, 0.851, 0.554, 0.366, 0.853, 0.093, 0.158, 0.589,\n       0.958, 0.103, 0.817, 0.857, 0.943, 0.095, 0.592, 0.472, 0.719,\n       0.583, 0.738, 0.754, 0.608, 0.577, 0.163, 0.654, 0.597, 0.549,\n       0.746, 0.87 , 0.104, 0.424, 0.312, 0.345, 0.951, 0.579, 0.519,\n       0.563, 0.602, 0.107, 0.509, 0.962, 0.445, 0.451, 0.726, 0.414,\n       0.753, 0.884, 0.946, 0.862, 0.334, 0.617, 0.547, 0.481, 0.74 ,\n       0.836, 0.721, 0.808, 0.202, 0.639, 0.935, 0.092, 0.83 , 0.525,\n       0.881, 0.626, 0.953, 0.89 , 0.801, 0.42 , 0.618, 0.872, 0.442,\n       0.781, 0.406, 0.552, 0.638, 0.321, 0.966, 0.904, 0.581, 0.329,\n       0.779, 0.695, 0.369, 0.948, 0.876, 0.224, 0.501, 0.635, 0.572,\n       0.956, 0.613, 0.59 , 0.752, 0.642, 0.793, 0.873, 0.229, 0.98 ,\n       0.723, 0.448, 0.624, 0.381, 0.796, 0.931, 0.922, 0.364, 0.378,\n       0.704, 0.63 , 0.998, 0.698, 0.441, 0.622, 0.736, 0.625, 0.542,\n       0.232, 0.783, 0.871, 0.588, 0.228, 0.208, 0.644, 0.425, 0.408,\n       0.527, 0.149, 0.939, 0.175, 0.69 , 0.401, 0.619, 0.184, 0.95 ,\n       0.114, 0.632, 0.735, 0.994, 0.101, 0.415, 0.663, 0.656, 0.859,\n       0.928, 0.821, 0.937, 0.183, 0.915, 0.322, 0.486, 0.944, 0.377,\n       0.666, 0.645, 0.725, 0.805, 0.4  , 0.255, 0.664, 0.186, 0.834,\n       0.665, 0.691, 0.8  , 0.471, 0.731, 0.118, 0.91 , 0.926, 0.761,\n       0.607, 0.566, 0.43 , 0.689, 0.885, 0.847, 0.361, 0.866, 0.693,\n       0.856, 0.452, 0.338, 0.532, 0.902, 0.483, 0.921, 0.545, 0.587,\n       0.468, 0.667, 0.863, 0.975, 0.173, 0.971, 0.767, 0.743, 0.875,\n       0.423, 0.744, 0.728, 0.121, 0.892, 0.991, 0.861, 0.191, 0.924,\n       0.247, 0.997, 0.692, 0.694, 0.148, 0.882, 0.986, 0.789, 0.576,\n       0.497, 0.402, 0.785, 0.548, 0.574, 0.92 , 0.36 , 0.382, 0.582,\n       1.   , 0.727, 0.593, 0.784, 0.518, 0.533, 0.886, 0.443, 0.113,\n       0.681, 0.97 , 0.854, 0.13 , 0.386, 0.911, 0.355, 0.505, 0.171,\n       0.703, 0.264, 0.995, 0.555, 0.845, 0.352, 0.627, 0.988, 0.194,\n       0.124, 0.426, 0.72 , 0.713, 0.551, 0.762, 0.604, 0.706, 0.213,\n       0.56 , 0.806, 0.54 , 0.379, 0.151, 0.927, 0.318, 0.223, 0.772,\n       0.578, 0.174, 0.716, 0.591, 0.585, 0.68 , 0.461, 0.807, 0.745,\n       0.896, 0.647, 0.832, 0.569, 0.488, 0.76 , 0.773, 0.411, 0.536,\n       0.804, 0.929, 0.475, 0.768, 0.968, 0.972, 0.305, 0.631, 0.748,\n       0.883, 0.225, 0.437, 0.62 , 0.596, 0.388, 0.371, 0.696, 0.319,\n       0.392, 0.17 , 0.88 , 0.79 , 0.712, 0.819, 0.741, 0.86 , 0.53 ,\n       0.769, 0.993, 0.771, 0.291, 0.433, 0.598, 0.412, 0.614, 0.755,\n       0.502, 0.19 , 0.428, 0.643, 0.446, 0.478, 0.941, 0.521, 0.546,\n       0.914, 0.128, 0.822, 0.463, 0.091, 0.711, 0.539, 0.214, 0.835,\n       0.376, 0.556, 0.127, 0.511, 0.657, 0.385, 0.169, 0.496, 0.913,\n       0.559, 0.895, 0.47 , 0.792, 0.296, 0.659, 0.342, 0.156, 0.9  ,\n       0.984, 0.304, 0.538, 0.391, 0.528, 0.15 , 0.506, 0.803, 0.302,\n       0.144, 0.129, 0.942, 0.965, 0.573, 0.212, 0.098, 0.372, 0.418,\n       0.959, 0.918, 0.277, 0.512, 0.858, 0.837, 0.405, 0.357, 0.482,\n       0.628, 0.457, 0.179, 0.676, 0.116, 0.161, 0.145, 0.396, 0.49 ,\n       0.544, 0.439, 0.12 , 0.259, 0.21 , 0.877, 0.23 , 0.1  , 0.869,\n       0.28 , 0.996, 0.816, 0.636, 0.235, 0.815, 0.828, 0.524, 0.125,\n       0.612, 0.389, 0.978, 0.714, 0.606, 0.243, 0.427, 0.674, 0.298,\n       0.275, 0.422, 0.747, 0.737, 0.894, 0.274, 0.39 , 0.514, 0.495,\n       0.985, 0.086, 0.166, 0.417, 0.375, 0.683, 0.182, 0.473, 0.5  ,\n       0.623, 0.945, 0.759, 0.814, 0.176, 0.923, 0.187, 0.6  , 0.205,\n       0.66 , 0.133, 0.833, 0.48 , 0.492, 0.742, 0.444, 0.973, 0.919,\n       0.979, 0.641, 0.294, 0.553, 0.351, 0.938, 0.192, 0.404, 0.811,\n       0.707, 0.722, 0.794, 0.41 , 0.198, 0.135, 0.172, 0.089, 0.477,\n       0.311, 0.14 , 0.354, 0.336, 0.77 , 0.137, 0.3  , 0.802, 0.201,\n       0.766, 0.908, 0.558, 0.218, 0.982, 0.61 , 0.249, 0.977, 0.812,\n       0.384, 0.316, 0.088, 0.238, 0.282, 0.633, 0.393, 0.52 , 0.141,\n       0.221, 0.155, 0.655, 0.447, 0.778, 0.992, 0.313, 0.18 , 0.16 ,\n       0.237, 0.925, 0.27 , 0.684, 0.267, 0.333, 0.199, 0.64 , 0.513,\n       0.981, 0.079, 0.2  , 0.286, 0.494, 0.829, 0.65 , 0.403, 0.397,\n       0.307, 0.317, 0.181, 0.335, 0.708, 0.409, 0.244, 0.93 , 0.658,\n       0.515, 0.795, 0.493, 0.349, 0.252, 0.136, 0.831, 0.504, 0.917,\n       0.438, 0.167, 0.649, 0.358, 0.193, 0.557, 0.332, 0.584, 0.7  ,\n       0.669, 0.164, 0.523, 0.96 , 0.195, 0.134, 0.887, 0.983, 0.675,\n       0.147, 0.899, 0.343, 0.239, 0.126, 0.809, 0.159, 0.203, 0.288,\n       0.454, 0.327, 0.295, 0.273, 0.537, 0.24 , 0.323, 0.309, 0.765,\n       0.71 , 0.219, 0.196, 0.949, 0.344, 0.157, 0.324, 0.297, 0.162,\n       0.508, 0.279, 0.32 , 0.154, 0.715, 0.325, 0.905, 0.81 , 0.242,\n       0.301, 0.185, 0.217, 0.265, 0.131, 0.245, 0.222, 0.413, 0.258,\n       0.146, 0.197, 0.331, 0.246, 0.085, 0.326, 0.686, 0.671, 0.248,\n       0.31 , 0.303, 0.458, 0.541, 0.142, 0.299, 0.152, 0.964, 0.082,\n       0.233, 0.314, 0.466, 0.287, 0.216, 0.262, 0.339, 0.363, 0.139,\n       0.464, 0.143, 0.281, 0.165, 0.469, 0.257, 0.292, 0.271, 0.084,\n       0.081, 0.455, 0.188, 0.22 , 0.211, 0.132, 0.293, 0.266, 0.341,\n       0.987, 0.231, 0.227, 0.348, 0.308, 0.387, 0.283, 0.474, 0.272,\n       0.346, 0.276, 0.122, 0.34 , 0.078])"
     },
     "execution_count": 5,
     "metadata": {},
     "output_type": "execute_result"
    }
   ],
   "source": [
    "X = tr_data.drop(['satisfaction_level'], axis=1)\n",
    "y = tr_data['satisfaction_level']\n",
    "X_train, X_valid, y_train, y_valid = train_test_split(X, y,test_size=0.2,random_state=1)\n",
    "X_train\n",
    "feature = X_train.columns\n",
    "print(feature)\n",
    "s = (X_train.dtypes == 'object')\n",
    "object_cols = list(s[s].index)\n",
    "print(object_cols)\n",
    "y_train\n",
    "# 查看标签值，是一系列的浮点数\n",
    "pd.unique(y_train)\n",
    "\n",
    "# for i in feature:\n",
    "#     sns.regplot(x=X_train[i],y=y_train)\n",
    "#     plt.show()"
   ],
   "metadata": {
    "collapsed": false,
    "pycharm": {
     "name": "#%%\n"
    }
   }
  },
  {
   "cell_type": "code",
   "execution_count": 19,
   "outputs": [
    {
     "name": "stdout",
     "output_type": "stream",
     "text": [
      "(9599, 7)\n"
     ]
    },
    {
     "data": {
      "text/plain": "            id  last_evaluation  number_project  average_monthly_hours  \\\n0     0.768420        -1.268414       -0.647209              -1.201366   \n1    -1.430221        -1.092768       -1.460266              -1.393892   \n2     1.241062         0.780792        0.978903              -0.660853   \n3     1.327397         0.839341        0.978903              -0.601553   \n4    -1.407538        -1.326963       -1.460266              -1.126640   \n...        ...              ...             ...                    ...   \n9594 -1.552664        -1.268414       -1.460266              -1.015653   \n9595 -0.936979         0.897890        0.978903               1.331113   \n9596 -1.256626        -1.444060        0.165847              -1.918578   \n9597  1.469051        -1.151316       -0.647209              -0.244149   \n9598  0.414055        -0.038890        0.165847              -0.822326   \n\n      time_spend_company  Work_accident  promotion_last_5years  \n0              -0.340819      -0.409240              -0.146616  \n1              -0.340819      -0.409240              -0.146616  \n2              -1.022386      -0.409240              -0.146616  \n3              -1.022386      -0.409240              -0.146616  \n4              -0.340819      -0.409240              -0.146616  \n...                  ...            ...                    ...  \n9594           -0.340819      -0.409240              -0.146616  \n9595            1.022315      -0.409240              -0.146616  \n9596           -0.340819      -0.409240              -0.146616  \n9597           -0.340819      -0.409240              -0.146616  \n9598           -1.022386       2.443553              -0.146616  \n\n[9599 rows x 7 columns]",
      "text/html": "<div>\n<style scoped>\n    .dataframe tbody tr th:only-of-type {\n        vertical-align: middle;\n    }\n\n    .dataframe tbody tr th {\n        vertical-align: top;\n    }\n\n    .dataframe thead th {\n        text-align: right;\n    }\n</style>\n<table border=\"1\" class=\"dataframe\">\n  <thead>\n    <tr style=\"text-align: right;\">\n      <th></th>\n      <th>id</th>\n      <th>last_evaluation</th>\n      <th>number_project</th>\n      <th>average_monthly_hours</th>\n      <th>time_spend_company</th>\n      <th>Work_accident</th>\n      <th>promotion_last_5years</th>\n    </tr>\n  </thead>\n  <tbody>\n    <tr>\n      <td>0</td>\n      <td>0.768420</td>\n      <td>-1.268414</td>\n      <td>-0.647209</td>\n      <td>-1.201366</td>\n      <td>-0.340819</td>\n      <td>-0.409240</td>\n      <td>-0.146616</td>\n    </tr>\n    <tr>\n      <td>1</td>\n      <td>-1.430221</td>\n      <td>-1.092768</td>\n      <td>-1.460266</td>\n      <td>-1.393892</td>\n      <td>-0.340819</td>\n      <td>-0.409240</td>\n      <td>-0.146616</td>\n    </tr>\n    <tr>\n      <td>2</td>\n      <td>1.241062</td>\n      <td>0.780792</td>\n      <td>0.978903</td>\n      <td>-0.660853</td>\n      <td>-1.022386</td>\n      <td>-0.409240</td>\n      <td>-0.146616</td>\n    </tr>\n    <tr>\n      <td>3</td>\n      <td>1.327397</td>\n      <td>0.839341</td>\n      <td>0.978903</td>\n      <td>-0.601553</td>\n      <td>-1.022386</td>\n      <td>-0.409240</td>\n      <td>-0.146616</td>\n    </tr>\n    <tr>\n      <td>4</td>\n      <td>-1.407538</td>\n      <td>-1.326963</td>\n      <td>-1.460266</td>\n      <td>-1.126640</td>\n      <td>-0.340819</td>\n      <td>-0.409240</td>\n      <td>-0.146616</td>\n    </tr>\n    <tr>\n      <td>...</td>\n      <td>...</td>\n      <td>...</td>\n      <td>...</td>\n      <td>...</td>\n      <td>...</td>\n      <td>...</td>\n      <td>...</td>\n    </tr>\n    <tr>\n      <td>9594</td>\n      <td>-1.552664</td>\n      <td>-1.268414</td>\n      <td>-1.460266</td>\n      <td>-1.015653</td>\n      <td>-0.340819</td>\n      <td>-0.409240</td>\n      <td>-0.146616</td>\n    </tr>\n    <tr>\n      <td>9595</td>\n      <td>-0.936979</td>\n      <td>0.897890</td>\n      <td>0.978903</td>\n      <td>1.331113</td>\n      <td>1.022315</td>\n      <td>-0.409240</td>\n      <td>-0.146616</td>\n    </tr>\n    <tr>\n      <td>9596</td>\n      <td>-1.256626</td>\n      <td>-1.444060</td>\n      <td>0.165847</td>\n      <td>-1.918578</td>\n      <td>-0.340819</td>\n      <td>-0.409240</td>\n      <td>-0.146616</td>\n    </tr>\n    <tr>\n      <td>9597</td>\n      <td>1.469051</td>\n      <td>-1.151316</td>\n      <td>-0.647209</td>\n      <td>-0.244149</td>\n      <td>-0.340819</td>\n      <td>-0.409240</td>\n      <td>-0.146616</td>\n    </tr>\n    <tr>\n      <td>9598</td>\n      <td>0.414055</td>\n      <td>-0.038890</td>\n      <td>0.165847</td>\n      <td>-0.822326</td>\n      <td>-1.022386</td>\n      <td>2.443553</td>\n      <td>-0.146616</td>\n    </tr>\n  </tbody>\n</table>\n<p>9599 rows × 7 columns</p>\n</div>"
     },
     "execution_count": 19,
     "metadata": {},
     "output_type": "execute_result"
    }
   ],
   "source": [
    "# 数字特征\n",
    "num_X_train = X_train.drop(object_cols, axis=1)\n",
    "num_X_valid = X_valid.drop(object_cols, axis=1)\n",
    "num_X_test = X_test.drop(object_cols, axis=1)\n",
    "\n",
    "# for f in num_X_train.columns:\n",
    "#     X_scale = preprocessing.StandardScaler()\n",
    "#     X_scale.fit_transform(np.array(num_X_train[f])\n",
    "#     # print(num_X_train[f].shape())\n",
    "#     # num_X_train[f] = X_scale.fit_transform(num_X_train[f])\n",
    "#     # num_X_valid[f] = X_scale.transform(num_X_valid[f])\n",
    "#     # num_X_test[f] = X_scale.transform(num_X_test[f])\n",
    "\n",
    "X_scale = preprocessing.StandardScaler()\n",
    "X_scale.fit_transform(num_X_train)\n",
    "print(num_X_train.shape)\n",
    "num_X_train_data = X_scale.fit_transform(num_X_train)\n",
    "num_X_valid_data = X_scale.transform(num_X_valid)\n",
    "num_X_test_data = X_scale.transform(num_X_test)\n",
    "\n",
    "num_X_train_scale = pd.DataFrame(num_X_train_data)\n",
    "num_X_train_scale.columns = num_X_train.columns\n",
    "num_X_valid_scale = pd.DataFrame(num_X_valid_data)\n",
    "num_X_valid_scale.columns = num_X_valid.columns\n",
    "num_X_test_scale = pd.DataFrame(num_X_test_data)\n",
    "num_X_test_scale.columns = num_X_test.columns"
   ],
   "metadata": {
    "collapsed": false,
    "pycharm": {
     "name": "#%%\n"
    }
   }
  },
  {
   "cell_type": "code",
   "execution_count": 7,
   "outputs": [
    {
     "data": {
      "text/plain": "[]"
     },
     "execution_count": 7,
     "metadata": {},
     "output_type": "execute_result"
    }
   ],
   "source": [
    "# 检查是否有列中，数据集之间的值的种类有差异，防止编码transform出错，经检查没有bad\n",
    "good_label_cols = [col for col in object_cols if\n",
    "                   set(X_train[col]) == set(X_valid[col])]\n",
    "good_label_cols\n",
    "# Problematic columns that will be dropped from the dataset\n",
    "bad_label_cols = list(set(object_cols)-set(good_label_cols))\n",
    "bad_label_cols\n",
    "\n",
    "good_label_cols = [col for col in object_cols if\n",
    "                   set(X_train[col]) == set(X_test[col])]\n",
    "good_label_cols\n",
    "# Problematic columns that will be dropped from the dataset\n",
    "bad_label_cols = list(set(object_cols)-set(good_label_cols))\n",
    "bad_label_cols"
   ],
   "metadata": {
    "collapsed": false,
    "pycharm": {
     "name": "#%%\n"
    }
   }
  },
  {
   "cell_type": "code",
   "execution_count": 8,
   "outputs": [],
   "source": [
    "# 文字特征\n",
    "cat_X_train = X_train[good_label_cols]\n",
    "cat_X_train\n",
    "cat_X_valid = X_valid[good_label_cols]\n",
    "cat_X_test = X_test[good_label_cols]"
   ],
   "metadata": {
    "collapsed": false,
    "pycharm": {
     "name": "#%%\n"
    }
   }
  },
  {
   "cell_type": "code",
   "execution_count": 9,
   "outputs": [
    {
     "name": "stderr",
     "output_type": "stream",
     "text": [
      "c:\\program files\\python37\\lib\\site-packages\\ipykernel_launcher.py:3: SettingWithCopyWarning: \n",
      "A value is trying to be set on a copy of a slice from a DataFrame.\n",
      "Try using .loc[row_indexer,col_indexer] = value instead\n",
      "\n",
      "See the caveats in the documentation: http://pandas.pydata.org/pandas-docs/stable/user_guide/indexing.html#returning-a-view-versus-a-copy\n",
      "  This is separate from the ipykernel package so we can avoid doing imports until\n",
      "c:\\program files\\python37\\lib\\site-packages\\ipykernel_launcher.py:4: SettingWithCopyWarning: \n",
      "A value is trying to be set on a copy of a slice from a DataFrame.\n",
      "Try using .loc[row_indexer,col_indexer] = value instead\n",
      "\n",
      "See the caveats in the documentation: http://pandas.pydata.org/pandas-docs/stable/user_guide/indexing.html#returning-a-view-versus-a-copy\n",
      "  after removing the cwd from sys.path.\n",
      "c:\\program files\\python37\\lib\\site-packages\\ipykernel_launcher.py:5: SettingWithCopyWarning: \n",
      "A value is trying to be set on a copy of a slice from a DataFrame.\n",
      "Try using .loc[row_indexer,col_indexer] = value instead\n",
      "\n",
      "See the caveats in the documentation: http://pandas.pydata.org/pandas-docs/stable/user_guide/indexing.html#returning-a-view-versus-a-copy\n",
      "  \"\"\"\n"
     ]
    },
    {
     "data": {
      "text/plain": "       package  division  salary\n11281        0         0       2\n11855        3         2       2\n3518         0         8       1\n2510         0         7       1\n7291         3         8       1\n...        ...       ...     ...\n7813         3         3       1\n10955        2         7       2\n905          2         7       1\n5192         4         9       0\n235          2         9       2\n\n[9599 rows x 3 columns]",
      "text/html": "<div>\n<style scoped>\n    .dataframe tbody tr th:only-of-type {\n        vertical-align: middle;\n    }\n\n    .dataframe tbody tr th {\n        vertical-align: top;\n    }\n\n    .dataframe thead th {\n        text-align: right;\n    }\n</style>\n<table border=\"1\" class=\"dataframe\">\n  <thead>\n    <tr style=\"text-align: right;\">\n      <th></th>\n      <th>package</th>\n      <th>division</th>\n      <th>salary</th>\n    </tr>\n  </thead>\n  <tbody>\n    <tr>\n      <td>11281</td>\n      <td>0</td>\n      <td>0</td>\n      <td>2</td>\n    </tr>\n    <tr>\n      <td>11855</td>\n      <td>3</td>\n      <td>2</td>\n      <td>2</td>\n    </tr>\n    <tr>\n      <td>3518</td>\n      <td>0</td>\n      <td>8</td>\n      <td>1</td>\n    </tr>\n    <tr>\n      <td>2510</td>\n      <td>0</td>\n      <td>7</td>\n      <td>1</td>\n    </tr>\n    <tr>\n      <td>7291</td>\n      <td>3</td>\n      <td>8</td>\n      <td>1</td>\n    </tr>\n    <tr>\n      <td>...</td>\n      <td>...</td>\n      <td>...</td>\n      <td>...</td>\n    </tr>\n    <tr>\n      <td>7813</td>\n      <td>3</td>\n      <td>3</td>\n      <td>1</td>\n    </tr>\n    <tr>\n      <td>10955</td>\n      <td>2</td>\n      <td>7</td>\n      <td>2</td>\n    </tr>\n    <tr>\n      <td>905</td>\n      <td>2</td>\n      <td>7</td>\n      <td>1</td>\n    </tr>\n    <tr>\n      <td>5192</td>\n      <td>4</td>\n      <td>9</td>\n      <td>0</td>\n    </tr>\n    <tr>\n      <td>235</td>\n      <td>2</td>\n      <td>9</td>\n      <td>2</td>\n    </tr>\n  </tbody>\n</table>\n<p>9599 rows × 3 columns</p>\n</div>"
     },
     "execution_count": 9,
     "metadata": {},
     "output_type": "execute_result"
    }
   ],
   "source": [
    "# 文字特征转换成数字特征\n",
    "labEncoder = LabelEncoder()\n",
    "for f in set(good_label_cols):\n",
    "    cat_X_train[f] = labEncoder.fit_transform(cat_X_train[f])\n",
    "    cat_X_valid[f] = labEncoder.transform(cat_X_valid[f])\n",
    "    cat_X_test[f] = labEncoder.transform(cat_X_test[f])\n",
    "cat_X_train"
   ],
   "metadata": {
    "collapsed": false,
    "pycharm": {
     "name": "#%%\n"
    }
   }
  },
  {
   "cell_type": "code",
   "execution_count": 22,
   "outputs": [
    {
     "data": {
      "text/plain": "             id  last_evaluation  number_project  average_monthly_hours  \\\n0      0.768420        -1.268414       -0.647209              -1.201366   \n1     -1.430221        -1.092768       -1.460266              -1.393892   \n2      1.241062         0.780792        0.978903              -0.660853   \n3      1.327397         0.839341        0.978903              -0.601553   \n4     -1.407538        -1.326963       -1.460266              -1.126640   \n...         ...              ...             ...                    ...   \n11993       NaN              NaN             NaN                    NaN   \n11994       NaN              NaN             NaN                    NaN   \n11995       NaN              NaN             NaN                    NaN   \n11996       NaN              NaN             NaN                    NaN   \n11998       NaN              NaN             NaN                    NaN   \n\n       time_spend_company  Work_accident  promotion_last_5years  package  \\\n0               -0.340819       -0.40924              -0.146616      0.0   \n1               -0.340819       -0.40924              -0.146616      1.0   \n2               -1.022386       -0.40924              -0.146616      4.0   \n3               -1.022386       -0.40924              -0.146616      2.0   \n4               -0.340819       -0.40924              -0.146616      NaN   \n...                   ...            ...                    ...      ...   \n11993                 NaN            NaN                    NaN      0.0   \n11994                 NaN            NaN                    NaN      4.0   \n11995                 NaN            NaN                    NaN      1.0   \n11996                 NaN            NaN                    NaN      2.0   \n11998                 NaN            NaN                    NaN      2.0   \n\n       division  salary  \n0           2.0     2.0  \n1           5.0     1.0  \n2           7.0     2.0  \n3           7.0     1.0  \n4           NaN     NaN  \n...         ...     ...  \n11993       8.0     0.0  \n11994       2.0     0.0  \n11995       7.0     1.0  \n11996       7.0     2.0  \n11998       8.0     1.0  \n\n[11514 rows x 10 columns]",
      "text/html": "<div>\n<style scoped>\n    .dataframe tbody tr th:only-of-type {\n        vertical-align: middle;\n    }\n\n    .dataframe tbody tr th {\n        vertical-align: top;\n    }\n\n    .dataframe thead th {\n        text-align: right;\n    }\n</style>\n<table border=\"1\" class=\"dataframe\">\n  <thead>\n    <tr style=\"text-align: right;\">\n      <th></th>\n      <th>id</th>\n      <th>last_evaluation</th>\n      <th>number_project</th>\n      <th>average_monthly_hours</th>\n      <th>time_spend_company</th>\n      <th>Work_accident</th>\n      <th>promotion_last_5years</th>\n      <th>package</th>\n      <th>division</th>\n      <th>salary</th>\n    </tr>\n  </thead>\n  <tbody>\n    <tr>\n      <td>0</td>\n      <td>0.768420</td>\n      <td>-1.268414</td>\n      <td>-0.647209</td>\n      <td>-1.201366</td>\n      <td>-0.340819</td>\n      <td>-0.40924</td>\n      <td>-0.146616</td>\n      <td>0.0</td>\n      <td>2.0</td>\n      <td>2.0</td>\n    </tr>\n    <tr>\n      <td>1</td>\n      <td>-1.430221</td>\n      <td>-1.092768</td>\n      <td>-1.460266</td>\n      <td>-1.393892</td>\n      <td>-0.340819</td>\n      <td>-0.40924</td>\n      <td>-0.146616</td>\n      <td>1.0</td>\n      <td>5.0</td>\n      <td>1.0</td>\n    </tr>\n    <tr>\n      <td>2</td>\n      <td>1.241062</td>\n      <td>0.780792</td>\n      <td>0.978903</td>\n      <td>-0.660853</td>\n      <td>-1.022386</td>\n      <td>-0.40924</td>\n      <td>-0.146616</td>\n      <td>4.0</td>\n      <td>7.0</td>\n      <td>2.0</td>\n    </tr>\n    <tr>\n      <td>3</td>\n      <td>1.327397</td>\n      <td>0.839341</td>\n      <td>0.978903</td>\n      <td>-0.601553</td>\n      <td>-1.022386</td>\n      <td>-0.40924</td>\n      <td>-0.146616</td>\n      <td>2.0</td>\n      <td>7.0</td>\n      <td>1.0</td>\n    </tr>\n    <tr>\n      <td>4</td>\n      <td>-1.407538</td>\n      <td>-1.326963</td>\n      <td>-1.460266</td>\n      <td>-1.126640</td>\n      <td>-0.340819</td>\n      <td>-0.40924</td>\n      <td>-0.146616</td>\n      <td>NaN</td>\n      <td>NaN</td>\n      <td>NaN</td>\n    </tr>\n    <tr>\n      <td>...</td>\n      <td>...</td>\n      <td>...</td>\n      <td>...</td>\n      <td>...</td>\n      <td>...</td>\n      <td>...</td>\n      <td>...</td>\n      <td>...</td>\n      <td>...</td>\n      <td>...</td>\n    </tr>\n    <tr>\n      <td>11993</td>\n      <td>NaN</td>\n      <td>NaN</td>\n      <td>NaN</td>\n      <td>NaN</td>\n      <td>NaN</td>\n      <td>NaN</td>\n      <td>NaN</td>\n      <td>0.0</td>\n      <td>8.0</td>\n      <td>0.0</td>\n    </tr>\n    <tr>\n      <td>11994</td>\n      <td>NaN</td>\n      <td>NaN</td>\n      <td>NaN</td>\n      <td>NaN</td>\n      <td>NaN</td>\n      <td>NaN</td>\n      <td>NaN</td>\n      <td>4.0</td>\n      <td>2.0</td>\n      <td>0.0</td>\n    </tr>\n    <tr>\n      <td>11995</td>\n      <td>NaN</td>\n      <td>NaN</td>\n      <td>NaN</td>\n      <td>NaN</td>\n      <td>NaN</td>\n      <td>NaN</td>\n      <td>NaN</td>\n      <td>1.0</td>\n      <td>7.0</td>\n      <td>1.0</td>\n    </tr>\n    <tr>\n      <td>11996</td>\n      <td>NaN</td>\n      <td>NaN</td>\n      <td>NaN</td>\n      <td>NaN</td>\n      <td>NaN</td>\n      <td>NaN</td>\n      <td>NaN</td>\n      <td>2.0</td>\n      <td>7.0</td>\n      <td>2.0</td>\n    </tr>\n    <tr>\n      <td>11998</td>\n      <td>NaN</td>\n      <td>NaN</td>\n      <td>NaN</td>\n      <td>NaN</td>\n      <td>NaN</td>\n      <td>NaN</td>\n      <td>NaN</td>\n      <td>2.0</td>\n      <td>8.0</td>\n      <td>1.0</td>\n    </tr>\n  </tbody>\n</table>\n<p>11514 rows × 10 columns</p>\n</div>"
     },
     "execution_count": 22,
     "metadata": {},
     "output_type": "execute_result"
    }
   ],
   "source": [
    "X_train_final = pd.concat([num_X_train_scale, cat_X_train], axis=1)\n",
    "X_train_final"
   ],
   "metadata": {
    "collapsed": false,
    "pycharm": {
     "name": "#%%\n"
    }
   }
  }
 ],
 "metadata": {
  "kernelspec": {
   "display_name": "Python 3",
   "language": "python",
   "name": "python3"
  },
  "language_info": {
   "codemirror_mode": {
    "name": "ipython",
    "version": 2
   },
   "file_extension": ".py",
   "mimetype": "text/x-python",
   "name": "python",
   "nbconvert_exporter": "python",
   "pygments_lexer": "ipython2",
   "version": "2.7.6"
  }
 },
 "nbformat": 4,
 "nbformat_minor": 0
}