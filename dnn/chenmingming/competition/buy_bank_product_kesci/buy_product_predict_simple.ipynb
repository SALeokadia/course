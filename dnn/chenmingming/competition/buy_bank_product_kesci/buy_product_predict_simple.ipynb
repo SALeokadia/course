{
 "cells": [
  {
   "cell_type": "code",
   "execution_count": 19,
   "metadata": {},
   "outputs": [],
   "source": [
    "import pandas as pd\n",
    "import matplotlib.pyplot as plt\n",
    "%matplotlib inline\n",
    "plt.rcParams['figure.facecolor']=(1,1,1,1) # pycharm 绘图白底，看得清坐标\n",
    "from sklearn.preprocessing import OneHotEncoder\n",
    "\n",
    "train = pd.read_csv(\"./train_set.csv\")\n",
    "test = pd.read_csv(\"./test_set.csv\")"
   ]
  },
  {
   "cell_type": "code",
   "execution_count": 20,
   "metadata": {},
   "outputs": [
    {
     "name": "stderr",
     "output_type": "stream",
     "text": [
      "C:\\Users\\mingm\\AppData\\Roaming\\Python\\Python37\\site-packages\\ipykernel_launcher.py:2: SettingWithCopyWarning: \n",
      "A value is trying to be set on a copy of a slice from a DataFrame\n",
      "\n",
      "See the caveats in the documentation: https://pandas.pydata.org/pandas-docs/stable/user_guide/indexing.html#returning-a-view-versus-a-copy\n",
      "  \n",
      "C:\\Users\\mingm\\AppData\\Roaming\\Python\\Python37\\site-packages\\ipykernel_launcher.py:4: SettingWithCopyWarning: \n",
      "A value is trying to be set on a copy of a slice from a DataFrame\n",
      "\n",
      "See the caveats in the documentation: https://pandas.pydata.org/pandas-docs/stable/user_guide/indexing.html#returning-a-view-versus-a-copy\n",
      "  after removing the cwd from sys.path.\n",
      "C:\\Users\\mingm\\AppData\\Roaming\\Python\\Python37\\site-packages\\ipykernel_launcher.py:6: SettingWithCopyWarning: \n",
      "A value is trying to be set on a copy of a slice from a DataFrame\n",
      "\n",
      "See the caveats in the documentation: https://pandas.pydata.org/pandas-docs/stable/user_guide/indexing.html#returning-a-view-versus-a-copy\n",
      "  \n",
      "C:\\Users\\mingm\\AppData\\Roaming\\Python\\Python37\\site-packages\\ipykernel_launcher.py:9: SettingWithCopyWarning: \n",
      "A value is trying to be set on a copy of a slice from a DataFrame\n",
      "\n",
      "See the caveats in the documentation: https://pandas.pydata.org/pandas-docs/stable/user_guide/indexing.html#returning-a-view-versus-a-copy\n",
      "  if __name__ == '__main__':\n",
      "C:\\Users\\mingm\\AppData\\Roaming\\Python\\Python37\\site-packages\\ipykernel_launcher.py:11: SettingWithCopyWarning: \n",
      "A value is trying to be set on a copy of a slice from a DataFrame\n",
      "\n",
      "See the caveats in the documentation: https://pandas.pydata.org/pandas-docs/stable/user_guide/indexing.html#returning-a-view-versus-a-copy\n",
      "  # This is added back by InteractiveShellApp.init_path()\n",
      "C:\\Users\\mingm\\AppData\\Roaming\\Python\\Python37\\site-packages\\ipykernel_launcher.py:13: SettingWithCopyWarning: \n",
      "A value is trying to be set on a copy of a slice from a DataFrame\n",
      "\n",
      "See the caveats in the documentation: https://pandas.pydata.org/pandas-docs/stable/user_guide/indexing.html#returning-a-view-versus-a-copy\n",
      "  del sys.path[0]\n"
     ]
    }
   ],
   "source": [
    "train['default_']=0\n",
    "train['default_'][train['default']=='yes'] = 1\n",
    "train['housing_']=0\n",
    "train['housing_'][train['housing']=='yes'] = 1\n",
    "train['loan_']=0\n",
    "train['loan_'][train['loan']=='yes'] = 1\n",
    "\n",
    "test['default_']=0\n",
    "test['default_'][test['default']=='yes'] = 1\n",
    "test['housing_']=0\n",
    "test['housing_'][test['housing']=='yes'] = 1\n",
    "test['loan_']=0\n",
    "test['loan_'][test['loan']=='yes'] = 1\n"
   ]
  },
  {
   "cell_type": "code",
   "execution_count": 21,
   "metadata": {},
   "outputs": [],
   "source": [
    "X_train = train.drop(['ID','default','housing','loan'], axis=1)\n",
    "X_test = test.drop(['ID','default','housing','loan'], axis=1)\n",
    "\n",
    "def num_cat_splitor(X_train):\n",
    "    s = (X_train.dtypes == 'object')\n",
    "    object_cols = list(s[s].index)\n",
    "    num_cols = list(set(X_train.columns) - set(object_cols))\n",
    "    return num_cols, object_cols\n",
    "\n",
    "num_cols, object_cols = num_cat_splitor(X_train)\n",
    "num_cols\n",
    "object_cols\n",
    "\n",
    "enc = OneHotEncoder(sparse=False, handle_unknown='ignore')\n",
    "X_train_cat = enc.fit_transform(X_train[object_cols])\n",
    "X_test_cat = enc.transform(X_test[object_cols])\n",
    "X_train_num = X_train[num_cols]\n",
    "\n",
    "cols_no_y = num_cols.copy()\n",
    "cols_no_y.remove('y')\n",
    "X_test_num = X_test[cols_no_y]"
   ]
  },
  {
   "cell_type": "code",
   "execution_count": 22,
   "outputs": [
    {
     "name": "stdout",
     "output_type": "stream",
     "text": [
      "['job_admin.' 'job_blue-collar' 'job_entrepreneur' 'job_housemaid'\n",
      " 'job_management' 'job_retired' 'job_self-employed' 'job_services'\n",
      " 'job_student' 'job_technician' 'job_unemployed' 'job_unknown'\n",
      " 'marital_divorced' 'marital_married' 'marital_single' 'education_primary'\n",
      " 'education_secondary' 'education_tertiary' 'education_unknown'\n",
      " 'contact_cellular' 'contact_telephone' 'contact_unknown' 'month_apr'\n",
      " 'month_aug' 'month_dec' 'month_feb' 'month_jan' 'month_jul' 'month_jun'\n",
      " 'month_mar' 'month_may' 'month_nov' 'month_oct' 'month_sep'\n",
      " 'poutcome_failure' 'poutcome_other' 'poutcome_success' 'poutcome_unknown']\n"
     ]
    }
   ],
   "source": [
    "name = enc.get_feature_names(object_cols)\n",
    "print(name)\n",
    "X_train_cat = pd.DataFrame(X_train_cat)\n",
    "X_train_cat.columns = name\n",
    "X_train = pd.concat([X_train_cat, X_train_num], axis=1)\n",
    "\n",
    "X_train.head()\n",
    "X_train.to_csv('train_cmm.csv')\n",
    "\n",
    "X_test_cat = pd.DataFrame(X_test_cat)\n",
    "X_test_cat.columns = name\n",
    "X_test = pd.concat([X_test_cat, X_test_num], axis=1)\n"
   ],
   "metadata": {
    "collapsed": false,
    "pycharm": {
     "name": "#%%\n"
    }
   }
  },
  {
   "cell_type": "code",
   "execution_count": 23,
   "outputs": [],
   "source": [
    "# 将训练集拆分一些出来做验证, 分层抽样\n",
    "from sklearn.model_selection import StratifiedShuffleSplit\n",
    "splt = StratifiedShuffleSplit(n_splits=1, test_size=0.2, random_state=1)\n",
    "for train_idx, vaild_idx in splt.split(X_train, X_train['y']):\n",
    "    train_part = X_train.loc[train_idx]\n",
    "    valid_part = X_train.loc[vaild_idx]\n",
    "\n",
    "train_part_y = train_part['y']\n",
    "valid_part_y = valid_part['y']\n",
    "train_part = train_part.drop(['y'], axis=1)\n",
    "valid_part = valid_part.drop(['y'], axis=1)\n",
    "\n",
    "y_train = X_train['y']\n",
    "X_train = X_train.drop(['y'], axis=1)"
   ],
   "metadata": {
    "collapsed": false,
    "pycharm": {
     "name": "#%%\n"
    }
   }
  },
  {
   "cell_type": "code",
   "execution_count": 24,
   "metadata": {
    "scrolled": true,
    "pycharm": {
     "name": "#%%\n"
    }
   },
   "outputs": [],
   "source": [
    "from sklearn.ensemble import GradientBoostingClassifier\n",
    "from sklearn.metrics import roc_auc_score\n",
    "\n",
    "# 训练集本地测试\n",
    "# model = GradientBoostingClassifier(learning_rate=0.1, n_estimators=130, max_features='sqrt', max_depth=5, min_samples_split=1200, min_samples_leaf=60, subsample=0.8, random_state=10)\n",
    "# model.fit(train_part, train_part_y)\n",
    "# pred = model.predict_proba(valid_part)[:, 1]\n",
    "# print(model)\n",
    "# print(\"auc score: \", roc_auc_score(valid_part_y, pred))"
   ]
  },
  {
   "cell_type": "code",
   "execution_count": 25,
   "outputs": [],
   "source": [
    "# 全量训练，提交\n",
    "model = GradientBoostingClassifier(learning_rate=0.1, n_estimators=130, max_features='sqrt', max_depth=5, min_samples_split=1200, min_samples_leaf=60, subsample=0.8, random_state=10)\n",
    "model.fit(X_train, y_train)\n",
    "pred = model.predict_proba(X_test)[:, 1]\n",
    "result = pd.DataFrame()\n",
    "result['ID'] = test['ID']\n",
    "result['pred'] = pred\n",
    "result.to_csv('buy_product_pred.csv',index=False)"
   ],
   "metadata": {
    "collapsed": false,
    "pycharm": {
     "name": "#%%\n"
    }
   }
  }
 ],
 "metadata": {
  "kernelspec": {
   "display_name": "Python 3",
   "language": "python",
   "name": "python3"
  },
  "language_info": {
   "codemirror_mode": {
    "name": "ipython",
    "version": 3
   },
   "file_extension": ".py",
   "mimetype": "text/x-python",
   "name": "python",
   "nbconvert_exporter": "python",
   "pygments_lexer": "ipython3",
   "version": "3.7.2"
  }
 },
 "nbformat": 4,
 "nbformat_minor": 4
}