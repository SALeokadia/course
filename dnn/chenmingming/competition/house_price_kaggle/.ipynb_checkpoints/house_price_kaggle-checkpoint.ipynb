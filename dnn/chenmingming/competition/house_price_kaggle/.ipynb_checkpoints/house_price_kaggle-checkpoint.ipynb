{
 "cells": [
  {
   "cell_type": "code",
   "execution_count": 62,
   "metadata": {},
   "outputs": [],
   "source": [
    "import numpy as np\n",
    "import pandas as pd\n",
    "%matplotlib inline\n",
    "import matplotlib.pyplot as plt\n",
    "from sklearn.model_selection import train_test_split\n",
    "from sklearn.model_selection import StratifiedShuffleSplit\n",
    "from sklearn.impute import SimpleImputer\n",
    "from sklearn.preprocessing import LabelEncoder\n",
    "from sklearn.preprocessing import OneHotEncoder\n",
    "from sklearn.preprocessing import LabelBinarizer\n",
    "from sklearn.base import BaseEstimator, TransformerMixin\n",
    "from sklearn.pipeline import Pipeline\n",
    "from sklearn.preprocessing import StandardScaler\n",
    "from sklearn.pipeline import FeatureUnion\n",
    "from sklearn.model_selection import GridSearchCV\n",
    "from sklearn.model_selection import cross_val_score"
   ]
  },
  {
   "cell_type": "code",
   "execution_count": 63,
   "metadata": {
    "scrolled": true
   },
   "outputs": [
    {
     "name": "stdout",
     "output_type": "stream",
     "text": [
      "<class 'pandas.core.frame.DataFrame'>\n",
      "RangeIndex: 1460 entries, 0 to 1459\n",
      "Data columns (total 81 columns):\n",
      " #   Column         Non-Null Count  Dtype  \n",
      "---  ------         --------------  -----  \n",
      " 0   Id             1460 non-null   int64  \n",
      " 1   MSSubClass     1460 non-null   int64  \n",
      " 2   MSZoning       1460 non-null   object \n",
      " 3   LotFrontage    1201 non-null   float64\n",
      " 4   LotArea        1460 non-null   int64  \n",
      " 5   Street         1460 non-null   object \n",
      " 6   Alley          91 non-null     object \n",
      " 7   LotShape       1460 non-null   object \n",
      " 8   LandContour    1460 non-null   object \n",
      " 9   Utilities      1460 non-null   object \n",
      " 10  LotConfig      1460 non-null   object \n",
      " 11  LandSlope      1460 non-null   object \n",
      " 12  Neighborhood   1460 non-null   object \n",
      " 13  Condition1     1460 non-null   object \n",
      " 14  Condition2     1460 non-null   object \n",
      " 15  BldgType       1460 non-null   object \n",
      " 16  HouseStyle     1460 non-null   object \n",
      " 17  OverallQual    1460 non-null   int64  \n",
      " 18  OverallCond    1460 non-null   int64  \n",
      " 19  YearBuilt      1460 non-null   int64  \n",
      " 20  YearRemodAdd   1460 non-null   int64  \n",
      " 21  RoofStyle      1460 non-null   object \n",
      " 22  RoofMatl       1460 non-null   object \n",
      " 23  Exterior1st    1460 non-null   object \n",
      " 24  Exterior2nd    1460 non-null   object \n",
      " 25  MasVnrType     1452 non-null   object \n",
      " 26  MasVnrArea     1452 non-null   float64\n",
      " 27  ExterQual      1460 non-null   object \n",
      " 28  ExterCond      1460 non-null   object \n",
      " 29  Foundation     1460 non-null   object \n",
      " 30  BsmtQual       1423 non-null   object \n",
      " 31  BsmtCond       1423 non-null   object \n",
      " 32  BsmtExposure   1422 non-null   object \n",
      " 33  BsmtFinType1   1423 non-null   object \n",
      " 34  BsmtFinSF1     1460 non-null   int64  \n",
      " 35  BsmtFinType2   1422 non-null   object \n",
      " 36  BsmtFinSF2     1460 non-null   int64  \n",
      " 37  BsmtUnfSF      1460 non-null   int64  \n",
      " 38  TotalBsmtSF    1460 non-null   int64  \n",
      " 39  Heating        1460 non-null   object \n",
      " 40  HeatingQC      1460 non-null   object \n",
      " 41  CentralAir     1460 non-null   object \n",
      " 42  Electrical     1459 non-null   object \n",
      " 43  1stFlrSF       1460 non-null   int64  \n",
      " 44  2ndFlrSF       1460 non-null   int64  \n",
      " 45  LowQualFinSF   1460 non-null   int64  \n",
      " 46  GrLivArea      1460 non-null   int64  \n",
      " 47  BsmtFullBath   1460 non-null   int64  \n",
      " 48  BsmtHalfBath   1460 non-null   int64  \n",
      " 49  FullBath       1460 non-null   int64  \n",
      " 50  HalfBath       1460 non-null   int64  \n",
      " 51  BedroomAbvGr   1460 non-null   int64  \n",
      " 52  KitchenAbvGr   1460 non-null   int64  \n",
      " 53  KitchenQual    1460 non-null   object \n",
      " 54  TotRmsAbvGrd   1460 non-null   int64  \n",
      " 55  Functional     1460 non-null   object \n",
      " 56  Fireplaces     1460 non-null   int64  \n",
      " 57  FireplaceQu    770 non-null    object \n",
      " 58  GarageType     1379 non-null   object \n",
      " 59  GarageYrBlt    1379 non-null   float64\n",
      " 60  GarageFinish   1379 non-null   object \n",
      " 61  GarageCars     1460 non-null   int64  \n",
      " 62  GarageArea     1460 non-null   int64  \n",
      " 63  GarageQual     1379 non-null   object \n",
      " 64  GarageCond     1379 non-null   object \n",
      " 65  PavedDrive     1460 non-null   object \n",
      " 66  WoodDeckSF     1460 non-null   int64  \n",
      " 67  OpenPorchSF    1460 non-null   int64  \n",
      " 68  EnclosedPorch  1460 non-null   int64  \n",
      " 69  3SsnPorch      1460 non-null   int64  \n",
      " 70  ScreenPorch    1460 non-null   int64  \n",
      " 71  PoolArea       1460 non-null   int64  \n",
      " 72  PoolQC         7 non-null      object \n",
      " 73  Fence          281 non-null    object \n",
      " 74  MiscFeature    54 non-null     object \n",
      " 75  MiscVal        1460 non-null   int64  \n",
      " 76  MoSold         1460 non-null   int64  \n",
      " 77  YrSold         1460 non-null   int64  \n",
      " 78  SaleType       1460 non-null   object \n",
      " 79  SaleCondition  1460 non-null   object \n",
      " 80  SalePrice      1460 non-null   int64  \n",
      "dtypes: float64(3), int64(35), object(43)\n",
      "memory usage: 924.0+ KB\n"
     ]
    }
   ],
   "source": [
    "train = pd.read_csv(\"./train.csv\")\n",
    "test = pd.read_csv(\"./test.csv\")\n",
    "train.info()"
   ]
  },
  {
   "cell_type": "code",
   "execution_count": 64,
   "metadata": {
    "scrolled": true
   },
   "outputs": [],
   "source": [
    "badcols = train.columns[train.isnull().sum(axis=0) > 800]"
   ]
  },
  {
   "cell_type": "code",
   "execution_count": 65,
   "metadata": {},
   "outputs": [
    {
     "data": {
      "text/plain": [
       "0       5\n",
       "1       4\n",
       "2       4\n",
       "3       4\n",
       "4       4\n",
       "       ..\n",
       "1455    4\n",
       "1456    3\n",
       "1457    2\n",
       "1458    5\n",
       "1459    5\n",
       "Length: 1460, dtype: int64"
      ]
     },
     "execution_count": 65,
     "metadata": {},
     "output_type": "execute_result"
    }
   ],
   "source": [
    "train.isnull().sum(axis=1)"
   ]
  },
  {
   "cell_type": "code",
   "execution_count": 66,
   "metadata": {
    "scrolled": false
   },
   "outputs": [
    {
     "data": {
      "text/html": [
       "<div>\n",
       "<style scoped>\n",
       "    .dataframe tbody tr th:only-of-type {\n",
       "        vertical-align: middle;\n",
       "    }\n",
       "\n",
       "    .dataframe tbody tr th {\n",
       "        vertical-align: top;\n",
       "    }\n",
       "\n",
       "    .dataframe thead th {\n",
       "        text-align: right;\n",
       "    }\n",
       "</style>\n",
       "<table border=\"1\" class=\"dataframe\">\n",
       "  <thead>\n",
       "    <tr style=\"text-align: right;\">\n",
       "      <th></th>\n",
       "      <th>Id</th>\n",
       "      <th>MSSubClass</th>\n",
       "      <th>LotFrontage</th>\n",
       "      <th>LotArea</th>\n",
       "      <th>Street</th>\n",
       "      <th>Alley</th>\n",
       "      <th>LotShape</th>\n",
       "      <th>LandContour</th>\n",
       "      <th>LotConfig</th>\n",
       "      <th>LandSlope</th>\n",
       "      <th>...</th>\n",
       "      <th>ScreenPorch</th>\n",
       "      <th>PoolArea</th>\n",
       "      <th>PoolQC</th>\n",
       "      <th>Fence</th>\n",
       "      <th>MiscFeature</th>\n",
       "      <th>MiscVal</th>\n",
       "      <th>MoSold</th>\n",
       "      <th>YrSold</th>\n",
       "      <th>SaleCondition</th>\n",
       "      <th>SalePrice</th>\n",
       "    </tr>\n",
       "  </thead>\n",
       "  <tbody>\n",
       "    <tr>\n",
       "      <th>0</th>\n",
       "      <td>1</td>\n",
       "      <td>60</td>\n",
       "      <td>65.0</td>\n",
       "      <td>8450</td>\n",
       "      <td>Pave</td>\n",
       "      <td>NULL</td>\n",
       "      <td>Reg</td>\n",
       "      <td>Lvl</td>\n",
       "      <td>Inside</td>\n",
       "      <td>Gtl</td>\n",
       "      <td>...</td>\n",
       "      <td>0</td>\n",
       "      <td>0</td>\n",
       "      <td>NULL</td>\n",
       "      <td>NULL</td>\n",
       "      <td>NULL</td>\n",
       "      <td>0</td>\n",
       "      <td>2</td>\n",
       "      <td>2008</td>\n",
       "      <td>Normal</td>\n",
       "      <td>208500</td>\n",
       "    </tr>\n",
       "    <tr>\n",
       "      <th>1</th>\n",
       "      <td>2</td>\n",
       "      <td>20</td>\n",
       "      <td>80.0</td>\n",
       "      <td>9600</td>\n",
       "      <td>Pave</td>\n",
       "      <td>NULL</td>\n",
       "      <td>Reg</td>\n",
       "      <td>Lvl</td>\n",
       "      <td>FR2</td>\n",
       "      <td>Gtl</td>\n",
       "      <td>...</td>\n",
       "      <td>0</td>\n",
       "      <td>0</td>\n",
       "      <td>NULL</td>\n",
       "      <td>NULL</td>\n",
       "      <td>NULL</td>\n",
       "      <td>0</td>\n",
       "      <td>5</td>\n",
       "      <td>2007</td>\n",
       "      <td>Normal</td>\n",
       "      <td>181500</td>\n",
       "    </tr>\n",
       "    <tr>\n",
       "      <th>2</th>\n",
       "      <td>3</td>\n",
       "      <td>60</td>\n",
       "      <td>68.0</td>\n",
       "      <td>11250</td>\n",
       "      <td>Pave</td>\n",
       "      <td>NULL</td>\n",
       "      <td>IR1</td>\n",
       "      <td>Lvl</td>\n",
       "      <td>Inside</td>\n",
       "      <td>Gtl</td>\n",
       "      <td>...</td>\n",
       "      <td>0</td>\n",
       "      <td>0</td>\n",
       "      <td>NULL</td>\n",
       "      <td>NULL</td>\n",
       "      <td>NULL</td>\n",
       "      <td>0</td>\n",
       "      <td>9</td>\n",
       "      <td>2008</td>\n",
       "      <td>Normal</td>\n",
       "      <td>223500</td>\n",
       "    </tr>\n",
       "    <tr>\n",
       "      <th>3</th>\n",
       "      <td>4</td>\n",
       "      <td>70</td>\n",
       "      <td>60.0</td>\n",
       "      <td>9550</td>\n",
       "      <td>Pave</td>\n",
       "      <td>NULL</td>\n",
       "      <td>IR1</td>\n",
       "      <td>Lvl</td>\n",
       "      <td>Corner</td>\n",
       "      <td>Gtl</td>\n",
       "      <td>...</td>\n",
       "      <td>0</td>\n",
       "      <td>0</td>\n",
       "      <td>NULL</td>\n",
       "      <td>NULL</td>\n",
       "      <td>NULL</td>\n",
       "      <td>0</td>\n",
       "      <td>2</td>\n",
       "      <td>2006</td>\n",
       "      <td>Abnorml</td>\n",
       "      <td>140000</td>\n",
       "    </tr>\n",
       "    <tr>\n",
       "      <th>4</th>\n",
       "      <td>5</td>\n",
       "      <td>60</td>\n",
       "      <td>84.0</td>\n",
       "      <td>14260</td>\n",
       "      <td>Pave</td>\n",
       "      <td>NULL</td>\n",
       "      <td>IR1</td>\n",
       "      <td>Lvl</td>\n",
       "      <td>FR2</td>\n",
       "      <td>Gtl</td>\n",
       "      <td>...</td>\n",
       "      <td>0</td>\n",
       "      <td>0</td>\n",
       "      <td>NULL</td>\n",
       "      <td>NULL</td>\n",
       "      <td>NULL</td>\n",
       "      <td>0</td>\n",
       "      <td>12</td>\n",
       "      <td>2008</td>\n",
       "      <td>Normal</td>\n",
       "      <td>250000</td>\n",
       "    </tr>\n",
       "  </tbody>\n",
       "</table>\n",
       "<p>5 rows × 68 columns</p>\n",
       "</div>"
      ],
      "text/plain": [
       "   Id  MSSubClass  LotFrontage  LotArea Street Alley LotShape LandContour  \\\n",
       "0   1          60         65.0     8450   Pave  NULL      Reg         Lvl   \n",
       "1   2          20         80.0     9600   Pave  NULL      Reg         Lvl   \n",
       "2   3          60         68.0    11250   Pave  NULL      IR1         Lvl   \n",
       "3   4          70         60.0     9550   Pave  NULL      IR1         Lvl   \n",
       "4   5          60         84.0    14260   Pave  NULL      IR1         Lvl   \n",
       "\n",
       "  LotConfig LandSlope  ... ScreenPorch PoolArea PoolQC  Fence  MiscFeature  \\\n",
       "0    Inside       Gtl  ...           0        0   NULL   NULL         NULL   \n",
       "1       FR2       Gtl  ...           0        0   NULL   NULL         NULL   \n",
       "2    Inside       Gtl  ...           0        0   NULL   NULL         NULL   \n",
       "3    Corner       Gtl  ...           0        0   NULL   NULL         NULL   \n",
       "4       FR2       Gtl  ...           0        0   NULL   NULL         NULL   \n",
       "\n",
       "   MiscVal  MoSold YrSold SaleCondition  SalePrice  \n",
       "0        0       2   2008        Normal     208500  \n",
       "1        0       5   2007        Normal     181500  \n",
       "2        0       9   2008        Normal     223500  \n",
       "3        0       2   2006       Abnorml     140000  \n",
       "4        0      12   2008        Normal     250000  \n",
       "\n",
       "[5 rows x 68 columns]"
      ]
     },
     "execution_count": 66,
     "metadata": {},
     "output_type": "execute_result"
    }
   ],
   "source": [
    "data = train.drop(badcols, axis=1)\n",
    "test_dropna = test.drop(badcols, axis=1)\n",
    "object_cols = [col for col in data.columns if data[col].dtype == 'object']\n",
    "good_label_cols = [col for col in object_cols if\n",
    "                  set(data[col])==set(test_dropna[col])]\n",
    "good_label_cols\n",
    "bad_label_cols = list(set(object_cols)-set(good_label_cols))\n",
    "bad_label_cols\n",
    "data = train.drop(bad_label_cols, axis=1)\n",
    "test_dropna = test.drop(bad_label_cols, axis=1)\n",
    "\n",
    "object_cols = [col for col in data.columns if data[col].dtype == 'object']\n",
    "data[object_cols] = data[object_cols].fillna('NULL')\n",
    "test_dropna[object_cols] = test_dropna[object_cols].fillna('NULL')\n",
    "data.head()\n",
    "# print(test_dropna)"
   ]
  },
  {
   "cell_type": "code",
   "execution_count": 67,
   "metadata": {},
   "outputs": [
    {
     "name": "stdout",
     "output_type": "stream",
     "text": [
      "<class 'pandas.core.frame.DataFrame'>\n",
      "RangeIndex: 1460 entries, 0 to 1459\n",
      "Data columns (total 67 columns):\n",
      " #   Column         Non-Null Count  Dtype  \n",
      "---  ------         --------------  -----  \n",
      " 0   Id             1460 non-null   int64  \n",
      " 1   MSSubClass     1460 non-null   int64  \n",
      " 2   LotFrontage    1201 non-null   float64\n",
      " 3   LotArea        1460 non-null   int64  \n",
      " 4   Street         1460 non-null   object \n",
      " 5   Alley          1460 non-null   object \n",
      " 6   LotShape       1460 non-null   object \n",
      " 7   LandContour    1460 non-null   object \n",
      " 8   LotConfig      1460 non-null   object \n",
      " 9   LandSlope      1460 non-null   object \n",
      " 10  Neighborhood   1460 non-null   object \n",
      " 11  Condition1     1460 non-null   object \n",
      " 12  BldgType       1460 non-null   object \n",
      " 13  OverallQual    1460 non-null   int64  \n",
      " 14  OverallCond    1460 non-null   int64  \n",
      " 15  YearBuilt      1460 non-null   int64  \n",
      " 16  YearRemodAdd   1460 non-null   int64  \n",
      " 17  RoofStyle      1460 non-null   object \n",
      " 18  MasVnrType     1460 non-null   object \n",
      " 19  MasVnrArea     1452 non-null   float64\n",
      " 20  ExterQual      1460 non-null   object \n",
      " 21  ExterCond      1460 non-null   object \n",
      " 22  Foundation     1460 non-null   object \n",
      " 23  BsmtQual       1460 non-null   object \n",
      " 24  BsmtCond       1460 non-null   object \n",
      " 25  BsmtExposure   1460 non-null   object \n",
      " 26  BsmtFinType1   1460 non-null   object \n",
      " 27  BsmtFinSF1     1460 non-null   int64  \n",
      " 28  BsmtFinType2   1460 non-null   object \n",
      " 29  BsmtFinSF2     1460 non-null   int64  \n",
      " 30  BsmtUnfSF      1460 non-null   int64  \n",
      " 31  TotalBsmtSF    1460 non-null   int64  \n",
      " 32  HeatingQC      1460 non-null   object \n",
      " 33  CentralAir     1460 non-null   object \n",
      " 34  1stFlrSF       1460 non-null   int64  \n",
      " 35  2ndFlrSF       1460 non-null   int64  \n",
      " 36  LowQualFinSF   1460 non-null   int64  \n",
      " 37  GrLivArea      1460 non-null   int64  \n",
      " 38  BsmtFullBath   1460 non-null   int64  \n",
      " 39  BsmtHalfBath   1460 non-null   int64  \n",
      " 40  FullBath       1460 non-null   int64  \n",
      " 41  HalfBath       1460 non-null   int64  \n",
      " 42  BedroomAbvGr   1460 non-null   int64  \n",
      " 43  KitchenAbvGr   1460 non-null   int64  \n",
      " 44  TotRmsAbvGrd   1460 non-null   int64  \n",
      " 45  Fireplaces     1460 non-null   int64  \n",
      " 46  FireplaceQu    1460 non-null   object \n",
      " 47  GarageType     1460 non-null   object \n",
      " 48  GarageYrBlt    1379 non-null   float64\n",
      " 49  GarageFinish   1460 non-null   object \n",
      " 50  GarageCars     1460 non-null   int64  \n",
      " 51  GarageArea     1460 non-null   int64  \n",
      " 52  GarageCond     1460 non-null   object \n",
      " 53  PavedDrive     1460 non-null   object \n",
      " 54  WoodDeckSF     1460 non-null   int64  \n",
      " 55  OpenPorchSF    1460 non-null   int64  \n",
      " 56  EnclosedPorch  1460 non-null   int64  \n",
      " 57  3SsnPorch      1460 non-null   int64  \n",
      " 58  ScreenPorch    1460 non-null   int64  \n",
      " 59  PoolArea       1460 non-null   int64  \n",
      " 60  PoolQC         1460 non-null   object \n",
      " 61  Fence          1460 non-null   object \n",
      " 62  MiscFeature    1460 non-null   object \n",
      " 63  MiscVal        1460 non-null   int64  \n",
      " 64  MoSold         1460 non-null   int64  \n",
      " 65  YrSold         1460 non-null   int64  \n",
      " 66  SaleCondition  1460 non-null   object \n",
      "dtypes: float64(3), int64(34), object(30)\n",
      "memory usage: 764.3+ KB\n"
     ]
    }
   ],
   "source": [
    "y = data['SalePrice']\n",
    "X = data.drop(['SalePrice'], axis=1)\n",
    "X.info()"
   ]
  },
  {
   "cell_type": "code",
   "execution_count": 68,
   "metadata": {
    "scrolled": true
   },
   "outputs": [
    {
     "name": "stdout",
     "output_type": "stream",
     "text": [
      "<class 'pandas.core.frame.DataFrame'>\n",
      "RangeIndex: 1459 entries, 0 to 1458\n",
      "Data columns (total 67 columns):\n",
      " #   Column         Non-Null Count  Dtype  \n",
      "---  ------         --------------  -----  \n",
      " 0   Id             1459 non-null   int64  \n",
      " 1   MSSubClass     1459 non-null   int64  \n",
      " 2   LotFrontage    1232 non-null   float64\n",
      " 3   LotArea        1459 non-null   int64  \n",
      " 4   Street         1459 non-null   object \n",
      " 5   Alley          1459 non-null   object \n",
      " 6   LotShape       1459 non-null   object \n",
      " 7   LandContour    1459 non-null   object \n",
      " 8   LotConfig      1459 non-null   object \n",
      " 9   LandSlope      1459 non-null   object \n",
      " 10  Neighborhood   1459 non-null   object \n",
      " 11  Condition1     1459 non-null   object \n",
      " 12  BldgType       1459 non-null   object \n",
      " 13  OverallQual    1459 non-null   int64  \n",
      " 14  OverallCond    1459 non-null   int64  \n",
      " 15  YearBuilt      1459 non-null   int64  \n",
      " 16  YearRemodAdd   1459 non-null   int64  \n",
      " 17  RoofStyle      1459 non-null   object \n",
      " 18  MasVnrType     1459 non-null   object \n",
      " 19  MasVnrArea     1444 non-null   float64\n",
      " 20  ExterQual      1459 non-null   object \n",
      " 21  ExterCond      1459 non-null   object \n",
      " 22  Foundation     1459 non-null   object \n",
      " 23  BsmtQual       1459 non-null   object \n",
      " 24  BsmtCond       1459 non-null   object \n",
      " 25  BsmtExposure   1459 non-null   object \n",
      " 26  BsmtFinType1   1459 non-null   object \n",
      " 27  BsmtFinSF1     1458 non-null   float64\n",
      " 28  BsmtFinType2   1459 non-null   object \n",
      " 29  BsmtFinSF2     1458 non-null   float64\n",
      " 30  BsmtUnfSF      1458 non-null   float64\n",
      " 31  TotalBsmtSF    1458 non-null   float64\n",
      " 32  HeatingQC      1459 non-null   object \n",
      " 33  CentralAir     1459 non-null   object \n",
      " 34  1stFlrSF       1459 non-null   int64  \n",
      " 35  2ndFlrSF       1459 non-null   int64  \n",
      " 36  LowQualFinSF   1459 non-null   int64  \n",
      " 37  GrLivArea      1459 non-null   int64  \n",
      " 38  BsmtFullBath   1457 non-null   float64\n",
      " 39  BsmtHalfBath   1457 non-null   float64\n",
      " 40  FullBath       1459 non-null   int64  \n",
      " 41  HalfBath       1459 non-null   int64  \n",
      " 42  BedroomAbvGr   1459 non-null   int64  \n",
      " 43  KitchenAbvGr   1459 non-null   int64  \n",
      " 44  TotRmsAbvGrd   1459 non-null   int64  \n",
      " 45  Fireplaces     1459 non-null   int64  \n",
      " 46  FireplaceQu    1459 non-null   object \n",
      " 47  GarageType     1459 non-null   object \n",
      " 48  GarageYrBlt    1381 non-null   float64\n",
      " 49  GarageFinish   1459 non-null   object \n",
      " 50  GarageCars     1458 non-null   float64\n",
      " 51  GarageArea     1458 non-null   float64\n",
      " 52  GarageCond     1459 non-null   object \n",
      " 53  PavedDrive     1459 non-null   object \n",
      " 54  WoodDeckSF     1459 non-null   int64  \n",
      " 55  OpenPorchSF    1459 non-null   int64  \n",
      " 56  EnclosedPorch  1459 non-null   int64  \n",
      " 57  3SsnPorch      1459 non-null   int64  \n",
      " 58  ScreenPorch    1459 non-null   int64  \n",
      " 59  PoolArea       1459 non-null   int64  \n",
      " 60  PoolQC         1459 non-null   object \n",
      " 61  Fence          1459 non-null   object \n",
      " 62  MiscFeature    1459 non-null   object \n",
      " 63  MiscVal        1459 non-null   int64  \n",
      " 64  MoSold         1459 non-null   int64  \n",
      " 65  YrSold         1459 non-null   int64  \n",
      " 66  SaleCondition  1459 non-null   object \n",
      "dtypes: float64(11), int64(26), object(30)\n",
      "memory usage: 763.8+ KB\n"
     ]
    }
   ],
   "source": [
    "test_dropna.info()"
   ]
  },
  {
   "cell_type": "code",
   "execution_count": 69,
   "metadata": {},
   "outputs": [
    {
     "name": "stdout",
     "output_type": "stream",
     "text": [
      "['LotFrontage', 'EnclosedPorch', 'Fireplaces', 'OverallCond', '3SsnPorch', '1stFlrSF', 'HalfBath', 'MasVnrArea', 'LotArea', 'GarageArea', 'BsmtFinSF2', 'OpenPorchSF', 'BsmtHalfBath', 'MSSubClass', 'LowQualFinSF', 'BedroomAbvGr', 'FullBath', '2ndFlrSF', 'ScreenPorch', 'KitchenAbvGr', 'BsmtFinSF1', 'GarageYrBlt', 'GarageCars', 'BsmtUnfSF', 'BsmtFullBath', 'YearBuilt', 'TotRmsAbvGrd', 'MiscVal', 'YrSold', 'TotalBsmtSF', 'OverallQual', 'WoodDeckSF', 'Id', 'YearRemodAdd', 'PoolArea', 'GrLivArea', 'MoSold']\n",
      "['Street', 'Alley', 'LotShape', 'LandContour', 'LotConfig', 'LandSlope', 'Neighborhood', 'Condition1', 'BldgType', 'RoofStyle', 'MasVnrType', 'ExterQual', 'ExterCond', 'Foundation', 'BsmtQual', 'BsmtCond', 'BsmtExposure', 'BsmtFinType1', 'BsmtFinType2', 'HeatingQC', 'CentralAir', 'FireplaceQu', 'GarageType', 'GarageFinish', 'GarageCond', 'PavedDrive', 'PoolQC', 'Fence', 'MiscFeature', 'SaleCondition']\n"
     ]
    }
   ],
   "source": [
    "def num_cat_splitor(X):\n",
    "    s = (X.dtypes == 'object')\n",
    "    object_cols = list(s[s].index)\n",
    "    # object_cols # ['package', 'division', 'salary']\n",
    "    num_cols = list(set(X.columns) - set(object_cols))\n",
    "    # num_cols\n",
    "    # ['Work_accident', 'time_spend_company', 'promotion_last_5years', 'id',\n",
    "    #  'average_monthly_hours',  'last_evaluation',  'number_project']\n",
    "    return num_cols, object_cols\n",
    "num_cols, object_cols = num_cat_splitor(X)\n",
    "print(num_cols)\n",
    "print(object_cols)\n",
    "# X[object_cols].values"
   ]
  },
  {
   "cell_type": "code",
   "execution_count": 79,
   "metadata": {},
   "outputs": [
    {
     "name": "stdout",
     "output_type": "stream",
     "text": [
      "<class 'pandas.core.frame.DataFrame'>\n",
      "RangeIndex: 1460 entries, 0 to 1459\n",
      "Columns: 205 entries, 0 to 204\n",
      "dtypes: float64(205)\n",
      "memory usage: 2.3 MB\n"
     ]
    }
   ],
   "source": [
    "class DataFrameSelector(BaseEstimator, TransformerMixin):\n",
    "    def __init__(self, attribute_names):\n",
    "        self.attribute_names = attribute_names\n",
    "    def fit(self, X, y=None):\n",
    "        return self\n",
    "    def transform(self, X):\n",
    "        return X[self.attribute_names].values\n",
    "num_pipeline = Pipeline([\n",
    "        ('selector', DataFrameSelector(num_cols)),\n",
    "        ('imputer', SimpleImputer(strategy=\"median\")),\n",
    "        ('std_scaler', StandardScaler()),\n",
    "    ])\n",
    "cat_pipeline = Pipeline([\n",
    "        ('selector', DataFrameSelector(object_cols)),\n",
    "#         ('imputer', SimpleImputer(strategy=\"most_frequent\")), # 不能对文字特征插值\n",
    "        ('cat_encoder', OneHotEncoder(sparse=False,handle_unknown='ignore')),\n",
    "    ])\n",
    "full_pipeline = FeatureUnion(transformer_list=[\n",
    "        (\"num_pipeline\", num_pipeline),\n",
    "        (\"cat_pipeline\", cat_pipeline),\n",
    "    ])\n",
    "X_prepared = full_pipeline.fit_transform(X)\n",
    "temp = pd.DataFrame(X_prepared)\n",
    "temp.info()"
   ]
  },
  {
   "cell_type": "code",
   "execution_count": 71,
   "metadata": {},
   "outputs": [
    {
     "name": "stdout",
     "output_type": "stream",
     "text": [
      "[26640.90615842 32046.00790783 33825.59136566]\n",
      "30837.501810638107\n",
      "3055.082172598613\n"
     ]
    }
   ],
   "source": [
    "from sklearn.ensemble import RandomForestRegressor\n",
    "forest_reg = RandomForestRegressor()\n",
    "forest_scores = cross_val_score(forest_reg,X_prepared,y,\n",
    "                               scoring='neg_mean_squared_error',cv=3)\n",
    "forest_rmse_scores = np.sqrt(-forest_scores)\n",
    "print(forest_rmse_scores)\n",
    "print(forest_rmse_scores.mean())\n",
    "print(forest_rmse_scores.std())"
   ]
  },
  {
   "cell_type": "code",
   "execution_count": 80,
   "metadata": {},
   "outputs": [
    {
     "data": {
      "text/plain": [
       "GridSearchCV(cv=5, estimator=RandomForestRegressor(),\n",
       "             param_grid=[{'max_features': [15, 25, 35, 45, 55, 65, 70],\n",
       "                          'n_estimators': [100, 200, 300]}],\n",
       "             scoring='neg_mean_squared_error')"
      ]
     },
     "execution_count": 80,
     "metadata": {},
     "output_type": "execute_result"
    }
   ],
   "source": [
    "param_grid = [\n",
    "    {'n_estimators' : [100,200,300],'max_features':[15,25,35,45,55,65,70]},\n",
    "#     {'bootstrap':[False], 'n_estimators' : [3,10],'max_features':[2,3,4]},\n",
    "]\n",
    "forest_reg = RandomForestRegressor()\n",
    "grid_search = GridSearchCV(forest_reg, param_grid, cv=5,\n",
    "                          scoring='neg_mean_squared_error')\n",
    "grid_search.fit(X_prepared,y)"
   ]
  },
  {
   "cell_type": "code",
   "execution_count": 81,
   "metadata": {},
   "outputs": [
    {
     "data": {
      "text/plain": [
       "{'max_features': 65, 'n_estimators': 200}"
      ]
     },
     "execution_count": 81,
     "metadata": {},
     "output_type": "execute_result"
    }
   ],
   "source": [
    "grid_search.best_params_"
   ]
  },
  {
   "cell_type": "code",
   "execution_count": 82,
   "metadata": {},
   "outputs": [
    {
     "name": "stdout",
     "output_type": "stream",
     "text": [
      "30798.545983289492 {'max_features': 15, 'n_estimators': 100}\n",
      "30385.031662423495 {'max_features': 15, 'n_estimators': 200}\n",
      "30668.28563369206 {'max_features': 15, 'n_estimators': 300}\n",
      "29166.741213382484 {'max_features': 25, 'n_estimators': 100}\n",
      "29606.84546585714 {'max_features': 25, 'n_estimators': 200}\n",
      "29482.286968313958 {'max_features': 25, 'n_estimators': 300}\n",
      "29395.350546464622 {'max_features': 35, 'n_estimators': 100}\n",
      "29438.909488648074 {'max_features': 35, 'n_estimators': 200}\n",
      "29047.08785504181 {'max_features': 35, 'n_estimators': 300}\n",
      "29242.989598525455 {'max_features': 45, 'n_estimators': 100}\n",
      "29258.06669950805 {'max_features': 45, 'n_estimators': 200}\n",
      "29164.00345891022 {'max_features': 45, 'n_estimators': 300}\n",
      "28875.03933949422 {'max_features': 55, 'n_estimators': 100}\n",
      "29332.880921858192 {'max_features': 55, 'n_estimators': 200}\n",
      "28938.873958197775 {'max_features': 55, 'n_estimators': 300}\n",
      "29198.82958675946 {'max_features': 65, 'n_estimators': 100}\n",
      "28705.12169185359 {'max_features': 65, 'n_estimators': 200}\n",
      "28909.654824624304 {'max_features': 65, 'n_estimators': 300}\n",
      "29310.447915688655 {'max_features': 70, 'n_estimators': 100}\n",
      "29018.724068033327 {'max_features': 70, 'n_estimators': 200}\n",
      "28878.321204616834 {'max_features': 70, 'n_estimators': 300}\n"
     ]
    }
   ],
   "source": [
    "cv_result = grid_search.cv_results_\n",
    "for mean_score, params in zip(cv_result['mean_test_score'], cv_result['params']):\n",
    "    print(np.sqrt(-mean_score), params)"
   ]
  },
  {
   "cell_type": "code",
   "execution_count": 83,
   "metadata": {},
   "outputs": [],
   "source": [
    "feature_importances = grid_search.best_estimator_.feature_importances_\n"
   ]
  },
  {
   "cell_type": "code",
   "execution_count": 84,
   "metadata": {},
   "outputs": [],
   "source": [
    "k = 3\n",
    "def indices_of_top_k(arr, k):\n",
    "    return np.sort(np.argpartition(np.array(arr), -k)[-k:])\n",
    "\n",
    "class TopFeatureSelector(BaseEstimator, TransformerMixin):\n",
    "    def __init__(self, feature_importances, k):\n",
    "        self.feature_importances = feature_importances\n",
    "        self.k = k\n",
    "    def fit(self, X, y=None):\n",
    "        self.feature_indices_ = indices_of_top_k(self.feature_importances, self.k)\n",
    "        return self\n",
    "    def transform(self, X):\n",
    "        return X[:, self.feature_indices_]\n"
   ]
  },
  {
   "cell_type": "code",
   "execution_count": 85,
   "metadata": {},
   "outputs": [],
   "source": [
    "prepare_select_and_predict_pipeline = Pipeline([\n",
    "    ('preparation', full_pipeline),\n",
    "    ('feature_selection', TopFeatureSelector(feature_importances, k)),\n",
    "    ('forst_reg', RandomForestRegressor(random_state=0))\n",
    "])\n",
    "param_grid = [{\n",
    "    'preparation__num_pipeline__imputer__strategy': ['mean', 'median', 'most_frequent'],\n",
    "#     'feature_selection__k': list(range(20, len(feature_importances) + 1)),\n",
    "    'forst_reg__n_estimators' : [200,250,300,330,350],\n",
    "#     'forst_reg__max_features':[45, 55, 65, ]\n",
    "}]\n",
    "\n",
    "grid_search_prep = GridSearchCV(prepare_select_and_predict_pipeline, param_grid, cv=2,\n",
    "                                scoring='neg_mean_squared_error', verbose=2, n_jobs=-1)\n"
   ]
  },
  {
   "cell_type": "code",
   "execution_count": 86,
   "metadata": {},
   "outputs": [
    {
     "name": "stdout",
     "output_type": "stream",
     "text": [
      "Fitting 2 folds for each of 15 candidates, totalling 30 fits\n"
     ]
    },
    {
     "name": "stderr",
     "output_type": "stream",
     "text": [
      "[Parallel(n_jobs=-1)]: Using backend LokyBackend with 8 concurrent workers.\n",
      "[Parallel(n_jobs=-1)]: Done  30 out of  30 | elapsed:    8.4s finished\n"
     ]
    }
   ],
   "source": [
    "grid_search_prep.fit(X,y)\n",
    "grid_search_prep.best_params_\n",
    "final_model = grid_search_prep.best_estimator_"
   ]
  },
  {
   "cell_type": "code",
   "execution_count": 87,
   "metadata": {},
   "outputs": [],
   "source": [
    "y_pred_test = final_model.predict(test_dropna)\n",
    "result = pd.DataFrame()\n",
    "result['Id'] = test['Id']\n",
    "result['SalePrice'] = y_pred_test\n",
    "result.to_csv('housing_price_rf_baseline.csv',index=False)\n"
   ]
  }
 ],
 "metadata": {
  "kernelspec": {
   "display_name": "Python 3",
   "language": "python",
   "name": "python3"
  },
  "language_info": {
   "codemirror_mode": {
    "name": "ipython",
    "version": 3
   },
   "file_extension": ".py",
   "mimetype": "text/x-python",
   "name": "python",
   "nbconvert_exporter": "python",
   "pygments_lexer": "ipython3",
   "version": "3.7.2"
  }
 },
 "nbformat": 4,
 "nbformat_minor": 4
}
